{
 "cells": [
  {
   "cell_type": "code",
   "execution_count": null,
   "metadata": {
    "collapsed": true
   },
   "outputs": [],
   "source": [
    "import numpy as np\n",
    "from __future__ import division"
   ]
  },
  {
   "cell_type": "code",
   "execution_count": null,
   "metadata": {
    "collapsed": false
   },
   "outputs": [],
   "source": [
    "import picos as pic\n",
    "import cvxopt as cvx"
   ]
  },
  {
   "cell_type": "code",
   "execution_count": null,
   "metadata": {
    "collapsed": false
   },
   "outputs": [],
   "source": [
    "from scipy.special import comb as nchoosek # n Choose k (n ueber k)\n",
    "\n",
    "# As seen in A.4 jasniwiecz\n",
    "# Intervalltransformation\n",
    "def transQ(Q_in, a, b):\n",
    "    m = len(Q_in)\n",
    "    n = Q_in[0].size[0]\n",
    "    for i1 in range(0, m-1):\n",
    "        Q_out[i1] = Q_in[i1]\n",
    "        for i2 in range(i1+1, m-1):\n",
    "            Q_out[i1] = Q_out[i1] + b**(i2-i1) * nchoosek(i2, i1) * Q_in[i2]\n",
    "        Q_out[i1] = a**i1*Q_out[i1]\n",
    "    return Q_out\n",
    "\n",
    "def calcQSum(Q_in):\n",
    "    m = len(Q_in)\n",
    "    n = Q_in[0].size[0]\n",
    "    if m is 1:\n",
    "        Q_sum = [[2*Q_in[0], np.zeros(n)], [np.zeros(n), np.zeros(n)]]\n",
    "    elif m is 2:\n",
    "        Q_sum = [[2*Q_in[0], Q_in[1]], [Q_in[1], np.zeros(n)]]\n",
    "    else:\n",
    "        Q_sum = [[2*Q_in[0], Q_in[1]], [Q_in[1], 2*Q_in[2]]]\n",
    "\n",
    "    for i1 in range(4, m+1, 2):\n",
    "        if i1 is not m:\n",
    "            Q_sum = [[Q_sum], [[np.zeros((i1/2-1)*n, n)], [Q_in[i1]]], \n",
    "                     [np.zeros(n, (i1/2-1)), Q_in[i1], 2*Q_in[i1+1]]]\n",
    "        else:\n",
    "            Q_sum = [[Q_sum], [[np.zeros((i1/2-1)*n, n)], [Q_in[i1]]], \n",
    "                     [np.zeros(n, (i1/2-1)), Q_in[i1], np.zeros(n)]]\n",
    "    Q_sum = 0.5*Q_sum\n",
    "    return Q_sum"
   ]
  },
  {
   "cell_type": "code",
   "execution_count": null,
   "metadata": {
    "collapsed": false
   },
   "outputs": [],
   "source": [
    "################\n",
    "# Demo Picos   #\n",
    "################\n",
    "\n",
    "#generate data\n",
    "A = [   cvx.sparse([[0 ,2 ,-1],\n",
    "                    [-1,0 ,2 ],\n",
    "                    [0 ,1 ,0 ]]),\n",
    "        cvx.sparse([[1 ,2 ,0 ],\n",
    "                    [2 ,0 ,0 ]]),\n",
    "        cvx.sparse([[0 ,2 ,2 ]]),\n",
    "    ]\n",
    "K = cvx.sparse([[1 ,1 ,1 ],\n",
    "                [1 ,-5,-5]])\n",
    "\n",
    "#size of the data\n",
    "s = len(A)\n",
    "m = A[0].size[0]\n",
    "l = [ Ai.size[1] for Ai in A ]\n",
    "r = K.size[1]\n",
    "\n",
    "\n",
    "#creates a problem and the optimization variables\n",
    "prob = pic.Problem()\n",
    "mu = prob.add_variable('mu',s)\n",
    "Z  = [prob.add_variable('Z[' + str(i) + ']', (l[i],r))\n",
    "      for i in range(s)]\n",
    "\n",
    "#convert the constants into params of the problem\n",
    "A = pic.new_param('A',A)\n",
    "K = pic.new_param('K',K)\n",
    "\n",
    "#add the constraints\n",
    "prob.add_constraint( pic.sum([ A[i]*Z[i] for i in range(s)], #summands\n",
    "                            'i',                            #name of the index\n",
    "                            '[s]'                           #set to which the index belongs\n",
    "                           ) == K\n",
    "                   )\n",
    "prob.add_list_of_constraints( [ abs(Z[i]) < mu[i] for i in range(s)], #constraints\n",
    "                              'i',                                    #index of the constraints\n",
    "                              '[s]'                                   #set to which the index belongs\n",
    "                            )\n",
    "\n",
    "#sets the objective\n",
    "prob.set_objective('min', 1 | mu ) # scalar product of the vector of all ones with mu\n",
    "\n",
    "#display the problem\n",
    "print prob\n",
    "\n",
    "#call to the solver cvxopt\n",
    "sol = prob.solve(solver='cvxopt', verbose = 0)\n",
    "\n",
    "#show the value of the optimal variable\n",
    "print '\\n  mu ='\n",
    "print mu\n",
    "\n",
    "#show the dual variable of the equality constraint\n",
    "print'\\nThe optimal dual variable of the'\n",
    "print prob.get_constraint(0)\n",
    "print 'is :'\n",
    "print prob.get_constraint(0).dual"
   ]
  },
  {
   "cell_type": "code",
   "execution_count": null,
   "metadata": {
    "collapsed": false
   },
   "outputs": [],
   "source": [
    "################\n",
    "# Demo 2 Picos #\n",
    "################\n",
    "\n",
    "import numpy as s\n",
    "def testAx_less_b():\n",
    "    A = cvx.matrix(s.eye(3))\n",
    "    c = cvx.matrix(s.ones( (3,1) ) )\n",
    "\n",
    "    prob=pic.Problem()\n",
    "    AA = pic.new_param('A', A)\n",
    "    cc = pic.new_param('c', c)\n",
    "    bb = pic.new_param('b', s.ones( (3,1) ))\n",
    "    xx = prob.add_variable('x', 3)\n",
    "\n",
    "    prob.set_objective('max', cc.T*xx)\n",
    "    prob.add_constraint(AA*xx < bb)\n",
    "    print prob\n",
    "\n",
    "    #    prob.solve(verbose=1, solver='cvxopt')\n",
    "    prob.solve()\n",
    "    x = xx.value\n",
    "    print x\n",
    "testAx_less_b()"
   ]
  },
  {
   "cell_type": "code",
   "execution_count": null,
   "metadata": {
    "collapsed": false
   },
   "outputs": [],
   "source": []
  },
  {
   "cell_type": "code",
   "execution_count": null,
   "metadata": {
    "collapsed": false
   },
   "outputs": [],
   "source": []
  }
 ],
 "metadata": {
  "kernelspec": {
   "display_name": "Python 2",
   "language": "python",
   "name": "python2"
  },
  "language_info": {
   "codemirror_mode": {
    "name": "ipython",
    "version": 2
   },
   "file_extension": ".py",
   "mimetype": "text/x-python",
   "name": "python",
   "nbconvert_exporter": "python",
   "pygments_lexer": "ipython2",
   "version": "2.7.12"
  }
 },
 "nbformat": 4,
 "nbformat_minor": 1
}
