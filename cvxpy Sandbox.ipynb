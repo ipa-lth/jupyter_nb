{
 "cells": [
  {
   "cell_type": "code",
   "execution_count": null,
   "metadata": {
    "collapsed": true
   },
   "outputs": [],
   "source": [
    "import numpy as np\n",
    "import cvxopt as cvx\n",
    "import control as con\n",
    "from numpy import linalg as LA"
   ]
  },
  {
   "cell_type": "code",
   "execution_count": null,
   "metadata": {
    "collapsed": false
   },
   "outputs": [],
   "source": [
    "from cvxpy import *\n",
    "\n",
    "# Create two scalar optimization variables.\n",
    "x = Variable()\n",
    "y = Variable()\n",
    "\n",
    "# Create two constraints.\n",
    "constraints = [x + y == 1,\n",
    "               x - y >= 1]\n",
    "\n",
    "# Form objective.\n",
    "obj = Minimize(square(x - y))\n",
    "\n",
    "# Form and solve problem.\n",
    "prob = Problem(obj, constraints)\n",
    "prob.solve()  # Returns the optimal value.\n",
    "print \"status:\", prob.status\n",
    "print \"optimal value\", prob.value\n",
    "print \"optimal var\", x.value, y.value"
   ]
  },
  {
   "cell_type": "code",
   "execution_count": null,
   "metadata": {
    "collapsed": false
   },
   "outputs": [],
   "source": [
    "print installed_solvers()"
   ]
  },
  {
   "cell_type": "code",
   "execution_count": null,
   "metadata": {
    "collapsed": true
   },
   "outputs": [],
   "source": [
    "### Seite 37 (im Text zwischen (4.12) und (4.13))\n",
    "def _N(n):\n",
    "    return np.diag([p for p in xrange(-n, 0, 1)])\n",
    "\n",
    "### Seite 55; (4.64)\n",
    "def _M(n):\n",
    "    return np.diag([p for p in xrange(0, n, 1)])\n",
    "\n",
    "### Seite 55; (4.64)\n",
    "def _P(l, k, n):\n",
    "    I = np.eye(n)\n",
    "    Mn = _M(n)\n",
    "    P = I\n",
    "    if k == 0:\n",
    "        pass # P=I\n",
    "    else:\n",
    "        for q in xrange(0, k, 1):\n",
    "            P = P * ((l-q)*I + Mn)\n",
    "    return cvx.matrix(P)"
   ]
  },
  {
   "cell_type": "code",
   "execution_count": null,
   "metadata": {
    "collapsed": false
   },
   "outputs": [],
   "source": [
    "###################################################\n",
    "# Boris Diss Hydraulisches Positioniersystem S.61 #\n",
    "###################################################\n",
    "A = np.matrix([[0,      1,        0],\n",
    "               [0, -0.126,     83.5],\n",
    "               [0,  -6.89, -0.00707]])\n",
    " \n",
    "b = np.matrix([[0],[0],[-55.51]])\n",
    "c = np.matrix([1, 0, 0])\n",
    "\n",
    "print \"Poles:\\n\", np.matrix(con.matlab.pole(con.matlab.ss(A, b, c, 0))).T\n",
    "\n",
    "u_max = 1\n",
    "n = len(b)\n",
    "\n",
    "X0 = [np.matrix([-13.38, -10.7, -2.58]).T,\n",
    "      np.matrix([-13.38, -10.7,  2.58]).T,\n",
    "      np.matrix([-13.38,  10.7, -2.58]).T,\n",
    "      np.matrix([-13.38,  10.7,  2.58]).T,\n",
    "      np.matrix([ 13.38, -10.7, -2.58]).T,\n",
    "      np.matrix([ 13.38, -10.7,  2.58]).T,\n",
    "      np.matrix([ 13.38,  10.7, -2.58]).T,\n",
    "      np.matrix([ 13.38,  10.7,  2.58]).T]\n",
    "\n",
    "x_max = [13.38, 10.7, 2.58]\n",
    "\n",
    "#print \"A:\\n\", A\n",
    "#print \"a:\\n\", a\n",
    "#print \"b:\\n\", b\n",
    "#print \"c:\\n\", c\n",
    "p_min = 0.2\n",
    "mu_star = 1.5\n",
    "zeta = 2.5\n",
    "zeta_star = 1.5\n",
    "\n",
    "k0 = 1e-3*np.matrix([-24.23, -0.2122, -10.5]).T\n",
    "k1 = 1e-3*np.matrix([-40.13, -0.1396, -15.10]).T\n",
    "k0_star = 1e-3*np.matrix([-11.96, -0.1111, -5.18]).T\n",
    "k1_star = 1e-3*np.matrix([-83.35, -0.0477, -33.86]).T\n",
    "\n",
    "##### Entwurf parameter #####\n",
    "beta=2 # beta >=1 !"
   ]
  },
  {
   "cell_type": "code",
   "execution_count": null,
   "metadata": {
    "collapsed": false
   },
   "outputs": [],
   "source": [
    "import cvxpy\n",
    "\n",
    "R0 = cvxpy.Semidef(n)\n",
    "R1 = cvxpy.Semidef(n)\n",
    "\n",
    "G = cvxpy.Semidef(n)\n",
    "G_star = cvxpy.Semidef(n)\n",
    "\n",
    "D = cvxpy.Semidef(n)\n",
    "D_star = cvxpy.Semidef(n)\n",
    "\n",
    "# Parameter\n",
    "alpha = 1-p_min\n",
    "beta = 1+p_min\n",
    "    \n",
    "A0 = A-b*k0.T\n",
    "A1 = A-b*k1.T\n",
    "\n",
    "S0 = A1.T*R1+R1*A1\n",
    "S1 = A0.T*R1+R1*A0 + A1.T*R0+R0*A1\n",
    "S2 = A0.T*R0+R0*A0\n",
    "\n",
    "A0_star = A-b*k0_star.T\n",
    "A1_star = A-b*k1_star.T\n",
    "\n",
    "S0 = A1.T*R1+R1*A1\n",
    "S1 = A0.T*R1+R1*A0 + A1.T*R0+R0*A1\n",
    "S2 = A0.T*R0+R0*A0\n",
    "\n",
    "S0_star = A1_star.T*R1+R1*A1_star\n",
    "S1_star = A0_star.T*R1+R1*A0_star + A1_star.T*R0+R0*A1_star\n",
    "S2_star = A0_star.T*R0+R0*A0_star\n",
    "\n",
    "# Create two constraints.\n",
    "constraints = [R0 >> 0,\n",
    "               R0 + R1 >> 0]\n",
    "\n",
    "const4_39c = cvxpy.bmat([[-D , G],\n",
    "                         [G.T, D]]) - \\\n",
    "             cvxpy.bmat([[S0 + 0.5*beta*S1 + 0.25*beta**2*S2, 0.25*alpha*(S1 + beta*S2)],\n",
    "                         [0.25*alpha*(S1 + beta*S2),          0.25*alpha**2*S2]]) >> 0\n",
    "\n",
    "const4_39d = [cvxpy.bmat([[1, X0[i].T],\n",
    "                          [X0[i], R0+R1]]) >> 0\n",
    "                              for i in range(0, len(X0))]\n",
    "\n",
    "const4_39e = cvxpy.bmat([[1,    k0.T],\n",
    "                         [k0,   R0]]) + \\\n",
    "             1/p_min * cvxpy.bmat([[0,  k1.T],\n",
    "                                  [k1, R1]]) >> 0\n",
    "\n",
    "const4_39f = cvxpy.bmat([[1,    k0.T],\n",
    "                         [k0,   R0]]) + \\\n",
    "             cvxpy.bmat([[0,  k1.T],\n",
    "                         [k1, R1]]) >> 0\n",
    "\n",
    "const4_39g = cvxpy.bmat([[-D_star , G_star],\n",
    "                         [G_star.T, D_star]]) - \\\n",
    "             cvxpy.bmat([[S0_star + 0.5*beta*S1_star + 0.25*beta**2*S2_star, 0.25*alpha*(S1_star + beta*S2_star)],\n",
    "                         [0.25*alpha*(S1_star + beta*S2_star),          0.25*alpha**2*S2_star]]) >> 0\n",
    "\n",
    "constraints.append(const4_39c)\n",
    "constraints.extend(const4_39d)\n",
    "constraints.append(const4_39e)\n",
    "constraints.append(const4_39f)\n",
    "constraints.append(const4_39g)\n",
    "\n",
    "# Form objective.\n",
    "obj = cvxpy.Minimize(cvxpy.trace(R0+1/p_min*R1))\n",
    "\n",
    "# Form and solve problem.\n",
    "prob = cvxpy.Problem(obj, constraints)\n",
    "prob.solve(solver=cvxpy.SCS)  # Returns the optimal value.\n",
    "print \"status:\", prob.status\n",
    "print \"optimal value\", prob.value\n",
    "print \"R0\", R0.value\n",
    "LA.cholesky(R0.value)\n",
    "print \"R1\", R1.value\n",
    "LA.cholesky(R1.value)\n",
    "print \"ok\""
   ]
  },
  {
   "cell_type": "code",
   "execution_count": null,
   "metadata": {
    "collapsed": true
   },
   "outputs": [],
   "source": []
  }
 ],
 "metadata": {
  "kernelspec": {
   "display_name": "Python 2",
   "language": "python",
   "name": "python2"
  },
  "language_info": {
   "codemirror_mode": {
    "name": "ipython",
    "version": 2
   },
   "file_extension": ".py",
   "mimetype": "text/x-python",
   "name": "python",
   "nbconvert_exporter": "python",
   "pygments_lexer": "ipython2",
   "version": "2.7.12"
  }
 },
 "nbformat": 4,
 "nbformat_minor": 1
}
