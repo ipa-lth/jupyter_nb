{
 "cells": [
  {
   "cell_type": "code",
   "execution_count": null,
   "metadata": {},
   "outputs": [],
   "source": [
    "import pandas as pd\n",
    "import numpy as np\n",
    "from pandas import Series, DataFrame, Panel\n",
    "\n",
    "%pylab inline\n"
   ]
  },
  {
   "cell_type": "code",
   "execution_count": null,
   "metadata": {},
   "outputs": [],
   "source": [
    "df_soll = pd.read_csv('~/Downloads/step_log/2018-01-08/2018-01-08_15-53-28_control_output.log.1')\n",
    "df_soll.rename(columns=lambda x: x.strip(), inplace=True)\n",
    "\n",
    "df_soll = df_soll.set_index('time')"
   ]
  },
  {
   "cell_type": "code",
   "execution_count": null,
   "metadata": {},
   "outputs": [],
   "source": [
    "df_ist = pd.read_csv('~/Downloads/step_log/2018-01-08/2018-01-08_15-53-28_task_vel.log.1')\n",
    "df_ist.rename(columns=lambda x: x.strip(), inplace=True)\n",
    "\n",
    "df_ist = df_ist.set_index('time')"
   ]
  },
  {
   "cell_type": "code",
   "execution_count": null,
   "metadata": {},
   "outputs": [],
   "source": [
    "df_step = pd.concat([df_soll['values[0]'], df_ist['values[2]']], axis=1).fillna(method='pad')\n",
    "df_step.index = pd.to_datetime(df_step.index)\n",
    "\n",
    "#pd.rolling_mean(df_step, 10, center=True).plot()\n",
    "#df_step.rolling(window=10, center=True).mean().plot()\n",
    "\n",
    "df_step.plot()"
   ]
  },
  {
   "cell_type": "code",
   "execution_count": null,
   "metadata": {},
   "outputs": [],
   "source": []
  }
 ],
 "metadata": {
  "kernelspec": {
   "display_name": "Python 2",
   "language": "python",
   "name": "python2"
  },
  "language_info": {
   "codemirror_mode": {
    "name": "ipython",
    "version": 2
   },
   "file_extension": ".py",
   "mimetype": "text/x-python",
   "name": "python",
   "nbconvert_exporter": "python",
   "pygments_lexer": "ipython2",
   "version": "2.7.12"
  }
 },
 "nbformat": 4,
 "nbformat_minor": 2
}
