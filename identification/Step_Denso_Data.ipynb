{
 "cells": [
  {
   "cell_type": "code",
   "execution_count": null,
   "metadata": {},
   "outputs": [],
   "source": [
    "import pandas as pd\n",
    "import numpy as np\n",
    "from pandas import Series, DataFrame, Panel\n",
    "\n",
    "%pylab inline\n"
   ]
  },
  {
   "cell_type": "code",
   "execution_count": null,
   "metadata": {},
   "outputs": [],
   "source": [
    "import os\n",
    "main_folder = os.path.expanduser('~/Downloads/step_log')"
   ]
  },
  {
   "cell_type": "code",
   "execution_count": null,
   "metadata": {},
   "outputs": [],
   "source": [
    "import re\n",
    "regex_all_log = re.compile('\\S*\\.log{1}\\.\\d*')\n",
    "regex_soll = re.compile('\\S*control_output\\.log{1}\\.\\d*')\n",
    "regex_ist = re.compile('\\S*task_vel\\.log{1}\\.\\d*')\n",
    "\n",
    "#l = ['this', 'is', 'just', 'a', 'test']\n",
    "#matches = [string for string in l if re.match(regex, string)]\n",
    "\n",
    "list_soll = []\n",
    "list_ist = []\n",
    "\n",
    "for root, dirs, files in os.walk(main_folder):\n",
    "    for name in files:\n",
    "        # Rename all *.log to *.log.0 (Not sure if this is a good idea after all)\n",
    "        if name.endswith(\".log\"):\n",
    "            print \"RENAMING: {0} to {0}.0\".format(name)\n",
    "            full_path = os.path.join(root, name)\n",
    "            os.rename(full_path, full_path+\".0\")\n",
    "            name = name+\".0\"\n",
    "        # Prepare list of all log files with path\n",
    "        if re.match(regex_soll, name):\n",
    "            list_soll.append(os.path.join(root, name))\n",
    "        elif re.match(regex_ist, name):\n",
    "            list_ist.append(os.path.join(root, name))\n",
    "                        \n",
    "print \"Found {} IST log files\".format(len(list_ist))\n",
    "print \"Found {} SOLL log files\".format(len(list_soll))\n",
    "\n",
    "#print list_soll"
   ]
  },
  {
   "cell_type": "code",
   "execution_count": null,
   "metadata": {},
   "outputs": [],
   "source": [
    "def sortLogsToDfList(list_logs):\n",
    "    regex = re.compile('(\\S*\\.(\\d*))')\n",
    "    matches = [re.findall(regex, string)[0] for string in list_logs]\n",
    "    num = [int(tup_string[1]) for tup_string in matches]\n",
    "    \n",
    "    list_df = [pd.DataFrame()]*(max(num)+1)\n",
    "    \n",
    "    for match in matches:\n",
    "        try:\n",
    "            list_df[int(match[1])].append(\n",
    "                pd.read_csv(match[0])\n",
    "            )\n",
    "        except Exception as e:\n",
    "            print e.str()\n",
    "    return list_df"
   ]
  },
  {
   "cell_type": "code",
   "execution_count": null,
   "metadata": {},
   "outputs": [],
   "source": [
    "#list_df_soll = sortLogsToDfList(list_soll)\n",
    "list_df_soll"
   ]
  },
  {
   "cell_type": "code",
   "execution_count": null,
   "metadata": {},
   "outputs": [],
   "source": []
  },
  {
   "cell_type": "code",
   "execution_count": null,
   "metadata": {},
   "outputs": [],
   "source": [
    "df_soll = pd.read_csv('~/Downloads/step_log/2018-01-08/2018-01-08_15-53-28_control_output.log.1')\n",
    "df_soll.rename(columns=lambda x: x.strip(), inplace=True)\n",
    "\n",
    "df_soll = df_soll.set_index('time')"
   ]
  },
  {
   "cell_type": "code",
   "execution_count": null,
   "metadata": {},
   "outputs": [],
   "source": [
    "df_ist = pd.read_csv('~/Downloads/step_log/2018-01-08/2018-01-08_15-53-28_task_vel.log.1')\n",
    "df_ist.rename(columns=lambda x: x.strip(), inplace=True)\n",
    "\n",
    "df_ist = df_ist.set_index('time')"
   ]
  },
  {
   "cell_type": "code",
   "execution_count": null,
   "metadata": {},
   "outputs": [],
   "source": [
    "df_step = pd.concat([df_soll['values[0]'], df_ist['values[2]']], axis=1).fillna(method='pad')\n",
    "df_step.index = pd.to_datetime(df_step.index)\n",
    "\n",
    "#pd.rolling_mean(df_step, 10, center=True).plot()\n",
    "#df_step.rolling(window=10, center=True).mean().plot()\n",
    "\n",
    "df_step.plot()"
   ]
  },
  {
   "cell_type": "code",
   "execution_count": null,
   "metadata": {},
   "outputs": [],
   "source": []
  }
 ],
 "metadata": {
  "kernelspec": {
   "display_name": "Python 2",
   "language": "python",
   "name": "python2"
  },
  "language_info": {
   "codemirror_mode": {
    "name": "ipython",
    "version": 2
   },
   "file_extension": ".py",
   "mimetype": "text/x-python",
   "name": "python",
   "nbconvert_exporter": "python",
   "pygments_lexer": "ipython2",
   "version": "2.7.12"
  }
 },
 "nbformat": 4,
 "nbformat_minor": 2
}
