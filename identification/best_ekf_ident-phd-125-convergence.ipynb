{
 "cells": [
  {
   "cell_type": "code",
   "execution_count": 1,
   "metadata": {},
   "outputs": [],
   "source": [
    "import numpy as np\n",
    "import random\n",
    "import sympy as sp\n",
    "import numpy.linalg as la\n",
    "\n",
    "import control as pc\n",
    "\n",
    "%matplotlib notebook\n",
    "import matplotlib.pyplot as plt\n",
    "plt.ioff()\n",
    "\n",
    "import pandas as pd\n",
    "from sysident import iekf_SISO\n",
    "\n",
    "plt.rcParams['figure.figsize'] = [10, 5]"
   ]
  },
  {
   "cell_type": "code",
   "execution_count": 2,
   "metadata": {},
   "outputs": [],
   "source": [
    "# Sampling time\n",
    "# SET_PARAMETER\n",
    "iekf_fqz = 125\n",
    "iekf_T = 1.0/iekf_fqz\n",
    "\n",
    "# Modellabtastung\n",
    "T = 1.0/1000\n",
    "T_max = 40*60 #\n",
    "\n",
    "# noiselevel\n",
    "scale = 0.0"
   ]
  },
  {
   "cell_type": "code",
   "execution_count": 3,
   "metadata": {},
   "outputs": [
    {
     "name": "stdout",
     "output_type": "stream",
     "text": [
      "Starting IEKF with model stucture assumption (System matrix modal form)\n",
      "A:\n",
      "⎡s₁   w₁  0 ⎤\n",
      "⎢           ⎥\n",
      "⎢-w₁  s₁  0 ⎥\n",
      "⎢           ⎥\n",
      "⎣ 0   0   p₁⎦\n"
     ]
    }
   ],
   "source": [
    "''' Define Idetification System model with initial values\n",
    "System is characterized by number of poles given with numerical values\n",
    "'''\n",
    "\n",
    "poles = [-2+3j, -2]\n",
    "_, (s, s_init), (w, w_init), (p, p_init) = iekf_SISO.getA_from_list(poles)\n",
    "\n",
    "iekf = iekf_SISO.iekf_filter(poles, dT=iekf_T, rho = 0.5)\n",
    "\n",
    "iekf.initialize_poles(s_init, w_init, p_init)"
   ]
  },
  {
   "cell_type": "code",
   "execution_count": 4,
   "metadata": {},
   "outputs": [],
   "source": [
    "# first step height u, also mean step height for all steps\n",
    "u_k0 = np.array([[0.1]])\n",
    "\n",
    "# first step time\n",
    "step_time = 0.1\n",
    "\n",
    "# First values\n",
    "#x_k = x_k0\n",
    "#print x_k0, x_k0.shape\n",
    "\n",
    "u_k = u_k0\n",
    "#print u_k, u_k.shape\n",
    "\n",
    "# naive Logging x_k\n",
    "poles = []\n",
    "zeros = []\n",
    "y = []\n",
    "y_e = []\n",
    "t_ye = []\n",
    "\n",
    "u = []\n",
    "nor0 = []\n",
    "nor1 = []\n",
    "nor2 = []\n",
    "nor3 = []\n",
    "nor4 = []\n",
    "\n",
    "step_cnt = 1\n"
   ]
  },
  {
   "cell_type": "code",
   "execution_count": 5,
   "metadata": {},
   "outputs": [
    {
     "name": "stdout",
     "output_type": "stream",
     "text": [
      "[[1.0041837]]\n",
      "[-54.39316289 -20.34039021]\n",
      "A = [[-9.94759830e-14  7.33817988e-14  6.60095341e-14  4.57602705e-14\n",
      "   3.67393746e+00]\n",
      " [ 1.00000000e+02  5.61019710e-14  4.33963367e-14 -5.47567951e-14\n",
      "   3.08899128e+01]\n",
      " [ 0.00000000e+00 -1.00000000e+02  7.18998157e-14 -1.71533536e-13\n",
      "  -7.82460267e+01]\n",
      " [ 0.00000000e+00  0.00000000e+00 -1.00000000e+02 -3.14481925e-14\n",
      "   8.31248282e+01]\n",
      " [ 0.00000000e+00  0.00000000e+00  0.00000000e+00 -1.00000000e+03\n",
      "  -4.37697553e+02]]\n",
      "\n",
      "B = [[ 36.89308114]\n",
      " [-60.98634759]\n",
      " [-40.32555132]\n",
      " [-11.11006912]\n",
      " [  0.        ]]\n",
      "\n",
      "C = [[ 0.   0.   0.   0.  -0.1]]\n",
      "\n",
      "D = [[0.]]\n",
      "\n"
     ]
    }
   ],
   "source": [
    "import control as con\n",
    "\n",
    "Af = np.array([[  0.,         -11.06378158],\n",
    "               [100.,         -74.7335531 ]]\n",
    ")\n",
    "\n",
    "Bf = np.array([[-11.11006912],\n",
    "               [  0.        ]])\n",
    "\n",
    "Cf = np.array([[ 0., -1.]])\n",
    "\n",
    "Df = np.array([[ 0.]])\n",
    "\n",
    "Tf = 0.03306113\n",
    "\n",
    "pade_order = 3\n",
    "\n",
    "ss2 = con.ss(Af, Bf, Cf, Df)\n",
    "#plt.plot(*con.step_response(ss2))\n",
    "#plt.show()\n",
    "\n",
    "print con.dcgain(ss2)\n",
    "print ss2.pole()\n",
    "\n",
    "# pade approx\n",
    "numerator, denominator = con.pade(Tf, pade_order)\n",
    "\n",
    "tf3 = con.series(ss2, con.tf(numerator,denominator))\n",
    "ss3 = con.tf2ss(tf3)\n",
    "\n",
    "#plt.plot(*con.step_response(ss3))\n",
    "#plt.show()\n",
    "\n",
    "Af = ss3.A\n",
    "Bf = ss3.B\n",
    "Cf = ss3.C\n",
    "Df = ss3.D\n",
    "\n",
    "print ss3\n",
    "\n",
    "### Testsystem ####\n",
    "xx_0 = np.zeros((len(Bf),1))\n",
    "\n",
    "x_t_real = xx_0\n",
    "def calc_TestSystem(u):\n",
    "    global Af, Bf, Cf, Df, x_t_real\n",
    "\n",
    "    #print \"Af:\\n\", Af\n",
    "    #print \"x_t:\\n\", x_t_real\n",
    "    x_dot = Af.dot(x_t_real)\n",
    "    x_dot = x_dot + Bf.dot(u)\n",
    "    y = Cf.dot(x_t_real) + Df.dot(u)\n",
    "    \n",
    "    #print x_dot\n",
    "    x_t_real = x_t_real + x_dot*T\n",
    "\n",
    "    y =  y + np.random.normal(0, scale)\n",
    "    return y"
   ]
  },
  {
   "cell_type": "code",
   "execution_count": 6,
   "metadata": {},
   "outputs": [],
   "source": [
    "# return real part of a vector\n",
    "def real_vector(vector):\n",
    "    return map(lambda x: x.real, vector)\n",
    "\n",
    "# return imaginary part of a vector\n",
    "def imag_vector(vector):\n",
    "    return map(lambda x: x.imag, vector)"
   ]
  },
  {
   "cell_type": "code",
   "execution_count": 7,
   "metadata": {},
   "outputs": [],
   "source": [
    "np.random.seed(123) # Set the random number generator for fixed step length t"
   ]
  },
  {
   "cell_type": "code",
   "execution_count": 8,
   "metadata": {
    "scrolled": true
   },
   "outputs": [
    {
     "name": "stdout",
     "output_type": "stream",
     "text": [
      "------------------\n"
     ]
    }
   ],
   "source": [
    "#%%time\n",
    "##########################################################\n",
    "# Loop start\n",
    "for cnt, t in enumerate(np.arange(T, T_max, T)):\n",
    "\n",
    "    ####################################################\n",
    "    # Every time_step a new step is performed\n",
    "    if np.isclose(t, step_time, T):\n",
    "        u_k = u_k0 + random.uniform(-1, 1) # random step height\n",
    "        \n",
    "        step = np.random.randint(low=0, high=3000)*T\n",
    "        step_time = step + t # random step length\n",
    "\n",
    "        #print \"step @ {} for {}: u={}\".format(t, step, u_k)\n",
    "        \n",
    "        # >>> Logging of pole trajectories\n",
    "        s_k = np.array(iekf.s_from_z(*iekf.z_k.ravel())).T\n",
    "        w_k = np.array(iekf.w_from_z(*iekf.z_k.ravel())).T\n",
    "        p_k = np.array(iekf.p_from_z(*iekf.z_k.ravel())).T\n",
    "        poles.append(np.array([complex(si,wi) for si,wi in zip(s_k, w_k)] +\n",
    "                              [complex(si,-wi) for si,wi in zip(s_k, w_k)] +\n",
    "                              [pi for pi in p_k]))\n",
    "\n",
    "        A_k = iekf.AA(*iekf.z_k.ravel())\n",
    "        B_k = iekf.BB(*iekf.z_k.ravel())\n",
    "        C_k = iekf.C0\n",
    "        D_k = iekf.DD(*iekf.z_k.ravel())\n",
    "        zeros.append(pc.zero(pc.ss(A_k, B_k, C_k, D_k)))\n",
    "        \n",
    "        \n",
    "        step_cnt = step_cnt + 1\n",
    "        #print u_k, type(u_k), u_k.shape\n",
    "        \n",
    "    # >>> Logging of u\n",
    "    u.append(u_k[0,0])\n",
    "    \n",
    "    ####################################################\n",
    "    \n",
    "    ##### Get system response y\n",
    "    y_t = calc_TestSystem(u_k)\n",
    "    #print u_k, u_k.shape\n",
    "    #print y_t, y_t.shape\n",
    "    \n",
    "    # >>> Logging of y\n",
    "    y.append(y_t[0,0])\n",
    "    \n",
    "    # Works only for integer divisions of frequencies!\n",
    "    if cnt%int(iekf_T/T) == 0:\n",
    "        t_ye.append(t)\n",
    "        \n",
    "        y_k, err = iekf.callback_u(u_k[0,0], y_t[0,0])\n",
    "        \n",
    "\n",
    "        # >>> Logging of estimated y (y_e) according to current state z\n",
    "        y_e.append(y_k[0,0])\n",
    "\n",
    "\n",
    "        # Naive tracking of performance \n",
    "        nor0.append(np.trace(iekf.P_k))\n",
    "        nor1.append(la.norm(iekf.P_k, 'fro'))\n",
    "        nor2.append(la.norm(iekf.P_k, np.inf))\n",
    "        nor3.append(la.norm(iekf.P_k, 1))\n",
    "        nor4.append(la.norm(iekf.P_k, 2))\n",
    "    \n",
    "print \"------------------\""
   ]
  },
  {
   "cell_type": "raw",
   "metadata": {
    "scrolled": true
   },
   "source": [
    "%%time\n",
    "iekf_T = 1./125\n",
    "##########################################################\n",
    "# Loop start\n",
    "\n",
    "for cnt, t in enumerate(np.arange(T, T_max, T)):\n",
    "    if cnt%int(iekf_T/T) == 0:\n",
    "        print cnt\n",
    "    \n",
    "print \"------------------\""
   ]
  },
  {
   "cell_type": "code",
   "execution_count": 9,
   "metadata": {},
   "outputs": [],
   "source": [
    "def add_arrow(line, position=None, direction='right', size=15, color=None):\n",
    "    \"\"\"\n",
    "    add an arrow to a line.\n",
    "\n",
    "    line:       Line2D object\n",
    "    position:   x-position of the arrow. If None, mean of xdata is taken\n",
    "    direction:  'left' or 'right'\n",
    "    size:       size of the arrow in fontsize points\n",
    "    color:      if None, line color is taken.\n",
    "    \"\"\"\n",
    "    if color is None:\n",
    "        color = line.get_color()\n",
    "\n",
    "    xdata = line.get_xdata()\n",
    "    ydata = line.get_ydata()\n",
    "\n",
    "    if position is None:\n",
    "        position = xdata.mean()\n",
    "    # find closest index\n",
    "    start_ind = np.argmin(np.absolute(xdata - position))\n",
    "    #start_ind = len(xdata) // 2\n",
    "    #start_ind = len(xdata) * 1/3\n",
    "    if direction == 'right':\n",
    "        end_ind = start_ind + 1\n",
    "    else:\n",
    "        end_ind = start_ind - 1\n",
    "\n",
    "    line.axes.annotate('',\n",
    "        xytext=(xdata[start_ind], ydata[start_ind]),\n",
    "        xy=(xdata[end_ind], ydata[end_ind]),\n",
    "        arrowprops=dict(arrowstyle=\"-|>\", color=color),\n",
    "        size=size\n",
    "    )\n",
    "    \n",
    "#t = np.linspace(-2, 2, 100)\n",
    "#y = np.sin(t)\n",
    "## return the handle of the line\n",
    "#line = plt.plot(t, y)[0]\n",
    "#add_arrow(line)\n",
    "\n",
    "#plt.show()"
   ]
  },
  {
   "cell_type": "code",
   "execution_count": 10,
   "metadata": {},
   "outputs": [
    {
     "data": {
      "image/png": "[encoded data removed]",
      "text/plain": [
       "<matplotlib.figure.Figure at 0x7f8aeb33bf50>"
      ]
     },
     "metadata": {},
     "output_type": "display_data"
    }
   ],
   "source": [
    "# another approach to plot\n",
    "real_part = np.squeeze(real_vector(poles))\n",
    "imag_part = np.squeeze(imag_vector(poles))\n",
    "    \n",
    "# Display a window with a plot of real, imag\n",
    "line = plt.plot(real_part, imag_part, 'b-')\n",
    "#plt.plot(real_part, imag_part, 'gx')\n",
    "plt.plot(real_part[-1], imag_part[-1], 'ro')\n",
    "plt.plot(real_part[0], imag_part[0], 'r.')\n",
    "\n",
    "try:\n",
    "    add_arrow(line[0], -9)\n",
    "    add_arrow(line[1], -9)\n",
    "    add_arrow(line[2], -8)\n",
    "except:\n",
    "    pass\n",
    "##zeros\n",
    "#real_part = np.squeeze(real_vector(zeros))\n",
    "#imag_part = np.squeeze(imag_vector(zeros))\n",
    "    \n",
    "# Display a window with a plot of real, imag\n",
    "#plt.plot(real_part, imag_part, 'g-')\n",
    "#plt.plot(real_part, imag_part, 'g')\n",
    "#plt.plot(real_part[-1], imag_part[-1], 'rx')\n",
    "#plt.plot(real_part[0], imag_part[0], 'bx')\n",
    "\n",
    "#plt.xlim(-30, 1)\n",
    "#plt.ylim(-25, 25)\n",
    "plt.show()"
   ]
  },
  {
   "cell_type": "code",
   "execution_count": 11,
   "metadata": {},
   "outputs": [],
   "source": [
    "plt.rcParams['figure.figsize'] = [15, 7]\n",
    "#import mpld3\n",
    "#mpld3.enable_notebook()\n",
    "\n",
    "def rolling_window(a, window):\n",
    "    shape = a.shape[:-1] + (a.shape[-1] - window + 1, window)\n",
    "    strides = a.strides + (a.strides[-1],)\n",
    "    return np.lib.stride_tricks.as_strided(a, shape=shape, strides=strides)\n",
    "\n",
    "def every_nth(arr, n, T=1):\n",
    "    return [T*np.array(range(0, len(arr))[::n]), arr[::n]]\n"
   ]
  },
  {
   "cell_type": "code",
   "execution_count": null,
   "metadata": {},
   "outputs": [],
   "source": []
  },
  {
   "cell_type": "code",
   "execution_count": 12,
   "metadata": {
    "scrolled": false
   },
   "outputs": [
    {
     "name": "stdout",
     "output_type": "stream",
     "text": [
      "Done steps 7854\n"
     ]
    },
    {
     "data": {
      "image/png": "[encoded data removed]",
      "text/plain": [
       "<matplotlib.figure.Figure at 0x7f8b20c3bb90>"
      ]
     },
     "metadata": {},
     "output_type": "display_data"
    }
   ],
   "source": [
    "tt = np.arange(T, T_max, T)\n",
    "\n",
    "ax1 = plt.subplot(2, 1, 1)\n",
    "\n",
    "ax1.plot(t_ye, nor0, label=\"trace\")\n",
    "ax1.plot(t_ye, nor1, label=\"frobenius\")\n",
    "#ax1.plot(t_ye, nor2, label=\"inf norm\")\n",
    "#ax1.plot(t_ye, nor3, label=\"1 norm\")\n",
    "#ax1.plot(t_ye, nor4, label=\"2 norm\")\n",
    "\n",
    "ax1.legend()\n",
    "#  H-inf Norm in mov-window\n",
    "#  Entropy in mov-window\n",
    "#  Highpass\n",
    "#plt.show()\n",
    "\n",
    "ax2 = plt.subplot(2, 1, 2, sharex=ax1)\n",
    "\n",
    "df1 = pd.DataFrame(y_e, index=t_ye)\n",
    "df2 = pd.DataFrame(y, index=tt).fillna(np.inf)\n",
    "#print df2\n",
    "df3 = pd.concat([df1, df2], axis=1).interpolate()\n",
    "\n",
    "df_diff = df3.diff(axis=1).iloc[:,1]\n",
    "#df_diff.plot()\n",
    "\n",
    "#df_diff.abs().cumsum().plot()\n",
    "#ax3 = plt.subplot(4, 1, 3, sharex=ax1)\n",
    "df_diff.abs().rolling(window=30000, center=True, win_type=\"bartlett\").sum().plot()\n",
    "#plt.show()\n",
    "\n",
    "#ax4 = plt.subplot(4, 1, 4, sharex=ax1)\n",
    "\n",
    "#ax4.plot(tt, u, 'r', label=\"setp u\")\n",
    "#ax4.plot(tt, y, 'b', label=\"real y\")\n",
    "#ax4.plot(t_ye, y_e, 'y-', label=\"esti y\")\n",
    "\n",
    "#ax3.legend()\n",
    "#plt.show()\n",
    "\n",
    "print \"Done steps\", step_cnt"
   ]
  },
  {
   "cell_type": "code",
   "execution_count": 13,
   "metadata": {},
   "outputs": [
    {
     "name": "stdout",
     "output_type": "stream",
     "text": [
      "701.691718696141\n",
      "499.31376656996076\n"
     ]
    }
   ],
   "source": [
    "print nor0[-1]\n",
    "print nor1[-1]"
   ]
  },
  {
   "cell_type": "code",
   "execution_count": 14,
   "metadata": {},
   "outputs": [
    {
     "name": "stdout",
     "output_type": "stream",
     "text": [
      "A = [[-31.87915692  27.24367082   0.        ]\n",
      " [-27.24367082 -31.87915692   0.        ]\n",
      " [  0.           0.         -16.38348493]]\n",
      "\n",
      "B = [[ -5.20528204]\n",
      " [-27.0948171 ]\n",
      " [ 31.6613682 ]]\n",
      "\n",
      "C = [[1. 1. 1.]]\n",
      "\n",
      "D = [[-0.01466585]]\n",
      "\n"
     ]
    }
   ],
   "source": [
    "A_k = iekf.AA(*iekf.z_k.ravel())\n",
    "B_k = iekf.BB(*iekf.z_k.ravel())\n",
    "C_k = iekf.C0\n",
    "D_k = iekf.DD(*iekf.z_k.ravel())\n",
    "\n",
    "ss = pc.ss(A_k, B_k, C_k, D_k)\n",
    "\n",
    "#print poles[-1]\n",
    "print ss"
   ]
  },
  {
   "cell_type": "code",
   "execution_count": 15,
   "metadata": {},
   "outputs": [
    {
     "name": "stdout",
     "output_type": "stream",
     "text": [
      "[[1.0041837]]\n",
      "[-111.24285968+106.12952188j -111.24285968-106.12952188j\n",
      " -140.47828097  +0.        j  -54.39316289  +0.        j\n",
      "  -20.34039021  +0.        j]\n",
      "[-1.95450403e+15  +0.       j  1.11242860e+02+106.1295219j\n",
      "  1.11242860e+02-106.1295219j  1.40478281e+02  +0.       j]\n",
      "----\n",
      "[[0.99316972]]\n",
      "[-31.87915692+27.24367082j -31.87915692-27.24367082j\n",
      " -16.38348493 +0.        j]\n",
      "[-98.54651188+129.88374565j -98.54651188-129.88374565j\n",
      "  73.39895724  +0.        j]\n"
     ]
    }
   ],
   "source": [
    "print pc.dcgain(ss3)\n",
    "print ss3.pole()\n",
    "print ss3.zero()\n",
    "print \"----\"\n",
    "print pc.dcgain(ss)\n",
    "print ss.pole()\n",
    "print ss.zero()"
   ]
  },
  {
   "cell_type": "code",
   "execution_count": 16,
   "metadata": {},
   "outputs": [
    {
     "data": {
      "image/png": "[encoded data removed]",
      "text/plain": [
       "<matplotlib.figure.Figure at 0x7f8b20bb8b90>"
      ]
     },
     "metadata": {},
     "output_type": "display_data"
    }
   ],
   "source": [
    "yout3, T3 = pc.step_response(ss3)\n",
    "plt.plot(yout3, T3, 'r')\n",
    "#plt.show()\n",
    "\n",
    "yout4, T4 = pc.step_response(ss)\n",
    "plt.plot(yout4, T4, 'b--')\n",
    "\n",
    "\n",
    "\n",
    "plt.show()"
   ]
  },
  {
   "cell_type": "code",
   "execution_count": null,
   "metadata": {},
   "outputs": [],
   "source": []
  },
  {
   "cell_type": "code",
   "execution_count": null,
   "metadata": {},
   "outputs": [],
   "source": []
  },
  {
   "cell_type": "code",
   "execution_count": null,
   "metadata": {},
   "outputs": [],
   "source": []
  },
  {
   "cell_type": "code",
   "execution_count": null,
   "metadata": {},
   "outputs": [],
   "source": []
  }
 ],
 "metadata": {
  "kernelspec": {
   "display_name": "Python 2",
   "language": "python",
   "name": "python2"
  },
  "language_info": {
   "codemirror_mode": {
    "name": "ipython",
    "version": 2
   },
   "file_extension": ".py",
   "mimetype": "text/x-python",
   "name": "python",
   "nbconvert_exporter": "python",
   "pygments_lexer": "ipython2",
   "version": "2.7.12"
  }
 },
 "nbformat": 4,
 "nbformat_minor": 1
}
