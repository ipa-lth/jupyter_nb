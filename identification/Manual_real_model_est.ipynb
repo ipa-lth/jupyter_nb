{
 "cells": [
  {
   "cell_type": "code",
   "execution_count": null,
   "metadata": {},
   "outputs": [],
   "source": [
    "from pprint import pprint as pprint\n",
    "import numpy as np\n",
    "import matplotlib.pyplot as plt\n",
    "\n",
    "import control as pc\n",
    "\n",
    "%pylab inline\n",
    "\n",
    "import pandas as pd\n",
    "\n",
    "from sysident import loadtools\n",
    "\n",
    "import scipy as sp"
   ]
  },
  {
   "cell_type": "code",
   "execution_count": null,
   "metadata": {
    "scrolled": false
   },
   "outputs": [],
   "source": [
    "folder = \"/home/lth/jupyter_nb/optimization/models/\"\n",
    "#fname = folder+\"ss1_20180724-082630_poles2_ident_pade1_0:036_control_20180724-092309.npy\"\n",
    "#fname = folder+\"ss2_20180724-082631_poles3_ident_pade2_0:036_control_20180724-092409.npy\"\n",
    "#fname = folder+\"ss3_position_20180717-104106_poles3_ident_pade1_0:032_control_20180724-092445.npy\"\n",
    "fname = folder+\"ss5_20180724-082628_poles3_ident_pade1_0:032_control_20180724-092522.npy\"\n",
    "#fname = folder+\"ss6_20180724-082629_poles4_ident_pade2_0:032_control_20180724-092618.npy\"\n",
    "\n",
    "res, _ = loadtools.loadNPY(fname)\n",
    "pprint(res.keys())"
   ]
  },
  {
   "cell_type": "code",
   "execution_count": null,
   "metadata": {},
   "outputs": [],
   "source": [
    "#1.00807778e+00 8.44491407e+01 3.30837215e-04 4.67498491e-02\n",
    "\n",
    "K = 1\n",
    "D = 85\n",
    "T = 3e-04\n",
    "\n",
    "Td = 4e-02\n",
    "Td_o = 10\n",
    "\n",
    "sys0 = pc.tf([K],[T**2, 2*D*T, 1])\n",
    "sys = pc.series(pc.tf(*pc.pade(Td, Td_o)), sys0)\n",
    "\n",
    "t, y = pc.step_response(sys)\n",
    "print \"poles\", pc.pole(sys0)\n",
    "\n",
    "plt.plot(t, y)\n",
    "\n",
    "#plt.plot(*pc.step_response(sys))\n",
    "#plt.plot(*res['plot_model_step'])\n",
    "\n",
    "plt.plot(*res['plot_input_step'])\n",
    "\n",
    "plt.show()\n",
    "\n",
    "\n",
    "df1 = pd.DataFrame(res['plot_input_step'][1], index=res['plot_input_step'][0])\n",
    "df2 = pd.DataFrame(y, index=t)\n",
    "\n",
    "df3 = pd.concat([df1, df2], axis=1).interpolate()\n",
    "\n",
    "#df3.diff(axis=1).plot()\n",
    "df3.diff(axis=1).abs().cumsum().plot()\n",
    "#plt.plot(res['plot_input_step'][0])\n",
    "print np.array(df3.diff(axis=1).abs().cumsum())[-1][1]"
   ]
  },
  {
   "cell_type": "code",
   "execution_count": null,
   "metadata": {},
   "outputs": [],
   "source": [
    "def get_systems(K, T, D, Td, Td_o):\n",
    "    sys0 = pc.tf([K],[T**2, 2*D*T, 1])\n",
    "    sys = pc.series(pc.tf(*pc.pade(Td, Td_o)), sys0)\n",
    "    return sys0, sys"
   ]
  },
  {
   "cell_type": "code",
   "execution_count": null,
   "metadata": {},
   "outputs": [],
   "source": [
    "from scipy.optimize import minimize\n",
    "\n",
    "def fun(arg, Td_o=1, show=False):\n",
    "    \n",
    "    K, D, T, Td = arg\n",
    "    #print K, D, T, Td\n",
    "    #T = np.abs(T)\n",
    "    \n",
    "    sys0, sys = get_systems(K, T, D, Td, Td_o)\n",
    "    \n",
    "    t, y = pc.step_response(sys)\n",
    "    \n",
    "    df1 = pd.DataFrame(res['plot_input_step'][1], index=res['plot_input_step'][0])\n",
    "    df2 = pd.DataFrame(y, index=t)\n",
    "\n",
    "    df3 = pd.concat([df1, df2], axis=1).interpolate()\n",
    "\n",
    "    r = np.array(df3.diff(axis=1).abs().cumsum())[-1][1]\n",
    "    \n",
    "    if show:\n",
    "        plt.plot(t, y)\n",
    "        plt.plot(*res['plot_input_step'])\n",
    "        plt.show()\n",
    "\n",
    "        df3.diff(axis=1).plot()\n",
    "        print r, '>>', arg\n",
    "    return r\n"
   ]
  },
  {
   "cell_type": "code",
   "execution_count": null,
   "metadata": {},
   "outputs": [],
   "source": [
    "result = minimize(fun, [1, 85, 0.00035, 0.04], method='Powell')\n",
    "fun(result.x, show=True)\n",
    "\n",
    "K, D, T, Td = result.x\n",
    "Td_o = 1 #!!!!!!!!!!!!!!!!\n",
    "\n",
    "sys0, sys = get_systems(K, T, D, Td, Td_o)\n",
    "print pc.pole(sys)"
   ]
  },
  {
   "cell_type": "raw",
   "metadata": {},
   "source": [
    "result = minimize(fun, [1, 85, 0.00035, 0.00035], method='Nelder-Mead')\n",
    "fun(result.x, show=True)"
   ]
  },
  {
   "cell_type": "code",
   "execution_count": null,
   "metadata": {},
   "outputs": [],
   "source": [
    "df1 = pd.DataFrame(res['plot_input_step'][1], index=res['plot_input_step'][0])\n",
    "df2 = pd.DataFrame(res['plot_model_step'][1], index=res['plot_model_step'][0])\n",
    "\n",
    "df3 = pd.concat([df1, df2], axis=1).interpolate()\n",
    "\n",
    "plt.plot(*res['plot_model_step'])\n",
    "plt.plot(*res['plot_input_step'])\n",
    "plt.show()\n",
    "\n",
    "df3.diff(axis=1).plot()\n",
    "r = np.array(df3.diff(axis=1).abs().cumsum())[-1][1]\n",
    "print r"
   ]
  },
  {
   "cell_type": "code",
   "execution_count": null,
   "metadata": {},
   "outputs": [],
   "source": [
    "K, D, T, Td = result.x\n",
    "Td_o = 1 #!!!!!!!!!!!!!!!!\n",
    "\n",
    "\n",
    "\n",
    "\n",
    "sys0, sys = get_systems(K, T, D, Td, Td_o)\n",
    "ss = pc.tf2ss(sys)\n",
    "\n",
    "fname = 'ss_{}_poles{}_manual_ident_{}'.format(time.strftime(\"%Y%m%d-%H%M%S\"),\n",
    "                                    len(pc.pole(sys)), 'pade{}_{}'.format(Td_o, Td))\n",
    "\n",
    "\n",
    "loadtools.saveDelayModel(fname, ss.A, ss.B, ss.C, ss.D, Td)"
   ]
  },
  {
   "cell_type": "code",
   "execution_count": null,
   "metadata": {},
   "outputs": [],
   "source": []
  },
  {
   "cell_type": "code",
   "execution_count": null,
   "metadata": {},
   "outputs": [],
   "source": []
  },
  {
   "cell_type": "code",
   "execution_count": null,
   "metadata": {},
   "outputs": [],
   "source": []
  },
  {
   "cell_type": "code",
   "execution_count": null,
   "metadata": {},
   "outputs": [],
   "source": []
  },
  {
   "cell_type": "code",
   "execution_count": null,
   "metadata": {},
   "outputs": [],
   "source": []
  },
  {
   "cell_type": "code",
   "execution_count": null,
   "metadata": {},
   "outputs": [],
   "source": []
  },
  {
   "cell_type": "code",
   "execution_count": null,
   "metadata": {},
   "outputs": [],
   "source": []
  }
 ],
 "metadata": {
  "kernelspec": {
   "display_name": "Python 2",
   "language": "python",
   "name": "python2"
  },
  "language_info": {
   "codemirror_mode": {
    "name": "ipython",
    "version": 2
   },
   "file_extension": ".py",
   "mimetype": "text/x-python",
   "name": "python",
   "nbconvert_exporter": "python",
   "pygments_lexer": "ipython2",
   "version": "2.7.12"
  }
 },
 "nbformat": 4,
 "nbformat_minor": 2
}
