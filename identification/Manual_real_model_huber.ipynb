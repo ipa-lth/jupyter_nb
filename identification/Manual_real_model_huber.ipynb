{
 "cells": [
  {
   "cell_type": "code",
   "execution_count": null,
   "metadata": {},
   "outputs": [],
   "source": [
    "from pprint import pprint as pprint\n",
    "import numpy as np\n",
    "import matplotlib.pyplot as plt\n",
    "\n",
    "import control as pc\n",
    "\n",
    "%pylab inline\n",
    "\n",
    "import pandas as pd\n",
    "\n",
    "from sysident import loadtools\n",
    "\n",
    "import scipy as sp\n",
    "import numpy.linalg as la\n",
    "\n",
    "import sympy"
   ]
  },
  {
   "cell_type": "code",
   "execution_count": null,
   "metadata": {},
   "outputs": [],
   "source": []
  },
  {
   "cell_type": "code",
   "execution_count": null,
   "metadata": {
    "scrolled": false
   },
   "outputs": [],
   "source": [
    "folder = \"/home/lth/jupyter_nb/optimization/models/\"\n",
    "#fname = folder+\"ss1_20180724-082630_poles2_ident_pade1_0:036_control_20180724-092309.npy\"\n",
    "#fname = folder+\"ss2_20180724-082631_poles3_ident_pade2_0:036_control_20180724-092409.npy\"\n",
    "#fname = folder+\"ss3_position_20180717-104106_poles3_ident_pade1_0:032_control_20180724-092445.npy\"\n",
    "fname = folder+\"ss5_20180724-082628_poles3_ident_pade1_0:032_control_20180724-092522.npy\"\n",
    "#fname = folder+\"ss6_20180724-082629_poles4_ident_pade2_0:032_control_20180724-092618.npy\"\n",
    "\n",
    "res, _ = loadtools.loadNPY(fname)\n",
    "pprint(res.keys())"
   ]
  },
  {
   "cell_type": "raw",
   "metadata": {},
   "source": [
    "#1.00807778e+00 8.44491407e+01 3.30837215e-04 4.67498491e-02\n",
    "\n",
    "K = 1\n",
    "D = 85\n",
    "T = 3e-04\n",
    "\n",
    "Td = 4e-02\n",
    "Td_o = 1\n",
    "\n",
    "sys0 = pc.tf([K],[T**2, 2*D*T, 1])\n",
    "sys = pc.series(pc.tf(*pc.pade(Td, Td_o)), sys0)\n",
    "\n",
    "t, y = pc.step_response(sys)\n",
    "print \"poles\", pc.pole(sys0)\n",
    "\n",
    "plt.plot(t, y)\n",
    "\n",
    "#plt.plot(*pc.step_response(sys))\n",
    "#plt.plot(*res['plot_model_step'])\n",
    "\n",
    "plt.plot(*res['plot_input_step'])\n",
    "\n",
    "plt.show()\n",
    "\n",
    "\n",
    "df1 = pd.DataFrame(res['plot_input_step'][1], index=res['plot_input_step'][0])\n",
    "df2 = pd.DataFrame(y, index=t)\n",
    "\n",
    "df3 = pd.concat([df1, df2], axis=1).interpolate()\n",
    "\n",
    "#df3.diff(axis=1).plot()\n",
    "#df3.head()\n",
    "XY = np.array(df3.diff(axis=1).iloc[:,1].abs())\n",
    "plt.plot(XY)\n",
    "plt.show()\n",
    "print XY.cumsum()[-1]\n",
    "XYZ = sp.special.pseudo_huber(0.2, np.array(df3.diff(axis=1).iloc[:,1]))\n",
    "plt.plot(XYZ)\n",
    "print XYZ.cumsum()[-1]"
   ]
  },
  {
   "cell_type": "raw",
   "metadata": {},
   "source": [
    "#print sp.special.pseudo_huber(5, np.array(df3.diff(axis=1)[:][1]))\n",
    "df3.diff(axis=1).abs().cumsum().plot()\n",
    "#plt.plot(res['plot_input_step'][0])\n",
    "print np.array(df3.diff(axis=1).abs().cumsum())[-1][1]\n",
    "plt.show()\n",
    "\n",
    "XX = sp.special.pseudo_huber(0.1, np.linspace(-10, 10))\n",
    "plt.plot(np.linspace(-10, 10), XX)\n",
    "plt.show()"
   ]
  },
  {
   "cell_type": "code",
   "execution_count": null,
   "metadata": {},
   "outputs": [],
   "source": [
    "lins = np.linspace(-1, 1)\n",
    "plt.plot(lins, np.power(lins, 10))\n",
    "plt.title(\"identification/Manual_real_model_huber.ipynb\")\n",
    "\n",
    "df = pd.DataFrame(np.power(lins, 10), lins)\n",
    "df.index.name =\"x\"\n",
    "df.columns = ['power10']\n",
    "\n",
    "df.to_csv(\"exp_fkt.csv\")"
   ]
  },
  {
   "cell_type": "code",
   "execution_count": null,
   "metadata": {},
   "outputs": [],
   "source": [
    "# plt.plot(sp.special.pseudo_huber(0.2, np.linspace(-1, 1)), label=\"delta=0.2\")\n",
    "from sklearn.metrics import mean_squared_error\n",
    "#mse = mean_squared_error(A, B)\n",
    "\n",
    "lins = np.linspace(-4, 4, num=101)\n",
    "print len(lins)\n",
    "zer = lins*0\n",
    "mse = [0.5*mean_squared_error([x], [0]) for x in lins]\n",
    "\n",
    "plt.plot(lins, sp.special.pseudo_huber(1, lins), label=\"L_1(x)\")\n",
    "plt.plot(lins, mse, label=\"0.5*mse\")\n",
    "plt.plot(lins, np.abs(lins)-1, label=\"abs(x)-1\")\n",
    "plt.legend()\n",
    "plt.title(\"identification/Manual_real_model_huber.ipynb\")\n",
    "\n",
    "plt.ylim(-1,4)"
   ]
  },
  {
   "cell_type": "code",
   "execution_count": null,
   "metadata": {},
   "outputs": [],
   "source": [
    "df1 = pd.DataFrame(sp.special.pseudo_huber(1, lins), lins)\n",
    "df1.index.name =\"x\"\n",
    "df1.columns = ['huber']\n",
    "\n",
    "df1['05mse'] = mse\n",
    "df1['abs1'] = np.abs(lins)-1\n",
    "df1.to_csv(\"huber_fkt.csv\")"
   ]
  },
  {
   "cell_type": "code",
   "execution_count": null,
   "metadata": {},
   "outputs": [],
   "source": [
    "# Creates a PT2+delay system from parameters\n",
    "def get_systems(K, T, D, Td, Td_o=1):\n",
    "    sys0 = pc.tf([K],[T**2, 2*D*T, 1])\n",
    "    sys = pc.series(pc.tf(*pc.pade(Td, Td_o)), sys0)\n",
    "    return sys0, sys"
   ]
  },
  {
   "cell_type": "code",
   "execution_count": null,
   "metadata": {},
   "outputs": [],
   "source": [
    "from scipy.optimize import minimize\n",
    "\n",
    "pole_limit = -70 \n",
    "\n",
    "# Optimization function:\n",
    "# creates PT2-d system, transforms to modal form,\n",
    "# recreates A with idealized A (eye*eigval)\n",
    "# ma\n",
    "def fun(arg, Td_o=1, show=False):\n",
    "    \n",
    "    K, D, T, Td = arg\n",
    "    #print K, D, T, Td\n",
    "    #T = np.abs(T)\n",
    "    \n",
    "    sys0, sys = get_systems(K, T, D, Td, Td_o)\n",
    "    \n",
    "    ss = pc.tf2ss(sys)\n",
    "    \n",
    "    eigval, Tzx = la.eig(ss.A)\n",
    "    A_modal = la.solve(Tzx, ss.A).dot(Tzx)\n",
    "    B_modal = la.solve(Tzx, ss.B)\n",
    "    C_modal = ss.C.dot(Tzx)\n",
    "    D_modal = ss.D\n",
    "    \n",
    "    t, y = pc.step_response(pc.ss(np.eye(len(eigval))*eigval, B_modal, C_modal, D_modal))\n",
    "    \n",
    "    df1 = pd.DataFrame(res['plot_input_step'][1], index=res['plot_input_step'][0])\n",
    "    df2 = pd.DataFrame(y, index=t).fillna(np.inf)\n",
    "    #print df2\n",
    "    df3 = pd.concat([df1, df2], axis=1).interpolate()\n",
    "    \n",
    "    df_diff = df3.diff(axis=1).iloc[:,1]\n",
    "    #print np.array(df_diff.cumsum().tail(), dtype=float64)\n",
    "    \n",
    "    poles = pc.pole(pc.ss(np.eye(len(eigval))*eigval, B_modal, C_modal, D_modal))\n",
    "    #print poles[poles < -pole_limit]\n",
    "    #print poles.min()\n",
    "    p = np.sum(np.power(poles[poles < pole_limit], 10))\n",
    "    #print poles\n",
    "    #print p\n",
    "    r = sp.special.pseudo_huber(0.2, np.array(df_diff, dtype=float64)).cumsum()[-1]\n",
    "    \n",
    "    #r = np.array(df3.diff(axis=1).abs().cumsum())[-1][1]\n",
    "    \n",
    "    if np.isnan(r):\n",
    "        r = np.inf\n",
    "    \n",
    "    if show:\n",
    "        plt.plot(t, y)\n",
    "        plt.plot(*res['plot_input_step'])\n",
    "        plt.show()\n",
    "\n",
    "        df_diff.plot()\n",
    "        print r+p, '>>', arg\n",
    "    return r+p\n",
    "\n",
    "#fun([1, 1, 0.1, 0.1], show=True)"
   ]
  },
  {
   "cell_type": "code",
   "execution_count": null,
   "metadata": {},
   "outputs": [],
   "source": [
    "result = minimize(fun, [1, 1, 0.1, 0.1], method='Powell')\n",
    "fun(result.x, show=True)\n",
    "\n",
    "K, D, T, Td = result.x\n",
    "#Td_o = 1 !!!!!!!!!!!!!!!!\n",
    "sys0, sys1 = get_systems(K, T, D, Td, Td_o=1)\n",
    "ss = pc.tf2ss(sys1)\n",
    "eigval, Tzx = la.eig(ss.A)\n",
    "A_modal = la.solve(Tzx, ss.A).dot(Tzx)\n",
    "B_modal = la.solve(Tzx, ss.B)\n",
    "C_modal = ss.C.dot(Tzx)\n",
    "D_modal = ss.D\n",
    "\n",
    "#print pc.pole(sys)\n",
    "\n",
    "print \"sys0:\", pc.tf2ss(sys0)\n",
    "print \"---\"\n",
    "print \"sys:\", pc.tf2ss(sys)"
   ]
  },
  {
   "cell_type": "code",
   "execution_count": null,
   "metadata": {},
   "outputs": [],
   "source": [
    "t, y = pc.step_response(pc.ss(np.eye(len(eigval))*eigval, B_modal, C_modal, D_modal))\n",
    "\n",
    "df1 = pd.DataFrame(res['plot_input_step'][1], index=res['plot_input_step'][0])\n",
    "df2 = pd.DataFrame(y, index=t).fillna(np.inf)\n",
    "#print df2\n",
    "df3 = pd.concat([df1, df2], axis=1).interpolate()\n",
    "df3.columns = ['messung','pade1']\n",
    "df3.index.name =\"time\"\n",
    "df3.to_csv(\"huber_approx_pade.csv\")\n",
    "\n",
    "df_diff = df3.diff(axis=1).iloc[:,1].to_frame()\n",
    "df_diff.columns = ['error']\n",
    "df_diff['cumsum'] = df_diff['error'].abs().cumsum(axis = 0)\n",
    "\n",
    "df_diff.to_csv(\"huber_approx_pade_error.csv\")"
   ]
  },
  {
   "cell_type": "code",
   "execution_count": null,
   "metadata": {},
   "outputs": [],
   "source": [
    "fname = 'ss_{}_poles{}_manual_ident_huber_{}'.format(time.strftime(\"%Y%m%d-%H%M%S\"),\n",
    "                                    len(pc.pole(sys1)), 'pade{}_{}'.format(1, Td))\n",
    "\n",
    "ss1 = pc.tf2ss(sys1)\n",
    "loadtools.saveDelayModel(fname, ss1.A, ss1.B, ss1.C, ss1.D, Td)"
   ]
  },
  {
   "cell_type": "code",
   "execution_count": null,
   "metadata": {
    "scrolled": false
   },
   "outputs": [],
   "source": [
    "# System pade 3rd order\n",
    "sys0, sys3 = get_systems(K, T, D, Td, Td_o=3)\n",
    "\n",
    "t, y = pc.step_response(sys3)\n",
    "plt.plot(*res['plot_input_step'], label=\"gemessene Sprungantwort\")\n",
    "plt.plot(t, y, 'r', label=u\"Annäherung\")\n",
    "plt.legend()\n",
    "plt.title('identification/Manual_real_model_huber.ipynb')\n",
    "plt.show()\n",
    "\n",
    "df1 = pd.DataFrame(res['plot_input_step'][1], index=res['plot_input_step'][0])\n",
    "df2 = pd.DataFrame(y, index=t).fillna(np.inf)\n",
    "#print df2\n",
    "df3 = pd.concat([df1, df2], axis=1).interpolate()\n",
    "df3.columns = ['messung','pade3']\n",
    "df3.index.name =\"time\"\n",
    "\n",
    "df_diff = df3.diff(axis=1).iloc[:,1].to_frame()\n",
    "df_diff.columns = ['error']\n",
    "df_diff['cumsum'] = df_diff['error'].abs().cumsum(axis = 0)\n",
    "\n",
    "df_diff.plot(label=\"narf\")\n",
    "plt.title('identification/Manual_real_model_huber.ipynb')\n",
    "plt.show()\n",
    "\n",
    "df3.to_csv(\"huber_approx.csv\")\n",
    "df_diff.to_csv(\"huber_approx_error.csv\")"
   ]
  },
  {
   "cell_type": "code",
   "execution_count": null,
   "metadata": {},
   "outputs": [],
   "source": [
    "print sys3\n",
    "\n",
    "fname = 'ss_{}_poles{}_manual_ident_huber_{}'.format(time.strftime(\"%Y%m%d-%H%M%S\"),\n",
    "                                    len(pc.pole(sys3)), 'pade{}_{}'.format(3, Td))\n",
    "\n",
    "ss3 = pc.tf2ss(sys3)\n",
    "loadtools.saveDelayModel(fname, ss3.A, ss3.B, ss3.C, ss3.D, Td)\n",
    "\n",
    "print sys0\n",
    "ss0 = pc.tf2ss(sys0)\n",
    "\n",
    "fname = 'ss_{}_poles{}_manual_ident_huber_{}'.format(time.strftime(\"%Y%m%d-%H%M%S\"),\n",
    "                                    len(pc.pole(sys0)), 'no_delay_{}'.format(Td))\n",
    "loadtools.saveDelayModel(fname, ss0.A, ss0.B, ss0.C, ss0.D, Td)\n"
   ]
  },
  {
   "cell_type": "raw",
   "metadata": {},
   "source": [
    "result = minimize(fun, [1, 1, 0.1, 0.1], method='Nelder-Mead')\n",
    "fun(result.x, show=True)\n",
    "\n",
    "K, D, T, Td = result.x\n",
    "#Td_o = 1 !!!!!!!!!!!!!!!!\n",
    "sys0, sys = get_systems(K, T, D, Td, Td_o=1)\n",
    "ss = pc.tf2ss(sys)\n",
    "eigval, Tzx = la.eig(ss.A)\n",
    "A_modal = la.solve(Tzx, ss.A).dot(Tzx)\n",
    "B_modal = la.solve(Tzx, ss.B)\n",
    "C_modal = ss.C.dot(Tzx)\n",
    "D_modal = ss.D\n",
    "\n",
    "print pc.pole(sys)"
   ]
  },
  {
   "cell_type": "code",
   "execution_count": null,
   "metadata": {},
   "outputs": [],
   "source": [
    "df1 = pd.DataFrame(res['plot_input_step'][1], index=res['plot_input_step'][0])\n",
    "df2 = pd.DataFrame(res['plot_model_step'][1], index=res['plot_model_step'][0])\n",
    "\n",
    "df3 = pd.concat([df1, df2], axis=1).interpolate()\n",
    "\n",
    "plt.plot(*res['plot_model_step'])\n",
    "plt.plot(*res['plot_input_step'])\n",
    "plt.show()\n",
    "\n",
    "df3.diff(axis=1).plot()\n",
    "r = np.array(df3.diff(axis=1).abs().cumsum())[-1][1]\n",
    "print r"
   ]
  },
  {
   "cell_type": "code",
   "execution_count": null,
   "metadata": {},
   "outputs": [],
   "source": [
    "K, D, T, Td = result.x\n",
    "\n",
    "#Td_o = 1 !!!!!!!!!!!!!!!!\n",
    "sys0, sys = get_systems(K, T, D, Td)\n",
    "ss = pc.tf2ss(sys)\n"
   ]
  },
  {
   "cell_type": "code",
   "execution_count": null,
   "metadata": {},
   "outputs": [],
   "source": [
    "eigval, Tzx = la.eig(ss.A)\n",
    "print eigval\n",
    "print Tzx"
   ]
  },
  {
   "cell_type": "code",
   "execution_count": null,
   "metadata": {},
   "outputs": [],
   "source": [
    "A_modal = la.solve(Tzx, ss.A).dot(Tzx)\n",
    "B_modal = la.solve(Tzx, ss.B)\n",
    "C_modal = ss.C.dot(Tzx)\n",
    "D_modal = ss.D"
   ]
  },
  {
   "cell_type": "code",
   "execution_count": null,
   "metadata": {},
   "outputs": [],
   "source": [
    "print A_modal\n",
    "print np.eye(3)*eigval\n",
    "\n",
    "print B_modal\n",
    "print C_modal\n",
    "print D_modal\n",
    "\n",
    "\n",
    "#print np.eye(3)*eigval - A_modal"
   ]
  },
  {
   "cell_type": "code",
   "execution_count": null,
   "metadata": {},
   "outputs": [],
   "source": [
    "plt.plot(*pc.step_response(ss))\n",
    "plt.plot(*pc.step_response(pc.ss(A_modal, B_modal, C_modal, D_modal)))\n",
    "plt.plot(*pc.step_response(pc.ss(np.eye(3)*eigval, B_modal, C_modal, D_modal)))"
   ]
  },
  {
   "cell_type": "code",
   "execution_count": null,
   "metadata": {},
   "outputs": [],
   "source": [
    "fname = 'ss_{}_poles{}_manual_ident_huber{}'.format(time.strftime(\"%Y%m%d-%H%M%S\"),\n",
    "                                    len(pc.pole(sys)), 'pade{}_{}'.format(Td_o, Td))\n",
    "\n",
    "\n",
    "loadtools.saveDelayModel(fname, ss.A, ss.B, ss.C, ss.D, Td)"
   ]
  },
  {
   "cell_type": "code",
   "execution_count": null,
   "metadata": {},
   "outputs": [],
   "source": []
  }
 ],
 "metadata": {
  "kernelspec": {
   "display_name": "Python 2",
   "language": "python",
   "name": "python2"
  },
  "language_info": {
   "codemirror_mode": {
    "name": "ipython",
    "version": 2
   },
   "file_extension": ".py",
   "mimetype": "text/x-python",
   "name": "python",
   "nbconvert_exporter": "python",
   "pygments_lexer": "ipython2",
   "version": "2.7.12"
  }
 },
 "nbformat": 4,
 "nbformat_minor": 2
}
