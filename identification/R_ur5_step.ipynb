{
 "cells": [
  {
   "cell_type": "code",
   "execution_count": null,
   "metadata": {
    "collapsed": false
   },
   "outputs": [],
   "source": [
    "import pandas as pd\n",
    "import numpy as np\n",
    "from pandas import Series, DataFrame, Panel\n",
    "%pylab inline\n",
    "#plt.rcParams['figure.figsize'] = (15, 15)\n",
    "\n",
    "### get soll ###\n",
    "df_soll = pd.read_csv('~/catkin_ws/src/pitasc/applications/sysident/step_log/2017-11-03/2017-11-03_14-27-47_control_output.log',\n",
    "                 header=0,\n",
    "                 names=['time', 'localtime', 'x_soll'])\n",
    "print df_soll.head()\n",
    "\n",
    "#remove trailing [\n",
    "df_soll = df_soll.set_index('localtime')\n",
    "\n",
    "### get ist ###\n",
    "df_ist = pd.read_csv('~/catkin_ws/src/pitasc/applications/sysident/step_log/2017-11-03/2017-11-03_14-27-48_task_vel.log',\n",
    "                 header=0,\n",
    "                 names=['time', 'localtime', 'x_ist'])\n",
    "\n",
    "df_ist = df_ist.set_index('localtime')\n",
    "print df_ist.head()\n",
    "\n",
    "### make one df with ist and soll; indexed by time\n",
    "# Concates both series to one and fills (unknown) data with last valid one\n",
    "df_ist_soll = pd.concat([df_soll.x_soll, df_ist.x_ist], axis=1).fillna(method='pad')\n",
    "# Fills first value with 0 (there is no valid before that one)\n",
    "df_ist_soll = df_ist_soll.fillna(0)\n",
    "df_ist_soll.plot(style='-', drawstyle=\"steps\")"
   ]
  },
  {
   "cell_type": "code",
   "execution_count": null,
   "metadata": {
    "collapsed": false
   },
   "outputs": [],
   "source": [
    "# Load in the r magic\n",
    "%load_ext rpy2.ipython"
   ]
  },
  {
   "cell_type": "code",
   "execution_count": null,
   "metadata": {
    "collapsed": false
   },
   "outputs": [],
   "source": [
    "T = df_ist_soll.index.tolist()\n",
    "yout = (5 * df_ist_soll['x_ist']).tolist()\n",
    "xin = (5 * df_ist_soll['x_soll']).tolist()\n",
    "\n",
    "# Don't know how to import more than one per line...\n",
    "%R -i T\n",
    "%R -i yout\n",
    "%R -i xin"
   ]
  },
  {
   "cell_type": "code",
   "execution_count": null,
   "metadata": {
    "collapsed": false
   },
   "outputs": [],
   "source": [
    "%%R -o sys\n",
    "library(sysid)\n",
    "require(ggplot2)\n",
    "\n",
    "data_tf <- idframe(output = yout, input = xin)\n",
    "sys = arx(data_tf, c(1,2,0))\n",
    "#ls()\n",
    "#names(sys)\n",
    "#sys['fitted.values']\n",
    "plot(T, yout)\n",
    "lines(T, predict(sys, data_tf, nahead=2))\n",
    "#print(sys)\n",
    "names(sys)\n",
    "print(sys)"
   ]
  },
  {
   "cell_type": "code",
   "execution_count": null,
   "metadata": {
    "collapsed": false
   },
   "outputs": [],
   "source": [
    "#%R print(sys)"
   ]
  },
  {
   "cell_type": "code",
   "execution_count": null,
   "metadata": {
    "collapsed": false
   },
   "outputs": [],
   "source": [
    "# Testsystem aufsetzen\n",
    "import control as con\n",
    "\n",
    "# pt1 System\n",
    "k = 0.2\n",
    "t = 1e-2\n",
    "\n",
    "# Polynom\n",
    "tf_pt1 = con.matlab.tf(k, [t, 1])\n",
    "print tf_pt1\n",
    "\n",
    "\n",
    "# pt2 System\n",
    "K = 0.2\n",
    "d = 0.83\n",
    "T = .1\n",
    "delay = 0.246\n",
    "\n",
    "a0 = 1\n",
    "a1 = (2 * d * T) #16\n",
    "a2 = (T**2) #100\n",
    "b0 = K\n",
    "\n",
    "# Polynom\n",
    "tf_pt2 = con.matlab.tf(K, [a2, a1, a0])\n",
    "print tf_pt2\n",
    "\n",
    "# Zustandsraum\n",
    "ss_1a = con.matlab.tf2ss(tf_pt2)\n",
    "#print ss_1a\n",
    "\n",
    "# Füge Zeitversatz zu\n",
    "d_num, d_den = con.pade(delay, 1)\n",
    "tf_delay = con.tf(d_num, d_den)\n",
    "ss_pt2_delay = con.series(tf_delay, tf_pt2)\n",
    "\n",
    "tf_pt1_delay = con.tf(d_num, d_den)\n",
    "ss_pt1_delay = con.series(tf_delay, tf_pt1)\n",
    "\n",
    "#print con.matlab.tf2ss(ss_delay)\n",
    "\n",
    "import matplotlib.pyplot as plt\n",
    "%pylab inline\n",
    "d_yout, d_T = con.matlab.step(ss_pt2_delay)\n",
    "yout, T = con.matlab.step(tf_pt2) # step without delay\n",
    "\n",
    "#plt.plot(d_T, d_yout, 'r-', label='poly_est')\n",
    "plt.plot(np.add(d_T, delay), yout, 'r-', label='pt2') #delay in timeaxis!\n",
    "\n",
    "d_yout, d_T = con.matlab.step(ss_pt1_delay)\n",
    "yout, T = con.matlab.step(tf_pt1) # step without delay\n",
    "\n",
    "#plt.plot(d_T, d_yout, 'r-', label='poly_est')\n",
    "plt.plot(np.add(d_T, delay), yout, 'y-', label='pt1') #delay in timeaxis!\n",
    "\n",
    "\n",
    "plt.legend()\n",
    "\n",
    "plt.plot(df_ist_soll)\n",
    "#df_ist_soll.plot(ylim=[-0.01, 0.21], xlim=[0.246, 1.2-0.246], style='-', drawstyle=\"steps\")"
   ]
  },
  {
   "cell_type": "code",
   "execution_count": null,
   "metadata": {
    "collapsed": false
   },
   "outputs": [],
   "source": []
  },
  {
   "cell_type": "code",
   "execution_count": null,
   "metadata": {
    "collapsed": true
   },
   "outputs": [],
   "source": []
  }
 ],
 "metadata": {
  "kernelspec": {
   "display_name": "Python 2",
   "language": "python",
   "name": "python2"
  },
  "language_info": {
   "codemirror_mode": {
    "name": "ipython",
    "version": 2
   },
   "file_extension": ".py",
   "mimetype": "text/x-python",
   "name": "python",
   "nbconvert_exporter": "python",
   "pygments_lexer": "ipython2",
   "version": "2.7.12"
  }
 },
 "nbformat": 4,
 "nbformat_minor": 1
}
