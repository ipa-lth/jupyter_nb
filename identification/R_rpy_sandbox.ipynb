{
 "cells": [
  {
   "cell_type": "code",
   "execution_count": null,
   "metadata": {
    "collapsed": false
   },
   "outputs": [],
   "source": [
    "from rpy2.rinterface import R_VERSION_BUILD\n",
    "print(R_VERSION_BUILD)"
   ]
  },
  {
   "cell_type": "code",
   "execution_count": null,
   "metadata": {
    "collapsed": true
   },
   "outputs": [],
   "source": [
    "# Load in the r magic\n",
    "%load_ext rpy2.ipython"
   ]
  },
  {
   "cell_type": "code",
   "execution_count": null,
   "metadata": {
    "collapsed": false
   },
   "outputs": [],
   "source": [
    "# This magic command makes only this line to an R interpreted cell!\n",
    "%R X=c(1,4,5,7); sd(X); mean(X)"
   ]
  },
  {
   "cell_type": "code",
   "execution_count": null,
   "metadata": {
    "collapsed": false
   },
   "outputs": [],
   "source": [
    "%%R #This magic command make this cell an R interpreted cell!\n",
    "X=c(1,4,5,7);\n",
    "sd(X); \n",
    "mean(X)"
   ]
  },
  {
   "cell_type": "code",
   "execution_count": null,
   "metadata": {
    "collapsed": false
   },
   "outputs": [],
   "source": [
    "# We need ggplot2 (in R)\n",
    "%R require(ggplot2)\n",
    "# Load in the pandas library\n",
    "import pandas as pd \n",
    "# Make a pandas DataFrame\n",
    "df = pd.DataFrame({'Alphabet': ['a', 'b', 'c', 'd','e', 'f', 'g', 'h','i'],\n",
    "                   'A': [4, 3, 5, 2, 1, 7, 7, 5, 9],\n",
    "                   'B': [0, 4, 3, 6, 7, 10,11, 9, 13],\n",
    "                   'C': [1, 2, 3, 1, 2, 3, 1, 2, 3]})"
   ]
  },
  {
   "cell_type": "code",
   "execution_count": null,
   "metadata": {
    "collapsed": false
   },
   "outputs": [],
   "source": [
    "%%R -i df # %%R MUST be the first line \n",
    "# Take the name of input variable df and assign it to an R variable of the same name\n",
    "print(df)\n",
    "# Plot the DataFrame df\n",
    "p <- ggplot(data=df) + geom_point(aes(x=A, y=B, color=C))\n",
    "print(p)"
   ]
  },
  {
   "cell_type": "code",
   "execution_count": null,
   "metadata": {
    "collapsed": false
   },
   "outputs": [],
   "source": [
    "import numpy as np\n",
    "import matplotlib.pyplot as plt\n",
    "import control as con\n",
    "%pylab inline\n",
    "\n",
    "K = 1\n",
    "d = 0.5\n",
    "T = 10\n",
    "delay = 10\n",
    "\n",
    "a0 = 1\n",
    "a1 = (2 * d * T) #16\n",
    "a2 = (T**2) #100\n",
    "b0 = K\n",
    "\n",
    "tf_1 = con.matlab.tf(K, [a2, a1, a0])\n",
    "#print tf_1\n",
    "ss_1a = con.matlab.tf2ss(tf_1)\n",
    "#print ss_1a\n",
    "\n",
    "d_num, d_den = con.pade(delay, 1)\n",
    "tf_delay = con.tf(d_num, d_den)\n",
    "ss_delay = con.matlab.tf2ss(con.series(tf_delay, tf_1))\n",
    "print ss_delay\n",
    "\n",
    "#print con.matlab.tf2ss(ss_delay)\n",
    "d_yout, d_T = con.matlab.step(ss_delay)\n",
    "yout, T = con.matlab.step(tf_1) # step without delay\n",
    "xin = np.ones(len(yout))\n",
    "\n",
    "\n",
    "\n",
    "plt.plot(d_T, d_yout, 'r-', label='poly_est')\n",
    "plt.plot(np.add(d_T, delay), yout, 'g-', label='idealized') #delay in timeaxis!"
   ]
  },
  {
   "cell_type": "code",
   "execution_count": null,
   "metadata": {
    "collapsed": false
   },
   "outputs": [],
   "source": [
    "# Don't know how to import more than one per line...\n",
    "%R -i T\n",
    "%R -i d_yout\n",
    "%R -i xin"
   ]
  },
  {
   "cell_type": "code",
   "execution_count": null,
   "metadata": {
    "collapsed": false
   },
   "outputs": [],
   "source": [
    "len(xin) == len(d_yout) == len(T)"
   ]
  },
  {
   "cell_type": "code",
   "execution_count": null,
   "metadata": {
    "collapsed": false
   },
   "outputs": [],
   "source": [
    "%%R -o sys\n",
    "library(sysid)\n",
    "require(ggplot2)\n",
    "\n",
    "data_tf <- idframe(output = d_yout, input = xin)\n",
    "sys = arx(data_tf, c(3,3,5))\n",
    "#ls()\n",
    "#names(sys)\n",
    "#sys['fitted.values']\n",
    "plot(T, d_yout)\n",
    "lines(T, predict(sys, data_tf, nahead=1))\n",
    "#print(sys)\n",
    "names(sys)\n",
    "print(sys)"
   ]
  },
  {
   "cell_type": "code",
   "execution_count": null,
   "metadata": {
    "collapsed": false
   },
   "outputs": [],
   "source": [
    "um = np.matrix(xin) # input measurements\n",
    "ym = np.matrix(d_yout) # output measurements\n",
    "\n",
    "Rexpt = None\n",
    "fexpt = None\n",
    "K= 4\n",
    "\n",
    "for k in xrange(1,K):\n",
    "#    print k\n",
    "    #print ym[k-1]\n",
    "    vphi = np.matrix([-ym.item(k-1), -ym.item(k-2), -ym.item(k-3), um.item(k-2), um.item(k-3)]).transpose();\n",
    "    N = float(len(vphi))\n",
    "    if Rexpt is not None:\n",
    "        Rexpt = Rexpt + (1/N)*vphi*vphi.transpose();\n",
    "        fexpt = fexpt + (1/N)*vphi*ym.item(k);\n",
    "    else:\n",
    "        Rexpt = (1/N)*vphi*vphi.transpose();\n",
    "        fexpt = (1/N)*vphi*ym.item(k);\n",
    "\n",
    "#theta = Rexpt/fexpt # least-squares fit\n",
    "theta = np.linalg.lstsq(Rexpt, fexpt)\n",
    "#print theta[0]\n",
    "Bvec = [0, 0, theta[0].item(3), theta[0].item(4)];\n",
    "Avec = [1, theta[0].item(0), theta[0].item(1), theta[0].item(2)];\n",
    "\n",
    "Ghat = con.tf(Bvec,Avec);\n",
    "est_yout, est_T = con.matlab.step(Ghat)\n",
    "plt.plot(est_T, est_yout, 'r-', label='tf_est')"
   ]
  },
  {
   "cell_type": "code",
   "execution_count": null,
   "metadata": {
    "collapsed": false
   },
   "outputs": [],
   "source": [
    "# Y = B/A * U\n",
    "# B = 0.4559*q - 0.41-0.051\n",
    "# A = 1 * q - 0.9521-0.0212\n",
    "num = [0.4559, -0.41+0.051]\n",
    "den = [1, -0.9521+0.0212]\n",
    "est_tf = con.tf(num, den)\n",
    "\n",
    "est_yout, est_T = con.matlab.step(est_tf)\n",
    "plt.plot(est_T, est_yout, 'r-', label='tf_est')"
   ]
  },
  {
   "cell_type": "code",
   "execution_count": null,
   "metadata": {
    "collapsed": false
   },
   "outputs": [],
   "source": []
  },
  {
   "cell_type": "code",
   "execution_count": null,
   "metadata": {
    "collapsed": false
   },
   "outputs": [],
   "source": []
  },
  {
   "cell_type": "code",
   "execution_count": null,
   "metadata": {
    "collapsed": false
   },
   "outputs": [],
   "source": []
  },
  {
   "cell_type": "code",
   "execution_count": null,
   "metadata": {
    "collapsed": true
   },
   "outputs": [],
   "source": []
  }
 ],
 "metadata": {
  "kernelspec": {
   "display_name": "Python 2",
   "language": "python",
   "name": "python2"
  },
  "language_info": {
   "codemirror_mode": {
    "name": "ipython",
    "version": 2
   },
   "file_extension": ".py",
   "mimetype": "text/x-python",
   "name": "python",
   "nbconvert_exporter": "python",
   "pygments_lexer": "ipython2",
   "version": "2.7.12"
  }
 },
 "nbformat": 4,
 "nbformat_minor": 1
}
