{
 "cells": [
  {
   "cell_type": "code",
   "execution_count": null,
   "metadata": {
    "collapsed": true
   },
   "outputs": [],
   "source": [
    "import cvxopt as cvx\n",
    "import control as con\n",
    "\n",
    "import numpy as np"
   ]
  },
  {
   "cell_type": "code",
   "execution_count": null,
   "metadata": {
    "collapsed": false
   },
   "outputs": [],
   "source": [
    "##############################\n",
    "# Boris Paper UBoot          #\n",
    "##############################\n",
    "A = np.array([[0., 1., 0.],\n",
    "              [0., 0., 1.],\n",
    "              [0., 0., -0.005]])\n",
    "\n",
    "############### TODO ###################\n",
    "############### CHECK ##################\n",
    "#last line of Regelungsnormalform (characteristical polynom coefficients) in a colunm vector\n",
    "a = -np.array(A[np.array(A).shape[1]-1])[np.newaxis].T \n",
    "\n",
    "b = np.array([[0], [0], [1.]])\n",
    "\n",
    "d = 0\n",
    "c = np.array([[1], [0], [0]]).T\n",
    "\n",
    "print np.matrix(con.matlab.pole(con.matlab.ss(A, b, c, d))).T\n",
    "\n",
    "u_max = 2.5e-5\n",
    "\n",
    "#simulation time\n",
    "T = 1.0/200.0\n",
    "\n",
    "#Introduced for fun\n",
    "u_max_sys = u_max\n",
    "\n",
    "a_hat      = np.array([[4.4469e-8], [2.3073e-5], [4.9148e-3]])\n",
    "a_hat_star = np.array([[1.073e-7], [4.919e-5], [10.4078e-3]])\n",
    "\n",
    "R1 = np.array([[1.6021e-5, 3.26098e-3, 0.4031],\n",
    "               [3.2698e-3, 1.5666,     163.46],\n",
    "               [0.4031,    163.46,     40.713]])"
   ]
  },
  {
   "cell_type": "code",
   "execution_count": null,
   "metadata": {
    "collapsed": false
   },
   "outputs": [],
   "source": [
    "##############################\n",
    "# Boris Diss Reactor         #\n",
    "##############################\n",
    "A = np.matrix([[1, 0],\n",
    "              [0, -0.5]])\n",
    "b = np.matrix([[1],[-0.5]])\n",
    "c = np.matrix([1, 0])\n",
    "u_max = 1\n",
    "n = 2\n",
    "\n",
    "print np.matrix(con.matlab.pole(con.matlab.ss(A, b, c, 0))).T\n",
    "\n",
    "X0 = [np.matrix([-0.9, -2.8]).T,\n",
    "      np.matrix([-0.9, 2.8]).T,\n",
    "      np.matrix([0.9, -2.8]).T,\n",
    "      np.matrix([0.9, 2.8]).T]\n",
    "\n",
    "x_max = [0.9, 2.8]\n",
    "\n",
    "#print \"A:\\n\", A\n",
    "#print \"a:\\n\", a\n",
    "#print \"b:\\n\", b\n",
    "#print \"c:\\n\", c\n",
    "\n",
    "##### Entwurf parameter #####\n",
    "beta = 2 # beta >=1 !"
   ]
  },
  {
   "cell_type": "code",
   "execution_count": null,
   "metadata": {
    "collapsed": false
   },
   "outputs": [],
   "source": [
    "###################################################\n",
    "# Boris Diss Hydraulisches Positioniersystem S.61 #\n",
    "###################################################\n",
    "A = np.matrix([[0,      1,        0],\n",
    "               [0, -0.126,     83.5],\n",
    "               [0,  -6.89, -0.00707]])\n",
    " \n",
    "b = np.matrix([[0],[0],[-55.51]])\n",
    "c = np.matrix([1, 0, 0])\n",
    "\n",
    "print \"Poles:\", np.matrix(con.matlab.pole(con.matlab.ss(A, b, c, 0))).T\n",
    "\n",
    "u_max = 1\n",
    "n = len(b)\n",
    "\n",
    "X0 = [np.matrix([-13.38, -10.7, -2.58]).T,\n",
    "      np.matrix([-13.38, -10.7,  2.58]).T,\n",
    "      np.matrix([-13.38,  10.7, -2.58]).T,\n",
    "      np.matrix([-13.38,  10.7,  2.58]).T,\n",
    "      np.matrix([ 13.38, -10.7, -2.58]).T,\n",
    "      np.matrix([ 13.38, -10.7,  2.58]).T,\n",
    "      np.matrix([ 13.38,  10.7, -2.58]).T,\n",
    "      np.matrix([ 13.38,  10.7,  2.58]).T]\n",
    "\n",
    "x_max = [13.38, 10.7, 2.58]\n",
    "\n",
    "#print \"A:\\n\", A\n",
    "#print \"a:\\n\", a\n",
    "#print \"b:\\n\", b\n",
    "#print \"c:\\n\", c\n",
    "\n",
    "k0 = 1e-3*np.matrix([-24.23, -0.2122, -10.5]).T\n",
    "k1 = 1e-3*np.matrix([-40.13, -0.1396, -15.10]).T\n",
    "k0_star = 1e-3*np.matrix([-11.96, -0.1111, -5.18]).T\n",
    "k1_star = 1e-3*np.matrix([-83.35, -0.0477, -33.86]).T\n",
    "\n",
    "##### Entwurf parameter #####\n",
    "beta =2 # beta >=1 !"
   ]
  },
  {
   "cell_type": "code",
   "execution_count": null,
   "metadata": {
    "collapsed": true
   },
   "outputs": [],
   "source": []
  }
 ],
 "metadata": {
  "kernelspec": {
   "display_name": "Python 2",
   "language": "python",
   "name": "python2"
  },
  "language_info": {
   "codemirror_mode": {
    "name": "ipython",
    "version": 2
   },
   "file_extension": ".py",
   "mimetype": "text/x-python",
   "name": "python",
   "nbconvert_exporter": "python",
   "pygments_lexer": "ipython2",
   "version": "2.7.12"
  }
 },
 "nbformat": 4,
 "nbformat_minor": 1
}
