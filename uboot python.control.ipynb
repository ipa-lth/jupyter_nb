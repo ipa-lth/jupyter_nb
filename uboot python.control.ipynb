{
 "cells": [
  {
   "cell_type": "code",
   "execution_count": null,
   "metadata": {
    "collapsed": false,
    "scrolled": true
   },
   "outputs": [],
   "source": [
    "%matplotlib inline\n",
    "\n",
    "import matplotlib\n",
    "import matplotlib.pyplot as plt\n",
    "\n",
    "import control\n",
    "from control.matlab import *\n",
    "x = [[1],[2],[3]]\n",
    "#x_dot = np.dot(A, x) + np.dot(b, .0) # x° = Ax + bu\n",
    "#show(x_dot)\n",
    "#y = np.dot(c, x)# + np.dot(d, .0) # y = cx + du\n",
    "#show(y)\n",
    "#uboot_ss = control.ss(A, b, c, d)\n",
    "#control.pole(uboot_ss)\n",
    "#control.bode_plot(control.feedback(uboot_ss))\n",
    "\n",
    "A = [[0, 1, 0], [0, 0, 1], [0, 0, -0.005]]\n",
    "B = [[1], [0], [0]]\n",
    "C = [[1., 0, 0]]\n",
    "D = [[0.]]\n",
    "sys1 = control.ss(A, B, C, D)\n",
    "#mag, phase, omega = bode(sys1)\n",
    "arr1, arr2 = control.step(sys1)\n",
    "\n",
    "#control.pole(sys1)\n",
    "#mag, phase, omega = control.bode(control.feedback(sys1))\n",
    "\n",
    "#sys = ss(\"0. 1 0; 0. 0 1; 0 0 -0.005\", \"0; 0; 1\", \"1 0 0\", \"0\")\n",
    "#mag, phase, omega = bode(sys)\n",
    "real, imag, freq = control.nyquist_plot(control.feedback(sys1))"
   ]
  },
  {
   "cell_type": "code",
   "execution_count": null,
   "metadata": {
    "collapsed": true
   },
   "outputs": [],
   "source": [
    "import numpy as np\n",
    "import sympy as sp\n",
    "from sympy import init_printing\n",
    "from sympy import pprint as show\n",
    "from __future__ import division\n",
    "\n",
    "def sat(v, u_max):\n",
    "    return np.clip(v, -u_max, u_max)\n",
    "\n",
    "#Test\n",
    "#print sat([2,-3,4,1], 2)\n",
    "#print sat([[2, 3],[-3, -4],[4, 0],[1, 0.5]], 3)"
   ]
  },
  {
   "cell_type": "code",
   "execution_count": null,
   "metadata": {
    "collapsed": true
   },
   "outputs": [],
   "source": [
    "# uboot\n",
    "A = np.array([[0., 1., 0.],\n",
    "              [0., 0., 1.],\n",
    "              [0., 0., -0.005]])\n",
    "a = A[np.array(A).shape[1]-1] #last line of Regelungsnormalform (characteristical polynom coefficients)\n",
    "\n",
    "b = np.array([[0], [0], [1.]])\n",
    "\n",
    "d = 0\n",
    "c = np.array([[1], [0], [0]])\n",
    "\n",
    "u_max = 2.5e-5\n",
    "\n",
    "#simulation time\n",
    "T = 1.0/100.0\n",
    "\n",
    "#Introduced for fun\n",
    "u_max_sys = 2.5e-5"
   ]
  },
  {
   "cell_type": "code",
   "execution_count": null,
   "metadata": {
    "collapsed": false
   },
   "outputs": [],
   "source": [
    "# Some other regulator\n",
    "\n",
    "# Initial state\n",
    "x0 = np.array([[0],[0],[-0.004]])\n",
    "\n",
    "# Timeloop\n",
    "x_t = x0\n",
    "y_t = x0[0]\n",
    "u_t = [0]\n",
    "\n",
    "k_t = np.array([[100],[100],[100]])\n",
    "\n",
    "for t in range(1, 300000):\n",
    "    ## Calc u\n",
    "    #print k_t\n",
    "    #print x_t\n",
    "    u = np.dot(-k_t.T, x_t)\n",
    "    #print u\n",
    "    \n",
    "    #u = sat(u[0][0], u_max)\n",
    "    #print u\n",
    "    \n",
    "    ## System response\n",
    "    # System saturation u (trivial if u_max and u_max_sys are identical)\n",
    "    # Calc x_dot\n",
    "    #show(A)\n",
    "    #show(x_t)\n",
    "    x_dot = np.dot(A, x_t) + b * sat(u, u_max_sys)\n",
    "    #print x_dot\n",
    "    #print b*u\n",
    "    #print x_dot + b*u\n",
    "    x_t = x_t + x_dot*T\n",
    "    #print x_t\n",
    "    y_t = np.append(y_t, x_t[0])\n",
    "    u_t = np.append(u_t, u)\n",
    "\n",
    "#print y_t\n",
    "import matplotlib.pyplot as plt\n",
    "plt.plot(y_t)\n",
    "#plt.plot(u_t, 'g')\n",
    "plt.ylabel('y=x[0]')\n",
    "plt.show()"
   ]
  }
 ],
 "metadata": {
  "kernelspec": {
   "display_name": "Python 2",
   "language": "python",
   "name": "python2"
  },
  "language_info": {
   "codemirror_mode": {
    "name": "ipython",
    "version": 2
   },
   "file_extension": ".py",
   "mimetype": "text/x-python",
   "name": "python",
   "nbconvert_exporter": "python",
   "pygments_lexer": "ipython2",
   "version": "2.7.12"
  }
 },
 "nbformat": 4,
 "nbformat_minor": 1
}
