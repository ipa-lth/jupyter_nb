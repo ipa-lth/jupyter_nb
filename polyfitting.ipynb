{
 "cells": [
  {
   "cell_type": "code",
   "execution_count": null,
   "metadata": {
    "collapsed": true
   },
   "outputs": [],
   "source": [
    "import numpy as np\n",
    "import matplotlib.pyplot as plt\n",
    "from scipy.optimize import curve_fit"
   ]
  },
  {
   "cell_type": "code",
   "execution_count": null,
   "metadata": {
    "collapsed": false
   },
   "outputs": [],
   "source": [
    "def func(x, a, b, c, d):\n",
    "    res=np.array([])\n",
    "    for x_single in x:\n",
    "        if x_single <= d:\n",
    "            res= np.append(res, [c])\n",
    "        else:\n",
    "            res = np.append(res, [a *(1 - np.exp(-b * (x_single-d))) + c])\n",
    "    return res"
   ]
  },
  {
   "cell_type": "code",
   "execution_count": null,
   "metadata": {
    "collapsed": false
   },
   "outputs": [],
   "source": [
    "def tn_pt2(xdata, td, k, w0, d):\n",
    "    def _a1_2(w0, d):\n",
    "        return (-d * w0 + w0 * np.sqrt(d**2 - 1), \n",
    "                -d * w0 - w0 * np.sqrt(d**2 - 1))\n",
    "    def _T1_2(a1_2):\n",
    "        #print a1_2\n",
    "        a1, a2 = a1_2\n",
    "        return (-1.0/a1, -1.0/a2)\n",
    "    def T1_2(w0, d):\n",
    "        return _T1_2(_a1_2(w0, d))\n",
    "\n",
    "    res = np.array([])\n",
    "    for x in xdata:\n",
    "        if x < td:\n",
    "            res = np.append(res, [0.0])  \n",
    "        else:\n",
    "            t = x - td\n",
    "            T1, T2 = T1_2(w0, d)\n",
    "            if d > 1: # Kriechfall\n",
    "                val = k * (1 - (T1 / (T1 - T2)) * np.exp(-t / T1) + (T2 / (T1 - T2)) * np.exp(-t / T2))\n",
    "                res = np.append(res, [val])  \n",
    "            elif d == 1: #aperiodischer Grenzfall\n",
    "                val = k * (1 - np.exp(-t/T1) - 1.0/T1 * np.exp(-t/T2))\n",
    "                res = np.append(res, [val])\n",
    "            elif d <= -1: # instabiler Kriechfall\n",
    "                val = k * (1 - (T1 / (T1 - T2)) * np.exp(t / T1) + (T2 / (T1 - T2)) * np.exp(t / T2))\n",
    "                res = np.append(res, [val])\n",
    "            else: #Schwingfall\n",
    "                #we = wo * np.sqrt(1-d**2)\n",
    "                val = k * (1 - 1/(np.sqrt(1-d**2)) * np.exp(-d*w0*t) * np.sin(w0*np.sqrt(1-d**2) * t + np.arccos(d)))\n",
    "                res = np.append(res, [val])\n",
    "    return res"
   ]
  },
  {
   "cell_type": "code",
   "execution_count": null,
   "metadata": {
    "collapsed": false
   },
   "outputs": [],
   "source": [
    "xdata = np.linspace(0, 70, 1000)\n",
    "y = tn_pt2(xdata, td=0, k=2, w0=1, d=1)\n",
    "#y = func(xdata, 10, 5, 0, 1)\n",
    "#print len(y), len(xdata)\n",
    "y_noise = 0.1 * np.random.normal(size=xdata.size)\n",
    "#ydata = y + y_noise\n",
    "#ydata = tn_pt2(xdata, 0, 2, 1, 5)\n",
    "plt.plot(xdata, y, 'g-', label='data')\n",
    "#plt.plot(xdata, ydata, 'b-', label='data_noise')\n",
    "tn_pt2([0], td=0, k=2, w0=1, d=1) ###?????? TODO Correct"
   ]
  },
  {
   "cell_type": "code",
   "execution_count": null,
   "metadata": {
    "collapsed": false
   },
   "outputs": [],
   "source": [
    "popt, pcov = curve_fit(tn_pt2, xdata, ydata, method='dogbox')\n",
    "plt.plot(xdata, tn_pt2(xdata, *popt), 'r-', label='fit')\n",
    "popt"
   ]
  },
  {
   "cell_type": "code",
   "execution_count": null,
   "metadata": {
    "collapsed": false
   },
   "outputs": [],
   "source": [
    "popt, pcov = curve_fit(tn_pt2, xdata, ydata, method='dogbox', bounds=(0, [15., 10., 1., 0.2]))\n",
    "plt.plot(xdata, tn_pt2(xdata, *popt), 'b--', label='fit-with-bounds')\n",
    "popt"
   ]
  },
  {
   "cell_type": "code",
   "execution_count": null,
   "metadata": {
    "collapsed": false
   },
   "outputs": [],
   "source": [
    "plt.xlabel('x')\n",
    "plt.ylabel('y')\n",
    "plt.legend()\n",
    "plt.show()\n"
   ]
  },
  {
   "cell_type": "code",
   "execution_count": null,
   "metadata": {
    "collapsed": true
   },
   "outputs": [],
   "source": []
  }
 ],
 "metadata": {
  "kernelspec": {
   "display_name": "Python 2",
   "language": "python",
   "name": "python2"
  },
  "language_info": {
   "codemirror_mode": {
    "name": "ipython",
    "version": 2
   },
   "file_extension": ".py",
   "mimetype": "text/x-python",
   "name": "python",
   "nbconvert_exporter": "python",
   "pygments_lexer": "ipython2",
   "version": "2.7.12"
  }
 },
 "nbformat": 4,
 "nbformat_minor": 2
}
