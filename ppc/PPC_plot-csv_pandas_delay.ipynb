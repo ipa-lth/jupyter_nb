{
 "cells": [
  {
   "cell_type": "code",
   "execution_count": 9,
   "metadata": {},
   "outputs": [],
   "source": [
    "import pandas as pd\n",
    "import matplotlib.pyplot as plt\n",
    "plt.rcParams['font.family'] = 'Times New Roman'"
   ]
  },
  {
   "cell_type": "code",
   "execution_count": 10,
   "metadata": {},
   "outputs": [],
   "source": [
    "folder = '/home/lth/catkin_ws/src/pitasc/applications/ppc/logs/2019-02-14/delay0_0/'\n",
    "files = [\n",
    "    '2019-02-14_14-10-36_measurements.log',\n",
    "    '2019-02-14_14-10-37_desired_values.log',\n",
    "    '2019-02-14_14-10-38_control_output.log',\n",
    "    '2019-02-14_14-10-38_residuals.log'\n",
    "]\n",
    "\n",
    "df = pd.read_csv(folder + files[0],\n",
    "                 #index_col=2,\n",
    "                 usecols=[1,2],\n",
    "                 header=1,\n",
    "                 names=['time', 'f']\n",
    "                )\n",
    "df = df.set_index('time')\n",
    "\n",
    "df_d = pd.read_csv(folder + files[1],\n",
    "                 #index_col=2,\n",
    "                 usecols=[1,2],\n",
    "                 header=1,\n",
    "                 names=['time', 'f_d']\n",
    "                )\n",
    "df_d = df_d.set_index('time')\n",
    "\n",
    "du = pd.read_csv(folder + files[2],\n",
    "                 #index_col=2,\n",
    "                 usecols=[1,2],\n",
    "                 header=1,\n",
    "                 names=['time', 'u']\n",
    "                )\n",
    "du = du.set_index('time')\n",
    "\n",
    "de = pd.read_csv(folder + files[3],\n",
    "                 #index_col=2,\n",
    "                 usecols=[1,2],\n",
    "                 header=1,\n",
    "                 names=['time', 'e']\n",
    "                )\n",
    "de = de.set_index('time')\n",
    "\n",
    "data = df.join([df_d, de, du], how='outer')\n",
    "data0 = data.fillna(method='pad')\n",
    "\n",
    "#data.loc[:, data.columns != 'u'].plot()\n",
    "#plt.show()\n",
    "#data['u'].plot()\n",
    "#plt.show()"
   ]
  },
  {
   "cell_type": "code",
   "execution_count": 12,
   "metadata": {},
   "outputs": [],
   "source": [
    "\n",
    "folder = '/home/lth/catkin_ws/src/pitasc/applications/ppc/logs/2019-02-14/delay0_01/'\n",
    "\n",
    "files = [\n",
    "    '2019-02-14_14-11-00_measurements.log',\n",
    "    '2019-02-14_14-11-01_desired_values.log',\n",
    "    '2019-02-14_14-11-02_control_output.log',\n",
    "    '2019-02-14_14-11-02_residuals.log'\n",
    "]\n",
    "\n",
    "df = pd.read_csv(folder + files[0],\n",
    "                 #index_col=2,\n",
    "                 usecols=[1,2],\n",
    "                 header=1,\n",
    "                 names=['time', 'f']\n",
    "                )\n",
    "df = df.set_index('time')\n",
    "\n",
    "df_d = pd.read_csv(folder + files[1],\n",
    "                 #index_col=2,\n",
    "                 usecols=[1,2],\n",
    "                 header=1,\n",
    "                 names=['time', 'f_d']\n",
    "                )\n",
    "df_d = df_d.set_index('time')\n",
    "\n",
    "du = pd.read_csv(folder + files[2],\n",
    "                 #index_col=2,\n",
    "                 usecols=[1,2],\n",
    "                 header=1,\n",
    "                 names=['time', 'u']\n",
    "                )\n",
    "du = du.set_index('time')\n",
    "\n",
    "de = pd.read_csv(folder + files[3],\n",
    "                 #index_col=2,\n",
    "                 usecols=[1,2],\n",
    "                 header=1,\n",
    "                 names=['time', 'e']\n",
    "                )\n",
    "de = de.set_index('time')\n",
    "\n",
    "data = df.join([df_d, de, du], how='outer')\n",
    "data01 = data.fillna(method='pad')\n",
    "\n",
    "#data.loc[:, data.columns != 'u'].plot()\n",
    "#plt.show()\n",
    "#data['u'].plot()\n",
    "#plt.show()"
   ]
  },
  {
   "cell_type": "code",
   "execution_count": 13,
   "metadata": {},
   "outputs": [],
   "source": [
    "\n",
    "folder = '/home/lth/catkin_ws/src/pitasc/applications/ppc/logs/2019-02-14/delay0_033/'\n",
    "\n",
    "files = [\n",
    "    '2019-02-14_14-11-26_measurements.log',\n",
    "    '2019-02-14_14-11-27_desired_values.log',\n",
    "    '2019-02-14_14-11-28_control_output.log',\n",
    "    '2019-02-14_14-11-28_residuals.log'\n",
    "]\n",
    "\n",
    "df = pd.read_csv(folder + files[0],\n",
    "                 #index_col=2,\n",
    "                 usecols=[1,2],\n",
    "                 header=1,\n",
    "                 names=['time', 'f']\n",
    "                )\n",
    "df = df.set_index('time')\n",
    "\n",
    "df_d = pd.read_csv(folder + files[1],\n",
    "                 #index_col=2,\n",
    "                 usecols=[1,2],\n",
    "                 header=1,\n",
    "                 names=['time', 'f_d']\n",
    "                )\n",
    "df_d = df_d.set_index('time')\n",
    "\n",
    "du = pd.read_csv(folder + files[2],\n",
    "                 #index_col=2,\n",
    "                 usecols=[1,2],\n",
    "                 header=1,\n",
    "                 names=['time', 'u']\n",
    "                )\n",
    "du = du.set_index('time')\n",
    "\n",
    "de = pd.read_csv(folder + files[3],\n",
    "                 #index_col=2,\n",
    "                 usecols=[1,2],\n",
    "                 header=1,\n",
    "                 names=['time', 'e']\n",
    "                )\n",
    "de = de.set_index('time')\n",
    "\n",
    "data = df.join([df_d, de, du], how='outer')\n",
    "data033 = data.fillna(method='pad')\n",
    "\n",
    "#data.loc[:, data.columns != 'u'].plot()\n",
    "#plt.show()\n",
    "#data['u'].plot()\n",
    "#plt.show()"
   ]
  },
  {
   "cell_type": "code",
   "execution_count": 14,
   "metadata": {},
   "outputs": [],
   "source": [
    "\n",
    "folder = '/home/lth/catkin_ws/src/pitasc/applications/ppc/logs/2019-02-14/delay0_066/'\n",
    "\n",
    "files = [\n",
    "    '2019-02-14_14-11-54_measurements.log',\n",
    "    '2019-02-14_14-11-55_desired_values.log',\n",
    "    '2019-02-14_14-11-56_control_output.log',\n",
    "    '2019-02-14_14-11-55_residuals.log'\n",
    "]\n",
    "\n",
    "df = pd.read_csv(folder + files[0],\n",
    "                 #index_col=2,\n",
    "                 usecols=[1,2],\n",
    "                 header=1,\n",
    "                 names=['time', 'f']\n",
    "                )\n",
    "df = df.set_index('time')\n",
    "\n",
    "df_d = pd.read_csv(folder + files[1],\n",
    "                 #index_col=2,\n",
    "                 usecols=[1,2],\n",
    "                 header=1,\n",
    "                 names=['time', 'f_d']\n",
    "                )\n",
    "df_d = df_d.set_index('time')\n",
    "\n",
    "du = pd.read_csv(folder + files[2],\n",
    "                 #index_col=2,\n",
    "                 usecols=[1,2],\n",
    "                 header=1,\n",
    "                 names=['time', 'u']\n",
    "                )\n",
    "du = du.set_index('time')\n",
    "\n",
    "de = pd.read_csv(folder + files[3],\n",
    "                 #index_col=2,\n",
    "                 usecols=[1,2],\n",
    "                 header=1,\n",
    "                 names=['time', 'e']\n",
    "                )\n",
    "de = de.set_index('time')\n",
    "\n",
    "data = df.join([df_d, de, du], how='outer')\n",
    "data066 = data.fillna(method='pad')\n",
    "\n",
    "#data.loc[:, data.columns != 'u'].plot()\n",
    "#plt.show()\n",
    "#data['u'].plot()\n",
    "#plt.show()"
   ]
  },
  {
   "cell_type": "code",
   "execution_count": 15,
   "metadata": {},
   "outputs": [],
   "source": [
    "\n",
    "folder = '/home/lth/catkin_ws/src/pitasc/applications/ppc/logs/2019-02-14/delay0_132/'\n",
    "\n",
    "files = [\n",
    "    '2019-02-14_14-12-19_measurements.log',\n",
    "    '2019-02-14_14-12-19_desired_values.log',\n",
    "    '2019-02-14_14-12-20_control_output.log',\n",
    "    '2019-02-14_14-12-20_residuals.log'\n",
    "]\n",
    "\n",
    "df = pd.read_csv(folder + files[0],\n",
    "                 #index_col=2,\n",
    "                 usecols=[1,2],\n",
    "                 header=1,\n",
    "                 names=['time', 'f']\n",
    "                )\n",
    "df = df.set_index('time')\n",
    "\n",
    "df_d = pd.read_csv(folder + files[1],\n",
    "                 #index_col=2,\n",
    "                 usecols=[1,2],\n",
    "                 header=1,\n",
    "                 names=['time', 'f_d']\n",
    "                )\n",
    "df_d = df_d.set_index('time')\n",
    "\n",
    "du = pd.read_csv(folder + files[2],\n",
    "                 #index_col=2,\n",
    "                 usecols=[1,2],\n",
    "                 header=1,\n",
    "                 names=['time', 'u']\n",
    "                )\n",
    "du = du.set_index('time')\n",
    "\n",
    "de = pd.read_csv(folder + files[3],\n",
    "                 #index_col=2,\n",
    "                 usecols=[1,2],\n",
    "                 header=1,\n",
    "                 names=['time', 'e']\n",
    "                )\n",
    "de = de.set_index('time')\n",
    "\n",
    "data = df.join([df_d, de, du], how='outer')\n",
    "data0132 = data.fillna(method='pad')\n",
    "\n",
    "#data.loc[:, data.columns != 'u'].plot()\n",
    "#plt.show()\n",
    "#data['u'].plot()\n",
    "#plt.show()"
   ]
  },
  {
   "cell_type": "code",
   "execution_count": 18,
   "metadata": {},
   "outputs": [
    {
     "data": {
      "text/plain": [
       "<matplotlib.legend.Legend at 0x7f39923c8890>"
      ]
     },
     "execution_count": 18,
     "metadata": {},
     "output_type": "execute_result"
    },
    {
     "data": {
      "image/png": "[encoded data removed]",
      "text/plain": [
       "<matplotlib.figure.Figure at 0x7f399466b750>"
      ]
     },
     "metadata": {},
     "output_type": "display_data"
    }
   ],
   "source": [
    "col = 'f'\n",
    "data0132[col].plot(label='delay = 4*t_d')\n",
    "data066[col].plot(label='delay = 2*t_d')\n",
    "data033[col].plot(label='delay = t_d')\n",
    "data01[col].plot(label='delay = 0.01')\n",
    "data0[col].plot(label='delay = 0')\n",
    "\n",
    "data0['f_d'].plot(label='f_d')\n",
    "\n",
    "plt.title('jupyter_nb/ppc/PPC_plot-csv_pandas_delay.ipynb -- f')\n",
    "\n",
    "plt.legend()"
   ]
  },
  {
   "cell_type": "code",
   "execution_count": 22,
   "metadata": {},
   "outputs": [
    {
     "data": {
      "text/plain": [
       "<matplotlib.legend.Legend at 0x7f3992208990>"
      ]
     },
     "execution_count": 22,
     "metadata": {},
     "output_type": "execute_result"
    },
    {
     "data": {
      "image/png": "[encoded data removed]",
      "text/plain": [
       "<matplotlib.figure.Figure at 0x7f3992208250>"
      ]
     },
     "metadata": {},
     "output_type": "display_data"
    }
   ],
   "source": [
    "col = 'e'\n",
    "data0132[col].plot(label='delay = 4*t_d')\n",
    "data066[col].plot(label='delay = 2*t_d')\n",
    "data033[col].plot(label='delay = t_d')\n",
    "data01[col].plot(label='delay = 0.01')\n",
    "data0[col].plot(label='delay = 0')\n",
    "\n",
    "plt.title('jupyter_nb/ppc/PPC_plot-csv_pandas_delay.ipynb -- e')\n",
    "\n",
    "plt.legend()"
   ]
  },
  {
   "cell_type": "code",
   "execution_count": 21,
   "metadata": {},
   "outputs": [
    {
     "data": {
      "text/plain": [
       "<matplotlib.legend.Legend at 0x7f3992324590>"
      ]
     },
     "execution_count": 21,
     "metadata": {},
     "output_type": "execute_result"
    },
    {
     "data": {
      "image/png": "[encoded data removed]",
      "text/plain": [
       "<matplotlib.figure.Figure at 0x7f39cc245450>"
      ]
     },
     "metadata": {},
     "output_type": "display_data"
    }
   ],
   "source": [
    "col = 'u'\n",
    "\n",
    "data0[col].plot(label='delay = 0')\n",
    "data01[col].plot(label='delay = 0.01')\n",
    "data033[col].plot(label='delay = t_d')\n",
    "data066[col].plot(label='delay = 2*t_d')\n",
    "data0132[col].plot(label='delay = 4*t_d')\n",
    "\n",
    "plt.title('jupyter_nb/ppc/PPC_plot-csv_pandas_delay.ipynb -- u')\n",
    "\n",
    "plt.legend()"
   ]
  },
  {
   "cell_type": "raw",
   "metadata": {},
   "source": [
    "fig= plt.figure()\n",
    "a1 = fig.add_subplot(111)\n",
    "plt.plot(t,rho,linestyle='--',color='#808080',label='Performanzgrenzen')\n",
    "plt.plot(t,e,'g',label='Abweichung')\n",
    "\n",
    "plt.plot([0,12],[-3,-3],linestyle='--',color='#808080')\n",
    "a1.set_xlim(0,5)\n",
    "a1.set_ylim(-5,50)\n",
    "a1.set_xlabel('Zeit [s]',fontsize=18)\n",
    "a1.set_ylabel('Ausmaß der Kraft [N]',fontsize=18)\n",
    "a1.legend( fontsize=18)\n",
    "plt.xticks(fontsize=18)\n",
    "plt.yticks(fontsize=18)\n",
    "plt.grid(True)\n",
    "\n",
    "fig.savefig('first.pdf',dpi=1200)"
   ]
  },
  {
   "cell_type": "code",
   "execution_count": null,
   "metadata": {},
   "outputs": [],
   "source": []
  }
 ],
 "metadata": {
  "kernelspec": {
   "display_name": "Python 2",
   "language": "python",
   "name": "python2"
  },
  "language_info": {
   "codemirror_mode": {
    "name": "ipython",
    "version": 2
   },
   "file_extension": ".py",
   "mimetype": "text/x-python",
   "name": "python",
   "nbconvert_exporter": "python",
   "pygments_lexer": "ipython2",
   "version": "2.7.12"
  }
 },
 "nbformat": 4,
 "nbformat_minor": 2
}
