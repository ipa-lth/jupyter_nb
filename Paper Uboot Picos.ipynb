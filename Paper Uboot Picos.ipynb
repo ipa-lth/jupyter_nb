{
 "cells": [
  {
   "cell_type": "code",
   "execution_count": null,
   "metadata": {
    "collapsed": true
   },
   "outputs": [],
   "source": [
    "import picos as pic\n",
    "import cvxopt as cvx\n",
    "\n",
    "import numpy as np\n",
    "from numpy import linalg as LA\n",
    "from scipy.special import comb as nchoosek # n Choose k (n ueber k)"
   ]
  },
  {
   "cell_type": "code",
   "execution_count": null,
   "metadata": {
    "collapsed": true
   },
   "outputs": [],
   "source": [
    "### Seite 37 (im Text zwischen (4.12) und (4.13))\n",
    "def _N(n):\n",
    "    return np.diag([p for p in xrange(-n, 0, 1)])\n",
    "\n",
    "### Seite 55; (4.64)\n",
    "def _M(n):\n",
    "    return np.diag([p for p in xrange(0, n, 1)])\n",
    "\n",
    "### Seite 55; (4.64)\n",
    "def _P(l, k, n):\n",
    "    I = np.eye(n)\n",
    "    Mn = _M(n)\n",
    "    P = I\n",
    "    if k == 0:\n",
    "        pass # P=I\n",
    "    else:\n",
    "        for q in xrange(0, k, 1):\n",
    "            P = P * ((l-q)*I + Mn)\n",
    "    return cvx.matrix(P)"
   ]
  },
  {
   "cell_type": "code",
   "execution_count": null,
   "metadata": {
    "collapsed": false
   },
   "outputs": [],
   "source": [
    "##############################\n",
    "# Boris Paper UBoot          #\n",
    "##############################\n",
    "A = np.matrix([[0, 1, 0],\n",
    "              [0, 0, 1],\n",
    "              [0, 0, -0.005]])\n",
    "a = -A[-1][:].T ### ?????????????????????\n",
    "b = np.matrix([[0],[0],[1]])\n",
    "c = np.matrix([1, 0, 0])\n",
    "u_max = 2.5e-5\n",
    "n = 3\n",
    "\n",
    "X0 = [np.matrix([-10, -0.05, -0.0046]).T,\n",
    "      np.matrix([-10, -0.05, 0.0046]).T,\n",
    "      np.matrix([-10, 0.05, -0.0046]).T,\n",
    "      np.matrix([10, -0.05, 0.0046]).T,\n",
    "      np.matrix([10, -0.05, -0.0046]).T,\n",
    "      np.matrix([10, 0.05, 0.0046]).T]\n",
    "\n",
    "#print \"A:\\n\", A\n",
    "#print \"a:\\n\", a\n",
    "#print \"b:\\n\", b\n",
    "#print \"c:\\n\", c\n",
    "\n",
    "N = cvx.matrix(_N(n))\n",
    "M = cvx.matrix(_M(n))\n",
    "\n",
    "##### Entwurf parameter #####\n",
    "beta = 1 # beta >=1 !\n",
    "\n",
    "##############################\n",
    "# Convex Problem (35)        #\n",
    "##############################\n",
    "prob = pic.Problem()\n",
    "\n",
    "# Constants\n",
    "AA = pic.new_param('A', A)\n",
    "II = pic.new_param('I_n', np.eye(n+1))\n",
    "III = pic.new_param('I_n+1', np.eye(n+1))\n",
    "aa = pic.new_param('a', a)\n",
    "bb = pic.new_param('b', b)\n",
    "XX0 = pic.new_param('X0', X0)\n",
    "\n",
    "NN = pic.new_param('N', N)\n",
    "MM = pic.new_param('M', M)\n",
    "\n",
    "AA0 = pic.new_param('A0', AA+bb*aa.T)\n",
    "\n",
    "# Problem\n",
    "prob = pic.Problem()\n",
    "\n",
    "# Parameters\n",
    "QQ = prob.add_variable('Q', (n, n), vtype='symmetric')\n",
    "zz = prob.add_variable('z', n)\n",
    "zz_star = prob.add_variable('z_star', n)\n",
    "delta = prob.add_variable('delta', 1)\n",
    "\n",
    "# Objective\n",
    "prob.set_objective('max', delta)\n",
    "\n",
    "# Constraints\n",
    "prob.add_constraint(QQ >> 0)\n",
    "prob.add_constraint(QQ*NN + NN*QQ << 0)\n",
    "prob.add_constraint(QQ*AA0.T + AA0*QQ - zz*bb.T - bb*zz.T << 0)\n",
    "\n",
    "## (31) ???\n",
    "\n",
    "prob.add_list_of_constraints([((1          & XX0[i].T) //\n",
    "                               (XX0[i]     & QQ      )) >> 0\n",
    "                                   for i in range(0, len(X0))])\n",
    "\n",
    "prob.add_constraint(QQ*AA0.T + AA0*QQ - zz_star*bb.T - bb*zz_star.T << -2*delta*QQ)\n",
    "\n",
    "prob.add_constraint(((beta**2*u_max**2 & zz_star.T-aa.T*QQ) //\n",
    "                     (zz_star-QQ*aa    & QQ)) >> 0)\n",
    "\n",
    "print prob\n",
    "\n",
    "#prob.solve(verbose=0, solver='cvxopt')\n",
    "\n",
    "#print \"P:\\n\", PP\n",
    "#print \"eig:\\n\", LA.eigvals(PP.value)\n",
    "\n",
    "#print \n",
    "#print \"AP+PA:\\n\",(AA.T*PP + PP*AA).value\n",
    "#print \"eig:\\n\", LA.eigvals((AA.T*PP + PP*AA).value)"
   ]
  },
  {
   "cell_type": "code",
   "execution_count": null,
   "metadata": {
    "collapsed": true
   },
   "outputs": [],
   "source": []
  },
  {
   "cell_type": "code",
   "execution_count": null,
   "metadata": {
    "collapsed": true
   },
   "outputs": [],
   "source": []
  },
  {
   "cell_type": "code",
   "execution_count": null,
   "metadata": {
    "collapsed": true
   },
   "outputs": [],
   "source": []
  },
  {
   "cell_type": "code",
   "execution_count": null,
   "metadata": {
    "collapsed": true
   },
   "outputs": [],
   "source": []
  },
  {
   "cell_type": "code",
   "execution_count": null,
   "metadata": {
    "collapsed": true
   },
   "outputs": [],
   "source": []
  },
  {
   "cell_type": "code",
   "execution_count": null,
   "metadata": {
    "collapsed": true
   },
   "outputs": [],
   "source": []
  },
  {
   "cell_type": "code",
   "execution_count": null,
   "metadata": {
    "collapsed": true
   },
   "outputs": [],
   "source": []
  },
  {
   "cell_type": "code",
   "execution_count": null,
   "metadata": {
    "collapsed": true
   },
   "outputs": [],
   "source": []
  },
  {
   "cell_type": "code",
   "execution_count": null,
   "metadata": {
    "collapsed": true
   },
   "outputs": [],
   "source": []
  },
  {
   "cell_type": "code",
   "execution_count": null,
   "metadata": {
    "collapsed": true
   },
   "outputs": [],
   "source": []
  }
 ],
 "metadata": {
  "kernelspec": {
   "display_name": "Python 2",
   "language": "python",
   "name": "python2"
  },
  "language_info": {
   "codemirror_mode": {
    "name": "ipython",
    "version": 2
   },
   "file_extension": ".py",
   "mimetype": "text/x-python",
   "name": "python",
   "nbconvert_exporter": "python",
   "pygments_lexer": "ipython2",
   "version": "2.7.12"
  }
 },
 "nbformat": 4,
 "nbformat_minor": 1
}
