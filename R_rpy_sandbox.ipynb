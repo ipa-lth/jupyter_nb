{
 "cells": [
  {
   "cell_type": "code",
   "execution_count": null,
   "metadata": {
    "collapsed": false
   },
   "outputs": [],
   "source": [
    "from rpy2.rinterface import R_VERSION_BUILD\n",
    "print(R_VERSION_BUILD)"
   ]
  },
  {
   "cell_type": "code",
   "execution_count": null,
   "metadata": {
    "collapsed": true
   },
   "outputs": [],
   "source": [
    "# Load in the r magic\n",
    "%load_ext rpy2.ipython"
   ]
  },
  {
   "cell_type": "code",
   "execution_count": null,
   "metadata": {
    "collapsed": false
   },
   "outputs": [],
   "source": [
    "# This magic command makes only this line to an R interpreted cell!\n",
    "%R X=c(1,4,5,7); sd(X); mean(X)"
   ]
  },
  {
   "cell_type": "code",
   "execution_count": null,
   "metadata": {
    "collapsed": false
   },
   "outputs": [],
   "source": [
    "%%R #This magic command make this cell an R interpreted cell!\n",
    "X=c(1,4,5,7);\n",
    "sd(X); \n",
    "mean(X)"
   ]
  },
  {
   "cell_type": "code",
   "execution_count": null,
   "metadata": {
    "collapsed": false
   },
   "outputs": [],
   "source": [
    "# We need ggplot2 (in R)\n",
    "%R require(ggplot2)\n",
    "# Load in the pandas library\n",
    "import pandas as pd \n",
    "# Make a pandas DataFrame\n",
    "df = pd.DataFrame({'Alphabet': ['a', 'b', 'c', 'd','e', 'f', 'g', 'h','i'],\n",
    "                   'A': [4, 3, 5, 2, 1, 7, 7, 5, 9],\n",
    "                   'B': [0, 4, 3, 6, 7, 10,11, 9, 13],\n",
    "                   'C': [1, 2, 3, 1, 2, 3, 1, 2, 3]})"
   ]
  },
  {
   "cell_type": "code",
   "execution_count": null,
   "metadata": {
    "collapsed": false
   },
   "outputs": [],
   "source": [
    "%%R -i df # %%R MUST be the first line \n",
    "# Take the name of input variable df and assign it to an R variable of the same name\n",
    "print(df)\n",
    "# Plot the DataFrame df\n",
    "p <- ggplot(data=df) + geom_point(aes(x=A, y=B, color=C))\n",
    "print(p)"
   ]
  },
  {
   "cell_type": "code",
   "execution_count": null,
   "metadata": {
    "collapsed": false
   },
   "outputs": [],
   "source": [
    "import numpy as np\n",
    "import matplotlib.pyplot as plt\n",
    "import control as con\n",
    "%pylab inline\n",
    "\n",
    "K = 1\n",
    "d = 0.5\n",
    "T = 10\n",
    "delay = 0\n",
    "\n",
    "a0 = 1\n",
    "a1 = (2 * d * T) #16\n",
    "a2 = (T**2) #100\n",
    "b0 = K\n",
    "\n",
    "tf_1 = con.matlab.tf(K, [a2, a1, a0])\n",
    "#print tf_1\n",
    "ss_1a = con.matlab.tf2ss(tf_1)\n",
    "#print ss_1a\n",
    "\n",
    "d_num, d_den = con.pade(delay, 1)\n",
    "tf_delay = con.tf(d_num, d_den)\n",
    "ss_delay = con.series(tf_delay, tf_1)\n",
    "\n",
    "#print con.matlab.tf2ss(ss_delay)\n",
    "d_yout, d_T = con.matlab.step(ss_delay)\n",
    "yout, T = con.matlab.step(tf_1) # step without delay\n",
    "xin = np.ones(len(yout))\n",
    "\n",
    "plt.plot(d_T, d_yout, 'r-', label='poly_est')\n",
    "plt.plot(np.add(d_T, delay), yout, 'g-', label='idealized') #delay in timeaxis!"
   ]
  },
  {
   "cell_type": "code",
   "execution_count": null,
   "metadata": {
    "collapsed": true
   },
   "outputs": [],
   "source": [
    "# Don't know how to import more than one per line...\n",
    "%R -i T\n",
    "%R -i yout\n",
    "%R -i xin"
   ]
  },
  {
   "cell_type": "code",
   "execution_count": null,
   "metadata": {
    "collapsed": false
   },
   "outputs": [],
   "source": [
    "len(xin)\n",
    "len(yout)\n",
    "len(T)"
   ]
  },
  {
   "cell_type": "code",
   "execution_count": null,
   "metadata": {
    "collapsed": false
   },
   "outputs": [],
   "source": [
    "%%R\n",
    "library('sysid')\n",
    "# %%R MUST be the first line \n",
    "\n",
    "qplot(T, yout)\n",
    "data <- idframe(output = yout, input = xin)\n",
    "#print(data)\n",
    "armax(data)\n"
   ]
  },
  {
   "cell_type": "code",
   "execution_count": null,
   "metadata": {
    "collapsed": true
   },
   "outputs": [],
   "source": []
  }
 ],
 "metadata": {
  "kernelspec": {
   "display_name": "Python 2",
   "language": "python",
   "name": "python2"
  },
  "language_info": {
   "codemirror_mode": {
    "name": "ipython",
    "version": 2
   },
   "file_extension": ".py",
   "mimetype": "text/x-python",
   "name": "python",
   "nbconvert_exporter": "python",
   "pygments_lexer": "ipython2",
   "version": "2.7.12"
  }
 },
 "nbformat": 4,
 "nbformat_minor": 1
}
