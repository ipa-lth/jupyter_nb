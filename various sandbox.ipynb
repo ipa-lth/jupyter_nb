{
 "cells": [
  {
   "cell_type": "code",
   "execution_count": null,
   "metadata": {
    "collapsed": true
   },
   "outputs": [],
   "source": [
    "import numpy as np"
   ]
  },
  {
   "cell_type": "code",
   "execution_count": null,
   "metadata": {
    "collapsed": false
   },
   "outputs": [],
   "source": [
    "import optimization.optim_tools as optim_tools\n",
    "\n",
    "kwargs = optim_tools.bisect_max(0, 1, None, None, None,\n",
    "           bisection_tol=1e-3, solver=None, bisect_verbose=False, max_iters=1100, warm_start=True)\n",
    "kwargs['max_iters'] = 2000\n",
    "kwargs"
   ]
  },
  {
   "cell_type": "code",
   "execution_count": null,
   "metadata": {
    "collapsed": true
   },
   "outputs": [],
   "source": [
    "def svd_inverse(A):\n",
    "    \"\"\" Inverts a matrix using singular value decomposition (SVD).\n",
    "        The matrix doesn't have to be square or of full rank.\n",
    "    \"\"\"\n",
    "    # A = U*(I*s)*V => is easier to invert (see literature)\n",
    "    U, s, V = np.linalg.svd(A, full_matrices=False)  # SVD decomposition of A\n",
    "    for i in xrange(0, len(s)):\n",
    "        if s[i] > 0.001:\n",
    "            s[i] = 1/s[i]        # ToDo: damping near singularities\n",
    "    return np.dot(np.dot(V.T, np.diag(s)), U.T)"
   ]
  },
  {
   "cell_type": "code",
   "execution_count": null,
   "metadata": {
    "collapsed": true
   },
   "outputs": [],
   "source": [
    "def svd_solve(A, b):\n",
    "    U, s, V = np.linalg.svd(A, full_matrices=False)  # SVD decomposition of A\n",
    "    for i in xrange(0, len(s)):\n",
    "        if s[i] > 0.001:\n",
    "            s[i] = 1/s[i]        # ToDo: damping near singularities\n",
    "    return V.T.dot(np.diag(s).dot(U.T.dot(b)))"
   ]
  },
  {
   "cell_type": "code",
   "execution_count": null,
   "metadata": {
    "collapsed": false
   },
   "outputs": [],
   "source": [
    "def svd_solve2(A, b):\n",
    "    U, s, V = np.linalg.svd(A, full_matrices=False)  # SVD decomposition of A\n",
    "    s[s > 0.001] = 1/s[s > 0.001]\n",
    "    return V.T.dot(np.diag(s).dot(U.T.dot(b)))"
   ]
  },
  {
   "cell_type": "raw",
   "metadata": {},
   "source": [
    "[ 0.26729825  0.89304023  1.0895711   2.03561739  2.88995975  4.66094865]"
   ]
  },
  {
   "cell_type": "code",
   "execution_count": null,
   "metadata": {
    "collapsed": false
   },
   "outputs": [],
   "source": [
    "n=6\n",
    "m=7\n",
    "A_m = np.random.rand(n,m)\n",
    "y_m = np.random.rand(n)\n",
    "np.random.seed(0)"
   ]
  },
  {
   "cell_type": "code",
   "execution_count": null,
   "metadata": {
    "collapsed": false
   },
   "outputs": [],
   "source": [
    "%%timeit\n",
    "\n",
    "A_m_inv = svd_inverse(A_m)\n",
    "dq = np.dot(A_m_inv, y_m)"
   ]
  },
  {
   "cell_type": "code",
   "execution_count": null,
   "metadata": {
    "collapsed": false
   },
   "outputs": [],
   "source": [
    "%%timeit\n",
    "\n",
    "dq = svd_solve(A_m, y_m)"
   ]
  },
  {
   "cell_type": "code",
   "execution_count": null,
   "metadata": {
    "collapsed": false
   },
   "outputs": [],
   "source": [
    "%%timeit\n",
    "\n",
    "dq = svd_solve2(A_m, y_m)"
   ]
  },
  {
   "cell_type": "code",
   "execution_count": null,
   "metadata": {
    "collapsed": false
   },
   "outputs": [],
   "source": [
    "#import numpy as np\n",
    "#import control as con\n",
    "#from numpy import linalg as LA\n",
    "\n",
    "import cvxpy\n",
    "#import optimization.optim_tools as optim_tools#own file with helper"
   ]
  },
  {
   "cell_type": "code",
   "execution_count": null,
   "metadata": {
    "collapsed": false
   },
   "outputs": [],
   "source": [
    "import numpy as np\n",
    "import cvxpy\n",
    "\n",
    "n = 3\n",
    "\n",
    "A = np.matrix([[0,   1,       0],\n",
    "               [-10, -1.167, 25],\n",
    "               [0,   0,    -0.8]])\n",
    "\n",
    "P = cvxpy.Semidef(n, n) # Implys (459) (semidefinite for numerical reasons?)\n",
    "\n",
    "constraints = [P >> 1,\n",
    "               A.T*P + P*A << 0]"
   ]
  },
  {
   "cell_type": "code",
   "execution_count": null,
   "metadata": {
    "collapsed": false
   },
   "outputs": [],
   "source": [
    "import smcp\n",
    "\n",
    "# Objective representation\n",
    "obj = cvxpy.Minimize(0) # Identical to geo_mean (in term of convexity and result)\n",
    "#obj = cvxpy.Maximize(cvxpy.log_det(Q)) # Identical to geo_mean (in term of convexity and result)\n",
    "#obj = cvxpy.Minimize(-cvxpy.geo_mean(Q)) # Not yet implemented\n",
    "\n",
    "prob = cvxpy.Problem(obj, constraints)\n",
    "prob.solve(solver=cvxpy.SCS, verbose=True)"
   ]
  },
  {
   "cell_type": "code",
   "execution_count": null,
   "metadata": {
    "collapsed": true
   },
   "outputs": [],
   "source": []
  }
 ],
 "metadata": {
  "kernelspec": {
   "display_name": "Python 2",
   "language": "python",
   "name": "python2"
  },
  "language_info": {
   "codemirror_mode": {
    "name": "ipython",
    "version": 2
   },
   "file_extension": ".py",
   "mimetype": "text/x-python",
   "name": "python",
   "nbconvert_exporter": "python",
   "pygments_lexer": "ipython2",
   "version": "2.7.12"
  }
 },
 "nbformat": 4,
 "nbformat_minor": 1
}
