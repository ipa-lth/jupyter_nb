{
 "cells": [
  {
   "cell_type": "code",
   "execution_count": null,
   "metadata": {},
   "outputs": [],
   "source": [
    "import numpy as np"
   ]
  },
  {
   "cell_type": "code",
   "execution_count": null,
   "metadata": {},
   "outputs": [],
   "source": [
    "import optimization.optim_tools as optim_tools\n",
    "\n",
    "kwargs = optim_tools.bisect_max(0, 1, None, None, None,\n",
    "           bisection_tol=1e-3, solver=None, bisect_verbose=False, max_iters=1100, warm_start=True)\n",
    "kwargs['max_iters'] = 2000\n",
    "kwargs"
   ]
  },
  {
   "cell_type": "code",
   "execution_count": null,
   "metadata": {},
   "outputs": [],
   "source": [
    "def svd_inverse(A):\n",
    "    \"\"\" Inverts a matrix using singular value decomposition (SVD).\n",
    "        The matrix doesn't have to be square or of full rank.\n",
    "    \"\"\"\n",
    "    # A = U*(I*s)*V => is easier to invert (see literature)\n",
    "    U, s, V = np.linalg.svd(A, full_matrices=False)  # SVD decomposition of A\n",
    "    for i in xrange(0, len(s)):\n",
    "        if s[i] > 0.001:\n",
    "            s[i] = 1/s[i]        # ToDo: damping near singularities\n",
    "    return np.dot(np.dot(V.T, np.diag(s)), U.T)"
   ]
  },
  {
   "cell_type": "code",
   "execution_count": null,
   "metadata": {},
   "outputs": [],
   "source": [
    "def svd_solve(A, b):\n",
    "    U, s, V = np.linalg.svd(A, full_matrices=False)  # SVD decomposition of A\n",
    "    for i in xrange(0, len(s)):\n",
    "        if s[i] > 0.001:\n",
    "            s[i] = 1/s[i]        # ToDo: damping near singularities\n",
    "    return V.T.dot(np.diag(s).dot(U.T.dot(b)))"
   ]
  },
  {
   "cell_type": "code",
   "execution_count": null,
   "metadata": {},
   "outputs": [],
   "source": [
    "def svd_solve2(A, b):\n",
    "    U, s, V = np.linalg.svd(A, full_matrices=False)  # SVD decomposition of A\n",
    "    s[s > 0.001] = 1/s[s > 0.001]\n",
    "    return V.T.dot(np.diag(s).dot(U.T.dot(b)))"
   ]
  },
  {
   "cell_type": "raw",
   "metadata": {},
   "source": [
    "[ 0.26729825  0.89304023  1.0895711   2.03561739  2.88995975  4.66094865]"
   ]
  },
  {
   "cell_type": "code",
   "execution_count": null,
   "metadata": {},
   "outputs": [],
   "source": [
    "n=6\n",
    "m=7\n",
    "A_m = np.random.rand(n,m)\n",
    "y_m = np.random.rand(n)\n",
    "np.random.seed(0)"
   ]
  },
  {
   "cell_type": "code",
   "execution_count": null,
   "metadata": {},
   "outputs": [],
   "source": [
    "%%timeit\n",
    "\n",
    "A_m_inv = svd_inverse(A_m)\n",
    "dq = np.dot(A_m_inv, y_m)"
   ]
  },
  {
   "cell_type": "code",
   "execution_count": null,
   "metadata": {},
   "outputs": [],
   "source": [
    "%%timeit\n",
    "\n",
    "dq = svd_solve(A_m, y_m)"
   ]
  },
  {
   "cell_type": "code",
   "execution_count": null,
   "metadata": {},
   "outputs": [],
   "source": [
    "%%timeit\n",
    "\n",
    "dq = svd_solve2(A_m, y_m)"
   ]
  },
  {
   "cell_type": "code",
   "execution_count": null,
   "metadata": {},
   "outputs": [],
   "source": [
    "#import numpy as np\n",
    "#import control as con\n",
    "#from numpy import linalg as LA\n",
    "\n",
    "import cvxpy\n",
    "#import optimization.optim_tools as optim_tools#own file with helper"
   ]
  },
  {
   "cell_type": "code",
   "execution_count": null,
   "metadata": {},
   "outputs": [],
   "source": [
    "import rospy\n",
    "from tf import transformations as trans\n",
    "\n",
    "R0 = trans.quaternion_matrix([0.500, -0.500, -0.500, -0.500])\n",
    "t0 = trans.translation_matrix((-0.187, 0.359, 0.403))\n",
    "T0 = trans.concatenate_matrices(t0, R0)\n",
    "\n",
    "R1 = trans.quaternion_matrix([-0.323, 0.323, 0.629, 0.629])\n",
    "t1 = trans.translation_matrix((-0.187, 0.330, 0.393))\n",
    "T1 = trans.concatenate_matrices(t1, R1)\n",
    "\n",
    "R2 = trans.quaternion_matrix([-0.208, 0.406, 0.792, 0.406])\n",
    "t2 = trans.translation_matrix((-0.158, 0.335, 0.386))\n",
    "T2 = trans.concatenate_matrices(t2, R2)\n",
    "\n",
    "print T0\n",
    "print T1\n",
    "print T2"
   ]
  },
  {
   "cell_type": "code",
   "execution_count": null,
   "metadata": {},
   "outputs": [],
   "source": [
    "import numpy as np\n",
    "import cvxpy\n",
    "\n",
    "n = 4\n",
    "\n",
    "T_tool = cvxpy.Semidef(n, n) # Implys (459) (semidefinite for numerical reasons?)\n",
    "T_obj = cvxpy.Semidef(n, n) # Implys (459) (semidefinite for numerical reasons?)\n",
    "T_err0 = cvxpy.Semidef(n, n) # Implys (459) (semidefinite for numerical reasons?)\n",
    "T_err1 = cvxpy.Semidef(n, n) # Implys (459) (semidefinite for numerical reasons?)\n",
    "T_err2 = cvxpy.Semidef(n, n) # Implys (459) (semidefinite for numerical reasons?)\n",
    "\n",
    "constraints = [T0*T_tool == T_obj,\n",
    "               T1*T_tool == T_obj,\n",
    "               T2*T_tool == T_obj,\n",
    "              ]"
   ]
  },
  {
   "cell_type": "code",
   "execution_count": null,
   "metadata": {},
   "outputs": [],
   "source": [
    "\n",
    "# Objective representation\n",
    "obj = cvxpy.Minimize(cvxpy.trace(T_obj)) # Identical to geo_mean (in term of convexity and result)\n",
    "#obj = cvxpy.Maximize(cvxpy.log_det(Q)) # Identical to geo_mean (in term of convexity and result)\n",
    "#obj = cvxpy.Minimize(-cvxpy.geo_mean(Q)) # Not yet implemented\n",
    "\n",
    "prob = cvxpy.Problem(obj, constraints)\n",
    "prob.solve(verbose=True)"
   ]
  },
  {
   "cell_type": "code",
   "execution_count": null,
   "metadata": {},
   "outputs": [],
   "source": []
  },
  {
   "cell_type": "code",
   "execution_count": null,
   "metadata": {},
   "outputs": [],
   "source": []
  },
  {
   "cell_type": "code",
   "execution_count": null,
   "metadata": {},
   "outputs": [],
   "source": []
  },
  {
   "cell_type": "code",
   "execution_count": null,
   "metadata": {},
   "outputs": [],
   "source": [
    "import sympy as sp\n",
    "import numpy as np\n",
    "import numpy.linalg as la\n",
    "\n",
    "w = sp.symbols('w_1')\n",
    "s = sp.symbols('s_1')\n",
    "b = sp.symbols('b_1:3')\n",
    "d = sp.symbols('d_1')\n",
    "x = sp.symbols('x_1:3')\n",
    "c = sp.symbols('c_1:3')\n",
    "\n",
    "u = sp.symbols('u_1')\n",
    "\n",
    "X = sp.Matrix([x]).T\n",
    "U = sp.Matrix([u])\n",
    "\n",
    "\n",
    "A = sp.Matrix([[s, w],[-w,s]])\n",
    "B = sp.Matrix([b]).T\n",
    "C = sp.Matrix([c])\n",
    "D = sp.Matrix([d])\n",
    "\n",
    "AA = sp.lambdify((s, w), A)\n",
    "BB = sp.lambdify(b, B)\n",
    "CC = sp.lambdify(c, C)\n",
    "DD = sp.lambdify(d, D)\n",
    "\n",
    "z = X.T.row_join(sp.Matrix([s])).row_join(sp.Matrix([w])).row_join(B.T).row_join(C).row_join(D).T\n",
    "#print z\n",
    "\n",
    "fx = A*X+B*U\n",
    "f = sp.Matrix([0 for _ in range(len(z)-len(x))])\n",
    "f = fx.col_join(f)\n",
    "\n",
    "ff = sp.lambdify(z, f)\n",
    "\n",
    "FF = sp.lambdify(z, f.jacobian(z))\n",
    "\n",
    "h = C*X+D*U\n",
    "hh = sp.lambdify(X.T.row_join(U), h)\n",
    "\n",
    "HH = sp.lambdify(z.T.row_join(U), h.jacobian(z))\n"
   ]
  },
  {
   "cell_type": "code",
   "execution_count": null,
   "metadata": {},
   "outputs": [],
   "source": [
    "rho = 0.1\n",
    "\n",
    "\n",
    "R = np.eye(len(z))\n",
    "\n",
    "#print np.diag([sym for sym in z])\n",
    "\n",
    "q = np.array([])\n",
    "for sym in z:\n",
    "    if sym in X.T.row_join(C):\n",
    "        q = np.hstack((q, 0))\n",
    "    else:\n",
    "        q = np.hstack((q, 1))\n",
    "\n",
    "Q = rho * sp.Matrix(np.diag(q))\n",
    "#Q"
   ]
  },
  {
   "cell_type": "code",
   "execution_count": null,
   "metadata": {},
   "outputs": [],
   "source": [
    "#%time\n",
    "\n",
    "# initial\n",
    "# A\n",
    "s_k0 = [-1] # real Teil\n",
    "w_k0 = [1]  # (+/-) imag Teil\n",
    "\n",
    "# b\n",
    "b_k0 = [-2, 1]\n",
    "\n",
    "# c\n",
    "c_k0 = [0.1, 0.2]\n",
    "\n",
    "# d\n",
    "d_k0 = [0]\n",
    "\n",
    "\n",
    "P_k0 = np.eye(len(z))\n",
    "\n",
    "x_k0 = [0, 0]\n",
    "u_k0 = [1]\n",
    "\n",
    "T = 0.0001\n",
    "\n",
    "\n",
    "# First values\n",
    "x_k = x_k0\n",
    "u_k = u_k0\n",
    "z_k = x_k0 + s_k0 + w_k0 + b_k0 + c_k0 + d_k0\n",
    "P_k = P_k0\n",
    "\n",
    "# Loop start ?\n",
    "\n",
    "##### Reconstruction from z\n",
    "#print z_k\n",
    "x_k = z_k[0:2]\n",
    "#print x_k\n",
    "s_k = z_k[2]\n",
    "#print s_k\n",
    "w_k = z_k[3]\n",
    "#print w_k\n",
    "b_k = z_k[4:6]\n",
    "#print b_k\n",
    "c_k = z_k[6:8]\n",
    "#print c_k\n",
    "d_k = [z_k[8]]\n",
    "#print d_k\n",
    "\n",
    "## System\n",
    "A_k = AA(s_k, w_k)\n",
    "B_k = BB(*b_k)\n",
    "C_k = CC(*c_k)\n",
    "D_k = DD(*d_k)\n",
    "\n",
    "\n",
    "##### Evaluation\n",
    "# State space\n",
    "dx_k = A_k.dot(x_k) + B_k.dot(u_k)\n",
    "y_k = C_k.dot(x_k) + D_k.dot(u_k)\n",
    "\n",
    "# Concate values for lambdafied Jacobians\n",
    "zu_k = z_k + u_k\n",
    "xu_k = x_k + u_k\n",
    "\n",
    "h_k = hh(*xu_k) # h\n",
    "H_k = HH(*zu_k) # h.Jacobian\n",
    "\n",
    "f_k = ff(*z_k) # f\n",
    "F_k = FF(*z_k) #f.Jacobian\n",
    "\n",
    "\n",
    "##### Kalman Filter\n",
    "\n",
    "# Prediction\n",
    "K_k = P_k*H_k.T * la.inv(H_k*P_k*H_k.T + R)\n",
    "Ps_k = (np.eye(len(z)) - K_k*H_k)*P_k # P*_k\n",
    "\n",
    "# Correction\n",
    "P_k1 = Ps_k + T*(F_k*Ps_k + Ps_k*F_k.T + Q)\n",
    "z_k1 = z_k + T*f_k + K_k*(y_k - h_k)\n",
    "\n"
   ]
  },
  {
   "cell_type": "code",
   "execution_count": null,
   "metadata": {},
   "outputs": [],
   "source": []
  },
  {
   "cell_type": "code",
   "execution_count": null,
   "metadata": {},
   "outputs": [],
   "source": []
  }
 ],
 "metadata": {
  "kernelspec": {
   "display_name": "Python 2",
   "language": "python",
   "name": "python2"
  },
  "language_info": {
   "codemirror_mode": {
    "name": "ipython",
    "version": 2
   },
   "file_extension": ".py",
   "mimetype": "text/x-python",
   "name": "python",
   "nbconvert_exporter": "python",
   "pygments_lexer": "ipython2",
   "version": "2.7.12"
  }
 },
 "nbformat": 4,
 "nbformat_minor": 1
}
