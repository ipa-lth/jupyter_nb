{
 "cells": [
  {
   "cell_type": "code",
   "execution_count": null,
   "metadata": {
    "collapsed": true
   },
   "outputs": [],
   "source": [
    "import numpy as np\n",
    "import scipy as sc"
   ]
  },
  {
   "cell_type": "code",
   "execution_count": null,
   "metadata": {
    "collapsed": true
   },
   "outputs": [],
   "source": [
    "# Testsystem aufsetzen\n",
    "import control as con\n",
    "\n",
    "# pt2 System\n",
    "K = 1\n",
    "d = 0.5\n",
    "T = 10\n",
    "delay = 0\n",
    "\n",
    "a0 = 1\n",
    "a1 = (2 * d * T) #16\n",
    "a2 = (T**2) #100\n",
    "b0 = K\n",
    "\n",
    "# Polynom\n",
    "tf_1 = con.matlab.tf(K, [a2, a1, a0])\n",
    "#print tf_1\n",
    "\n",
    "# Zustandsraum\n",
    "ss_1a = con.matlab.tf2ss(tf_1)\n",
    "#print ss_1a\n",
    "\n",
    "# Füge Zeitversatz zu\n",
    "d_num, d_den = con.pade(delay, 1)\n",
    "tf_delay = con.tf(d_num, d_den)\n",
    "ss_delay = con.series(tf_delay, tf_1)\n",
    "\n",
    "#print con.matlab.tf2ss(ss_delay)"
   ]
  },
  {
   "cell_type": "code",
   "execution_count": null,
   "metadata": {
    "collapsed": false
   },
   "outputs": [],
   "source": [
    "import matplotlib.pyplot as plt\n",
    "%pylab inline\n",
    "d_yout, d_T = con.matlab.step(ss_delay)\n",
    "yout, T = con.matlab.step(tf_1) # step without delay\n",
    "\n",
    "plt.plot(d_T, d_yout, 'r-', label='poly_est')\n",
    "plt.plot(np.add(d_T, delay), yout, 'g-', label='idealized') #delay in timeaxis!\n",
    "plt.legend()"
   ]
  },
  {
   "cell_type": "code",
   "execution_count": null,
   "metadata": {
    "collapsed": true
   },
   "outputs": [],
   "source": [
    "# Sammle Systemteile (sinnlos in diesm Beispiel, aber der Vollständigkeit halber)\n",
    "# original System Matrizen\n",
    "A0 = ss_1a.A\n",
    "b0 = ss_1a.B\n",
    "C0 = ss_1a.C\n",
    "d0 = ss_1a.D\n",
    "\n",
    "# Platzierte pole\n",
    "a_hat = np.matrix([[-0.2], [-0.2]]) # kA... einfach mal schnellere Pole machen\n",
    "\n",
    "u_max = 0.1 # kA... Einfach mal begrenzen"
   ]
  },
  {
   "cell_type": "code",
   "execution_count": null,
   "metadata": {
    "collapsed": true
   },
   "outputs": [],
   "source": [
    "# Zustandslose Hilfsfunktionen\n",
    "def _D(v, n):\n",
    "    return np.diag([v**x for x in range(1, n+1)])\n",
    "\n",
    "def _k(v, D, a_hat, a, n):\n",
    "    D_inv = np.linalg.inv(D(v, n))\n",
    "    #print np.subtract(np.dot(D_inv, a_hat), a) == D_inv.dot(a_hat) - a\n",
    "    return D_inv.dot(a_hat) - a\n",
    "\n",
    "def _R(v, D, R1):\n",
    "    D_inv = np.linalg.inv(D(v, n))\n",
    "    return np.dot(np.dot(D_inv, R1), D_inv)\n",
    "\n",
    "def _e(v, k, D, a_hat, a, R, R1, u_max):\n",
    "    return 1.0/u_max**2 * np.dot(np.dot(_k(v, D, a_hat, a, n).transpose(), np.linalg.inv(R(v, D, R1))), _k(v, D, a_hat, a, n))\n",
    "\n",
    "# 1.te Ableitung e nach v\n",
    "def _d_e(v, D, N, R1, n):\n",
    "    D_inv = np.linalg.inv(D(v, n))\n",
    "#    return 1.0/v*(D_inv*(N*R1 + R1*N)*D_inv)\n",
    "    return 1.0/v * D_inv.dot(N.dot(R1) + R1.dot(N)).dot(D_inv)\n",
    "\n",
    "# R1 muss symmetrisch sein!\n",
    "def _R1_from_arr(r1, n):\n",
    "    if len(r1) != ((n+1)*n)//2:\n",
    "        raise ValueError(\"r1 has not right length! Has {} -> Needs {}\".format(len(r1), ((n+1)*n)//2))\n",
    "\n",
    "    R1 = np.zeros([n, n])\n",
    "    r1_pos = 0\n",
    "    for i in xrange(0, n):\n",
    "        for j in xrange(i, n):\n",
    "            R1[i,j] = r1[r1_pos]\n",
    "            if i != j:\n",
    "                R1[j,i] = r1[r1_pos]\n",
    "            #print i, j, r1_pos\n",
    "            #print r1[r1_pos]\n",
    "            #print R1\n",
    "            r1_pos += 1\n",
    "    return R1\n",
    "\n",
    "def initializeR1(n):\n",
    "    return np.diag(np.random.rand(n)) # Immer positiv semidefinit für random  im Bereich von [0,1)"
   ]
  },
  {
   "cell_type": "code",
   "execution_count": null,
   "metadata": {
    "collapsed": false
   },
   "outputs": [],
   "source": [
    "## Hilfsfunktionen nur abhängig von Laufzeitvariablen\n",
    "## Umwandlung des Systems in gewünschte Form\n",
    "\n",
    "## Im scope definiter Variablen:\n",
    "#\n",
    "# A0, b0, C0, d0 -> Systemmatrizen\n",
    "# a_hat -> gewünschte pole\n",
    "# u_max -> +/- limit von u\n",
    "\n",
    "# Transformation in Regelungsnormalform\n",
    "ss, T = con.canonical_form(con.ss(A0, b0, C0, d0), form='reachable')\n",
    "\n",
    "n = len(b0)\n",
    "N = np.diag([p for p in xrange(-n, 0, 1)])\n",
    "\n",
    "A = ss.A\n",
    "a = (np.matrix(ss.A[0][:])).transpose()\n",
    "b = np.matrix(ss.B).transpose()\n",
    "C = np.matrix(ss.C)\n",
    "d = np.matrix(ss.D) # == 0!\n",
    "\n",
    "# D(v)\n",
    "D = lambda v: _D(v, n)\n",
    "\n",
    "# k(v)\n",
    "k = lambda v: _k(v, _D, a_hat, a, n)\n",
    "\n",
    "# R(v, R1)\n",
    "R = lambda v, R1: _R(v, _D, R1)\n",
    "\n",
    "# e(v, R1)\n",
    "e = lambda v, R1: _e(v, k, _D, a_hat, a, _R, R1, u_max)\n",
    "\n",
    "# g(v, x, R1)\n",
    "g = lambda v, x, R1: e(v, R1) * x.transpose().dot(R1).dot(x) - 1.0\n",
    "\n",
    "# d_e(v, R1)\n",
    "d_e = lambda v, R1: _d_e(v, _D, N, R1, n)"
   ]
  },
  {
   "cell_type": "code",
   "execution_count": null,
   "metadata": {
    "collapsed": false
   },
   "outputs": [],
   "source": [
    "# Bedingungen\n",
    "\n",
    "# Test auf positiv semi-definiteit (alle Eigenwerte >= 0)\n",
    "def isPSD2(A, tol=1e-8):\n",
    "    E,V = np.linalg.eigh(A)\n",
    "    return np.all(E > -tol)\n",
    "\n",
    "# Etwas schneller, ist positiv semi definit\n",
    "def isPSD(A, tol=1e-8):\n",
    "    w = np.linalg.eigvalsh(A)\n",
    "    return np.all(w > -tol), w\n",
    "\n",
    "def isNSD_sum(A, B, tol=1e-8):\n",
    "    T = A.transpose().dot(B) + B.dot(A)\n",
    "    w = np.linalg.eigvalsh(T)\n",
    "    return np.all(w < tol), w"
   ]
  },
  {
   "cell_type": "code",
   "execution_count": null,
   "metadata": {
    "collapsed": false
   },
   "outputs": [],
   "source": [
    "#A = np.random.rand(3,3)\n",
    "#%timeit isPSD(A)\n",
    "#%timeit isPSD2(A)\n",
    "print isPSD(initializeR1(3))"
   ]
  },
  {
   "cell_type": "code",
   "execution_count": null,
   "metadata": {
    "collapsed": false
   },
   "outputs": [],
   "source": [
    "import pprint\n",
    "\n",
    "pp = pprint.PrettyPrinter(indent=4)\n",
    "pretty = lambda x: pp.pprint(x)\n",
    "\n",
    "print \"A:\"\n",
    "pretty(A)\n",
    "print \"a:\"\n",
    "pretty(a)\n",
    "print \"b:\"\n",
    "pretty(b)\n",
    "print \"C:\"\n",
    "pretty(C)\n",
    "print \"d:\"\n",
    "pretty(d)\n",
    "\n",
    "print \"a_hat:\"\n",
    "pretty(a_hat)\n",
    "print \"n:\", n\n",
    "print \"N:\"\n",
    "pretty(N)"
   ]
  },
  {
   "cell_type": "code",
   "execution_count": null,
   "metadata": {
    "collapsed": false
   },
   "outputs": [],
   "source": [
    "D1 = D(1)\n",
    "\n",
    "k1 = k(1)\n",
    "#print k_1 == k1\n",
    "\n",
    "# Gebiet des Zustandsbereiches für x (hier Rechteckig)\n",
    "X1 = [np.matrix([0, 0]).transpose(),\n",
    "      np.matrix([0, 1]).transpose(),\n",
    "      np.matrix([1, 1]).transpose(),\n",
    "      np.matrix([1, 0]).transpose()]\n",
    "\n",
    "A1_hat = A - b.dot(k(1))\n",
    "#print A1_hat\n",
    "\n",
    "#http://deap.readthedocs.io/en/master/tutorials/advanced/constraints.html"
   ]
  },
  {
   "cell_type": "code",
   "execution_count": null,
   "metadata": {
    "collapsed": false
   },
   "outputs": [],
   "source": [
    "def eval_WSVR(individual):\n",
    "    #print \"Entering\"\n",
    "    pain = [0, 0, 0, 0, 0, 0]\n",
    "    R1 = _R1_from_arr(individual, n)\n",
    "    try:\n",
    "        psd, w = isPSD(R1)\n",
    "        if not psd:\n",
    "            pain[0] = np.sum(np.abs([wp for wp in w if wp < 0]))\n",
    "\n",
    "        nsd, w = isNSD_sum(A1_hat, N)\n",
    "        if not nsd:\n",
    "            pain[1] = np.sum(np.abs([wp for wp in w if wp > 0]))\n",
    "\n",
    "        nsd, w = isNSD_sum(N, R1)\n",
    "        if not nsd:\n",
    "            pain[2] = np.sum(np.abs([wp for wp in w if wp > 0]))\n",
    "\n",
    "        v_arr = np.arange(0.0001, 1, 0.0001)\n",
    "        de_max = np.max([d_e(v, R1) for v in v_arr])\n",
    "        if not de_max <= 0:\n",
    "            pain[3] = de_max\n",
    "\n",
    "        G1 = [g(1, x, R1) for x in X1]\n",
    "        if not np.max(G1) < 0:\n",
    "            pain[4] = np.max(G1)\n",
    "    except:\n",
    "        pain[5] = numpy.float64(10000)\n",
    "    finally:\n",
    "        #print np.sum(pain), \"\\n\", pain, \"\\n->\", individual\n",
    "        #return [np.sum(pain)]\n",
    "        return pain\n",
    "\n",
    "# Initialize deap population\n",
    "import random\n",
    "from deap import algorithms, base, creator, tools\n",
    "\n",
    "creator.create(\"FitnessMin\", base.Fitness, weights=(-1.0,\n",
    "                                                    -1.0,\n",
    "                                                    -1.0,\n",
    "                                                    -1.0,\n",
    "                                                    -1.0,\n",
    "                                                    -10.0,))\n",
    "creator.create(\"Individual\", list, fitness=creator.FitnessMin)\n",
    "\n",
    "\n",
    "toolbox = base.Toolbox()\n",
    "toolbox.register(\"attr_float\", random.random) # float value between [0,1)\n",
    "toolbox.register(\"individual\", tools.initRepeat,\n",
    "                               creator.Individual,\n",
    "                               toolbox.attr_float,\n",
    "                               n=3)\n",
    "\n",
    "toolbox.register(\"population\", tools.initRepeat,\n",
    "                               list, \n",
    "                               toolbox.individual)\n",
    "\n",
    "toolbox.register(\"evaluate\", eval_WSVR)\n",
    "\n",
    "toolbox.register(\"mutate\", tools.mutGaussian, mu=0.0,\n",
    "                                              sigma=1.0,\n",
    "                                              indpb=0.2)\n",
    "toolbox.register(\"mate\", tools.cxTwoPoint)\n",
    "\n",
    "toolbox.register(\"select\", tools.selTournament, tournsize=3)"
   ]
  },
  {
   "cell_type": "code",
   "execution_count": null,
   "metadata": {
    "collapsed": false
   },
   "outputs": [],
   "source": [
    "# Creates and starts the algorithm\n",
    "pop = toolbox.population(n=10)\n",
    "\n",
    "winpop, logbook = algorithms.eaMuPlusLambda(pop, \n",
    "                              toolbox, \n",
    "                              mu = 5, \n",
    "                              lambda_ = 10, \n",
    "                              cxpb = 0.5, \n",
    "                              mutpb = 0.5, \n",
    "                              ngen = 10,\n",
    "                              #[, stats, halloffame, verbose]\n",
    "                              verbose = True\n",
    "                             )"
   ]
  },
  {
   "cell_type": "code",
   "execution_count": null,
   "metadata": {
    "collapsed": false
   },
   "outputs": [],
   "source": [
    "best = tools.selBest(winpop, k=1)\n",
    "print best\n",
    "print eval_WSVR(best[0])"
   ]
  },
  {
   "cell_type": "code",
   "execution_count": null,
   "metadata": {
    "collapsed": true
   },
   "outputs": [],
   "source": []
  },
  {
   "cell_type": "code",
   "execution_count": null,
   "metadata": {
    "collapsed": true
   },
   "outputs": [],
   "source": []
  }
 ],
 "metadata": {
  "kernelspec": {
   "display_name": "Python 2",
   "language": "python",
   "name": "python2"
  },
  "language_info": {
   "codemirror_mode": {
    "name": "ipython",
    "version": 2
   },
   "file_extension": ".py",
   "mimetype": "text/x-python",
   "name": "python",
   "nbconvert_exporter": "python",
   "pygments_lexer": "ipython2",
   "version": "2.7.12"
  }
 },
 "nbformat": 4,
 "nbformat_minor": 1
}
