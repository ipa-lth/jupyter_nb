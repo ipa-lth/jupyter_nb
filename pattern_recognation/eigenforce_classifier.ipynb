{
 "cells": [
  {
   "cell_type": "code",
   "execution_count": null,
   "metadata": {
    "collapsed": false
   },
   "outputs": [],
   "source": [
    "import numpy as np\n",
    "import csv\n",
    "from datetime import datetime\n",
    "from collections import OrderedDict"
   ]
  },
  {
   "cell_type": "code",
   "execution_count": null,
   "metadata": {
    "collapsed": false
   },
   "outputs": [],
   "source": [
    "eigenforce_log = OrderedDict()\n",
    "with open('/home/viki/denso_log/topic_log/20170420/20170420-10_42_08_eigenforce3d_cut2.log', 'rb') as logfile:\n",
    "    reader = csv.DictReader(logfile)\n",
    "    #eigenforce_log = list(reader)\n",
    "    for row in reader:\n",
    "        eigenforce_log[datetime.strptime(row['eventtime'],\n",
    "                                         '%Y-%m-%d %H:%M:%S.%f')] = float(row['eigenforce3d'])"
   ]
  },
  {
   "cell_type": "code",
   "execution_count": null,
   "metadata": {
    "collapsed": false
   },
   "outputs": [],
   "source": [
    "skills_log = OrderedDict()\n",
    "skill_legend = OrderedDict()\n",
    "with open('/home/viki/denso_log/topic_log/20170420/20170420-10_42_08_status_cut2.log', 'rb') as logfile:\n",
    "    reader = csv.DictReader(logfile)\n",
    "    #eigenforce_log = list(reader)\n",
    "    for row in reader:\n",
    "        skills_log[datetime.strptime(row['eventtime'],\n",
    "                                         '%Y-%m-%d %H:%M:%S.%f')] = int(row['id_number'])\n",
    "        skill_legend[int(row['id_number'])] = row['skill_name']\n",
    "#print skills_log.values()\n",
    "#print skill_legend"
   ]
  },
  {
   "cell_type": "code",
   "execution_count": null,
   "metadata": {
    "collapsed": false
   },
   "outputs": [],
   "source": [
    "import matplotlib.pyplot as plt\n",
    "#%matplotlib notebook\n",
    "\n",
    "fig = plt.figure()\n",
    "\n",
    "ax1 = fig.add_subplot(211)\n",
    "plt.xticks(rotation=30)\n",
    "ax1.grid(color='black', alpha=0.3, linestyle=':', linewidth=1)\n",
    "ax1.set_yticks(range(len(skill_legend.values())))\n",
    "ax1.set_yticklabels(skill_legend.values())\n",
    "ax1.plot(skills_log.keys(), skills_log.values(), 'r', drawstyle='steps-mid')\n",
    "\n",
    "ax2 = fig.add_subplot(212)\n",
    "ax2.plot(eigenforce_log.keys(), eigenforce_log.values())\n",
    "plt.xticks(rotation=30)\n",
    "\n",
    "plt.show()"
   ]
  },
  {
   "cell_type": "code",
   "execution_count": null,
   "metadata": {
    "collapsed": false,
    "scrolled": true
   },
   "outputs": [],
   "source": [
    "import matplotlib.pyplot as plt\n",
    "#%matplotlib notebook\n",
    "\n",
    "fig, ax1 = plt.subplots()\n",
    "plt.xticks(rotation=30)\n",
    "\n",
    "ax1.plot(eigenforce_log.keys(), eigenforce_log.values(), 'r')\n",
    "ax1.set_ylabel('eigenforce_3d', color='r')\n",
    "ax1.tick_params('y', colors='r')\n",
    "\n",
    "ax2 = ax1.twinx()\n",
    "# Make the y-axis label, ticks and tick labels match the line color.\n",
    "ax2.plot(skills_log.keys(), skills_log.values(), 'b', drawstyle='steps')\n",
    "ax2.set_ylabel('skills', color='b')\n",
    "ax2.tick_params('y', colors='b')\n",
    "\n",
    "ax2.grid(color='black', alpha=0.3, linestyle=':', linewidth=1)\n",
    "ax2.set_yticks(skill_legend.keys())\n",
    "ax2.set_yticklabels(skill_legend.values())\n",
    "\n",
    "fig.tight_layout()\n",
    "plt.show()"
   ]
  },
  {
   "cell_type": "code",
   "execution_count": null,
   "metadata": {
    "collapsed": false
   },
   "outputs": [],
   "source": [
    "def keybyvalue(dic, val): \n",
    "    # find key by values :-/\n",
    "    for key, value in dic.iteritems():\n",
    "        if value == val:\n",
    "            return key\n",
    "            break\n",
    "    else:\n",
    "        return None"
   ]
  },
  {
   "cell_type": "code",
   "execution_count": null,
   "metadata": {
    "collapsed": false
   },
   "outputs": [],
   "source": [
    "import pandas as pd\n",
    "import numpy as np\n",
    "from pandas import Series, DataFrame, Panel\n",
    "%pylab inline\n",
    "plt.rcParams['figure.figsize'] = (15, 15)\n",
    "\n",
    "data = pd.Series(data=eigenforce_log)\n",
    "\n",
    "data_skills = pd.Series(data=skills_log)\n",
    "data_skills_visual = pd.Series(data=0.5*(np.array(skills_log.values())-np.min(skills_log.values())), index=skills_log.keys())\n",
    "\n",
    "data.plot()\n",
    "data_skills_visual.plot(kind = 'line', drawstyle = 'steps')\n",
    "data.rolling(window=5, center=True).mean().plot(style='-')\n",
    "data.rolling(window=5, center=True).min().plot(style=':')\n",
    "data.rolling(window=5, center=True).max().plot(style=':')\n",
    "\n",
    "#data[data_skills > 27]\n",
    "#data_skills\n",
    "data"
   ]
  }
 ],
 "metadata": {
  "kernelspec": {
   "display_name": "Python 2",
   "language": "python",
   "name": "python2"
  },
  "language_info": {
   "codemirror_mode": {
    "name": "ipython",
    "version": 2
   },
   "file_extension": ".py",
   "mimetype": "text/x-python",
   "name": "python",
   "nbconvert_exporter": "python",
   "pygments_lexer": "ipython2",
   "version": "2.7.12"
  }
 },
 "nbformat": 4,
 "nbformat_minor": 1
}
