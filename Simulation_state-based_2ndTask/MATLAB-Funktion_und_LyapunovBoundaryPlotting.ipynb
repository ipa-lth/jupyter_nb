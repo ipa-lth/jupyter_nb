{
 "cells": [
  {
   "cell_type": "code",
   "execution_count": null,
   "metadata": {
    "collapsed": true
   },
   "outputs": [],
   "source": [
    "# intervalltransformation\n",
    "# i = i2\n",
    "# j = i1\n",
    "import numpy as np\n",
    "from scipy.special import comb as nchoosek # n Choose k (n ueber k)\n",
    "def transQ(Q_in, a,b):\n",
    "    #check array\n",
    "    if not isinstance(Q_in, list):\n",
    "        print \"list input expected\"\n",
    "    # m,n    \n",
    "    m = len(Q_in)\n",
    "    n = (Q_in[0]).shape[0]\n",
    "    Q_out = Q_in\n",
    "    for i1 in range (0,m): \n",
    "        #Q_out[i1,:] = Q_in[i1]\n",
    "        Q_out[i1] = Q_in[i1]*2**(-i1)\n",
    "        for i2 in range (i1+1, m):\n",
    "            #print Q_out[i1]\n",
    "            Q_out[i1] = Q_out[i1] + (2**(-i2))*(b**(i2-i1))*nchoosek(i2,i1)*Q_in[i2];\n",
    "        Q_out[i1] = (a**i1)*Q_out[i1]\n",
    "    # nested loop\n",
    "    return Q_out"
   ]
  },
  {
   "cell_type": "code",
   "execution_count": null,
   "metadata": {
    "collapsed": false
   },
   "outputs": [],
   "source": [
    "transQ([np.array([[1, 1],[1, 1]]),\n",
    "         np.array([[2, 2],[2, 2]]),\n",
    "         np.array([[3, 3],[3, 3]])], 1, 1)"
   ]
  },
  {
   "cell_type": "code",
   "execution_count": null,
   "metadata": {
    "collapsed": true
   },
   "outputs": [],
   "source": [
    "# intervalltransformation\n",
    "import numpy as np\n",
    "def calcQsum(Q_in):\n",
    "    if not isinstance(Q_in, list):\n",
    "        print \"list input expected\"\n",
    "    m = len(Q_in)\n",
    "    print m\n",
    "    n = (Q_in[0]).shape[0]\n",
    "    if m == 1:\n",
    "        #Q_sum = np.matrix([[2*Q_in[0], np.zeros((n,n))], \n",
    "        #                  [np.zeros((n,n)), np.zeros((n,n))]])\n",
    "        #np.column_stack((a,b))\n",
    "        Q_sum = np.matrix(np.row_stack((np.column_stack((2*Q_in[0], np.zeros((n,n)))), \n",
    "                          np.column_stack((np.zeros((n,n)), np.zeros((n,n)))))))\n",
    "    elif m == 2:\n",
    "        #Q_sum = np.matrix([[2*Q_in[0], Q_in[1,:]],\n",
    "        #                   [Q_in[1,:], np.zeros((n,n))]])\n",
    "        Q_sum = np.matrix(np.row_stack((np.column_stack((2*Q_in[0], Q_in[1])), \n",
    "                          np.column_stack((Q_in[1], np.zeros((n,n)))))))\n",
    "    else:\n",
    "        #print \"wthin\"\n",
    "        #Q_sum = np.matrix([[2*Q_in[0], Q_in[1,:]], \n",
    "        #                   [Q_in[1,:], 2*Q_in[2,:]]])\n",
    "        Q_sum = np.matrix(np.row_stack((np.column_stack((2*Q_in[0], Q_in[1])), \n",
    "                          np.column_stack((Q_in[1], 2*Q_in[2])))))\n",
    "    #print \"wth\"\n",
    "    #print Q_sum    \n",
    "    loopRange = np.arange(3,m,2)\n",
    "    for i1 in loopRange:\n",
    "        if i1 != (m-1):\n",
    "            #print Q_sum\n",
    "            #print Q_in[i1+1]\n",
    "            Q_sum = np.matrix(np.row_stack((np.column_stack((Q_sum, \n",
    "                        np.row_stack(([np.zeros((int((i1+1)*0.5-1)*n,n)), \n",
    "                         Q_in[i1]])))), \n",
    "                np.column_stack((np.zeros((n,int((i1+1)*0.5-1)*n)), \n",
    "                 Q_in[i1],  \n",
    "                2*Q_in[i1+1])))))\n",
    "        else:\n",
    "            \n",
    "            print i1*0.5-1\n",
    "            #print n\n",
    "            #print np.zeros((int((i1+1)*0.5-1)*n,n)) \n",
    "            #print Q_in[i1]\n",
    "            Q_sum = np.matrix(np.row_stack((np.column_stack((Q_sum, \n",
    "                np.row_stack((np.zeros((int((i1+1)*0.5-1)*n,n)), Q_in[i1])))),\n",
    "                              \n",
    "                np.column_stack((np.zeros((n,(int((i1+1)*0.5-1)*n))), \n",
    "                Q_in[i1], \n",
    "                np.zeros((n,n)))))))\n",
    "    Q_sum = (0.5)*Q_sum;\n",
    "    return Q_sum"
   ]
  },
  {
   "cell_type": "code",
   "execution_count": null,
   "metadata": {
    "collapsed": false
   },
   "outputs": [],
   "source": [
    "testarr = [np.array([[1, 1],\n",
    "                     [1, 1]]),\n",
    "           np.array([[2, 2],\n",
    "                     [2, 2]]),\n",
    "           np.array([[3, 3],\n",
    "                     [3, 3]]),\n",
    "           np.array([[4, 4],\n",
    "                     [4, 4]]),\n",
    "           np.array([[5, 5],\n",
    "                     [5, 5]])]\n",
    "calcQsum(testarr[0:5])"
   ]
  },
  {
   "cell_type": "code",
   "execution_count": null,
   "metadata": {
    "collapsed": true
   },
   "outputs": [],
   "source": [
    "# Selection stratergy\n",
    "# plotting Boundary with given p\n",
    "# g(p,x) = e(p).x^T.R.x-1\n",
    "# p: (0 ,1]\n",
    "# R: \n",
    "# a_head: coefficiences os fixed-\"zulegenden\" characteristic \n",
    "# Polynomials des closed control-loop with p = 1\n",
    "# a: coefficiences of characteristic \"Strecke\" \n",
    "import numpy as np\n",
    "from numpy.linalg import inv\n",
    "import matplotlib.pyplot as plt\n",
    "from sympy.solvers import solve\n",
    "from sympy import MatrixSymbol, Matrix\n",
    "def boundaryPlotting_LyapunovFunction(p, R, a_head, a, stepJump):\n",
    "    \n",
    "    n = np.size(a_head,0)    \n",
    "    p_array = np.zeros(n)\n",
    "    \n",
    "    for i in range(0, n) :\n",
    "        p_array[i] = np.power(p, n-i)        \n",
    "    D_p = np.diag(p_array)\n",
    "    \n",
    "    K_p = inv(D_p).dot(a_head) - a    \n",
    "    R_p = inv(D_p).dot(R).dot(inv(D_p))    \n",
    "    e_p = np.transpose(K_p).dot(inv(R_p)).dot(K_p)\n",
    "    \n",
    "#    print \"R1 = \\n\",R\n",
    "#    print \"a_head = \\n\",a_head\n",
    "#    print \"a = \\n\",a\n",
    "#    print \"n = \\n\",n\n",
    "#    print \"D_p = \\n\",D_p\n",
    "#    print \"K_p = \\n\",K_p\n",
    "#    print \"R_p = \\n\",R_p    \n",
    "#    print \"e_p = \\n\",e_p\n",
    "    \n",
    "    result = []\n",
    "    ind = 0\n",
    "#    for x1 in np.arange(-0.5,0.5,0.004):\n",
    "    for x1 in np.arange(-0.5,0.5,stepJump):\n",
    "        for x2 in np.arange(-0.5,0.5,stepJump):\n",
    "            X = np.matrix([[x1],[x2]])            \n",
    "            #print X.T\n",
    "            g_px = np.asscalar(e_p)*(X.T).dot(R_p).dot(X)-1\n",
    "            # print g_px\n",
    "            if (abs(g_px) <= 0.0002):\n",
    "#                plt.plot(x1, x2, 'ro',label='closed')\n",
    "                result.append(([x1,x2]))\n",
    "                ind = ind +1\n",
    "#    plt.show()\n",
    "    return result"
   ]
  },
  {
   "cell_type": "code",
   "execution_count": null,
   "metadata": {
    "collapsed": true
   },
   "outputs": [],
   "source": [
    "import matplotlib.patches as mpatches\n",
    "\n",
    "R1 = np.matrix([[4, 1],\n",
    "                    [1, 2]])  \n",
    "    \n",
    "a_head = np.matrix([[2],\n",
    "                        [2]]) \n",
    "    \n",
    "a = np.matrix([[0],\n",
    "                   [0]])\n",
    "\n",
    "p1 = boundaryPlotting_LyapunovFunction(0.99999,  R1, a_head, a, 0.002)\n",
    "p2 = boundaryPlotting_LyapunovFunction(0.9,  R1, a_head, a, 0.002)\n",
    "p3 = boundaryPlotting_LyapunovFunction(0.6,  R1, a_head, a, 0.002)\n",
    "p4 = boundaryPlotting_LyapunovFunction(0.4,  R1, a_head, a, 0.002)"
   ]
  },
  {
   "cell_type": "code",
   "execution_count": null,
   "metadata": {
    "collapsed": true
   },
   "outputs": [],
   "source": [
    "def arrangeListToPlot(p1):\n",
    "    #print len(p1)\n",
    "    r = max(p1, key=lambda item: item[0]) # most left of eclipse\n",
    "    l = min(p1, key=lambda item: item[0]) # most right of eclipse\n",
    "    u = max(p1, key=lambda item: item[1]) # most up of eclipse\n",
    "    d = min(p1, key=lambda item: item[1]) # most down of eclipse\n",
    "    print r\n",
    "    print l\n",
    "    print u\n",
    "    print d\n",
    "    meanp1 =  np.mean(p1,0)\n",
    "    print meanp1\n",
    "    p1u = []\n",
    "    p1d = []\n",
    "    p1ul = []\n",
    "    p1ur = []\n",
    "    p1dl = []\n",
    "    p1dr = []\n",
    "    # seperate to bigger and smaller or equal mean of second parameter\n",
    "    #for item in p1:\n",
    "    #    if (item[1] > meanp1[1]):\n",
    "    #        p1u.append(item)\n",
    "    #    else:\n",
    "    #        p1d.append(item)  \n",
    "\n",
    "    # seperate to bigger and smaller or equal mean of first parameter       \n",
    "    #for item in p1u:\n",
    "    #    if (item[0] > meanp1[0]):\n",
    "    #        p1ur.append(item)\n",
    "    #    else:\n",
    "    #        p1ul.append(item) \n",
    "\n",
    "    # seperate to bigger and smaller or equal mean of first parameter           \n",
    "    #for item in p1d:\n",
    "    #    if (item[0] > meanp1[0]):\n",
    "    #        p1dr.append(item)\n",
    "    #    else:\n",
    "    #        p1dl.append(item) \n",
    "\n",
    "    for item in p1:\n",
    "        if (item[1] >= l[1] and item[0] <= u[0]):\n",
    "            p1ul.append(item)\n",
    "        elif (item[1] >= r[1] and item[0] >= u[0]):\n",
    "            p1ur.append(item)\n",
    "        elif (item[1] <= r[1] and item[0] >= d[0]):\n",
    "            p1dr.append(item)\n",
    "        elif (item[1] <= l[1] and item[0] <= d[0]):\n",
    "            p1dl.append(item)\n",
    "\n",
    "    #print len(p1ul)\n",
    "    #print len(p1ur)\n",
    "    #print len(p1dl)\n",
    "    #print len(p1dr)\n",
    "\n",
    "    list.sort(p1ul,key=lambda l:l[1])\n",
    "    list.sort(p1ur,key=lambda l:l[1], reverse=True)\n",
    "    list.sort(p1dr,key=lambda l:l[1], reverse=True)\n",
    "    list.sort(p1dl,key=lambda l:l[1])\n",
    "\n",
    "    tmp = []\n",
    "    tmp.extend(p1ul)\n",
    "    tmp.extend(p1ur)\n",
    "    tmp.extend(p1dr)\n",
    "    tmp.extend(p1dl)\n",
    "    tmp.extend(p1ul)\n",
    "\n",
    "    #print p1dr\n",
    "    print len(tmp)\n",
    "    return tmp"
   ]
  },
  {
   "cell_type": "code",
   "execution_count": null,
   "metadata": {
    "collapsed": false
   },
   "outputs": [],
   "source": [
    "tmp1 = arrangeListToPlot(p1)\n",
    "tmp2 = arrangeListToPlot(p2)\n",
    "tmp3 = arrangeListToPlot(p3)\n",
    "tmp4 = arrangeListToPlot(p4)\n",
    "p1x = (np.asarray(tmp1))[:,0]\n",
    "p1y = (np.asarray(tmp1))[:,1]\n",
    "p2x = (np.asarray(tmp2))[:,0]\n",
    "p2y = (np.asarray(tmp2))[:,1]\n",
    "p3x = (np.asarray(tmp3))[:,0]\n",
    "p3y = (np.asarray(tmp3))[:,1]\n",
    "p4x = (np.asarray(tmp4))[:,0]\n",
    "p4y = (np.asarray(tmp4))[:,1]\n",
    "#[x for x in X if P(x)]\n",
    "#p1u = [item for item in p1 if item]\n",
    "plt.plot(p1x,p1y, '-o',label='closed')\n",
    "plt.plot(p2x,p2y, '-o',label='closed')\n",
    "plt.plot(p3x,p3y, '-o',label='closed')\n",
    "plt.plot(p4x,p4y, '-o',label='closed')\n",
    "plt.show()\n",
    "#tmp1"
   ]
  },
  {
   "cell_type": "markdown",
   "metadata": {
    "collapsed": true
   },
   "source": [
    "LORENZ RETRY"
   ]
  },
  {
   "cell_type": "code",
   "execution_count": null,
   "metadata": {
    "collapsed": false
   },
   "outputs": [],
   "source": [
    "import numpy as np\n",
    "from numpy import linalg as LA\n",
    "# Harmonischer Oszillator\n",
    "A = np.matrix([[0, 1],\n",
    "               [-1, 0]])\n",
    "\n",
    "b = np.matrix([0, 1]).T\n",
    "\n",
    "R1 = np.matrix([[1, 0.975],\n",
    "                [0.9750, 2.389]])\n",
    "\n",
    "X0 = [np.matrix([1.5, 1.5]),\n",
    "      np.matrix([1.5, -1.5]),\n",
    "      np.matrix([-1.5, 1.5]),\n",
    "      np.matrix([-1.5, -1.5])]\n",
    "\n",
    "a = np.matrix([1, 0]).T\n",
    "a_hat = np.matrix([2, np.sqrt(6)]).T"
   ]
  },
  {
   "cell_type": "code",
   "execution_count": null,
   "metadata": {
    "collapsed": false
   },
   "outputs": [],
   "source": [
    "def _D_inv(v, n):\n",
    "    return np.diag([v**-x for x in range(n, 0, -1)])\n",
    "\n",
    "# k(v) (4.5)\n",
    "def get_k(v, a, a_hat):\n",
    "    try:\n",
    "        v = v.squeeze() # This is weird, needed for minimize for some reason\n",
    "    except:\n",
    "        pass\n",
    "    D_inv = _D_inv(v, len(a))\n",
    "    #print D_inv\n",
    "    k = D_inv.dot(a_hat) - a\n",
    "    return k\n",
    "\n",
    "#print \"Test k\\n\", get_k(0.2, np.matrix([124, 48, 12]).T, np.matrix([1, 2, 3]).T)\n",
    "#assert(np.allclose(-a+a_hat, get_k(1, a, a_hat)))\n",
    "\n",
    "# Fixing a and a_hat for convinience\n",
    "# func_k = lambda v: get_k(v, a, a_hat)\n",
    "\n",
    "# G(v) (4.4)\n",
    "def get_g(v, x, R1, u_max, a, a_hat):\n",
    "    try:\n",
    "        v = v.squeeze() # This is weird, needed for minimize for some reason\n",
    "    except:\n",
    "        pass\n",
    "    D_inv = _D_inv(v, len(x))\n",
    "    R = D_inv.dot(R1).dot(D_inv) # R(v) = D^⁻1 * R1 * D^-1\n",
    "    \n",
    "    k = get_k(v, a, a_hat) # k(v)\n",
    "    e = (u_max**(-2)) * (k.T.dot(LA.inv(R)).dot(k))\n",
    "    #assert e < 1.0\n",
    "    g = e*(x.T.dot(R).dot(x)) - 1.0\n",
    "    #assert g <= 0, \"g = {} > 0\".format(g)\n",
    "    # Update 2016: As of python 3.5, there is a new matrix_multiply symbol, @:\n",
    "    # g = x' @ D^-1 @ R1 @ D^-1 @ x - 1.0\n",
    "    return g"
   ]
  },
  {
   "cell_type": "code",
   "execution_count": null,
   "metadata": {
    "collapsed": false
   },
   "outputs": [],
   "source": [
    "from scipy.spatial import ConvexHull\n",
    "import matplotlib.pyplot as plt\n",
    "\n",
    "#points = np.random.rand(30, 2)   # 30 random points in 2-D\n",
    "#hull = ConvexHull(points)\n",
    "\n",
    "#print X0\n",
    "#print len(X0)\n",
    "# Convert boundaries\n",
    "poi = X0[0]\n",
    "for i in range(1, len(X0)):\n",
    "    poi = np.vstack((poi, X0[i]))\n",
    "#print poi\n",
    "# get convex hull\n",
    "hull = ConvexHull(poi)\n",
    "#plot it\n",
    "plt.plot(poi[:,0], poi[:,1], 'o')\n",
    "for simplex in hull.simplices:\n",
    "    plt.plot(poi[simplex, 0], poi[simplex, 1], 'k-')\n",
    "# boundaries ready \n",
    "\n",
    "# get elipsoid\n",
    "# g = e*x.T*R*x -1\n",
    "area = np.arange(-10, 10, .0001)\n",
    "v = 1\n",
    "e_poi = np.array([0 , 0])\n",
    "for x1, x2 in zip(area, area):\n",
    "    if np.absolute(get_g(v, np.matrix([x1, x2]).T, R1, 10, a, a_hat)-1)<0.1:\n",
    "        e_poi = np.vstack((e_poi, [x1, x2]))\n",
    "#print e_poi\n",
    "# get convex hull\n",
    "hull2 = ConvexHull(e_poi)\n",
    "#plot it\n",
    "plt.plot(e_poi[:,0], e_poi[:,1], 'o')\n",
    "for simplex in hull2.simplices:\n",
    "    plt.plot(e_poi[simplex, 0], e_poi[simplex, 1], 'r-')\n",
    "        \n",
    "        \n",
    "plt.show()\n"
   ]
  },
  {
   "cell_type": "code",
   "execution_count": null,
   "metadata": {
    "collapsed": false
   },
   "outputs": [],
   "source": [
    "plt.plot(e_poi[:,0], e_poi[:,1], 'o')\n",
    "plt.show()"
   ]
  },
  {
   "cell_type": "code",
   "execution_count": null,
   "metadata": {
    "collapsed": true
   },
   "outputs": [],
   "source": []
  },
  {
   "cell_type": "code",
   "execution_count": null,
   "metadata": {
    "collapsed": false
   },
   "outputs": [],
   "source": [
    "#plt.plot(points[hull.vertices,0], points[hull.vertices,1], 'r--', lw=2)\n",
    "#plt.plot(points[hull.vertices[0],0], points[hull.vertices[0],1], 'ro')\n"
   ]
  },
  {
   "cell_type": "code",
   "execution_count": null,
   "metadata": {
    "collapsed": true
   },
   "outputs": [],
   "source": []
  }
 ],
 "metadata": {
  "kernelspec": {
   "display_name": "Python 2",
   "language": "python",
   "name": "python2"
  },
  "language_info": {
   "codemirror_mode": {
    "name": "ipython",
    "version": 2
   },
   "file_extension": ".py",
   "mimetype": "text/x-python",
   "name": "python",
   "nbconvert_exporter": "python",
   "pygments_lexer": "ipython2",
   "version": "2.7.12"
  }
 },
 "nbformat": 4,
 "nbformat_minor": 2
}
