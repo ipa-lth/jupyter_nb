{
 "cells": [
  {
   "cell_type": "code",
   "execution_count": 58,
   "metadata": {},
   "outputs": [
    {
     "name": "stdout",
     "output_type": "stream",
     "text": [
      "[[ 0. ]\n",
      " [ 0.5]]\n",
      "y.shape = \n",
      "(990,)\n",
      "len(T) = \n",
      "990\n",
      "B.shape = \n",
      "(1, 2)\n",
      "u.shape = \n",
      "(2, 990)\n",
      "s.shape = \n",
      "(990,)\n"
     ]
    },
    {
     "data": {
      "image/png": "[encoded data removed]",
      "text/plain": [
       "<matplotlib.figure.Figure at 0x7f5952887410>"
      ]
     },
     "metadata": {},
     "output_type": "display_data"
    }
   ],
   "source": [
    "import numpy as np\n",
    "import matplotlib.pyplot as plt\n",
    " \n",
    "def simulate(A, B, C, D, regulator_func, s, T, x0=0):\n",
    "    # u = *regulator(x, s)\n",
    "    # x1 = A*x + B*u\n",
    "    # y = C*x + D*u\n",
    "    if type(x0) is int:\n",
    "        xt = np.matrix([x0]*len(A)).T\n",
    "        print \"x0 = \\n{}\".format(xt)\n",
    "    else:\n",
    "        xt = x0\n",
    " \n",
    "    y = np.zeros(len(T))# Initialize with C.dot(x0)?\n",
    "    print \"y.shape = \\n\",y.shape\n",
    "    print \"len(T) = \\n\",len(T)\n",
    "    print \"B.shape = \\n\",(B).shape\n",
    "    \n",
    "    #intitialize N dimentional matrix\n",
    "    u = np.zeros((B.size,len(T)))\n",
    "    print \"u.shape = \\n\",u.shape\n",
    "    \n",
    "    \n",
    "    print \"s.shape = \\n\",s.shape\n",
    "    \n",
    "    for i, t in enumerate(T):\n",
    "        u[:,[i]] = regulator_func(y[i], s[i], xt)\n",
    "        x_dot = A.dot(xt) + B.dot(u[:,[i]])\n",
    "        #print x_dot\n",
    "        #print \"C.shape = \\n\",C.shape\n",
    "        #print \"xt.shape = \\n\",xt.shape\n",
    "        #print \"D.shape = \\n\",D.shape\n",
    "        y[i] = C.dot(xt) + (D.T).dot(u[:,[i]])\n",
    "       \n",
    "        if i < len(T)-1:\n",
    "            xt = xt + x_dot*(T[i+1]-T[i])\n",
    "    return y, u\n",
    " \n",
    " \n",
    "A = np.matrix([[1, 2],[3, 4]]) # A: 2x2 matrix\n",
    "B = np.matrix([0, 1]) # e.g., B: 1x2 matrix\n",
    "C = np.matrix([1, 0]) # e.g., C: 1x2 matrix\n",
    "D = np.matrix([[0], [0]]) # e.g., D: 2x1 matrix\n",
    "\n",
    "regulator_func = con\n",
    "T = np.arange(1, 100, 0.1) \n",
    "s = np.ones(len(T))\n",
    "x0 = np.matrix([[0], [0]])\n",
    " \n",
    "\n",
    " \n",
    "\n",
    " \n",
    "def con(y, s, x):\n",
    "    return np.matrix([0, -1 * (y - s)]).T\n",
    "print con(0, 0.5, 0)\n",
    " \n",
    "y, u = simulate(A, B, C, D, regulator_func, s, T, x0)\n",
    "\n",
    "plt.figure()\n",
    "plt.plot(T, y, 'b.')\n",
    "plt.xlabel('T')\n",
    "plt.ylabel('y')\n",
    "plt.show()"
   ]
  },
  {
   "cell_type": "code",
   "execution_count": null,
   "metadata": {},
   "outputs": [],
   "source": []
  }
 ],
 "metadata": {
  "kernelspec": {
   "display_name": "Python 2",
   "language": "python",
   "name": "python2"
  },
  "language_info": {
   "codemirror_mode": {
    "name": "ipython",
    "version": 2
   },
   "file_extension": ".py",
   "mimetype": "text/x-python",
   "name": "python",
   "nbconvert_exporter": "python",
   "pygments_lexer": "ipython2",
   "version": "2.7.12"
  }
 },
 "nbformat": 4,
 "nbformat_minor": 2
}
