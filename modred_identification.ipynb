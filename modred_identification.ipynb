{
 "cells": [
  {
   "cell_type": "code",
   "execution_count": null,
   "metadata": {
    "collapsed": false,
    "scrolled": true
   },
   "outputs": [],
   "source": [
    "import numpy as np\n",
    "import matplotlib.pyplot as plt\n",
    "%pylab inline"
   ]
  },
  {
   "cell_type": "code",
   "execution_count": null,
   "metadata": {
    "collapsed": true
   },
   "outputs": [],
   "source": [
    "import modred\n",
    "import control as con"
   ]
  },
  {
   "cell_type": "code",
   "execution_count": null,
   "metadata": {
    "collapsed": false
   },
   "outputs": [],
   "source": [
    "K = 1\n",
    "d = 0.5\n",
    "T = 10\n",
    "delay = 10\n",
    "\n",
    "a0 = 1\n",
    "a1 = (2 * d * T) #16\n",
    "a2 = (T**2) #100\n",
    "b0 = K\n",
    "\n",
    "tf_1 = con.matlab.tf(K, [a2, a1, a0])\n",
    "#print tf_1\n",
    "ss_1a = con.matlab.tf2ss(tf_1)\n",
    "#print ss_1a\n",
    "\n",
    "d_num, d_den = con.pade(delay, 1)\n",
    "tf_delay = con.tf(d_num, d_den)\n",
    "ss_delay = con.series(tf_delay, tf_1)\n",
    "\n",
    "#print con.matlab.tf2ss(ss_delay)"
   ]
  },
  {
   "cell_type": "code",
   "execution_count": null,
   "metadata": {
    "collapsed": false
   },
   "outputs": [],
   "source": [
    "d_yout, d_T = con.matlab.step(ss_delay)\n",
    "yout, T = con.matlab.step(tf_1) # step without delay\n",
    "\n",
    "plt.plot(d_T, d_yout, 'r-', label='poly_est')\n",
    "plt.plot(np.add(d_T, delay), yout, 'g-', label='idealized') #delay in timeaxis!"
   ]
  },
  {
   "cell_type": "code",
   "execution_count": null,
   "metadata": {
    "collapsed": false
   },
   "outputs": [],
   "source": [
    "#http://pythonhosted.org/modred/\n",
    "markov_est = modred.okid.OKID(np.ones(yout.size), yout, yout.size/2)\n",
    "\n",
    "num_states = 10\n",
    "myERA = modred.era.ERA()\n",
    "A, B, C=modred.era.compute_ERA_model(markov_est, num_states)\n",
    "\n",
    "ss_est = con.ss(A, B, C, 0)\n",
    "print ss_est\n",
    "#con.matlab.bode(ss)\n",
    "yout, T = con.matlab.step(ss_est) # step without delay\n",
    "print yout\n",
    "plt.plot(T, yout, 'r-', label='y_est')"
   ]
  },
  {
   "cell_type": "code",
   "execution_count": null,
   "metadata": {
    "collapsed": false
   },
   "outputs": [],
   "source": []
  },
  {
   "cell_type": "code",
   "execution_count": null,
   "metadata": {
    "collapsed": false
   },
   "outputs": [],
   "source": []
  },
  {
   "cell_type": "code",
   "execution_count": null,
   "metadata": {
    "collapsed": true
   },
   "outputs": [],
   "source": []
  },
  {
   "cell_type": "code",
   "execution_count": null,
   "metadata": {
    "collapsed": false
   },
   "outputs": [],
   "source": []
  },
  {
   "cell_type": "code",
   "execution_count": null,
   "metadata": {
    "collapsed": false
   },
   "outputs": [],
   "source": []
  },
  {
   "cell_type": "code",
   "execution_count": null,
   "metadata": {
    "collapsed": false
   },
   "outputs": [],
   "source": []
  },
  {
   "cell_type": "code",
   "execution_count": null,
   "metadata": {
    "collapsed": false
   },
   "outputs": [],
   "source": []
  },
  {
   "cell_type": "code",
   "execution_count": null,
   "metadata": {
    "collapsed": true
   },
   "outputs": [],
   "source": []
  },
  {
   "cell_type": "code",
   "execution_count": null,
   "metadata": {
    "collapsed": false,
    "scrolled": false
   },
   "outputs": [],
   "source": []
  },
  {
   "cell_type": "code",
   "execution_count": null,
   "metadata": {
    "collapsed": true
   },
   "outputs": [],
   "source": []
  }
 ],
 "metadata": {
  "kernelspec": {
   "display_name": "Python 2",
   "language": "python",
   "name": "python2"
  },
  "language_info": {
   "codemirror_mode": {
    "name": "ipython",
    "version": 2
   },
   "file_extension": ".py",
   "mimetype": "text/x-python",
   "name": "python",
   "nbconvert_exporter": "python",
   "pygments_lexer": "ipython2",
   "version": "2.7.12"
  }
 },
 "nbformat": 4,
 "nbformat_minor": 2
}
