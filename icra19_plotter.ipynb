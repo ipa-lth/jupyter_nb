{
 "cells": [
  {
   "cell_type": "code",
   "execution_count": null,
   "metadata": {},
   "outputs": [],
   "source": [
    "import numpy as np\n",
    "import matplotlib.pyplot as plt\n",
    "\n",
    "import control as con\n",
    "\n",
    "%pylab inline\n",
    "\n",
    "from sysident import loadtools"
   ]
  },
  {
   "cell_type": "code",
   "execution_count": null,
   "metadata": {},
   "outputs": [],
   "source": [
    "folder = \"/home/lth/jupyter_nb/optimization/models/\"\n",
    "fname = folder+\"ss1_20180724-082630_poles2_ident_pade1_0:036_control_20180724-092309.npy\"\n",
    "#fname = folder+\"ss2_20180724-082631_poles3_ident_pade2_0:036_control_20180724-092409.npy\"\n",
    "#fname = folder+\"ss3_position_20180717-104106_poles3_ident_pade1_0:032_control_20180724-092445.npy\"\n",
    "fname = folder+\"ss5_20180724-082628_poles3_ident_pade1_0:032_control_20180724-092522.npy\"\n",
    "#fname = folder+\"ss6_20180724-082629_poles4_ident_pade2_0:032_control_20180724-092618.npy\""
   ]
  },
  {
   "cell_type": "code",
   "execution_count": null,
   "metadata": {},
   "outputs": [],
   "source": [
    "res, _ = loadtools.loadNPY(fname)\n",
    "res.keys()"
   ]
  },
  {
   "cell_type": "code",
   "execution_count": null,
   "metadata": {},
   "outputs": [],
   "source": [
    "plt.plot(*res['plot_model_step'])\n",
    "plt.plot(*res['plot_input_step'])"
   ]
  },
  {
   "cell_type": "code",
   "execution_count": null,
   "metadata": {},
   "outputs": [],
   "source": [
    "plt.plot(*res['plot_control_step_s'])\n",
    "plt.plot(*res['plot_control_step_y'])\n",
    "plt.plot(*res['plot_control_step_delay_y'])"
   ]
  },
  {
   "cell_type": "code",
   "execution_count": null,
   "metadata": {},
   "outputs": [],
   "source": [
    "plt.plot(*res['plot_control_step_u'])\n",
    "plt.plot(*res['plot_control_step_delay_u'])"
   ]
  },
  {
   "cell_type": "code",
   "execution_count": null,
   "metadata": {},
   "outputs": [],
   "source": []
  }
 ],
 "metadata": {
  "kernelspec": {
   "display_name": "Python 2",
   "language": "python",
   "name": "python2"
  },
  "language_info": {
   "codemirror_mode": {
    "name": "ipython",
    "version": 2
   },
   "file_extension": ".py",
   "mimetype": "text/x-python",
   "name": "python",
   "nbconvert_exporter": "python",
   "pygments_lexer": "ipython2",
   "version": "2.7.12"
  }
 },
 "nbformat": 4,
 "nbformat_minor": 2
}
