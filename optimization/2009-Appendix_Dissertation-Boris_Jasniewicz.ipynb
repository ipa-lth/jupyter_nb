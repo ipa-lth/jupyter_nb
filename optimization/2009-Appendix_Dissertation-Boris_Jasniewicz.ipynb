{
 "cells": [
  {
   "cell_type": "code",
   "execution_count": null,
   "metadata": {},
   "outputs": [],
   "source": [
    "import numpy as np"
   ]
  },
  {
   "cell_type": "code",
   "execution_count": null,
   "metadata": {},
   "outputs": [],
   "source": [
    "from scipy.special import comb as nchoosek # n Choose k (n ueber k)\n",
    "\n",
    "# As seen in A.4 jasniwiecz\n",
    "# Intervalltransformation (Gleichung (4.36))\n",
    "# p => [p_l, p_u] (p => [p_min, 1]) wird zu p^ => [-1,1] return neue Matrizen(!) mit diesen p^\n",
    "#\n",
    "# Q_in ist Liste aus Faktormatrizen für Polynom in p\n",
    "# Q_out ist Liste aus Faktormatrizen für Polynom in p^\n",
    "# a = (p_u - p_l)\n",
    "# b = (p_u + p_l)\n",
    "def transQ(Q_in, pl=0.01, pu=1):\n",
    "    a = pu - pl\n",
    "    b = pu + pl\n",
    "    m = len(Q_in) # Anzahl der Koeffizienten in Q_in\n",
    "    n = Q_in[0].shape\n",
    "\n",
    "    #print Q_in\n",
    "    Q_out = [np.zeros(Q_in[0].shape)] * m\n",
    "    #print Q_out\n",
    "    for j in range(0, m):\n",
    "        #print j\n",
    "        #Q_out[j] = Q_in[j]\n",
    "        for i in range(j, m):\n",
    "            #print Q_out[j]\n",
    "            Q_out[j] = Q_out[j] + 2**(-i) * b**(i-j) * nchoosek(i, j) * Q_in[i]\n",
    "        Q_out[j] = a**j*Q_out[j]\n",
    "    return Q_out"
   ]
  },
  {
   "cell_type": "code",
   "execution_count": null,
   "metadata": {},
   "outputs": [],
   "source": [
    "%load_ext oct2py.ipython"
   ]
  },
  {
   "cell_type": "raw",
   "metadata": {
    "scrolled": true
   },
   "source": [
    "p_min = np.random.rand(1)\n",
    "n = 20\n",
    "R = [np.random.rand(n,n),\n",
    "     np.random.rand(n,n),\n",
    "     np.random.rand(n,n)]\n",
    "#print p_min\n",
    "#print R"
   ]
  },
  {
   "cell_type": "raw",
   "metadata": {},
   "source": [
    "%%octave -i p_min,p_max,R -o X\n",
    "addpath('~/jupyter_nb/optimization')\n",
    "R_cell = R;\n",
    "\n",
    "a = (1-p_min)/2;\n",
    "b = (1+p_min)/2;\n",
    "\n",
    "X = transQ(R_cell, a, b);"
   ]
  },
  {
   "cell_type": "code",
   "execution_count": null,
   "metadata": {},
   "outputs": [],
   "source": [
    "p_min = np.random.rand(1)\n",
    "n = int(100*np.random.rand(1))\n",
    "print \"n:\", n\n",
    "print \"p_min:\", p_min\n",
    "R = [np.random.rand(n,n),\n",
    "     np.random.rand(n,n),\n",
    "     np.random.rand(n,n)]\n",
    "\n",
    "%octave addpath('~/jupyter_nb/optimization')\n",
    "%octave_push p_min\n",
    "%octave_push R\n",
    "%octave a = (1-p_min)/2;\n",
    "%octave b = (1+p_min)/2;\n",
    "%octave X = transQ(R, a, b);\n",
    "%octave_pull X\n",
    "\n",
    "X2 = transQ(R, pl=p_min, pu=1)\n",
    "\n",
    "for i in range(3):\n",
    "    print \"Test:\", i\n",
    "    np.testing.assert_array_equal(X[0,i], X2[i])"
   ]
  },
  {
   "cell_type": "code",
   "execution_count": null,
   "metadata": {},
   "outputs": [],
   "source": [
    "import math\n",
    "\n",
    "def calcQSum(Q_in):\n",
    "    from numpy import concatenate as con\n",
    "    m = len(Q_in)\n",
    "    n = Q_in[0].shape\n",
    "    if m is 1:\n",
    "        #([[2*Q_in[0],   np.zeros(n)], \n",
    "        #  [np.zeros(n), np.zeros(n)]])\n",
    "        Q_sum = con((con((2*Q_in[0], np.zeros(n)), axis=1),\n",
    "                     con((np.zeros(n), np.zeros(n)), axis=1)), axis=0)\n",
    "    elif m is 2:\n",
    "        # [[2*Q_in[0], Q_in[1]],\n",
    "        #  [Q_in[1],   np.zeros(n)]]\n",
    "        Q_sum = con((con((2*Q_in[0], Q_in[1]), axis=1),\n",
    "                     con((Q_in[1], np.zeros(n)), axis=1)), axis=0)\n",
    "\n",
    "    else:\n",
    "        # [[2*Q_in[0], Q_in[1]],\n",
    "        #  [Q_in[1], 2*Q_in[2]]]\n",
    "        # m here is m+1 from Diss (starts at 0 there), so even and odd is interchanged\n",
    "        Q_sum = con((con((2*Q_in[0], Q_in[1]), axis=1),\n",
    "                     con((Q_in[1], 2*Q_in[2]), axis=1)), axis=0)\n",
    "        \n",
    "    for i1 in range(4, m+1, 2):\n",
    "        if i1 is not m:\n",
    "            #Q_sum = [[Q_sum], [[np.zeros((i1/2-1)*n, n)], [Q_in[i1]]], \n",
    "            #         [np.zeros(n, (i1/2-1)), Q_in[i1], 2*Q_in[i1+1]]]\n",
    "            Q_sum = con((con((Q_sum, con((np.zeros((int(math.ceil(i1/2-1)*n[0]), n[1])), Q_in[i1-1]), axis=0)), axis=1),\n",
    "                         con((np.zeros((n[0], int(math.ceil(i1/2-1)*n[1]))), Q_in[i1-1], 2*Q_in[i1]), axis=1)), axis=0)\n",
    "        else:\n",
    "            #Q_sum = [[Q_sum], [[np.zeros((i1/2-1)*n, n)], [Q_in[i1]]], \n",
    "            #         [np.zeros(n, (i1/2-1)), Q_in[i1], np.zeros(n)]]\n",
    "            Q_sum = con((con((Q_sum, con((np.zeros((int(math.ceil(i1/2-1)*n[0]), n[1])), Q_in[i1-1]), axis=0)), axis=1),\n",
    "                         con((np.zeros((n[0], int(math.ceil(i1/2-1)*n[1]))), Q_in[i1-1], np.zeros(n)), axis=1)), axis=0)\n",
    "    Q_sum = 0.5*Q_sum\n",
    "    return Q_sum"
   ]
  },
  {
   "cell_type": "code",
   "execution_count": null,
   "metadata": {},
   "outputs": [],
   "source": [
    "n = int(100*np.random.rand(1))\n",
    "m = int(10*np.random.rand(1))+1\n",
    "\n",
    "#n=2\n",
    "#m=2\n",
    "\n",
    "print \"n:\", n\n",
    "print \"m:\", m\n",
    "R = [np.random.rand(n,n) for i in range(m)]\n",
    "\n",
    "%octave addpath('~/jupyter_nb/optimization')\n",
    "%octave_push R\n",
    "%octave R;\n",
    "%octave X = calcQsum(R);\n",
    "%octave_pull X\n",
    "\n",
    "X2 = calcQSum(R)\n",
    "\n",
    "for i in range(m):\n",
    "    print \"Test:\", i\n",
    "    #print \"X:\", X\n",
    "    #print \"X2:\", X2\n",
    "    np.testing.assert_array_equal(X, X2)"
   ]
  },
  {
   "cell_type": "code",
   "execution_count": null,
   "metadata": {},
   "outputs": [],
   "source": []
  },
  {
   "cell_type": "code",
   "execution_count": null,
   "metadata": {},
   "outputs": [],
   "source": [
    "import boris_tools as tools\n",
    "n = int(10*np.random.rand(1))+1\n",
    "print n\n",
    "A = np.array([[0., 1., 0.],\n",
    "              [1., 0., 1.],\n",
    "              [0., 0., -0.005]])\n",
    "\n",
    "A = np.random.rand(n,n)\n",
    "#a = -A[-1][:].T #!!!!\n",
    "\n",
    "b = np.array([[0], [1], [1.]])\n",
    "b = np.random.rand(n,1)\n",
    "\n",
    "d = 0\n",
    "c = np.array([[1], [0], [0]])\n",
    "c = np.random.rand(1,n)\n",
    "\n",
    "roots_p1 = [-1, -1+1j, -1-1j]\n",
    "roots_p1 = -10*np.random.rand(n)\n",
    "\n",
    "roots_pmin = [-3, -3+2j, -3-2j]\n",
    "roots_pmin = -20*np.random.rand(n)\n",
    "\n",
    "p_min = 0.1\n",
    "\n",
    "%octave addpath('~/jupyter_nb/optimization')\n",
    "%octave_push A\n",
    "%octave_push b\n",
    "%octave_push roots_p1\n",
    "%octave_push roots_pmin\n",
    "%octave_push p_min\n",
    "\n",
    "%octave [k0, k1] = k_explizit_Ab3(roots_p1, roots_pmin, p_min, A, b);\n",
    "%octave_pull k0\n",
    "%octave_pull k1\n",
    "\n",
    "(k0, k1)\n",
    "#print tools.k_explizit_Ab(roots_p1, roots_pmin, p_min, A, b)\n",
    "k0x, k1x = tools.k_explizit_Ab2(roots_p1, roots_pmin, p_min, A, b)\n",
    "\n",
    "np.testing.assert_allclose(k0, k0x)\n",
    "np.testing.assert_allclose(k1, k1x)"
   ]
  },
  {
   "cell_type": "code",
   "execution_count": null,
   "metadata": {},
   "outputs": [],
   "source": []
  }
 ],
 "metadata": {
  "kernelspec": {
   "display_name": "Python 2",
   "language": "python",
   "name": "python2"
  },
  "language_info": {
   "codemirror_mode": {
    "name": "ipython",
    "version": 2
   },
   "file_extension": ".py",
   "mimetype": "text/x-python",
   "name": "python",
   "nbconvert_exporter": "python",
   "pygments_lexer": "ipython2",
   "version": "2.7.12"
  }
 },
 "nbformat": 4,
 "nbformat_minor": 1
}
