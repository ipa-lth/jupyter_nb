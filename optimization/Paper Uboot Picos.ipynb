{
 "cells": [
  {
   "cell_type": "code",
   "execution_count": null,
   "metadata": {
    "collapsed": true
   },
   "outputs": [],
   "source": [
    "import picos as pic\n",
    "import cvxopt as cvx\n",
    "\n",
    "import numpy as np\n",
    "from numpy import linalg as LA\n",
    "from scipy.special import comb as nchoosek # n Choose k (n ueber k)"
   ]
  },
  {
   "cell_type": "code",
   "execution_count": null,
   "metadata": {
    "collapsed": true
   },
   "outputs": [],
   "source": [
    "### Seite 37 (im Text zwischen (4.12) und (4.13))\n",
    "def _N(n):\n",
    "    return np.diag([p for p in xrange(-n, 0, 1)])\n",
    "\n",
    "### Seite 55; (4.64)\n",
    "def _M(n):\n",
    "    return np.diag([p for p in xrange(0, n, 1)])\n",
    "\n",
    "### Seite 55; (4.64)\n",
    "def _P(l, k, n):\n",
    "    I = np.eye(n)\n",
    "    Mn = _M(n)\n",
    "    P = I\n",
    "    if k == 0:\n",
    "        pass # P=I\n",
    "    else:\n",
    "        for q in xrange(0, k, 1):\n",
    "            P = P * ((l-q)*I + Mn)\n",
    "    return cvx.matrix(P)"
   ]
  },
  {
   "cell_type": "code",
   "execution_count": null,
   "metadata": {
    "collapsed": true
   },
   "outputs": [],
   "source": [
    "##############################\n",
    "# Boris Paper UBoot          #\n",
    "##############################\n",
    "A = np.matrix([[0, 1, 0],\n",
    "              [0, 0, 1],\n",
    "              [0, 0, -0.005]])\n",
    "a = -A[-1][:].T ### !!!!!\n",
    "b = np.matrix([[0],[0],[1]])\n",
    "c = np.matrix([1, 0, 0])\n",
    "u_max = 2.5e-5\n",
    "n = 3\n",
    "\n",
    "X0 = [np.matrix([-10, -0.05, -0.0046]).T,\n",
    "      np.matrix([-10, -0.05, 0.0046]).T,\n",
    "      np.matrix([-10, 0.05, -0.0046]).T,\n",
    "      np.matrix([10, -0.05, 0.0046]).T,\n",
    "      np.matrix([10, -0.05, -0.0046]).T,\n",
    "      np.matrix([10, 0.05, 0.0046]).T]\n",
    "\n",
    "#print \"A:\\n\", A\n",
    "#print \"a:\\n\", a\n",
    "#print \"b:\\n\", b\n",
    "#print \"c:\\n\", c\n",
    "\n",
    "N = cvx.matrix(_N(n))\n",
    "M = cvx.matrix(_M(n))\n",
    "\n",
    "##### Entwurf parameter #####\n",
    "beta = 2 # beta >=1 !"
   ]
  },
  {
   "cell_type": "code",
   "execution_count": null,
   "metadata": {
    "collapsed": true
   },
   "outputs": [],
   "source": [
    "# S. 78 Boris (LMI-Entwurf)\n",
    "def convex_problem(gamma, mu=1):\n",
    "    ##############################\n",
    "    # Convex Problem (35)        #\n",
    "    ##############################\n",
    "    prob = pic.Problem()\n",
    "\n",
    "    # Constants\n",
    "    AA = pic.new_param('A', A)\n",
    "    II = pic.new_param('I_n', np.eye(n))\n",
    "    III = pic.new_param('I_n+1', np.eye(n+1))\n",
    "    aa = pic.new_param('a', a)\n",
    "    bb = pic.new_param('b', b)\n",
    "    XX0 = pic.new_param('X0', X0)\n",
    "\n",
    "    NN = pic.new_param('N', N)\n",
    "    MM = pic.new_param('M', M)\n",
    "\n",
    "    AA0 = pic.new_param('A0', AA+bb*aa.T)\n",
    "\n",
    "    ## REMARK THIS!!!! gamma is optimization variable but not convex, thus to be bisected to find \"bigg-ish\" value\n",
    "    gamma = pic.new_param('gamma', gamma)\n",
    "\n",
    "    # Problem\n",
    "    prob = pic.Problem()\n",
    "\n",
    "    # Parameters\n",
    "    QQ = prob.add_variable('Q', (n, n), vtype='symmetric')\n",
    "    zz = prob.add_variable('z', n)\n",
    "    zz_star = prob.add_variable('z_star', n)\n",
    "\n",
    "    # Objective\n",
    "    prob.set_objective('find', None)\n",
    "\n",
    "    # Constraints\n",
    "    #prob.add_constraint(QQ >> 0)\n",
    "    #prob.add_constraint(QQ*NN + NN*QQ << 0)\n",
    "    prob.add_constraint(QQ*AA0.T + AA0*QQ - zz*bb.T - bb*zz.T << 0)\n",
    "\n",
    "    ## (31) ???\n",
    "\n",
    "    prob.add_list_of_constraints([((1          & XX0[i].T) //\n",
    "                                   (XX0[i]     & QQ      )) >> 0\n",
    "                                       for i in range(0, len(X0))])\n",
    "\n",
    "    prob.add_constraint(QQ*AA0.T + AA0*QQ - zz_star*bb.T - bb*zz_star.T << -2*(gamma*QQ))\n",
    "    prob.solve(verbose=0, solver='cvxopt')\n",
    "    return prob"
   ]
  },
  {
   "cell_type": "code",
   "execution_count": null,
   "metadata": {
    "collapsed": false
   },
   "outputs": [],
   "source": [
    "## Lets bisect\n",
    "# Expects min_val to be valid, and max_val to be not valid\n",
    "# func only taking on (scalar) argument -> gamma\n",
    "def bisect_prob(min_val, max_val, func, diff=1e-5, max_iter=50, _iteration=0):\n",
    "    if _iteration > max_iter: \n",
    "        print \"Iter:\", _iteration\n",
    "        print \"Diff:\", (max_val - min_val)/2.0\n",
    "        return min_val, prob\n",
    "    elif (max_val - min_val)/2.0 <= diff:\n",
    "        print \"Iter:\", _iteration\n",
    "        print \"Diff:\", (max_val - min_val)/2.0\n",
    "        return min_val, prob\n",
    "    else:\n",
    "        mid_val = min_val+(max_val - min_val)/2.0\n",
    "        #print \"1. Evaluating: \", mid_val\n",
    "        try:\n",
    "            prob = func(mid_val)\n",
    "            Q = prob.get_valued_variable('Q')\n",
    "            z = prob.get_valued_variable('z')\n",
    "            z_star = prob.get_valued_variable('z_star')\n",
    "        except Exception as e:\n",
    "            #print \"Problem not solved!\"\n",
    "            #print e\n",
    "            max_val = mid_val\n",
    "        else:\n",
    "            #print \"Problem solved!\"\n",
    "            #print Q, z, z_star\n",
    "            min_val = mid_val\n",
    "        finally:\n",
    "            #print \"2. Recursing: \", min_val, max_val\n",
    "            return bisect_prob(min_val, max_val, func, diff, max_iter,_iteration+1)\n",
    "        #return min_val, max_val\n",
    "    "
   ]
  },
  {
   "cell_type": "code",
   "execution_count": null,
   "metadata": {
    "collapsed": false
   },
   "outputs": [],
   "source": [
    "#%%timeit ~4sec\n",
    "val, prob = bisect_prob(1, 50, convex_problem)\n",
    "print val\n",
    "print convex_problem(val).get_valued_variable('Q')"
   ]
  },
  {
   "cell_type": "code",
   "execution_count": null,
   "metadata": {
    "collapsed": false
   },
   "outputs": [],
   "source": []
  },
  {
   "cell_type": "code",
   "execution_count": null,
   "metadata": {
    "collapsed": false
   },
   "outputs": [],
   "source": [
    "prob = convex_problem(5.1)\n",
    "Q = None\n",
    "z = None\n",
    "z_star = None\n",
    "try:\n",
    "    Q = prob.get_valued_variable('Q')\n",
    "    z = prob.get_valued_variable('z')\n",
    "    z_star = prob.get_valued_variable('z_star')\n",
    "except Exception as e:\n",
    "    print \"Problem not solved!\"\n",
    "    print e\n",
    "else:\n",
    "    print \"Problem solved!\"\n",
    "    print Q, z, z_star\n",
    "#print prob.get_valued_variable('z')\n",
    "#print prob.get_valued_variable('z_star')\n",
    "\n",
    "#print \"P:\\n\", PP\n",
    "#print \"eig:\\n\", LA.eigvals(PP.value)\n",
    "\n",
    "#print \n",
    "#print \"AP+PA:\\n\",(AA.T*PP + PP*AA).value\n",
    "#print \"eig:\\n\", LA.eigvals((AA.T*PP + PP*AA).value)"
   ]
  },
  {
   "cell_type": "code",
   "execution_count": null,
   "metadata": {
    "collapsed": true
   },
   "outputs": [],
   "source": []
  },
  {
   "cell_type": "code",
   "execution_count": null,
   "metadata": {
    "collapsed": true
   },
   "outputs": [],
   "source": []
  },
  {
   "cell_type": "code",
   "execution_count": null,
   "metadata": {
    "collapsed": true
   },
   "outputs": [],
   "source": [
    "## Seite 47 Boris\n",
    "# Wähle p_min, mu_start, zeta, zeta_start\n",
    "def step1(p_min, mu_start, zeta, zeta_start):\n",
    "    # Löse (A.15) mit mu = 1 -> l_star -> lambda_hat_i(1)=lambda_i(A-b*l_star.T)\n",
    "    "
   ]
  },
  {
   "cell_type": "code",
   "execution_count": null,
   "metadata": {
    "collapsed": true
   },
   "outputs": [],
   "source": []
  },
  {
   "cell_type": "code",
   "execution_count": null,
   "metadata": {
    "collapsed": true
   },
   "outputs": [],
   "source": []
  },
  {
   "cell_type": "code",
   "execution_count": null,
   "metadata": {
    "collapsed": true
   },
   "outputs": [],
   "source": []
  },
  {
   "cell_type": "code",
   "execution_count": null,
   "metadata": {
    "collapsed": true
   },
   "outputs": [],
   "source": []
  },
  {
   "cell_type": "code",
   "execution_count": null,
   "metadata": {
    "collapsed": true
   },
   "outputs": [],
   "source": []
  },
  {
   "cell_type": "code",
   "execution_count": null,
   "metadata": {
    "collapsed": true
   },
   "outputs": [],
   "source": []
  },
  {
   "cell_type": "code",
   "execution_count": null,
   "metadata": {
    "collapsed": true
   },
   "outputs": [],
   "source": []
  }
 ],
 "metadata": {
  "kernelspec": {
   "display_name": "Python 2",
   "language": "python",
   "name": "python2"
  },
  "language_info": {
   "codemirror_mode": {
    "name": "ipython",
    "version": 2
   },
   "file_extension": ".py",
   "mimetype": "text/x-python",
   "name": "python",
   "nbconvert_exporter": "python",
   "pygments_lexer": "ipython2",
   "version": "2.7.12"
  }
 },
 "nbformat": 4,
 "nbformat_minor": 1
}
