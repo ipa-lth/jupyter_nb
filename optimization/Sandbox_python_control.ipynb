{
 "cells": [
  {
   "cell_type": "code",
   "execution_count": null,
   "metadata": {
    "collapsed": false,
    "scrolled": true
   },
   "outputs": [],
   "source": [
    "import numpy as np\n",
    "import matplotlib.pyplot as plt\n",
    "%pylab inline"
   ]
  },
  {
   "cell_type": "code",
   "execution_count": null,
   "metadata": {
    "collapsed": true
   },
   "outputs": [],
   "source": [
    "import control as con"
   ]
  },
  {
   "cell_type": "code",
   "execution_count": null,
   "metadata": {
    "collapsed": false
   },
   "outputs": [],
   "source": [
    "K = 1\n",
    "d = 0.5\n",
    "T = 10\n",
    "delay = 10\n",
    "\n",
    "a0 = 1\n",
    "a1 = (2 * d * T) #16\n",
    "a2 = (T**2) #100\n",
    "b0 = K\n",
    "\n",
    "tf_1 = con.matlab.tf(K, [a2, a1, a0])\n",
    "#print tf_1\n",
    "ss_1a = con.matlab.tf2ss(tf_1)\n",
    "#print ss_1a\n",
    "\n",
    "d_num, d_den = con.pade(delay, 1)\n",
    "tf_delay = con.tf(d_num, d_den)\n",
    "ss_delay = con.series(tf_delay, tf_1)\n",
    "\n",
    "#print con.matlab.tf2ss(ss_delay)"
   ]
  },
  {
   "cell_type": "code",
   "execution_count": null,
   "metadata": {
    "collapsed": false
   },
   "outputs": [],
   "source": [
    "d_yout, d_T = con.matlab.step(ss_delay)\n",
    "yout, T = con.matlab.step(tf_1) # step without delay\n",
    "\n",
    "plt.plot(d_T, d_yout, 'r-', label='poly_est')\n",
    "plt.plot(np.add(d_T, delay), yout, 'g-', label='idealized') #delay in timeaxis!"
   ]
  },
  {
   "cell_type": "code",
   "execution_count": null,
   "metadata": {
    "collapsed": false
   },
   "outputs": [],
   "source": []
  },
  {
   "cell_type": "code",
   "execution_count": null,
   "metadata": {
    "collapsed": false
   },
   "outputs": [],
   "source": [
    "%matplotlib inline\n",
    "\n",
    "import matplotlib\n",
    "import matplotlib.pyplot as plt\n",
    "\n",
    "import control\n",
    "from control.matlab import *\n",
    "x = [[1],[2],[3]]\n",
    "#x_dot = np.dot(A, x) + np.dot(b, .0) # x° = Ax + bu\n",
    "#show(x_dot)\n",
    "#y = np.dot(c, x)# + np.dot(d, .0) # y = cx + du\n",
    "#show(y)\n",
    "#uboot_ss = control.ss(A, b, c, d)\n",
    "#control.pole(uboot_ss)\n",
    "#control.bode_plot(control.feedback(uboot_ss))\n",
    "\n",
    "A = [[0, 1, 0], [0, 0, 1], [0, 0, -0.005]]\n",
    "B = [[1], [0], [0]]\n",
    "C = [[1., 0, 0]]\n",
    "D = [[0.]]\n",
    "sys1 = control.ss(A, B, C, D)\n",
    "#mag, phase, omega = bode(sys1)\n",
    "arr1, arr2 = control.step(sys1)\n",
    "\n",
    "control.pole(sys1)\n",
    "#mag, phase, omega = control.bode(control.feedback(sys1))\n",
    "\n",
    "#sys = ss(\"0. 1 0; 0. 0 1; 0 0 -0.005\", \"0; 0; 1\", \"1 0 0\", \"0\")\n",
    "#mag, phase, omega = bode(sys)\n",
    "#real, imag, freq = control.nyquist_plot(control.feedback(sys1))\n",
    "control.matlab.pzmap(control.feedback(sys1))"
   ]
  },
  {
   "cell_type": "code",
   "execution_count": null,
   "metadata": {
    "collapsed": false
   },
   "outputs": [],
   "source": [
    "import numpy as np\n",
    "import sympy as sp\n",
    "from sympy import init_printing\n",
    "from sympy import pprint as show\n",
    "from __future__ import division\n",
    "\n",
    "def sat(v, u_max):\n",
    "    return np.clip(v, -u_max, u_max)\n",
    "\n",
    "#Test\n",
    "#print sat([2,-3,4,1], 2)\n",
    "#print sat([[2, 3],[-3, -4],[4, 0],[1, 0.5]], 3)"
   ]
  },
  {
   "cell_type": "code",
   "execution_count": null,
   "metadata": {
    "collapsed": true
   },
   "outputs": [],
   "source": [
    "# uboot\n",
    "A = np.matrix([[0., 1., 0.],\n",
    "              [0., 0., 1.],\n",
    "              [0., 0., -0.005]])\n",
    "a = A[np.array(A).shape[1]-1] #last line of Regelungsnormalform (characteristical polynom coefficients)\n",
    "\n",
    "b = np.matrix([[0], [0], [1.]])\n",
    "\n",
    "d = 0\n",
    "c = np.matrix([[1], [0], [0]])\n",
    "\n",
    "u_max = 2.5e-5\n",
    "\n",
    "#simulation time\n",
    "T = 1.0/100.0\n",
    "\n",
    "#Introduced for fun\n",
    "u_max_sys = 2.5e-5"
   ]
  },
  {
   "cell_type": "code",
   "execution_count": null,
   "metadata": {
    "collapsed": false
   },
   "outputs": [],
   "source": [
    "from IPython.display import clear_output\n",
    "# Some other regulator\n",
    "max_iter = 150000\n",
    "\n",
    "# Initial state\n",
    "x0 = np.array([[0],[0],[-0.004]])\n",
    "\n",
    "# Timeloop\n",
    "x_t = x0\n",
    "y_t = np.zeros(max_iter)\n",
    "u_t = np.zeros(max_iter)\n",
    "\n",
    "k_t = np.matrix([[  1.67656250e-06],\n",
    "                [  3.07437500e-04],\n",
    "                [  3.10195000e-02]]\n",
    ")\n",
    "\n",
    "for t in range(1, max_iter):\n",
    "    ## Calc u\n",
    "    #print k_t\n",
    "    #print x_t\n",
    "    u = np.dot(-k_t.T, x_t)\n",
    "    #print u\n",
    "    if t%10000 == 1:\n",
    "        clear_output()\n",
    "        print t*T, \"seconds done ->\", t/max_iter*100, \"%\"\n",
    "    #u = sat(u[0][0], u_max)\n",
    "    #print u\n",
    "    \n",
    "    ## System response\n",
    "    # System saturation u (trivial if u_max and u_max_sys are identical)\n",
    "    # Calc x_dot\n",
    "    #show(A)\n",
    "    #show(x_t)\n",
    "    x_dot = np.dot(A, x_t) + b * sat(u, u_max_sys)\n",
    "    #print x_dot\n",
    "    #print b*u\n",
    "    #print x_dot + b*u\n",
    "    x_t = x_t + x_dot*T\n",
    "    #print x_t\n",
    "    y_t[t] = x_t[0]\n",
    "    u_t[t] = u\n",
    "\n",
    "#print y_t\n",
    "import matplotlib.pyplot as plt\n",
    "\n",
    "plt.plot(np.arange(0, len(y_t))*T, y_t, 'b')\n",
    "plt.xlabel('t [s]')\n",
    "plt.ylabel('y(t)')"
   ]
  },
  {
   "cell_type": "raw",
   "metadata": {
    "collapsed": false
   },
   "source": [
    "https://www.eit.hs-karlsruhe.de/mesysto/teil-a-zeitkontinuierliche-signale-und-systeme/darstellung-von-systemen-im-zustandsraum/transformation-auf-eine-bestimmte-darstellungsform/transformation-einer-zustandsgleichung-in-regelungsnormalform.html"
   ]
  },
  {
   "cell_type": "code",
   "execution_count": null,
   "metadata": {
    "collapsed": false
   },
   "outputs": [],
   "source": [
    "from IPython.display import Image\n",
    "from IPython.core.display import HTML\n",
    "Image(url = \"https://www.eit.hs-karlsruhe.de/mesysto/fileadmin/images/Skript_SYS_V_10_0_2/Kapitel_10_3/Grafik_10_3_7_HQ.png\")"
   ]
  },
  {
   "cell_type": "code",
   "execution_count": null,
   "metadata": {
    "collapsed": false
   },
   "outputs": [],
   "source": [
    "from numpy import linalg as LA\n",
    "\n",
    "# Berechnung der inversen Steuerbarkeitsmatrix\n",
    "n = A.shape[0]\n",
    "Q = b #\n",
    "for i in range(1, n):\n",
    "    Q = np.hstack([Q, LA.matrix_power(A,i)*b])\n",
    "Q_inv = LA.inv(Q)\n",
    "\n",
    "print Q_inv"
   ]
  },
  {
   "cell_type": "code",
   "execution_count": null,
   "metadata": {
    "collapsed": false
   },
   "outputs": [],
   "source": [
    "#Zeilenvektor t_1.T entspricht der letzten Zeile der inversen Steuerbarkeitsmatrix\n",
    "Image(url=\"https://www.eit.hs-karlsruhe.de/mesysto/fileadmin/images/Skript_SYS_V_10_0_2/Kapitel_10_3/Formel_10_3_51_HQ.png\")"
   ]
  },
  {
   "cell_type": "code",
   "execution_count": null,
   "metadata": {
    "collapsed": false
   },
   "outputs": [],
   "source": [
    "t1 = Q_inv[-1,:]\n",
    "print t1"
   ]
  },
  {
   "cell_type": "code",
   "execution_count": null,
   "metadata": {
    "collapsed": false
   },
   "outputs": [],
   "source": [
    "# Berechnung der Transformationsmatrix \n",
    "Image(url=\"https://www.eit.hs-karlsruhe.de/mesysto/fileadmin/images/Skript_SYS_V_10_0_2/Kapitel_10_3/Grafik_10_3_8_HQ.png\")"
   ]
  },
  {
   "cell_type": "code",
   "execution_count": null,
   "metadata": {
    "collapsed": false
   },
   "outputs": [],
   "source": [
    "n = A.shape[0]\n",
    "T = t1\n",
    "for i in range(1, n):\n",
    "    T = np.vstack([T, t1*LA.matrix_power(A,i)])\n",
    "print T"
   ]
  },
  {
   "cell_type": "code",
   "execution_count": null,
   "metadata": {
    "collapsed": false,
    "scrolled": false
   },
   "outputs": [],
   "source": [
    "#Bestimmung der Zustandsraumdarstellung in Regelungsnormalform \n",
    "Image(url=\"https://www.eit.hs-karlsruhe.de/mesysto/fileadmin/images/Skript_SYS_V_10_0_2/Kapitel_10_3/Grafik_10_3_9_HQ.png\")"
   ]
  },
  {
   "cell_type": "code",
   "execution_count": null,
   "metadata": {
    "collapsed": false
   },
   "outputs": [],
   "source": [
    "Image(url=\"https://www.eit.hs-karlsruhe.de/mesysto/fileadmin/images/Skript_SYS_V_10_0_2/Kapitel_10_3/Grafik_10_3_10_HQ.png\")"
   ]
  },
  {
   "cell_type": "code",
   "execution_count": null,
   "metadata": {
    "collapsed": false
   },
   "outputs": [],
   "source": [
    "A0 = T*A*LA.inv(T)\n",
    "b0 = T*b\n",
    "c0 = (c.T * LA.inv(T)).T\n",
    "print A0, \"\\n\", b0, \"\\n\", c0"
   ]
  },
  {
   "cell_type": "code",
   "execution_count": null,
   "metadata": {
    "collapsed": false
   },
   "outputs": [],
   "source": [
    "import optim_tools as tools\n",
    "\n",
    "A = np.matrix([[-4, -2], [1, -1]])\n",
    "b = np.matrix([[1], [0]])\n",
    "c = np.matrix([[4],[0]])\n",
    "d = 0\n",
    "\n",
    "(A0, b0, c0, d0), Q = tools.get_Steuerungsnormalform(A, b, c, d)\n",
    "\n",
    "print A0\n",
    "print b0\n",
    "print c0\n",
    "print d0"
   ]
  },
  {
   "cell_type": "code",
   "execution_count": null,
   "metadata": {
    "collapsed": true
   },
   "outputs": [],
   "source": []
  },
  {
   "cell_type": "code",
   "execution_count": null,
   "metadata": {
    "collapsed": true
   },
   "outputs": [],
   "source": []
  },
  {
   "cell_type": "code",
   "execution_count": null,
   "metadata": {
    "collapsed": false
   },
   "outputs": [],
   "source": [
    "# uboot\n",
    "A = np.matrix([[0., 1., 0.],\n",
    "              [0., 0., 1.],\n",
    "              [0., 0., -0.005]])\n",
    "a = -A[-1][:].T #!!!!\n",
    "\n",
    "b = np.matrix([[0], [0], [1.]])\n",
    "\n",
    "d = 0\n",
    "c = np.matrix([[1], [0], [0]])\n",
    "\n",
    "sys = control.ss(A, b, c.T, d)\n",
    "\n",
    "#mag, phase, omega = bode(sys1)\n",
    "#arr1, arr2 = control.step(sys)\n",
    "#plt.plot(arr2, arr1)\n",
    "#plt.show()\n",
    "plt.axis([-2, .01, -1.1, 1.1])\n",
    "control.matlab.pzmap(sys)\n",
    "\n",
    "roots = [-1, -1+1j, -1-1j]\n",
    "\n",
    "k = control.place(A, b, roots)\n",
    "print k\n",
    "\n",
    "a_tilde = np.matrix(np.poly(roots)[:0:-1]).T\n",
    "#print a_tilde\n",
    "k1 = a_tilde - a\n",
    "\n",
    "print \"a~\", a_tilde\n",
    "print \"a\", a\n",
    "print \"k1\", k1\n",
    "\n",
    "control.matlab.pzmap(control.ss(A-b*k, b, c.T, d))"
   ]
  },
  {
   "cell_type": "code",
   "execution_count": null,
   "metadata": {
    "collapsed": false
   },
   "outputs": [],
   "source": [
    "xx = np.array([1,2,3,4,5,6])\n",
    "\n",
    "xx[:0:-1]"
   ]
  },
  {
   "cell_type": "code",
   "execution_count": null,
   "metadata": {
    "collapsed": true
   },
   "outputs": [],
   "source": []
  },
  {
   "cell_type": "code",
   "execution_count": null,
   "metadata": {
    "collapsed": true
   },
   "outputs": [],
   "source": []
  },
  {
   "cell_type": "code",
   "execution_count": null,
   "metadata": {
    "collapsed": true
   },
   "outputs": [],
   "source": []
  },
  {
   "cell_type": "code",
   "execution_count": null,
   "metadata": {
    "collapsed": true
   },
   "outputs": [],
   "source": []
  },
  {
   "cell_type": "code",
   "execution_count": null,
   "metadata": {
    "collapsed": true
   },
   "outputs": [],
   "source": []
  },
  {
   "cell_type": "code",
   "execution_count": null,
   "metadata": {
    "collapsed": true
   },
   "outputs": [],
   "source": []
  },
  {
   "cell_type": "code",
   "execution_count": null,
   "metadata": {
    "collapsed": true
   },
   "outputs": [],
   "source": []
  },
  {
   "cell_type": "code",
   "execution_count": null,
   "metadata": {
    "collapsed": true
   },
   "outputs": [],
   "source": []
  },
  {
   "cell_type": "code",
   "execution_count": null,
   "metadata": {
    "collapsed": true
   },
   "outputs": [],
   "source": []
  },
  {
   "cell_type": "code",
   "execution_count": null,
   "metadata": {
    "collapsed": true
   },
   "outputs": [],
   "source": []
  }
 ],
 "metadata": {
  "kernelspec": {
   "display_name": "Python 2",
   "language": "python",
   "name": "python2"
  },
  "language_info": {
   "codemirror_mode": {
    "name": "ipython",
    "version": 2
   },
   "file_extension": ".py",
   "mimetype": "text/x-python",
   "name": "python",
   "nbconvert_exporter": "python",
   "pygments_lexer": "ipython2",
   "version": "2.7.12"
  }
 },
 "nbformat": 4,
 "nbformat_minor": 2
}
