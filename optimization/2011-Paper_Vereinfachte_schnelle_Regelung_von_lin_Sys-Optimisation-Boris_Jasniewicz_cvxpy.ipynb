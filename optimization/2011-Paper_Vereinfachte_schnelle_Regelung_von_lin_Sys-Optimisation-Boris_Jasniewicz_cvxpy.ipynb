{
 "cells": [
  {
   "cell_type": "code",
   "execution_count": null,
   "metadata": {
    "collapsed": true
   },
   "outputs": [],
   "source": [
    "import numpy as np\n",
    "import control as con\n",
    "from numpy import linalg as LA\n",
    "\n",
    "import cvxpy\n",
    "import optim_tools as optim_tools#own file with helper"
   ]
  },
  {
   "cell_type": "code",
   "execution_count": null,
   "metadata": {
    "collapsed": true
   },
   "outputs": [],
   "source": [
    "##############################\n",
    "# Boris Paper UBoot          #\n",
    "##############################\n",
    "A = np.matrix([[0, 1, 0],\n",
    "              [0, 0, 1],\n",
    "              [0, 0, -0.005]])\n",
    "a = -A[-1][:].T ### !!!!!\n",
    "b = np.matrix([[0],[0],[1]])\n",
    "c = np.matrix([1, 0, 0])\n",
    "u_max = 2.5e-5\n",
    "n = 3\n",
    "\n",
    "X0 = [np.matrix([-10, -0.05, -0.0046]).T,\n",
    "      np.matrix([-10, -0.05, 0.0046]).T,\n",
    "      np.matrix([-10, 0.05, -0.0046]).T,\n",
    "      np.matrix([10, -0.05, 0.0046]).T,\n",
    "      np.matrix([10, -0.05, -0.0046]).T,\n",
    "      np.matrix([10, 0.05, 0.0046]).T]\n",
    "\n",
    "#print \"A:\\n\", A\n",
    "#print \"a:\\n\", a\n",
    "#print \"b:\\n\", b\n",
    "#print \"c:\\n\", c\n",
    "\n",
    "N = cvx.matrix(_N(n))\n",
    "M = cvx.matrix(_M(n))\n",
    "\n",
    "##### Entwurf parameter #####\n",
    "beta = 2 # beta >=1 !"
   ]
  },
  {
   "cell_type": "code",
   "execution_count": null,
   "metadata": {
    "collapsed": true
   },
   "outputs": [],
   "source": [
    "######################################################\n",
    "# Helper for Constraint variant (4.65) -> Q_sum      #\n",
    "######################################################\n",
    "\n",
    "# TODO: Was ist m? Kann man das berechnen oder wird das festgelegt m<=2n-1, meistens n+1?\n",
    "\n",
    "from scipy.special import comb as nchoosek # n Choose k (n ueber k)\n",
    "\n",
    "def get_a_list(a, Q, z, m):\n",
    "    n = len(a) # dim of a, z, Q(nxn)\n",
    "    m = m # Is this to choose or somehow given?\n",
    "    l = m+1 # length of the array with all a_i in it i:{0,m}\n",
    "    H = lambda k: optim_tools._H(k, n) # Convinence function to fix n and make specialized H(k)\n",
    "    N = optim_tools._N(n)\n",
    "\n",
    "    a_list = [np.zeros((n, n))] * l\n",
    "    for i in range(0, l): # m eingeschlossen\n",
    "        if i <= (m-1)/2.0: # 0 <= i <= (m-1)/2\n",
    "            for k in range(1, i+1):\n",
    "                a_list[i] += a.T * H(n+k-i)*Q*N*H(n-k+1)*a - z.T*N*H(n-i)*a\n",
    "        elif i <= m: # (m-1)/2 < i <=m\n",
    "            for k in range(1, 2*n-i+1):\n",
    "                a_list[i] += a.T * H(k)*Q*N*H(2*n-i-k+1)*a\n",
    "        else:\n",
    "            # this branch is currently not possible in this program\n",
    "            print \"i={} < m={}\".format(i, m)\n",
    "            a_list[i] = 0\n",
    "            \n",
    "    return a_list\n",
    "\n",
    "\n",
    "def trans_a_list(a_list, eps):\n",
    "    l = len(a_list)\n",
    "    m = l-1 #biggest index in a_list\n",
    "    a1_list = [np.zeros(a_list[0].shape)] * l\n",
    "    for j in range(0, l): #for each in a_list\n",
    "        for i in range(j, l): # for each coefficient including m\n",
    "            a1_list[j] += nchoosek(i, i-j) * ((1.0+eps)/(1.0-eps))**(i-j) * ((1.0-eps)/(2.0))**i * a_list[i]\n",
    "    return a1_list\n",
    "\n",
    "def calc_a_Sum(a_list):\n",
    "    l = len(a_list) # number of matrizen in a_list\n",
    "    m = l-1 # Index of Q_m\n",
    "    n = a_list[0].size[0] # shape of each matrix, first element\n",
    "    \n",
    "    if m is 0:\n",
    "        a_sum = cvxpy.bmat([[2*a_list[0],   np.zeros(n)], \n",
    "                            [np.zeros(n), np.zeros(n)]])\n",
    "    elif m is 1:\n",
    "        a_sum = cvxpy.bmat([[2*a_list[0], a_list[1]],\n",
    "                            [a_list[1],   np.zeros(n)]])\n",
    "    else: # e.g. m is 2 or more\n",
    "        a_sum = cvxpy.bmat([[2*a_list[0], a_list[1]],\n",
    "                            [a_list[1], 2*a_list[2]]])\n",
    "\n",
    "    for i1 in range(3, l, 2):\n",
    "        S_new_col = cvxpy.vstack(np.zeros((((i1+1)/2-1)*n, n)), a_list[i1])\n",
    "\n",
    "        if i1 is m:\n",
    "            S_new_row = cvxpy.hstack(np.zeros((n, ((i1+1)/2-1)*n)), a_list[i1], np.zeros((n,n)))\n",
    "        else:\n",
    "            S_new_row = cvxpy.hstack(np.zeros((n, ((i1+1)/2-1)*n)), a_list[i1], 2*a_list[i1+1])\n",
    "\n",
    "        a_sum = cvxpy.bmat([[a_sum, S_new_col],\n",
    "                            [S_new_row]])\n",
    "\n",
    "    a_sum = -0.5*a_sum\n",
    "    \n",
    "    return a_sum\n",
    "\n",
    "def calc_lmi_cond(a_sum, n):\n",
    "    k = a_sum.size[1] / n # This dimension is from Boris. Dilyana does not specifiy the dimension though\n",
    "\n",
    "    J = np.hstack([np.zeros((n*(k-1), n)), np.eye(n*(k-1))])\n",
    "    C = np.hstack([np.eye(n*(k-1)), np.zeros((n*(k-1), n))])\n",
    "    return np.vstack([C, J]), n*(k-1)"
   ]
  },
  {
   "cell_type": "code",
   "execution_count": null,
   "metadata": {
    "collapsed": true
   },
   "outputs": [],
   "source": [
    "# S. 78 Boris (LMI-Entwurf)\n",
    "def convex_problem(gamma, mu=1):\n",
    "    ##############################\n",
    "    # Convex Problem (35)        #\n",
    "    ##############################\n",
    "    prob = pic.Problem()\n",
    "\n",
    "    # Constants\n",
    "    AA = pic.new_param('A', A)\n",
    "    II = pic.new_param('I_n', np.eye(n))\n",
    "    III = pic.new_param('I_n+1', np.eye(n+1))\n",
    "    aa = pic.new_param('a', a)\n",
    "    bb = pic.new_param('b', b)\n",
    "    XX0 = pic.new_param('X0', X0)\n",
    "\n",
    "    NN = pic.new_param('N', N)\n",
    "    MM = pic.new_param('M', M)\n",
    "\n",
    "    AA0 = pic.new_param('A0', AA+bb*aa.T)\n",
    "\n",
    "    ## REMARK THIS!!!! gamma is optimization variable but not convex, thus to be bisected to find \"bigg-ish\" value\n",
    "    gamma = pic.new_param('gamma', gamma)\n",
    "\n",
    "    # Problem\n",
    "    prob = pic.Problem()\n",
    "\n",
    "    # Parameters\n",
    "    QQ = prob.add_variable('Q', (n, n), vtype='symmetric')\n",
    "    zz = prob.add_variable('z', n)\n",
    "    zz_star = prob.add_variable('z_star', n)\n",
    "\n",
    "    # Objective\n",
    "    prob.set_objective('find', None)\n",
    "\n",
    "    # Constraints\n",
    "    #prob.add_constraint(QQ >> 0)\n",
    "    #prob.add_constraint(QQ*NN + NN*QQ << 0)\n",
    "    prob.add_constraint(QQ*AA0.T + AA0*QQ - zz*bb.T - bb*zz.T << 0)\n",
    "\n",
    "    ## (31) ???\n",
    "\n",
    "    prob.add_list_of_constraints([((1          & XX0[i].T) //\n",
    "                                   (XX0[i]     & QQ      )) >> 0\n",
    "                                       for i in range(0, len(X0))])\n",
    "\n",
    "    prob.add_constraint(QQ*AA0.T + AA0*QQ - zz_star*bb.T - bb*zz_star.T << -2*(gamma*QQ))\n",
    "    prob.solve(verbose=0, solver='cvxopt')\n",
    "    return prob"
   ]
  },
  {
   "cell_type": "code",
   "execution_count": null,
   "metadata": {
    "collapsed": false
   },
   "outputs": [],
   "source": [
    "## Lets bisect\n",
    "# Expects min_val to be valid, and max_val to be not valid\n",
    "# func only taking on (scalar) argument -> gamma\n",
    "def bisect_prob(min_val, max_val, func, diff=1e-5, max_iter=50, _iteration=0):\n",
    "    if _iteration > max_iter: \n",
    "        print \"Iter:\", _iteration\n",
    "        print \"Diff:\", (max_val - min_val)/2.0\n",
    "        return min_val, prob\n",
    "    elif (max_val - min_val)/2.0 <= diff:\n",
    "        print \"Iter:\", _iteration\n",
    "        print \"Diff:\", (max_val - min_val)/2.0\n",
    "        return min_val, prob\n",
    "    else:\n",
    "        mid_val = min_val+(max_val - min_val)/2.0\n",
    "        #print \"1. Evaluating: \", mid_val\n",
    "        try:\n",
    "            prob = func(mid_val)\n",
    "            Q = prob.get_valued_variable('Q')\n",
    "            z = prob.get_valued_variable('z')\n",
    "            z_star = prob.get_valued_variable('z_star')\n",
    "        except Exception as e:\n",
    "            #print \"Problem not solved!\"\n",
    "            #print e\n",
    "            max_val = mid_val\n",
    "        else:\n",
    "            #print \"Problem solved!\"\n",
    "            #print Q, z, z_star\n",
    "            min_val = mid_val\n",
    "        finally:\n",
    "            #print \"2. Recursing: \", min_val, max_val\n",
    "            return bisect_prob(min_val, max_val, func, diff, max_iter,_iteration+1)\n",
    "        #return min_val, max_val\n",
    "    "
   ]
  },
  {
   "cell_type": "code",
   "execution_count": null,
   "metadata": {
    "collapsed": false
   },
   "outputs": [],
   "source": [
    "#%%timeit ~4sec\n",
    "val, prob = bisect_prob(1, 50, convex_problem)\n",
    "print val\n",
    "print convex_problem(val).get_valued_variable('Q')"
   ]
  },
  {
   "cell_type": "code",
   "execution_count": null,
   "metadata": {
    "collapsed": false
   },
   "outputs": [],
   "source": []
  },
  {
   "cell_type": "code",
   "execution_count": null,
   "metadata": {
    "collapsed": false
   },
   "outputs": [],
   "source": [
    "prob = convex_problem(5.1)\n",
    "Q = None\n",
    "z = None\n",
    "z_star = None\n",
    "try:\n",
    "    Q = prob.get_valued_variable('Q')\n",
    "    z = prob.get_valued_variable('z')\n",
    "    z_star = prob.get_valued_variable('z_star')\n",
    "except Exception as e:\n",
    "    print \"Problem not solved!\"\n",
    "    print e\n",
    "else:\n",
    "    print \"Problem solved!\"\n",
    "    print Q, z, z_star\n",
    "#print prob.get_valued_variable('z')\n",
    "#print prob.get_valued_variable('z_star')\n",
    "\n",
    "#print \"P:\\n\", PP\n",
    "#print \"eig:\\n\", LA.eigvals(PP.value)\n",
    "\n",
    "#print \n",
    "#print \"AP+PA:\\n\",(AA.T*PP + PP*AA).value\n",
    "#print \"eig:\\n\", LA.eigvals((AA.T*PP + PP*AA).value)"
   ]
  },
  {
   "cell_type": "code",
   "execution_count": null,
   "metadata": {
    "collapsed": true
   },
   "outputs": [],
   "source": []
  },
  {
   "cell_type": "code",
   "execution_count": null,
   "metadata": {
    "collapsed": true
   },
   "outputs": [],
   "source": []
  },
  {
   "cell_type": "code",
   "execution_count": null,
   "metadata": {
    "collapsed": true
   },
   "outputs": [],
   "source": [
    "## Seite 47 Boris\n",
    "# Wähle p_min, mu_start, zeta, zeta_start\n",
    "def step1(p_min, mu_start, zeta, zeta_start):\n",
    "    # Löse (A.15) mit mu = 1 -> l_star -> lambda_hat_i(1)=lambda_i(A-b*l_star.T)\n",
    "    "
   ]
  },
  {
   "cell_type": "code",
   "execution_count": null,
   "metadata": {
    "collapsed": true
   },
   "outputs": [],
   "source": []
  },
  {
   "cell_type": "code",
   "execution_count": null,
   "metadata": {
    "collapsed": true
   },
   "outputs": [],
   "source": []
  },
  {
   "cell_type": "code",
   "execution_count": null,
   "metadata": {
    "collapsed": true
   },
   "outputs": [],
   "source": []
  },
  {
   "cell_type": "code",
   "execution_count": null,
   "metadata": {
    "collapsed": true
   },
   "outputs": [],
   "source": []
  },
  {
   "cell_type": "code",
   "execution_count": null,
   "metadata": {
    "collapsed": true
   },
   "outputs": [],
   "source": []
  },
  {
   "cell_type": "code",
   "execution_count": null,
   "metadata": {
    "collapsed": true
   },
   "outputs": [],
   "source": []
  },
  {
   "cell_type": "code",
   "execution_count": null,
   "metadata": {
    "collapsed": true
   },
   "outputs": [],
   "source": []
  }
 ],
 "metadata": {
  "kernelspec": {
   "display_name": "Python 2",
   "language": "python",
   "name": "python2"
  },
  "language_info": {
   "codemirror_mode": {
    "name": "ipython",
    "version": 2
   },
   "file_extension": ".py",
   "mimetype": "text/x-python",
   "name": "python",
   "nbconvert_exporter": "python",
   "pygments_lexer": "ipython2",
   "version": "2.7.12"
  }
 },
 "nbformat": 4,
 "nbformat_minor": 1
}
