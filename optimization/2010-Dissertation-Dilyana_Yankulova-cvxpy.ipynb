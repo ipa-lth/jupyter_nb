{
 "cells": [
  {
   "cell_type": "code",
   "execution_count": null,
   "metadata": {
    "collapsed": true
   },
   "outputs": [],
   "source": [
    "import numpy as np\n",
    "import control as con\n",
    "from numpy import linalg as LA\n",
    "\n",
    "import cvxpy\n",
    "import optim_tools as optim_tools#own file with helper"
   ]
  },
  {
   "cell_type": "code",
   "execution_count": null,
   "metadata": {
    "collapsed": false
   },
   "outputs": [],
   "source": [
    "###########################\n",
    "# Hydraulischer Aktor     #\n",
    "###########################\n",
    "\n",
    "A0 = np.matrix([[0,   1,       0],\n",
    "                [-10, -1.167, 25],\n",
    "                [0,   0,    -0.8]])\n",
    "print \"Eigenvalues: {}\".format(LA.eigvals(A0))\n",
    "#a = -A[-1,:].T ### !!!!!\n",
    "#print a\n",
    "b0 = np.matrix([[0],[0],[2.4]])\n",
    "c0 = np.matrix([1, 0, 0])\n",
    "d0 = np.matrix([0])\n",
    "u_max = 10.5\n",
    "n = 3\n",
    "\n",
    "X0 = [np.matrix([-20.0, -10, -10]).T,\n",
    "      np.matrix([-20.0, -10, 10]).T,\n",
    "      np.matrix([-20.0,  10, -10]).T,\n",
    "      np.matrix([20.0,  -10, 10]).T,\n",
    "      np.matrix([20.0,  -10, -10]).T,\n",
    "      np.matrix([20.0,   10, 10]).T]\n",
    "\n",
    "#print \"A:\\n\", A\n",
    "#print \"a:\\n\", a\n",
    "#print \"b:\\n\", b\n",
    "#print \"c:\\n\", c\n",
    "\n",
    "\n",
    "# Convert to Normalform\n",
    "ss, T = con.canonical_form(con.ss(A0, b0, c0, d0), form='reachable')\n",
    "\n",
    "A = optim_tools.reverse_x_order(np.matrix(ss.A))\n",
    "a = -A[-1][:].T #!!!!\n",
    "\n",
    "b = optim_tools.reverse_x_order(np.matrix(ss.B))\n",
    "c = optim_tools.reverse_x_order(np.matrix(ss.C))\n",
    "d = optim_tools.reverse_x_order(np.matrix(ss.D)) # == 0!\n",
    "\n",
    "print \"A:\\n\", A\n",
    "print \"a:\\n\", a\n",
    "print \"b:\\n\", b\n",
    "print \"c:\\n\", c"
   ]
  },
  {
   "cell_type": "code",
   "execution_count": null,
   "metadata": {
    "collapsed": false
   },
   "outputs": [],
   "source": []
  },
  {
   "cell_type": "code",
   "execution_count": null,
   "metadata": {
    "collapsed": false
   },
   "outputs": [],
   "source": [
    "# TODO: Was ist m? Kann man das berechnen oder wird das festgelegt m<=2n-1, meistens n+1?\n",
    "\n",
    "def get_a_list(a, Q, z, m):\n",
    "    n = len(a) # dim of a, z, Q(nxn)\n",
    "    m = m # Is this to choose or somehow given?\n",
    "    l = m+1 # length of the array with all a_i in it i:{0,m}\n",
    "    H = lambda k: optim_tools._H(k, n) # Convinence function to fix n and make specialized H(k)\n",
    "    N = optim_tools._N(n)\n",
    "\n",
    "    a_list = [np.zeros((n, n))] * l\n",
    "    for i in range(0, l): # m eingeschlossen\n",
    "        if i <= (m-1)/2.0: # 0 <= i <= (m-1)/2\n",
    "            for k in range(1, i+1):\n",
    "                a_list[i] += a.T * H(n+k-i)*Q*N*H(n-k+1)*a - z.T*N*H(n-i)*a\n",
    "        elif i <= m: # (m-1)/2 < i <=m\n",
    "            for k in range(1, 2*n-i+1):\n",
    "                a_list[i] += a.T * H(k)*Q*N*H(2*n-i-k+1)*a\n",
    "        else:\n",
    "            # this branch is currently not possible in this program\n",
    "            print \"i={} < m={}\".format(i, m)\n",
    "            a_list[i] = 0\n",
    "            \n",
    "    return a_list\n"
   ]
  },
  {
   "cell_type": "code",
   "execution_count": null,
   "metadata": {
    "collapsed": true
   },
   "outputs": [],
   "source": [
    "from scipy.special import comb as nchoosek # n Choose k (n ueber k)\n",
    "\n",
    "def trans_a_list(a_list, eps):\n",
    "    l = len(a_list)\n",
    "    m = l-1 #biggest index in a_list\n",
    "    a1_list = [np.zeros(a_list[0].shape)] * l\n",
    "    for j in range(0, l): #for each in a_list\n",
    "        for i in range(j, l): # for each coefficient including m\n",
    "            a1_list[j] += nchoosek(i, i-j) * ((1.0+eps)/(1.0-eps))**(i-j) * ((1.0-eps)/(2.0))**i * a_list[i]\n",
    "    return a1_list"
   ]
  },
  {
   "cell_type": "code",
   "execution_count": null,
   "metadata": {
    "collapsed": false
   },
   "outputs": [],
   "source": [
    "def calc_lmi_cond(a_sum, n):\n",
    "    k = a_sum.size[1] / n # This dimension is from Boris. Dilyana does not specifiy the dimension though\n",
    "\n",
    "    J = np.hstack([np.zeros((n*(k-1), n)), np.eye(n*(k-1))])\n",
    "    C = np.hstack([np.eye(n*(k-1)), np.zeros((n*(k-1), n))])\n",
    "    return np.vstack([C, J]), n*(k-1)"
   ]
  },
  {
   "cell_type": "code",
   "execution_count": null,
   "metadata": {
    "collapsed": true
   },
   "outputs": [],
   "source": [
    "def calc_a_Sum(a_list):\n",
    "    l = len(a_list) # number of matrizen in a_list\n",
    "    m = l-1 # Index of Q_m\n",
    "    n = a_list[0].size[0] # shape of each matrix, first element\n",
    "    \n",
    "    if m is 0:\n",
    "        a_sum = cvxpy.bmat([[2*a_list[0],   np.zeros(n)], \n",
    "                            [np.zeros(n), np.zeros(n)]])\n",
    "    elif m is 1:\n",
    "        a_sum = cvxpy.bmat([[2*a_list[0], a_list[1]],\n",
    "                            [a_list[1],   np.zeros(n)]])\n",
    "    else: # e.g. m is 2 or more\n",
    "        a_sum = cvxpy.bmat([[2*a_list[0], a_list[1]],\n",
    "                            [a_list[1], 2*a_list[2]]])\n",
    "\n",
    "    for i1 in range(3, l, 2):\n",
    "        S_new_col = cvxpy.vstack(np.zeros((((i1+1)/2-1)*n, n)), a_list[i1])\n",
    "\n",
    "        if i1 is m:\n",
    "            S_new_row = cvxpy.hstack(np.zeros((n, ((i1+1)/2-1)*n)), a_list[i1], np.zeros((n,n)))\n",
    "        else:\n",
    "            S_new_row = cvxpy.hstack(np.zeros((n, ((i1+1)/2-1)*n)), a_list[i1], 2*a_list[i1+1])\n",
    "\n",
    "        a_sum = cvxpy.bmat([[a_sum, S_new_col],\n",
    "                            [S_new_row]])\n",
    "\n",
    "    a_sum = -0.5*a_sum\n",
    "    \n",
    "    return a_sum"
   ]
  },
  {
   "cell_type": "code",
   "execution_count": null,
   "metadata": {
    "collapsed": false
   },
   "outputs": [],
   "source": [
    "a_list = get_a_list(a, Q, z, 4) # Matrizes of Polynom coefficients: S(p)=S_0 + S_1*p + ... S_n*p^n\n",
    "\n",
    "a1_list = trans_a_list(a_list, 0.01) # Intervaltransformation p:[0,1] -> p1:[-1,1] (S1 -> S^tilde)\n",
    "a1_sum = calc_a_Sum(a1_list) # S^tilde_sum Matrix (30)\n",
    "CJ, l = calc_lmi_cond(a1_sum ,n) # \"Selection matrizes\" of (31), l=dimension of P and G"
   ]
  },
  {
   "cell_type": "code",
   "execution_count": null,
   "metadata": {
    "collapsed": false
   },
   "outputs": [],
   "source": []
  },
  {
   "cell_type": "code",
   "execution_count": null,
   "metadata": {
    "collapsed": false
   },
   "outputs": [],
   "source": [
    "##############################\n",
    "# Convex Problem (4.58)      #\n",
    "##############################\n",
    "\n",
    "# Variables\n",
    "Q  = cvxpy.Variable(n,n) # Implys (459) (semidefinite for numerical reasons?)\n",
    "\n",
    "z = cvxpy.Variable(n)\n",
    "\n",
    "# Preparation for constraint (31)\n",
    "a_list = get_a_list(a, Q, z, 4) # Matrizes of Polynom coefficients: S(p)=S_0 + S_1*p + ... S_n*p^n\n",
    "a1_list = trans_a_list(a_list, 0.01) # Intervaltransformation p:[0,1] -> p1:[-1,1] (S1 -> S^tilde)\n",
    "a1_sum = calc_a_Sum(a1_list) # S^tilde_sum Matrix (30)\n",
    "CJ, l = calc_lmi_cond(a1_sum ,n) # \"Selection matrizes\" of (31), l=dimension of P and G\n",
    "\n",
    "# Furhter variables of optimization\n",
    "S = cvxpy.Variable(l,l) #symmetrical\n",
    "G = cvxpy.Variable(l,l) #skew\n",
    "\n",
    "# Help variable to minimize geomean\n",
    "v = cvxpy.Variable(1)\n",
    "\n",
    "# Constants\n",
    "N = optim_tools._N(n)\n",
    "\n",
    "# Parameters\n",
    "#beta = cvxpy.Parameter(sign='positive') # Design parameter beta >=1; upper bound of saturation\n",
    "#beta.value = beta_val\n",
    "\n",
    "\n",
    "# Constraints\n",
    "constraint_459 = Q >> 0\n",
    "constraint_460 = Q*(A.T + a*b.T) + (A + b*a.T)*Q - z*b.T - b*z.T << 0\n",
    "constraint_461 = Q*N+N*Q << 0\n",
    "\n",
    "constraint_462 = [cvxpy.bmat([[1,       X0[i].T],\n",
    "                              [X0[i],    Q      ]]) >> 0\n",
    "                                for i in range(0, len(X0))]\n",
    "\n",
    "constraint_463 = cvxpy.bmat([[u_max**2 - a.T*Q*a + 2*a.T*z, z.T],\n",
    "                             [z,                           Q  ]]) >> 0\n",
    "\n",
    "\n",
    "\n",
    "constraint_G = G + G.T == 0 # skew symmetry\n",
    "constraint_S = S == S.T # symmetry\n",
    "\n",
    "constraint_465 = a1_sum << CJ.T * cvxpy.bmat([[-S,  G],\n",
    "                                              [G.T, S]]) * CJ\n",
    "\n",
    "# Objective representation\n",
    "constraint_obj_451 = v >= -cvxpy.geo_mean(cvxpy.log_det(Q))\n",
    "#constraint_obj_451 = v >= -cvxpy.geo_mean(Q)\n",
    "\n",
    "# Collection of all constraints\n",
    "constraints = [constraint_459]\n",
    "constraints.append(constraint_460)\n",
    "constraints.append(constraint_461)\n",
    "constraints.extend(constraint_462) ##!! Beware of the \"extend\" if input is array\n",
    "constraints.append(constraint_463)\n",
    "constraints.append(constraint_G)\n",
    "constraints.append(constraint_S)\n",
    "constraints.append(constraint_465)\n",
    "\n",
    "#constraints.append(constraint_obj_451)\n",
    "\n",
    "#obj = cvxpy.Minimize(v)\n",
    "#obj = cvxpy.Minimize(0)\n",
    "obj = cvxpy.Minimize(cvxpy.trace(Q))\n",
    "#obj = cvxpy.Maximize(cvxpy.lambda_min(Q))\n",
    "\n",
    "# Form and solve problem.\n",
    "prob = cvxpy.Problem(obj, constraints)\n",
    "prob.solve(solver=cvxpy.SCS, verbose=False, max_iters=150000)\n",
    "print prob.status\n",
    "Q.value"
   ]
  },
  {
   "cell_type": "code",
   "execution_count": null,
   "metadata": {
    "collapsed": false,
    "scrolled": true
   },
   "outputs": [],
   "source": []
  },
  {
   "cell_type": "markdown",
   "metadata": {},
   "source": [
    "Some checks for validy of solution"
   ]
  },
  {
   "cell_type": "code",
   "execution_count": null,
   "metadata": {
    "collapsed": false
   },
   "outputs": [],
   "source": [
    "import numpy as np\n",
    "print \"Checking constraints (no output is ok!)\"\n",
    "eig_459 = np.linalg.eigvals(Q.value)\n",
    "if np.any(eig_459 <= 0): print(\"Q not pos definit: {}\".format(eig_459))\n",
    "\n",
    "eig_460 = np.linalg.eigvals((Q*(A.T+a*b.T)+(A+b*a.T)*Q-z*b.T-b*z.T).value)\n",
    "if np.any(eig_460 >= 0): print(\"4.60 not neg definit: {}\".format(eig_460))\n",
    "\n",
    "eig_461 = np.linalg.eigvals((Q*N+N*Q).value)\n",
    "if np.any(eig_461 >= 0): print(\"4.61 not neg definit: {}\".format(eig_461))\n",
    "    \n"
   ]
  },
  {
   "cell_type": "markdown",
   "metadata": {},
   "source": [
    "Helper functions to run simulation"
   ]
  },
  {
   "cell_type": "code",
   "execution_count": null,
   "metadata": {
    "collapsed": false
   },
   "outputs": [],
   "source": [
    "# Defining functions\n",
    "def get_g(p, x, R1):\n",
    "    try:\n",
    "        p = p.squeeze() # This is weird\n",
    "    except:\n",
    "        pass\n",
    "    D_inv = _D_inv(p, n)\n",
    "#    print \"p:\", p\n",
    "#    print \"D_inv:\", D_inv\n",
    "#    print \"x_T:\", x.transpose()\n",
    "#    print \"x:\", x\n",
    "#    print \"R1:\", R1\n",
    "    g = x.transpose().dot(D_inv).dot(R1).dot(D_inv).dot(x) - 1.0\n",
    "    # Update 2016: As of python 3.5, there is a new matrix_multiply symbol, @:\n",
    "    # g = x' @ D^-1 @ R1 @ D^-1 @ x - 1.0\n",
    "    return g.squeeze()\n",
    "print \"Test g\\n\", get_g(0.1, np.matrix(range(0,n)).T, R1)\n",
    "\n",
    "def get_kstar(p, a, a_hat_star):\n",
    "    try:\n",
    "        p = p.squeeze() # This is weird\n",
    "    except:\n",
    "        pass\n",
    "    D_inv = _D_inv(p, n)\n",
    "    kstar = D_inv.dot(a_hat_star) - a\n",
    "    return kstar\n",
    "print \"Test kstar\\n\", get_kstar(2, a, a_hat)\n",
    "\n",
    "def sat(v, u_max, u_min=None):\n",
    "    if not u_min:\n",
    "        u_min = -u_max\n",
    "    return np.clip(v, u_min, u_max)"
   ]
  },
  {
   "cell_type": "markdown",
   "metadata": {},
   "source": [
    "Simulation of WSVC Control"
   ]
  },
  {
   "cell_type": "code",
   "execution_count": null,
   "metadata": {
    "collapsed": false
   },
   "outputs": [],
   "source": [
    "from IPython.display import clear_output\n",
    "from __future__ import division\n",
    "from scipy.optimize import minimize\n",
    "\n",
    "#Introduced for fun\n",
    "u_max_sys = u_max\n",
    "\n",
    "# Numerical approach\n",
    "max_T = 120 # Seconds\n",
    "\n",
    "#simulation time\n",
    "T = 1.0/100.0\n",
    "\n",
    "max_iter = int(max_T/T)\n",
    "\n",
    "# Initial state\n",
    "x0 = np.array([[0.9],[0]])\n",
    "\n",
    "# Make functionpointer\n",
    "func_g = lambda p: np.absolute(get_g(p, x_t, R1))\n",
    "func_kstar = lambda p: get_kstar(p, a, a_hat)\n",
    "\n",
    "init_p = 0\n",
    "\n",
    "p_t = np.zeros(max_iter)\n",
    "p_t2 = np.zeros(max_iter)\n",
    "u_t = np.zeros(max_iter)\n",
    "u_t2 = np.zeros(max_iter)\n",
    "\n",
    "# Timeloop\n",
    "x_t = x0\n",
    "y_t = np.zeros(max_iter)\n",
    "y_t[0] = x0[0]\n",
    "\n",
    "with Timer():\n",
    "    for t in range(1, max_iter):\n",
    "    #for t in range(0, 10000):\n",
    "        if t%1000 == 1:\n",
    "            clear_output()\n",
    "            print t*T, \"seconds done ->\", t/max_iter*100, \"%\"\n",
    "        ## Calc p\n",
    "        res = minimize(func_g, p_t2[t-1], method='Nelder-Mead')\n",
    "        #print res.x\n",
    "\n",
    "        #g_poly = sp.Poly(sys, p)\n",
    "        #show(g_poly)\n",
    "        p = sat(res.x, 1, 0.04)\n",
    "        p_t[t] = res.x\n",
    "        p_t2[t] = p\n",
    "\n",
    "        ## Calc u\n",
    "        k_t = func_kstar(p)\n",
    "        u = np.dot(np.array(-k_t.T), x_t)\n",
    "        #print u_sym\n",
    "        u_t[t] = u\n",
    "        u = sat(u, u_max)\n",
    "        u_t2[t] = u\n",
    "\n",
    "        ## System response\n",
    "        # System saturation u (trivial if u_max and u_max_sys are identical)\n",
    "        # Calc x_dot\n",
    "        x_dot = np.dot(A, x_t) + b * sat(u, u_max_sys)\n",
    "\n",
    "        x_t = x_t + x_dot*T\n",
    "        y_t[t] = x_t[0]\n",
    "    clear_output()\n",
    "\n",
    "print \"done\""
   ]
  },
  {
   "cell_type": "markdown",
   "metadata": {},
   "source": [
    "Additional simulation of simple SS Control"
   ]
  },
  {
   "cell_type": "code",
   "execution_count": null,
   "metadata": {
    "collapsed": false
   },
   "outputs": [],
   "source": [
    "ux_t = np.zeros(max_iter)\n",
    "ux_t2 = np.zeros(max_iter)\n",
    "yx_t = np.zeros(max_iter)\n",
    "\n",
    "# Timeloop\n",
    "x_t = x0\n",
    "yx_t[0] = x0[0]\n",
    "\n",
    "with Timer():\n",
    "    for t in range(1, max_iter):\n",
    "    #for t in range(0, 10000):\n",
    "        if t%1000 == 1:\n",
    "            clear_output()\n",
    "            print t*T, \"seconds done ->\", t/max_iter*100, \"%\"\n",
    "        \n",
    "        ## Calc u\n",
    "        k_t = func_kstar(0.5)\n",
    "        u = np.dot(np.array(-k_t.T), x_t)\n",
    "        #print u_sym\n",
    "        ux_t[t] = u\n",
    "        u = sat(u, u_max)\n",
    "        ux_t2[t] = u\n",
    "\n",
    "        ## System response\n",
    "        # System saturation u (trivial if u_max and u_max_sys are identical)\n",
    "        # Calc x_dot\n",
    "        x_dot = np.dot(A, x_t) + b * sat(u, u_max_sys)\n",
    "\n",
    "        x_t = x_t + x_dot*T\n",
    "        yx_t[t] = x_t[0]\n",
    "    clear_output()\n",
    "\n",
    "print \"done\""
   ]
  },
  {
   "cell_type": "markdown",
   "metadata": {},
   "source": [
    "Plotting"
   ]
  },
  {
   "cell_type": "code",
   "execution_count": null,
   "metadata": {
    "collapsed": false
   },
   "outputs": [],
   "source": [
    "import matplotlib.pyplot as plt\n",
    "plt.rcParams['figure.figsize'] = (15, 20)\n",
    "\n",
    "plt.subplot(311)\n",
    "plt.plot(np.arange(0, len(y_t))*T, y_t, 'b')\n",
    "plt.plot(np.arange(0, len(yx_t))*T, yx_t, 'b.')\n",
    "plt.xlabel('t [s]')\n",
    "plt.ylabel('y(t)')\n",
    "\n",
    "plt.subplot(312)\n",
    "plt.plot(np.arange(0, len(y_t))*T, p_t, 'g--')\n",
    "plt.plot(np.arange(0, len(y_t))*T, p_t2, 'g')\n",
    "plt.xlabel('t [s]')\n",
    "plt.ylabel('p(t)')\n",
    "\n",
    "plt.subplot(313)\n",
    "axes = plt.gca()\n",
    "axes.set_ylim([-u_max-1e-5,u_max+1e-5])\n",
    "\n",
    "plt.plot(np.arange(0, len(y_t))*T, u_t, 'r--')\n",
    "plt.plot(np.arange(0, len(y_t))*T, u_t2, 'r')\n",
    "plt.plot(np.arange(0, len(y_t))*T, ux_t, 'y--')\n",
    "plt.plot(np.arange(0, len(y_t))*T, ux_t2, 'y')\n",
    "plt.xlabel('t [s]')\n",
    "plt.ylabel('u(t)')\n",
    "\n",
    "plt.show()"
   ]
  },
  {
   "cell_type": "code",
   "execution_count": null,
   "metadata": {
    "collapsed": false
   },
   "outputs": [],
   "source": [
    "print np.array(eps.value) > 0\n"
   ]
  },
  {
   "cell_type": "markdown",
   "metadata": {},
   "source": [
    "(Yet failing) visualtions of Ljaponov regions"
   ]
  },
  {
   "cell_type": "code",
   "execution_count": null,
   "metadata": {
    "collapsed": true
   },
   "outputs": [],
   "source": [
    "# V(x) = x.T * P * x\n",
    "def V(x,y,P):\n",
    "    x = np.matrix([x, y]).T\n",
    "    return x.T * P * x\n",
    "\n",
    "arr = [(x,y,V(x,y,R1)) for x in np.arange(-1, 1, 0.1) for y in np.arange(-1, 1, 0.1)]\n",
    "\n",
    "import matplotlib.pyplot as plt\n",
    "plt.plot(arr)\n",
    "plt.show()\n",
    "print arr"
   ]
  },
  {
   "cell_type": "code",
   "execution_count": null,
   "metadata": {
    "collapsed": true
   },
   "outputs": [],
   "source": []
  }
 ],
 "metadata": {
  "kernelspec": {
   "display_name": "Python 2",
   "language": "python",
   "name": "python2"
  },
  "language_info": {
   "codemirror_mode": {
    "name": "ipython",
    "version": 2
   },
   "file_extension": ".py",
   "mimetype": "text/x-python",
   "name": "python",
   "nbconvert_exporter": "python",
   "pygments_lexer": "ipython2",
   "version": "2.7.12"
  }
 },
 "nbformat": 4,
 "nbformat_minor": 1
}
