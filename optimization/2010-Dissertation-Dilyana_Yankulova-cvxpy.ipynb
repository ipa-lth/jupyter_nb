{
 "cells": [
  {
   "cell_type": "code",
   "execution_count": 1,
   "metadata": {
    "collapsed": true
   },
   "outputs": [],
   "source": [
    "import numpy as np\n",
    "import control as con\n",
    "from numpy import linalg as LA\n",
    "\n",
    "import cvxpy\n",
    "import optim_tools as optim_tools#own file with helper"
   ]
  },
  {
   "cell_type": "code",
   "execution_count": 2,
   "metadata": {
    "collapsed": false
   },
   "outputs": [
    {
     "name": "stdout",
     "output_type": "stream",
     "text": [
      "Eigenvalues: [-0.5835+3.10797808j -0.5835-3.10797808j -0.8000+0.j        ]\n",
      "A:\n",
      "[[  0.       1.       0.    ]\n",
      " [  0.       0.       1.    ]\n",
      " [ -8.     -10.9336  -1.967 ]]\n",
      "a:\n",
      "[[  8.    ]\n",
      " [ 10.9336]\n",
      " [  1.967 ]]\n",
      "b:\n",
      "[[ 0.]\n",
      " [ 0.]\n",
      " [ 1.]]\n",
      "c:\n",
      "[[  6.00000000e+01   1.33226763e-15   1.33226763e-15]]\n"
     ]
    }
   ],
   "source": [
    "###########################\n",
    "# Hydraulischer Aktor     #\n",
    "###########################\n",
    "\n",
    "A0 = np.matrix([[0,   1,       0],\n",
    "                [-10, -1.167, 25],\n",
    "                [0,   0,    -0.8]])\n",
    "print \"Eigenvalues: {}\".format(LA.eigvals(A0))\n",
    "#a = -A[-1,:].T ### !!!!!\n",
    "#print a\n",
    "b0 = np.matrix([[0],[0],[2.4]])\n",
    "c0 = np.matrix([1, 0, 0])\n",
    "d0 = np.matrix([0])\n",
    "u_max = 10.5\n",
    "n = 3\n",
    "\n",
    "X0 = [np.matrix([-20.0, -10, -10]).T,\n",
    "      np.matrix([-20.0, -10, 10]).T,\n",
    "      np.matrix([-20.0,  10, -10]).T,\n",
    "      np.matrix([20.0,  -10, 10]).T,\n",
    "      np.matrix([20.0,  -10, -10]).T,\n",
    "      np.matrix([20.0,   10, 10]).T]\n",
    "\n",
    "#print \"A:\\n\", A\n",
    "#print \"a:\\n\", a\n",
    "#print \"b:\\n\", b\n",
    "#print \"c:\\n\", c\n",
    "\n",
    "\n",
    "# Convert to Normalform\n",
    "ss, T = con.canonical_form(con.ss(A0, b0, c0, d0), form='reachable')\n",
    "\n",
    "A = optim_tools.reverse_x_order(np.matrix(ss.A))\n",
    "a = -A[-1][:].T #!!!!\n",
    "\n",
    "b = optim_tools.reverse_x_order(np.matrix(ss.B))\n",
    "c = optim_tools.reverse_x_order(np.matrix(ss.C))\n",
    "d = optim_tools.reverse_x_order(np.matrix(ss.D)) # == 0!\n",
    "\n",
    "print \"A:\\n\", A\n",
    "print \"a:\\n\", a\n",
    "print \"b:\\n\", b\n",
    "print \"c:\\n\", c"
   ]
  },
  {
   "cell_type": "code",
   "execution_count": null,
   "metadata": {
    "collapsed": true
   },
   "outputs": [],
   "source": []
  },
  {
   "cell_type": "code",
   "execution_count": 12,
   "metadata": {
    "collapsed": false
   },
   "outputs": [],
   "source": [
    "# TODO: Was ist m? Kann man das berechnen oder wird das festgelegt m<=2n-1, meistens n+1?\n",
    "\n",
    "def get_a_list(a, Q, z, m):\n",
    "    n = len(a) # dim of a, z, Q(nxn)\n",
    "    m = m\n",
    "    H = lambda k: optim_tools._H(k, n) # Convinence function to fix n and make special H(k)\n",
    "    N = optim_tools._N(n)\n",
    "\n",
    "    a_list = [np.zeros((n, n))] * (m+1)\n",
    "    for i in range(0, m+1): # m eingeschlossen\n",
    "        if i <= (m-1/2.0):\n",
    "            for k in range(1, i+1):\n",
    "                a_list[i] += a.T * H(n+k-i)*Q*N*H(n-k+1)*a - z.T*N*H(n-i)*a\n",
    "        elif i < m+1:\n",
    "            for k in range(1, 2*n-i+1):\n",
    "                a_list[i] += a.T * H(k)*Q*N*H(2*n-i-k+1)*a\n",
    "        else:\n",
    "            print \"hit else -> 0\"\n",
    "            a_list[i] = 0\n",
    "            \n",
    "    return a_list\n"
   ]
  },
  {
   "cell_type": "code",
   "execution_count": 10,
   "metadata": {
    "collapsed": true
   },
   "outputs": [],
   "source": [
    "from scipy.special import comb as nchoosek # n Choose k (n ueber k)\n",
    "\n",
    "def trans_a_list(a_list, eps):\n",
    "    l = len(a_list)\n",
    "    m = l-1 #biggest index in a_list\n",
    "    a1_list = a_list\n",
    "    for j in range(0, l): #for each in a_list\n",
    "        for i in range(j, m):\n",
    "            a1_list[j] += nchoosek(i, i-j) * ((1.0+eps)/(1.0-eps))**(i-j) * ((1.0-eps)/(2.0))**i * a_list[i]\n",
    "    return a1_list"
   ]
  },
  {
   "cell_type": "code",
   "execution_count": 11,
   "metadata": {
    "collapsed": true
   },
   "outputs": [],
   "source": [
    "def calc_a_Sum(a_list):\n",
    "    l = len(a_list) # number of matrizen in a_list\n",
    "    m = l-1 # Index of Q_m\n",
    "    n = a_list[0].size[0] # shape of each matrix, first element\n",
    "    \n",
    "    if m is 0:\n",
    "        a_sum = cvxpy.bmat([[2*a_list[0],   np.zeros(n)], \n",
    "                            [np.zeros(n), np.zeros(n)]])\n",
    "    elif m is 1:\n",
    "        a_sum = cvxpy.bmat([[2*a_list[0], a_list[1]],\n",
    "                            [a_list[1],   np.zeros(n)]])\n",
    "    else: # e.g. m is 2 or more\n",
    "        a_sum = cvxpy.bmat([[2*a_list[0], a_list[1]],\n",
    "                            [a_list[1], 2*a_list[2]]])\n",
    "\n",
    "    for i1 in range(3, l, 2):\n",
    "        S_new_col = cvxpy.vstack(np.zeros((((i1+1)/2-1)*n, n)), a_list[i1])\n",
    "\n",
    "        if i1 is m:\n",
    "            S_new_row = cvxpy.hstack(np.zeros((n, ((i1+1)/2-1)*n)), a_list[i1], np.zeros((n,n)))\n",
    "        else:\n",
    "            S_new_row = cvxpy.hstack(np.zeros((n, ((i1+1)/2-1)*n)), a_list[i1], 2*a_list[i1+1])\n",
    "\n",
    "        a_sum = cvxpy.bmat([[a_sum, S_new_col],\n",
    "                            [S_new_row]])\n",
    "\n",
    "    a_sum = -0.5*a_sum\n",
    "    \n",
    "    return a_sum"
   ]
  },
  {
   "cell_type": "code",
   "execution_count": 20,
   "metadata": {
    "collapsed": false
   },
   "outputs": [
    {
     "name": "stdout",
     "output_type": "stream",
     "text": [
      "k in H Matrix was 3 but shape of H is (3, 3)\n",
      "k in H Matrix was 3 but shape of H is (3, 3)\n",
      "k in H Matrix was 3 but shape of H is (3, 3)\n",
      "k in H Matrix was 3 but shape of H is (3, 3)\n",
      "k in H Matrix was 3 but shape of H is (3, 3)\n",
      "k in H Matrix was 3 but shape of H is (3, 3)\n"
     ]
    },
    {
     "data": {
      "text/plain": [
       "Expression(AFFINE, UNKNOWN, (9, 9))"
      ]
     },
     "execution_count": 20,
     "metadata": {},
     "output_type": "execute_result"
    }
   ],
   "source": [
    "a_list = get_a_list(a, Q, z, 3)\n",
    "a1_list = trans_a_list(a_list, 0)\n",
    "calc_a_Sum(a1_list)"
   ]
  },
  {
   "cell_type": "code",
   "execution_count": 4,
   "metadata": {
    "collapsed": false
   },
   "outputs": [
    {
     "ename": "NameError",
     "evalue": "name 'l' is not defined",
     "output_type": "error",
     "traceback": [
      "\u001b[0;31m---------------------------------------------------------------------------\u001b[0m",
      "\u001b[0;31mNameError\u001b[0m                                 Traceback (most recent call last)",
      "\u001b[0;32m<ipython-input-4-b82dd42e932a>\u001b[0m in \u001b[0;36m<module>\u001b[0;34m()\u001b[0m\n\u001b[1;32m     15\u001b[0m \u001b[0;34m\u001b[0m\u001b[0m\n\u001b[1;32m     16\u001b[0m \u001b[0;31m# Furhter variables of optimization\u001b[0m\u001b[0;34m\u001b[0m\u001b[0;34m\u001b[0m\u001b[0m\n\u001b[0;32m---> 17\u001b[0;31m \u001b[0mS\u001b[0m \u001b[0;34m=\u001b[0m \u001b[0mcvxpy\u001b[0m\u001b[0;34m.\u001b[0m\u001b[0mVariable\u001b[0m\u001b[0;34m(\u001b[0m\u001b[0ml\u001b[0m\u001b[0;34m,\u001b[0m\u001b[0ml\u001b[0m\u001b[0;34m)\u001b[0m \u001b[0;31m#symmetrical\u001b[0m\u001b[0;34m\u001b[0m\u001b[0m\n\u001b[0m\u001b[1;32m     18\u001b[0m \u001b[0mG\u001b[0m \u001b[0;34m=\u001b[0m \u001b[0mcvxpy\u001b[0m\u001b[0;34m.\u001b[0m\u001b[0mVariable\u001b[0m\u001b[0;34m(\u001b[0m\u001b[0ml\u001b[0m\u001b[0;34m,\u001b[0m\u001b[0ml\u001b[0m\u001b[0;34m)\u001b[0m \u001b[0;31m#skew\u001b[0m\u001b[0;34m\u001b[0m\u001b[0m\n\u001b[1;32m     19\u001b[0m \u001b[0;34m\u001b[0m\u001b[0m\n",
      "\u001b[0;31mNameError\u001b[0m: name 'l' is not defined"
     ]
    }
   ],
   "source": [
    "##############################\n",
    "# Convex Problem (4.58)      #\n",
    "##############################\n",
    "\n",
    "# Variables\n",
    "Q  = cvxpy.Semidef(n) # Implys (459) (semidefinite for numerical reasons?)\n",
    "\n",
    "z = cvxpy.Variable(n)\n",
    "\n",
    "# Preparation for constraint (31)\n",
    "#a_list = get_a_list(u_max, Q, z, a, n) # Matrizes of Polynom coefficients: S(p)=S_0 + S_1*p + ... S_n*p^n\n",
    "#a1_list = trans_a_list(a_list, 0.1, 1) # Intervaltransformation p:[0,1] -> p1:[-1,1] (S1 -> S^tilde)\n",
    "#a1_sum = calc_a_Sum(S1_list) # S^tilde_sum Matrix (30)\n",
    "#CJ, l = calc_lmi_cond(S1_sum ,n) # \"Selection matrizes\" of (31), l=dimension of P and G\n",
    "\n",
    "# Furhter variables of optimization\n",
    "S = cvxpy.Variable(l,l) #symmetrical\n",
    "G = cvxpy.Variable(l,l) #skew\n",
    "\n",
    "# Constants\n",
    "#N = optim_tools._N(n)\n",
    "\n",
    "# Parameters\n",
    "#beta = cvxpy.Parameter(sign='positive') # Design parameter beta >=1; upper bound of saturation\n",
    "#beta.value = beta_val\n",
    "\n",
    "\n",
    "# Constraints\n",
    "constraint_459 = Q >> 0\n",
    "constraint_460 = Q*(A.T + a*b.T) + (A + b*a.T)*Q - z*b.T - b*z.T << 0\n",
    "constraint_461 = Q*N+N*Q << 0\n",
    "\n",
    "constraint_462 = [cvxpy.bmat([[1,       X0[i].T],\n",
    "                              [X0[i],    Q      ]]) >> 0\n",
    "                                for i in range(0, len(X0))]\n",
    "\n",
    "constraint_463 = cvxpy.bmat([[u_max**2 - a.T*Q*a + 2*aT*z, z.T],\n",
    "                             [z,                           Q  ]]) >> 0\n",
    "\n",
    "\n",
    "\n",
    "constraint_G = G + G.T == 0 # skew symmetry\n",
    "constraint_S = S == S.T # symmetry\n",
    "\n",
    "constraint_465 = S1_sum << CJ.T * cvxpy.bmat([[-P,  G],\n",
    "                                             [G.T, P]]) * CJ\n",
    "\n",
    "\n",
    "# Collection of all constraints\n",
    "constraints = [constraint_27b]\n",
    "constraints.append(constraint_27d)\n",
    "constraints.append(constraint_G)\n",
    "constraints.append(constraint_31)\n",
    "constraints.extend(constraint_32) ##!! Beware of the \"extend\" if input is array\n",
    "constraints.append(constraint_33)\n",
    "constraints.append(constraint_34)\n",
    "\n",
    "# Define Objective (Generalized eigenvalue problem?)\n",
    "#obj = cvxpy.Maximize(beta1)\n",
    "\n",
    "# Feasibility for bisection:\n",
    "obj = cvxpy.Minimize(0)\n",
    "\n",
    "# Form and solve problem.\n",
    "prob35 = cvxpy.Problem(obj, constraints)"
   ]
  },
  {
   "cell_type": "code",
   "execution_count": null,
   "metadata": {
    "collapsed": false,
    "scrolled": true
   },
   "outputs": [],
   "source": [
    "###################################################\n",
    "# Find Matrix Q=R1^{-1}, Vector z=R1^{-1} * a_hat #\n",
    "# wrt. Q>>0, (!Pos-Definit, not Semi!)            #\n",
    "# ....                                            #\n",
    "###################################################\n",
    "# http://picos.zib.de/v101dev/complex.html\n",
    "\n",
    "# Data to be available: A, a, b, X0, u_max\n",
    "\n",
    "# Create (Selection) Matrizes\n",
    "n = b.size\n",
    "#print n\n",
    "l_X0 = len(X0) # Number of edges of convex area (4 most of the cases)\n",
    "\n",
    "# PICOS Convertions\n",
    "A_cvx = cvx.matrix(A)\n",
    "a_cvx = cvx.matrix(a)\n",
    "b_cvx = cvx.matrix(b)\n",
    "X0_cvx = [cvx.matrix(x) for x in X0]\n",
    "N_cvx = cvx.matrix(_N(n))\n",
    "M_cvx = cvx.matrix(_M(n))\n",
    "\n",
    "I = cvx.matrix(np.eye(n))\n",
    "\n",
    "### PICOS Definitions \n",
    "# Constants\n",
    "AA = pic.new_param('A', A_cvx)\n",
    "II = pic.new_param('I', I)\n",
    "III = pic.new_param('I_2', cvx.matrix(np.eye(n+1)))\n",
    "aa = pic.new_param('a', a_cvx)\n",
    "bb = pic.new_param('b', b_cvx)\n",
    "XX0 = pic.new_param('X0', X0_cvx)\n",
    "\n",
    "NN = pic.new_param('N', N_cvx)\n",
    "MM = pic.new_param('M', M_cvx)\n",
    "\n",
    "# Problem\n",
    "prob = pic.Problem()\n",
    "\n",
    "# Parameters\n",
    "QQ = prob.add_variable('Q', (n, n), vtype='symmetric')\n",
    "zz = prob.add_variable('z', n)\n",
    "eps = prob.add_variable('eps', 5, lower=0)\n",
    "ss = prob.add_variable('s', 1)\n",
    "\n",
    "gamma = prob.add_variable('gamma', 1)\n",
    "WW = prob.add_variable('W', (n,n))\n",
    "\n",
    "# Objective\n",
    "#prob.set_objective('min', pic.trace(QQ))\n",
    "#prob.set_objective('min', pic.geomean(QQ))\n",
    "#prob.set_objective('min', pic.sum([eps[i] for i in range(0, 5)], 'eps(i)', '[0,1,..,4]'))\n",
    "#prob.set_objective('max', ss)\n",
    "#prob.set_objective('min', gamma)\n",
    "\n",
    "\n",
    "#prob.add_constraint(ss > 0.1)\n",
    "#prob.add_constraint(ss < pic.detrootn(QQ)) # equivalent problem as min: -detrootn\n",
    "#prob.add_constraint(ss < pic.geomean(QQ)) # equivalent problem as min: geomean\n",
    "\n",
    "# Strict LMI constraints\n",
    "prob.add_constraint(eps>0)\n",
    "\n",
    "# Constraints (Yankulova, Seite 55)\n",
    "#(4.59)\n",
    "prob.add_constraint(QQ>>0) ## !!!!! TODO!! PROOF THAT THIS IS OK!!!! !!!!!! -> Make the problem stricter!\n",
    "#(4.60)\n",
    "prob.add_constraint(QQ*(AA.T+aa*bb.T)+\n",
    "                    (AA+bb*aa.T)*QQ-\n",
    "                    zz*bb.T-\n",
    "                    bb*zz.T<<-eps[1]*II) ## !!!!! TODO!! PROOF THAT THIS IS OK!!!! !!!!!! -> Make the problem stricter!\n",
    "\n",
    "## Add symmetry constraint, since (4.60) is not necessary symmetric\n",
    "# A-B==(A-B).T\n",
    "#prob.add_constraint(QQ*(AA.T+aa*bb.T)+(AA+bb*aa.T)*QQ-zz*bb.T-bb*zz.T == \n",
    "#                   (QQ*(AA.T+aa*bb.T)+(AA+bb*aa.T)*QQ-zz*bb.T-bb*zz.T).T)\n",
    "\n",
    "\n",
    "# (Alternative 4.60 - p.61)\n",
    "#prob.add_constraint(WW.T*WW>>0)\n",
    "\n",
    "#prob.add_constraint(((QQ*(AA.T+aa*bb.T)+(AA+bb*aa.T)*QQ-zz*bb.T-bb*zz.T) & (QQ*WW) //\n",
    "#                     (WW.T*QQ)                                           & (-gamma*II) ) <<0) \n",
    "\n",
    "\n",
    "#(4.61)\n",
    "prob.add_constraint(QQ*NN+NN*QQ<<-eps[2]*II) ## !!!!! TODO!! PROOF THAT THIS IS OK!!!! !!!!!!-> Make the problem stricter!\n",
    "#(4.62)\n",
    "prob.add_list_of_constraints([((1          & XX0[i].T) //\n",
    "                               (XX0[i]     & QQ      ))>>eps[3]*III\n",
    "                                   for i in range(0, len(X0))]) ## !!!!! TODO!! PROOF THAT THIS IS OK!!!! !!!!!!\n",
    "#(4.63)\n",
    "prob.add_constraint(((u_max-aa.T*QQ*aa+2*aa.T*zz & zz.T) //\n",
    "                                (zz & QQ))>>eps[4]*III) ## !!!!! TODO!! PROOF THAT THIS IS OK!!!! !!!!!!\n",
    "\n",
    "#(4.64)\n",
    "# m ist die Ordnung des Polynoms p\n",
    "# m <= 2n-1\n",
    "m=2*n-1 #???\n",
    "## BEWARE OF SECOND RANGE ####\n",
    "prob.add_list_of_constraints(\n",
    "                    [pic.sum(\n",
    "                        [nchoosek(i, k) * aa.T * _P(0, i-k, n) * QQ * NN * _P(0, k, n) * aa - zz.T * NN * _P(n, i, n) * a\n",
    "                             for k in range(0,i)], 'k', '[0,1,..,i]')>=0\n",
    "                                   for i in range(1, m+1)])\n",
    "## Linear (in)equalities are understood elementwise.\n",
    "#  The strict operators < and > denote weak inequalities (less or equal than and larger or equal than)\n",
    "\n",
    "# Output\n",
    "print prob\n",
    "prob.solve(verbose=0, solver='cvxopt', solve_via_dual = None)\n",
    "strict = np.all(np.array(eps.value) > 0)\n",
    "print \"All strict definit:\", strict,\"\\n\"\n",
    "if not strict: print \"eps:\", eps\n",
    "print \"Q:\\n\", QQ\n",
    "print \"eig:\\n\", LA.eigvals(QQ.value)\n",
    "R1 = LA.inv(QQ.value)\n",
    "print \"R1:\\n\", R1\n",
    "print \"eig:\\n\", LA.eigvals(R1)\n",
    "print \"z:\\n\", zz\n",
    "a_hat = R1*np.matrix(zz.value)\n",
    "print \"a_hat:\\n\", a_hat\n"
   ]
  },
  {
   "cell_type": "markdown",
   "metadata": {},
   "source": [
    "Some checks for validy of solution"
   ]
  },
  {
   "cell_type": "code",
   "execution_count": null,
   "metadata": {
    "collapsed": false
   },
   "outputs": [],
   "source": [
    "import numpy as np\n",
    "print \"Checking constraints (no output is ok!)\"\n",
    "eig_459 = np.linalg.eigvals(QQ.value)\n",
    "if np.any(eig_459 <= 0): print(\"Q not pos definit: {}\".format(eig_459))\n",
    "\n",
    "eig_460 = np.linalg.eigvals((QQ*(AA.T+aa*bb.T)+(AA+bb*aa.T)*QQ-zz*bb.T-bb*zz.T).value)\n",
    "if np.any(eig_460 >= 0): print(\"4.60 not neg definit: {}\".format(eig_460))\n",
    "\n",
    "eig_461 = np.linalg.eigvals((QQ*NN+NN*QQ).value)\n",
    "if np.any(eig_461 >= 0): print(\"4.61 not neg definit: {}\".format(eig_461))\n",
    "    \n",
    "eig_463 = np.linalg.eigvals(((u_max-aa.T*QQ*aa+2*aa.T*zz & zz.T) // (zz & QQ)).value)\n",
    "if np.any(eig_463 <= 0): print(\"4.63 not pos definit: {}\".format(eig_463))"
   ]
  },
  {
   "cell_type": "markdown",
   "metadata": {},
   "source": [
    "Helper functions to run simulation"
   ]
  },
  {
   "cell_type": "code",
   "execution_count": null,
   "metadata": {
    "collapsed": false
   },
   "outputs": [],
   "source": [
    "# Defining functions\n",
    "def get_g(p, x, R1):\n",
    "    try:\n",
    "        p = p.squeeze() # This is weird\n",
    "    except:\n",
    "        pass\n",
    "    D_inv = _D_inv(p, n)\n",
    "#    print \"p:\", p\n",
    "#    print \"D_inv:\", D_inv\n",
    "#    print \"x_T:\", x.transpose()\n",
    "#    print \"x:\", x\n",
    "#    print \"R1:\", R1\n",
    "    g = x.transpose().dot(D_inv).dot(R1).dot(D_inv).dot(x) - 1.0\n",
    "    # Update 2016: As of python 3.5, there is a new matrix_multiply symbol, @:\n",
    "    # g = x' @ D^-1 @ R1 @ D^-1 @ x - 1.0\n",
    "    return g.squeeze()\n",
    "print \"Test g\\n\", get_g(0.1, np.matrix(range(0,n)).T, R1)\n",
    "\n",
    "def get_kstar(p, a, a_hat_star):\n",
    "    try:\n",
    "        p = p.squeeze() # This is weird\n",
    "    except:\n",
    "        pass\n",
    "    D_inv = _D_inv(p, n)\n",
    "    kstar = D_inv.dot(a_hat_star) - a\n",
    "    return kstar\n",
    "print \"Test kstar\\n\", get_kstar(2, a, a_hat)\n",
    "\n",
    "def sat(v, u_max, u_min=None):\n",
    "    if not u_min:\n",
    "        u_min = -u_max\n",
    "    return np.clip(v, u_min, u_max)"
   ]
  },
  {
   "cell_type": "markdown",
   "metadata": {},
   "source": [
    "Simulation of WSVC Control"
   ]
  },
  {
   "cell_type": "code",
   "execution_count": null,
   "metadata": {
    "collapsed": false
   },
   "outputs": [],
   "source": [
    "from IPython.display import clear_output\n",
    "from __future__ import division\n",
    "from scipy.optimize import minimize\n",
    "\n",
    "#Introduced for fun\n",
    "u_max_sys = u_max\n",
    "\n",
    "# Numerical approach\n",
    "max_T = 120 # Seconds\n",
    "\n",
    "#simulation time\n",
    "T = 1.0/100.0\n",
    "\n",
    "max_iter = int(max_T/T)\n",
    "\n",
    "# Initial state\n",
    "x0 = np.array([[0.9],[0]])\n",
    "\n",
    "# Make functionpointer\n",
    "func_g = lambda p: np.absolute(get_g(p, x_t, R1))\n",
    "func_kstar = lambda p: get_kstar(p, a, a_hat)\n",
    "\n",
    "init_p = 0\n",
    "\n",
    "p_t = np.zeros(max_iter)\n",
    "p_t2 = np.zeros(max_iter)\n",
    "u_t = np.zeros(max_iter)\n",
    "u_t2 = np.zeros(max_iter)\n",
    "\n",
    "# Timeloop\n",
    "x_t = x0\n",
    "y_t = np.zeros(max_iter)\n",
    "y_t[0] = x0[0]\n",
    "\n",
    "with Timer():\n",
    "    for t in range(1, max_iter):\n",
    "    #for t in range(0, 10000):\n",
    "        if t%1000 == 1:\n",
    "            clear_output()\n",
    "            print t*T, \"seconds done ->\", t/max_iter*100, \"%\"\n",
    "        ## Calc p\n",
    "        res = minimize(func_g, p_t2[t-1], method='Nelder-Mead')\n",
    "        #print res.x\n",
    "\n",
    "        #g_poly = sp.Poly(sys, p)\n",
    "        #show(g_poly)\n",
    "        p = sat(res.x, 1, 0.04)\n",
    "        p_t[t] = res.x\n",
    "        p_t2[t] = p\n",
    "\n",
    "        ## Calc u\n",
    "        k_t = func_kstar(p)\n",
    "        u = np.dot(np.array(-k_t.T), x_t)\n",
    "        #print u_sym\n",
    "        u_t[t] = u\n",
    "        u = sat(u, u_max)\n",
    "        u_t2[t] = u\n",
    "\n",
    "        ## System response\n",
    "        # System saturation u (trivial if u_max and u_max_sys are identical)\n",
    "        # Calc x_dot\n",
    "        x_dot = np.dot(A, x_t) + b * sat(u, u_max_sys)\n",
    "\n",
    "        x_t = x_t + x_dot*T\n",
    "        y_t[t] = x_t[0]\n",
    "    clear_output()\n",
    "\n",
    "print \"done\""
   ]
  },
  {
   "cell_type": "markdown",
   "metadata": {},
   "source": [
    "Additional simulation of simple SS Control"
   ]
  },
  {
   "cell_type": "code",
   "execution_count": null,
   "metadata": {
    "collapsed": false
   },
   "outputs": [],
   "source": [
    "ux_t = np.zeros(max_iter)\n",
    "ux_t2 = np.zeros(max_iter)\n",
    "yx_t = np.zeros(max_iter)\n",
    "\n",
    "# Timeloop\n",
    "x_t = x0\n",
    "yx_t[0] = x0[0]\n",
    "\n",
    "with Timer():\n",
    "    for t in range(1, max_iter):\n",
    "    #for t in range(0, 10000):\n",
    "        if t%1000 == 1:\n",
    "            clear_output()\n",
    "            print t*T, \"seconds done ->\", t/max_iter*100, \"%\"\n",
    "        \n",
    "        ## Calc u\n",
    "        k_t = func_kstar(0.5)\n",
    "        u = np.dot(np.array(-k_t.T), x_t)\n",
    "        #print u_sym\n",
    "        ux_t[t] = u\n",
    "        u = sat(u, u_max)\n",
    "        ux_t2[t] = u\n",
    "\n",
    "        ## System response\n",
    "        # System saturation u (trivial if u_max and u_max_sys are identical)\n",
    "        # Calc x_dot\n",
    "        x_dot = np.dot(A, x_t) + b * sat(u, u_max_sys)\n",
    "\n",
    "        x_t = x_t + x_dot*T\n",
    "        yx_t[t] = x_t[0]\n",
    "    clear_output()\n",
    "\n",
    "print \"done\""
   ]
  },
  {
   "cell_type": "markdown",
   "metadata": {},
   "source": [
    "Plotting"
   ]
  },
  {
   "cell_type": "code",
   "execution_count": null,
   "metadata": {
    "collapsed": false
   },
   "outputs": [],
   "source": [
    "import matplotlib.pyplot as plt\n",
    "plt.rcParams['figure.figsize'] = (15, 20)\n",
    "\n",
    "plt.subplot(311)\n",
    "plt.plot(np.arange(0, len(y_t))*T, y_t, 'b')\n",
    "plt.plot(np.arange(0, len(yx_t))*T, yx_t, 'b.')\n",
    "plt.xlabel('t [s]')\n",
    "plt.ylabel('y(t)')\n",
    "\n",
    "plt.subplot(312)\n",
    "plt.plot(np.arange(0, len(y_t))*T, p_t, 'g--')\n",
    "plt.plot(np.arange(0, len(y_t))*T, p_t2, 'g')\n",
    "plt.xlabel('t [s]')\n",
    "plt.ylabel('p(t)')\n",
    "\n",
    "plt.subplot(313)\n",
    "axes = plt.gca()\n",
    "axes.set_ylim([-u_max-1e-5,u_max+1e-5])\n",
    "\n",
    "plt.plot(np.arange(0, len(y_t))*T, u_t, 'r--')\n",
    "plt.plot(np.arange(0, len(y_t))*T, u_t2, 'r')\n",
    "plt.plot(np.arange(0, len(y_t))*T, ux_t, 'y--')\n",
    "plt.plot(np.arange(0, len(y_t))*T, ux_t2, 'y')\n",
    "plt.xlabel('t [s]')\n",
    "plt.ylabel('u(t)')\n",
    "\n",
    "plt.show()"
   ]
  },
  {
   "cell_type": "code",
   "execution_count": null,
   "metadata": {
    "collapsed": false
   },
   "outputs": [],
   "source": [
    "print np.array(eps.value) > 0\n"
   ]
  },
  {
   "cell_type": "markdown",
   "metadata": {},
   "source": [
    "(Yet failing) visualtions of Ljaponov regions"
   ]
  },
  {
   "cell_type": "code",
   "execution_count": null,
   "metadata": {
    "collapsed": true
   },
   "outputs": [],
   "source": [
    "# V(x) = x.T * P * x\n",
    "def V(x,y,P):\n",
    "    x = np.matrix([x, y]).T\n",
    "    return x.T * P * x\n",
    "\n",
    "arr = [(x,y,V(x,y,R1)) for x in np.arange(-1, 1, 0.1) for y in np.arange(-1, 1, 0.1)]\n",
    "\n",
    "import matplotlib.pyplot as plt\n",
    "plt.plot(arr)\n",
    "plt.show()\n",
    "print arr"
   ]
  },
  {
   "cell_type": "code",
   "execution_count": null,
   "metadata": {
    "collapsed": true
   },
   "outputs": [],
   "source": []
  }
 ],
 "metadata": {
  "kernelspec": {
   "display_name": "Python 2",
   "language": "python",
   "name": "python2"
  },
  "language_info": {
   "codemirror_mode": {
    "name": "ipython",
    "version": 2
   },
   "file_extension": ".py",
   "mimetype": "text/x-python",
   "name": "python",
   "nbconvert_exporter": "python",
   "pygments_lexer": "ipython2",
   "version": "2.7.12"
  }
 },
 "nbformat": 4,
 "nbformat_minor": 1
}
