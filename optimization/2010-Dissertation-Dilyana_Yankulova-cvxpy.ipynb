{
 "cells": [
  {
   "cell_type": "code",
   "execution_count": null,
   "metadata": {
    "collapsed": true
   },
   "outputs": [],
   "source": [
    "import numpy as np\n",
    "import control as con\n",
    "from numpy import linalg as LA\n",
    "\n",
    "import cvxpy\n",
    "import optim_tools as optim_tools#own file with helper"
   ]
  },
  {
   "cell_type": "code",
   "execution_count": null,
   "metadata": {
    "collapsed": false
   },
   "outputs": [],
   "source": [
    "###########################\n",
    "# Hydraulischer Aktor     #\n",
    "###########################\n",
    "\n",
    "A0 = np.matrix([[0,   1,       0],\n",
    "                [-10, -1.167, 25],\n",
    "                [0,   0,    -0.8]])\n",
    "print \"Eigenvalues: {}\".format(LA.eigvals(A0))\n",
    "#a = -A[-1,:].T ### !!!!!\n",
    "#print a\n",
    "b0 = np.matrix([[0],[0],[2.4]])\n",
    "c0 = np.matrix([1, 0, 0])\n",
    "d0 = np.matrix([0])\n",
    "u_max = 10.5\n",
    "n = 3\n",
    "\n",
    "X0 = [np.matrix([-20.0, -10, -10]).T,\n",
    "      np.matrix([-20.0, -10, 10]).T,\n",
    "      np.matrix([-20.0,  10, -10]).T,\n",
    "      np.matrix([20.0,  -10, 10]).T,\n",
    "      np.matrix([20.0,  -10, -10]).T,\n",
    "      np.matrix([20.0,   10, 10]).T]\n",
    "\n",
    "#print \"A:\\n\", A\n",
    "#print \"a:\\n\", a\n",
    "#print \"b:\\n\", b\n",
    "#print \"c:\\n\", c\n",
    "\n",
    "\n",
    "# Convert to Normalform\n",
    "ss, T = con.canonical_form(con.ss(A0, b0, c0, d0), form='reachable')\n",
    "\n",
    "A = optim_tools.reverse_x_order(np.matrix(ss.A))\n",
    "a = -A[-1][:].T #!!!!\n",
    "\n",
    "b = optim_tools.reverse_x_order(np.matrix(ss.B))\n",
    "c = optim_tools.reverse_x_order(np.matrix(ss.C))\n",
    "d = optim_tools.reverse_x_order(np.matrix(ss.D)) # == 0!\n",
    "\n",
    "print \"A:\\n\", A\n",
    "print \"a:\\n\", a\n",
    "print \"b:\\n\", b\n",
    "print \"c:\\n\", c"
   ]
  },
  {
   "cell_type": "code",
   "execution_count": null,
   "metadata": {
    "collapsed": false
   },
   "outputs": [],
   "source": []
  },
  {
   "cell_type": "code",
   "execution_count": null,
   "metadata": {
    "collapsed": false
   },
   "outputs": [],
   "source": []
  },
  {
   "cell_type": "code",
   "execution_count": null,
   "metadata": {
    "collapsed": false
   },
   "outputs": [],
   "source": [
    "######################################################\n",
    "# Helper for Constraint variant (4.65) -> Q_sum      #\n",
    "######################################################\n",
    "\n",
    "# TODO: Was ist m? Kann man das berechnen oder wird das festgelegt m<=2n-1, meistens n+1?\n",
    "\n",
    "from scipy.special import comb as nchoosek # n Choose k (n ueber k)\n",
    "\n",
    "def get_a_list(a, Q, z, m):\n",
    "    n = len(a) # dim of a, z, Q(nxn)\n",
    "    m = m # Is this to choose or somehow given?\n",
    "    l = m+1 # length of the array with all a_i in it i:{0,m}\n",
    "    H = lambda k: optim_tools._H(k, n) # Convinence function to fix n and make specialized H(k)\n",
    "    N = optim_tools._N(n)\n",
    "\n",
    "    a_list = [np.zeros((n, n))] * l\n",
    "    for i in range(0, l): # m eingeschlossen\n",
    "        if i <= (m-1)/2.0: # 0 <= i <= (m-1)/2\n",
    "            for k in range(1, i+1):\n",
    "                a_list[i] += a.T * H(n+k-i)*Q*N*H(n-k+1)*a - z.T*N*H(n-i)*a\n",
    "        elif i <= m: # (m-1)/2 < i <=m\n",
    "            for k in range(1, 2*n-i+1):\n",
    "                a_list[i] += a.T * H(k)*Q*N*H(2*n-i-k+1)*a\n",
    "        else:\n",
    "            # this branch is currently not possible in this program\n",
    "            print \"i={} < m={}\".format(i, m)\n",
    "            a_list[i] = 0\n",
    "            \n",
    "    return a_list\n",
    "\n",
    "\n",
    "def trans_a_list(a_list, eps):\n",
    "    l = len(a_list)\n",
    "    m = l-1 #biggest index in a_list\n",
    "    a1_list = [np.zeros(a_list[0].shape)] * l\n",
    "    for j in range(0, l): #for each in a_list\n",
    "        for i in range(j, l): # for each coefficient including m\n",
    "            a1_list[j] += nchoosek(i, i-j) * ((1.0+eps)/(1.0-eps))**(i-j) * ((1.0-eps)/(2.0))**i * a_list[i]\n",
    "    return a1_list\n",
    "\n",
    "def calc_a_Sum(a_list):\n",
    "    l = len(a_list) # number of matrizen in a_list\n",
    "    m = l-1 # Index of Q_m\n",
    "    n = a_list[0].size[0] # shape of each matrix, first element\n",
    "    \n",
    "    if m is 0:\n",
    "        a_sum = cvxpy.bmat([[2*a_list[0],   np.zeros(n)], \n",
    "                            [np.zeros(n), np.zeros(n)]])\n",
    "    elif m is 1:\n",
    "        a_sum = cvxpy.bmat([[2*a_list[0], a_list[1]],\n",
    "                            [a_list[1],   np.zeros(n)]])\n",
    "    else: # e.g. m is 2 or more\n",
    "        a_sum = cvxpy.bmat([[2*a_list[0], a_list[1]],\n",
    "                            [a_list[1], 2*a_list[2]]])\n",
    "\n",
    "    for i1 in range(3, l, 2):\n",
    "        S_new_col = cvxpy.vstack(np.zeros((((i1+1)/2-1)*n, n)), a_list[i1])\n",
    "\n",
    "        if i1 is m:\n",
    "            S_new_row = cvxpy.hstack(np.zeros((n, ((i1+1)/2-1)*n)), a_list[i1], np.zeros((n,n)))\n",
    "        else:\n",
    "            S_new_row = cvxpy.hstack(np.zeros((n, ((i1+1)/2-1)*n)), a_list[i1], 2*a_list[i1+1])\n",
    "\n",
    "        a_sum = cvxpy.bmat([[a_sum, S_new_col],\n",
    "                            [S_new_row]])\n",
    "\n",
    "    a_sum = -0.5*a_sum\n",
    "    \n",
    "    return a_sum\n",
    "\n",
    "def calc_lmi_cond(a_sum, n):\n",
    "    k = a_sum.size[1] / n # This dimension is from Boris. Dilyana does not specifiy the dimension though\n",
    "\n",
    "    J = np.hstack([np.zeros((n*(k-1), n)), np.eye(n*(k-1))])\n",
    "    C = np.hstack([np.eye(n*(k-1)), np.zeros((n*(k-1), n))])\n",
    "    return np.vstack([C, J]), n*(k-1)"
   ]
  },
  {
   "cell_type": "code",
   "execution_count": null,
   "metadata": {
    "collapsed": false
   },
   "outputs": [],
   "source": [
    "##############################\n",
    "# Convex Problem (4.58)      #\n",
    "##############################\n",
    "\n",
    "# Variables\n",
    "Q  = cvxpy.Variable(n,n) # Implys (459) (semidefinite for numerical reasons?)\n",
    "\n",
    "z = cvxpy.Variable(n)\n",
    "\n",
    "# Constants\n",
    "N = optim_tools._N(n)\n",
    "\n",
    "# Constraints\n",
    "constraint_459 = Q >> 0\n",
    "constraint_460 = Q*(A.T + a*b.T) + (A + b*a.T)*Q - z*b.T - b*z.T << 0\n",
    "constraint_461 = Q*N+N*Q << 0\n",
    "\n",
    "constraint_462 = [cvxpy.bmat([[1,       X0[i].T],\n",
    "                              [X0[i],    Q      ]]) >> 0\n",
    "                                for i in range(0, len(X0))]\n",
    "\n",
    "constraint_463 = cvxpy.bmat([[u_max**2 - a.T*Q*a + 2*a.T*z, z.T],\n",
    "                             [z,                           Q  ]]) >> 0\n",
    "\n",
    "\n",
    "# Collection of all constraints\n",
    "constraints = [constraint_460] # -> for some objectives this constraint is replaced, therefore constraints[0]==constraint_460\n",
    "constraints.append(constraint_459)\n",
    "constraints.append(constraint_461)\n",
    "constraints.extend(constraint_462) ##!! Beware of the \"extend\" if input is array\n",
    "constraints.append(constraint_463)\n"
   ]
  },
  {
   "cell_type": "code",
   "execution_count": null,
   "metadata": {
    "collapsed": false,
    "scrolled": true
   },
   "outputs": [],
   "source": [
    "###########################################\n",
    "# Constraint variant (4.65) -> Q_sum      #\n",
    "###########################################\n",
    "\n",
    "m = n\n",
    "\n",
    "# Preparation for constraint (4.65)\n",
    "a_list = get_a_list(a, Q, z, m) # Matrizes of Polynom coefficients: S(p)=S_0 + S_1*p + ... S_n*p^n\n",
    "a1_list = trans_a_list(a_list, 0.01) # Intervaltransformation p:[0,1] -> p1:[-1,1] (S1 -> S^tilde)\n",
    "a1_sum = calc_a_Sum(a1_list) # S^tilde_sum Matrix (30)\n",
    "CJ, l = calc_lmi_cond(a1_sum ,n) # \"Selection matrizes\" of (31), l=dimension of P and G\n",
    "\n",
    "# Further variables of optimization\n",
    "S = cvxpy.Variable(l,l) #symmetrical\n",
    "G = cvxpy.Variable(l,l) #skew\n",
    "\n",
    "# Constraints on new variables\n",
    "constraint_G = G + G.T == 0 # skew symmetry\n",
    "constraint_S = S == S.T # symmetry\n",
    "\n",
    "# Actual constraint\n",
    "constraint_465 = a1_sum << CJ.T * cvxpy.bmat([[-S,  G],\n",
    "                                              [G.T, S]]) * CJ\n",
    "\n",
    "# Appending all constraints to \"problem\"\n",
    "\n",
    "constraints.append(constraint_G)\n",
    "constraints.append(constraint_S)\n",
    "constraints.append(constraint_465)"
   ]
  },
  {
   "cell_type": "code",
   "execution_count": null,
   "metadata": {
    "collapsed": true
   },
   "outputs": [],
   "source": [
    "print \"TO FUTURE-ME!\"\n",
    "print \"STOP! Please rethink and choose the following cells wisely!\"\n",
    "print \"AND NOT ALL OF THEM!\""
   ]
  },
  {
   "cell_type": "code",
   "execution_count": null,
   "metadata": {
    "collapsed": false
   },
   "outputs": [],
   "source": [
    "###########################################\n",
    "# Objective variant (4.66) -> max(det(Q)) #\n",
    "# Volumenmaximierung -> geomean(Q)        #\n",
    "###########################################\n",
    "\n",
    "# Help variable to minimize geomean\n",
    "#v = cvxpy.Variable(1)\n",
    "\n",
    "# Objective representation\n",
    "#constraint_obj_451 = v >= -cvxpy.geo_mean(Q)\n",
    "\n",
    "#constraints.append(constraint_obj_451)\n",
    "\n",
    "obj = cvxpy.Minimize(-cvxpy.geo_mean(Q)) # Not yet implemented\n",
    "\n",
    "prob = cvxpy.Problem(obj, constraints)\n",
    "\n",
    "# Solve the problem with SCS\n",
    "prob.solve(solver=cvxpy.SCS, verbose=False, max_iters=2500)\n",
    "print prob.status\n",
    "Q.value"
   ]
  },
  {
   "cell_type": "code",
   "execution_count": null,
   "metadata": {
    "collapsed": false
   },
   "outputs": [],
   "source": [
    "########################\n",
    "# Objective playground #\n",
    "########################\n",
    "\n",
    "#obj = cvxpy.Minimize(0) # Feasiblity\n",
    "obj = cvxpy.Maximize(cvxpy.log_det(Q))\n",
    "#obj = cvxpy.Maximize(cvxpy.lambda_min(Q))\n",
    "\n",
    "prob = cvxpy.Problem(obj, constraints)\n",
    "\n",
    "# Solve the problem with SCS\n",
    "prob.solve(solver=cvxpy.SCS, verbose=False, max_iters=2500)\n",
    "print prob.status\n",
    "print \"Q:\\n\", Q.value\n",
    "print \"R1:\\n\", LA.inv(Q.value)"
   ]
  },
  {
   "cell_type": "code",
   "execution_count": null,
   "metadata": {
    "collapsed": false
   },
   "outputs": [],
   "source": [
    "###########################################\n",
    "# Objective variant (4.70)                #\n",
    "# Max. Abklingrate                        #\n",
    "###########################################\n",
    "\n",
    "beta = cvxpy.Parameter(sign='positive') # Bisection parameter\n",
    "\n",
    "constraint_obj_471 = Q*(A.T + a*b.T) + (A + b*a.T)*Q - z*b.T - b*z.T + 2*beta*Q << 0\n",
    "\n",
    "constraints[0] = constraint_obj_471 # Replace constraint_460\n",
    "obj = cvxpy.Minimize(0) # Feasiblity\n",
    "\n",
    "prob = cvxpy.Problem(obj, constraints)\n",
    "\n",
    "# Solve with bisection (and SCS)\n",
    "[[Q_o, z_o], beta_o] = optim_tools.bisect_max(0, 10, prob, beta, [Q, z], solver=cvxpy.SCS)\n",
    "\n",
    "print \"Q:\\n\", Q_o\n",
    "print \"z:\\n\", z_o\n",
    "print \"beta:\", beta_o"
   ]
  },
  {
   "cell_type": "code",
   "execution_count": null,
   "metadata": {
    "collapsed": true
   },
   "outputs": [],
   "source": []
  },
  {
   "cell_type": "code",
   "execution_count": null,
   "metadata": {
    "collapsed": false
   },
   "outputs": [],
   "source": [
    "###########################################\n",
    "# Objective variant (Kap. 4.5.3)          #\n",
    "# Min. quad. Gütemaß                      #\n",
    "###########################################\n",
    "\n",
    "gamma = cvxpy.Parameter(sign='positive') # Bisection parameter\n",
    "\n",
    "# Further variables of optimization\n",
    "W = cvxpy.Parameter(n, 1) # ~c -> Min(Integral{y.T*y}) -> Min(Integral{x.T*c.T*c*x}) -> Min(Integral{x.T*Ĝ*x})\n",
    "W.value = np.matrix([1,0,0]).T # G=[1 0 0; 0 0 0; 0 0 0] ~~ c.T*c\n",
    "\n",
    "# Constraints on new variables\n",
    "#constraint_W = W*W.T >> 0 # symmetry ?\n",
    "#print constraint_W\n",
    "\n",
    "constraint_obj_xxx = cvxpy.bmat([[Q*(A.T + a*b.T) + (A + b*a.T)*Q - z*b.T - b*z.T, Q*W   ],\n",
    "                                 [W.T*Q,                                           -gamma]]) << 0\n",
    "\n",
    "constraints[0] = constraint_obj_xxx # Replace constraint_460\n",
    "                                \n",
    "obj = cvxpy.Minimize(0) # Feasiblity\n",
    "\n",
    "prob = cvxpy.Problem(obj, constraints)\n",
    "\n",
    "\n",
    "#gamma.value = 30.8990478516\n",
    "#prob.solve(solver=cvxpy.SCS, verbose=True)\n",
    "\n",
    "# Solve with bisection (and SCS)\n",
    "[[Q_o, z_o], gamma_o] = optim_tools.bisect_min(20, 35, prob, gamma, [Q, z], solver=cvxpy.SCS, verbose=False)\n",
    "\n",
    "print \"Q:\\n\", Q_o\n",
    "print \"R1:\\n\", LA.inv(Q_o)\n",
    "\n",
    "print \"z:\\n\", z_o\n",
    "print \"gamma:\", gamma_o"
   ]
  },
  {
   "cell_type": "code",
   "execution_count": null,
   "metadata": {
    "collapsed": false
   },
   "outputs": [],
   "source": []
  },
  {
   "cell_type": "code",
   "execution_count": null,
   "metadata": {
    "collapsed": false
   },
   "outputs": [],
   "source": []
  },
  {
   "cell_type": "markdown",
   "metadata": {},
   "source": [
    "Some checks for validy of solution"
   ]
  },
  {
   "cell_type": "code",
   "execution_count": null,
   "metadata": {
    "collapsed": false
   },
   "outputs": [],
   "source": [
    "import numpy as np\n",
    "print \"Checking constraints (no output is ok!)\"\n",
    "eig_459 = np.linalg.eigvals(Q_o)\n",
    "if np.any(eig_459 <= 0): print(\"Q not pos definit: {}\".format(eig_459))\n",
    "\n",
    "#eig_460 = np.linalg.eigvals((Q*(A.T+a*b.T)+(A+b*a.T)*Q-z*b.T-b*z.T).value)\n",
    "#if np.any(eig_460 >= 0): print(\"4.60 not neg definit: {}\".format(eig_460))\n",
    "\n",
    "#eig_461 = np.linalg.eigvals((Q*N+N*Q).value)\n",
    "#if np.any(eig_461 >= 0): print(\"4.61 not neg definit: {}\".format(eig_461))\n",
    "\n"
   ]
  },
  {
   "cell_type": "code",
   "execution_count": null,
   "metadata": {
    "collapsed": true
   },
   "outputs": [],
   "source": []
  }
 ],
 "metadata": {
  "kernelspec": {
   "display_name": "Python 2",
   "language": "python",
   "name": "python2"
  },
  "language_info": {
   "codemirror_mode": {
    "name": "ipython",
    "version": 2
   },
   "file_extension": ".py",
   "mimetype": "text/x-python",
   "name": "python",
   "nbconvert_exporter": "python",
   "pygments_lexer": "ipython2",
   "version": "2.7.12"
  }
 },
 "nbformat": 4,
 "nbformat_minor": 1
}
