{
 "cells": [
  {
   "cell_type": "code",
   "execution_count": null,
   "metadata": {
    "collapsed": true
   },
   "outputs": [],
   "source": [
    "import numpy as np\n",
    "import control as con\n",
    "from numpy import linalg as LA\n",
    "\n",
    "import cvxpy\n",
    "import optim_tools as optim_tools#own file with helper"
   ]
  },
  {
   "cell_type": "code",
   "execution_count": null,
   "metadata": {
    "collapsed": false,
    "scrolled": true
   },
   "outputs": [],
   "source": [
    "###########################\n",
    "# Hydraulischer Aktor     #\n",
    "###########################\n",
    "\n",
    "A0 = np.matrix([[0,   1,       0],\n",
    "                [-10, -1.167, 25],\n",
    "                [0,   0,    -0.8]])\n",
    "print \"Eigenvalues: {}\".format(LA.eigvals(A0))\n",
    "#a = -A[-1,:].T ### !!!!!\n",
    "#print a\n",
    "b0 = np.matrix([[0],[0],[2.4]])\n",
    "c0 = np.matrix([1, 0, 0])\n",
    "d0 = np.matrix([0])\n",
    "u_max = 10.5\n",
    "n = 3\n",
    "\n",
    "X00 = [np.matrix([-20.0, -10.0, -10.0]).T,\n",
    "       np.matrix([-20.0, -10.0, 10.0]).T,\n",
    "       np.matrix([-20.0,  10.0, -10.0]).T,\n",
    "       np.matrix([20.0,  -10.0, 10.0]).T,\n",
    "       np.matrix([20.0,  -10.0, -10.0]).T,\n",
    "       np.matrix([20.0,   10.0, 10.0]).T]\n",
    "\n",
    "#print \"A:\\n\", A\n",
    "#print \"a:\\n\", a\n",
    "#print \"b:\\n\", b\n",
    "#print \"c:\\n\", c\n",
    "\n",
    "# Convert to Normalform\n",
    "(A1, b1, c1, d1), T1, Q1 = optim_tools.get_Steuerungsnormalform(A0, b0, c0.T, d0)\n",
    "a1 = -A1[-1][:].T #!!!!\n",
    "print \"T1:\\n\", T1\n",
    "\n",
    "# Convert to Normalform\n",
    "ss, T2 = con.canonical_form(con.ss(A0, b0, c0, d0), form='reachable')\n",
    "\n",
    "assert np.allclose(T1*X00[1],\n",
    "                   optim_tools.reverse_x_order(T2*X00[1])),\\\n",
    "\"own Steuerungsnormalform Transformation not equal python control version\"\n",
    "#print \"x_r1:\\n\", T1*X00[1]\n",
    "#print \"x_r2(backwards):\\n\", optim_tools.reverse_x_order(T2*X00[1])\n",
    "\n",
    "A = optim_tools.reverse_x_order(np.matrix(ss.A))\n",
    "a = -A[-1][:].T #!!!!\n",
    "\n",
    "b = optim_tools.reverse_x_order(np.matrix(ss.B))\n",
    "c = optim_tools.reverse_x_order(np.matrix(ss.C))\n",
    "d = optim_tools.reverse_x_order(np.matrix(ss.D)) # == 0!\n",
    "\n",
    "print \"A:\\n\", A\n",
    "assert np.allclose(A, A1)\n",
    "print \"a:\\n\", a\n",
    "assert np.allclose(a, a1)\n",
    "print \"b:\\n\", b\n",
    "assert np.allclose(b, b1)\n",
    "print \"c:\\n\", c\n",
    "assert np.allclose(c, c1.T)\n",
    "\n",
    "X0 = [T1.dot(x0) for x0 in X00]\n",
    "print \"X0:\\n\", X0\n",
    "#print \"A1:\\n\", A1\n",
    "#print \"a1:\\n\", a1\n",
    "#print \"b1:\\n\", b1\n",
    "#print \"c1:\\n\", c1"
   ]
  },
  {
   "cell_type": "code",
   "execution_count": null,
   "metadata": {
    "collapsed": false
   },
   "outputs": [],
   "source": []
  },
  {
   "cell_type": "code",
   "execution_count": null,
   "metadata": {
    "collapsed": false
   },
   "outputs": [],
   "source": []
  },
  {
   "cell_type": "code",
   "execution_count": null,
   "metadata": {
    "collapsed": false
   },
   "outputs": [],
   "source": [
    "######################################################\n",
    "# Helper for Constraint variant (4.65) -> Q_sum      #\n",
    "######################################################\n",
    "\n",
    "# TODO: Was ist m? Kann man das berechnen oder wird das festgelegt m<=2n-1, meistens n+1?\n",
    "\n",
    "from scipy.special import comb as nchoosek # n Choose k (n ueber k)\n",
    "\n",
    "def get_a_list(a, Q, z, m):\n",
    "    n = len(a) # dim of a, z, Q(nxn)\n",
    "    m = m # Is this to choose or somehow given?\n",
    "    l = m+1 # length of the array with all a_i in it i:{0,m}\n",
    "    H = lambda k: optim_tools._H(k, n) # Convinence function to fix n and make specialized H(k)\n",
    "    N = optim_tools._N(n)\n",
    "\n",
    "    a_list = [np.zeros((n, n))] * l\n",
    "    for i in range(0, l): # m eingeschlossen\n",
    "        if i <= (m-1)/2.0: # 0 <= i <= (m-1)/2\n",
    "            for k in range(1, i+1):\n",
    "                a_list[i] += a.T * H(n+k-i)*Q*N*H(n-k+1)*a - z.T*N*H(n-i)*a\n",
    "        elif i <= m: # (m-1)/2 < i <=m\n",
    "            for k in range(1, 2*n-i+1):\n",
    "                a_list[i] += a.T * H(k)*Q*N*H(2*n-i-k+1)*a\n",
    "        else:\n",
    "            # this branch is currently not possible in this program\n",
    "            print \"i={} < m={}\".format(i, m)\n",
    "            a_list[i] = 0\n",
    "            \n",
    "    return a_list\n",
    "\n",
    "\n",
    "def trans_a_list(a_list, eps):\n",
    "    l = len(a_list)\n",
    "    m = l-1 #biggest index in a_list\n",
    "    a1_list = [np.zeros(a_list[0].shape)] * l\n",
    "    for j in range(0, l): #for each in a_list\n",
    "        for i in range(j, l): # for each coefficient including m\n",
    "            a1_list[j] += nchoosek(i, i-j) * ((1.0+eps)/(1.0-eps))**(i-j) * ((1.0-eps)/(2.0))**i * a_list[i]\n",
    "    return a1_list\n",
    "\n",
    "def calc_a_Sum(a_list):\n",
    "    l = len(a_list) # number of matrizen in a_list\n",
    "    m = l-1 # Index of Q_m\n",
    "    n = a_list[0].size[0] # shape of each matrix, first element\n",
    "    \n",
    "    if m is 0:\n",
    "        a_sum = cvxpy.bmat([[2*a_list[0],   np.zeros(n)], \n",
    "                            [np.zeros(n), np.zeros(n)]])\n",
    "    elif m is 1:\n",
    "        a_sum = cvxpy.bmat([[2*a_list[0], a_list[1]],\n",
    "                            [a_list[1],   np.zeros(n)]])\n",
    "    else: # e.g. m is 2 or more\n",
    "        a_sum = cvxpy.bmat([[2*a_list[0], a_list[1]],\n",
    "                            [a_list[1], 2*a_list[2]]])\n",
    "\n",
    "    for i1 in range(3, l, 2):\n",
    "        S_new_col = cvxpy.vstack(np.zeros((((i1+1)/2-1)*n, n)), a_list[i1])\n",
    "\n",
    "        if i1 is m:\n",
    "            S_new_row = cvxpy.hstack(np.zeros((n, ((i1+1)/2-1)*n)), a_list[i1], np.zeros((n,n)))\n",
    "        else:\n",
    "            S_new_row = cvxpy.hstack(np.zeros((n, ((i1+1)/2-1)*n)), a_list[i1], 2*a_list[i1+1])\n",
    "\n",
    "        a_sum = cvxpy.bmat([[a_sum, S_new_col],\n",
    "                            [S_new_row]])\n",
    "\n",
    "    a_sum = -0.5*a_sum\n",
    "    \n",
    "    return a_sum\n",
    "\n",
    "def calc_lmi_cond(a_sum, n):\n",
    "    k = a_sum.size[1] / n # This dimension is from Boris. Dilyana does not specifiy the dimension though\n",
    "\n",
    "    J = np.hstack([np.zeros((n*(k-1), n)), np.eye(n*(k-1))])\n",
    "    C = np.hstack([np.eye(n*(k-1)), np.zeros((n*(k-1), n))])\n",
    "    return np.vstack([C, J]), n*(k-1)"
   ]
  },
  {
   "cell_type": "code",
   "execution_count": null,
   "metadata": {
    "collapsed": false
   },
   "outputs": [],
   "source": [
    "##############################\n",
    "# Convex Problem (4.58)      #\n",
    "##############################\n",
    "\n",
    "# Variables\n",
    "Q  = cvxpy.Variable(n,n) # Implys (459) (semidefinite for numerical reasons?)\n",
    "\n",
    "z = cvxpy.Variable(n)\n",
    "\n",
    "# Constants\n",
    "N = optim_tools._N(n)\n",
    "\n",
    "# Constraints\n",
    "constraint_459 = Q >> 0\n",
    "constraint_460 = Q*(A.T + a*b.T) + (A + b*a.T)*Q - z*b.T - b*z.T << 0\n",
    "constraint_461 = Q*N+N*Q << 0\n",
    "\n",
    "constraint_462 = [cvxpy.bmat([[1,       X0[i].T],\n",
    "                              [X0[i],    Q      ]]) >> 0\n",
    "                                for i in range(0, len(X0))]\n",
    "\n",
    "constraint_463 = cvxpy.bmat([[u_max**2 - a.T*Q*a + 2*a.T*z, z.T],\n",
    "                             [z,                           Q  ]]) >> 0\n",
    "\n",
    "\n",
    "# Collection of all constraints\n",
    "constraints = [constraint_460] # -> for some objectives this constraint is replaced, therefore constraints[0]==constraint_460\n",
    "constraints.append(constraint_459)\n",
    "constraints.append(constraint_461)\n",
    "constraints.extend(constraint_462) ##!! Beware of the \"extend\" if input is array\n",
    "constraints.append(constraint_463)\n"
   ]
  },
  {
   "cell_type": "code",
   "execution_count": null,
   "metadata": {
    "collapsed": false,
    "scrolled": true
   },
   "outputs": [],
   "source": [
    "###########################################\n",
    "# Constraint variant (4.65) -> Q_sum      #\n",
    "###########################################\n",
    "\n",
    "m = n\n",
    "\n",
    "# Preparation for constraint (4.65)\n",
    "a_list = get_a_list(a, Q, z, m) # Matrizes of Polynom coefficients: S(p)=S_0 + S_1*p + ... S_n*p^n\n",
    "a1_list = trans_a_list(a_list, 0.01) # Intervaltransformation p:[0,1] -> p1:[-1,1] (S1 -> S^tilde)\n",
    "a1_sum = calc_a_Sum(a1_list) # S^tilde_sum Matrix (30)\n",
    "CJ, l = calc_lmi_cond(a1_sum ,n) # \"Selection matrizes\" of (31), l=dimension of P and G\n",
    "\n",
    "# Further variables of optimization\n",
    "S = cvxpy.Variable(l,l) #symmetrical\n",
    "G = cvxpy.Variable(l,l) #skew\n",
    "\n",
    "# Constraints on new variables\n",
    "constraint_G = G + G.T == 0 # skew symmetry\n",
    "constraint_S = S == S.T # symmetry\n",
    "\n",
    "# Actual constraint\n",
    "constraint_465 = a1_sum << CJ.T * cvxpy.bmat([[-S,  G],\n",
    "                                              [G.T, S]]) * CJ\n",
    "\n",
    "# Appending all constraints to \"problem\"\n",
    "\n",
    "constraints.append(constraint_G)\n",
    "constraints.append(constraint_S)\n",
    "constraints.append(constraint_465)"
   ]
  },
  {
   "cell_type": "code",
   "execution_count": null,
   "metadata": {
    "collapsed": false
   },
   "outputs": [],
   "source": [
    "print \"TO FUTURE-ME!\"\n",
    "print \"STOP! Please rethink and choose the following cells wisely!\"\n",
    "print \"AND NOT ALL OF THEM!\""
   ]
  },
  {
   "cell_type": "code",
   "execution_count": null,
   "metadata": {
    "collapsed": false
   },
   "outputs": [],
   "source": [
    "###########################################\n",
    "# Objective variant (4.66) -> max(det(Q)) #\n",
    "# Volumenmaximierung -> geomean(Q)        #\n",
    "###########################################\n",
    "\n",
    "# Help variable to minimize geomean\n",
    "#v = cvxpy.Variable(1)\n",
    "\n",
    "# Objective representation\n",
    "#constraint_obj_451 = v >= -cvxpy.geo_mean(Q)\n",
    "\n",
    "#constraints.append(constraint_obj_451)\n",
    "\n",
    "obj = cvxpy.Maximize(cvxpy.log_det(Q)) # Identical to geo_mean (in term of convexity and result)\n",
    "#obj = cvxpy.Minimize(-cvxpy.geo_mean(Q)) # Not yet implemented\n",
    "\n",
    "prob = cvxpy.Problem(obj, constraints)\n",
    "\n",
    "# Solve the problem with SCS\n",
    "prob.solve(solver=cvxpy.SCS, verbose=False, max_iters=2500)\n",
    "print prob.status\n",
    "Q.value"
   ]
  },
  {
   "cell_type": "code",
   "execution_count": null,
   "metadata": {
    "collapsed": false
   },
   "outputs": [],
   "source": [
    "print \"Q:\\n\", Q.value\n",
    "R1 = LA.inv(Q.value)\n",
    "print \"R1:\\n\", R1\n",
    "\n",
    "print \"z:\\n\", z.value\n",
    "a_hat = R1*z.value\n",
    "print \"a_hat:\\n\", a_hat"
   ]
  },
  {
   "cell_type": "code",
   "execution_count": null,
   "metadata": {
    "collapsed": false
   },
   "outputs": [],
   "source": [
    "########################\n",
    "# Objective playground #\n",
    "########################\n",
    "\n",
    "#obj = cvxpy.Minimize(0) # Feasiblity\n",
    "obj = cvxpy.Maximize(cvxpy.log_det(Q))\n",
    "#obj = cvxpy.Maximize(cvxpy.lambda_min(Q))\n",
    "\n",
    "prob = cvxpy.Problem(obj, constraints)\n",
    "\n",
    "# Solve the problem with SCS\n",
    "prob.solve(solver=cvxpy.SCS, verbose=False, max_iters=2500)\n",
    "print prob.status\n",
    "print \"Q:\\n\", Q.value\n",
    "print \"R1:\\n\", LA.inv(Q.value)"
   ]
  },
  {
   "cell_type": "code",
   "execution_count": null,
   "metadata": {
    "collapsed": false
   },
   "outputs": [],
   "source": [
    "###########################################\n",
    "# Objective variant (4.70)                #\n",
    "# Max. Abklingrate                        #\n",
    "###########################################\n",
    "\n",
    "beta = cvxpy.Parameter(sign='positive') # Bisection parameter\n",
    "\n",
    "constraint_obj_471 = Q*(A.T + a*b.T) + (A + b*a.T)*Q - z*b.T - b*z.T + 2*beta*Q << 0\n",
    "\n",
    "constraints[0] = constraint_obj_471 # Replace constraint_460\n",
    "obj = cvxpy.Minimize(0) # Feasiblity\n",
    "\n",
    "prob = cvxpy.Problem(obj, constraints)\n",
    "\n",
    "# Solve with bisection (and SCS)\n",
    "[[Q_o, z_o], beta_o] = optim_tools.bisect_max(0, None, prob, beta, [Q, z], solver=cvxpy.SCS)\n",
    "\n",
    "print \"Q:\\n\", Q_o\n",
    "print \"z:\\n\", z_o\n",
    "print \"beta:\", beta_o"
   ]
  },
  {
   "cell_type": "code",
   "execution_count": null,
   "metadata": {
    "collapsed": false
   },
   "outputs": [],
   "source": [
    "print \"Q:\\n\", Q_o\n",
    "R1 = LA.inv(Q_o)\n",
    "print \"R1:\\n\", R1\n",
    "\n",
    "print \"z:\\n\", z_o\n",
    "a_hat = R1*z_o\n",
    "print \"a_hat:\\n\", a_hat"
   ]
  },
  {
   "cell_type": "code",
   "execution_count": null,
   "metadata": {
    "collapsed": false
   },
   "outputs": [],
   "source": [
    "###########################################\n",
    "# Objective variant (Kap. 4.5.3)          #\n",
    "# Min. quad. Gütemaß                      #\n",
    "# Nicht besonders gut laut Yankulova,     #\n",
    "#  weil W gewählt werden muss             #\n",
    "###########################################\n",
    "\n",
    "gamma = cvxpy.Parameter(sign='positive') # Bisection parameter\n",
    "\n",
    "# Further variables of optimization\n",
    "W = cvxpy.Parameter(n, 1) # ~c -> Min(Integral{y.T*y}) -> Min(Integral{x.T*c.T*c*x}) -> Min(Integral{x.T*Ĝ*x})\n",
    "W.value = np.matrix([1,0,0]).T # G=[1 0 0; 0 0 0; 0 0 0] ~~ c.T*c\n",
    "\n",
    "# Constraints on new variables\n",
    "#constraint_W = W*W.T >> 0 # symmetry ?\n",
    "#print constraint_W\n",
    "\n",
    "constraint_obj_xxx = cvxpy.bmat([[Q*(A.T + a*b.T) + (A + b*a.T)*Q - z*b.T - b*z.T, Q*W   ],\n",
    "                                 [W.T*Q,                                           -gamma]]) << 0\n",
    "\n",
    "constraints[0] = constraint_obj_xxx # Replace constraint_460\n",
    "                                \n",
    "obj = cvxpy.Minimize(0) # Feasiblity\n",
    "\n",
    "prob = cvxpy.Problem(obj, constraints)\n",
    "\n",
    "\n",
    "#gamma.value = 30.8990478516\n",
    "#prob.solve(solver=cvxpy.SCS, verbose=True)\n",
    "\n",
    "# Solve with bisection (and SCS)\n",
    "[[Q_o, z_o], gamma_o] = optim_tools.bisect_min(20, 35, prob, gamma, [Q, z], solver=cvxpy.SCS, verbose=False)\n",
    "\n",
    "print \"Q:\\n\", Q_o\n",
    "R1 = LA.inv(Q_o)\n",
    "print \"R1:\\n\", R1\n",
    "\n",
    "print \"z:\\n\", z_o\n",
    "a_hat = R1*z_o\n",
    "print \"a_hat:\\n\", a_hat\n",
    "print \"gamma:\", gamma_o"
   ]
  },
  {
   "cell_type": "code",
   "execution_count": null,
   "metadata": {
    "collapsed": false
   },
   "outputs": [],
   "source": []
  },
  {
   "cell_type": "code",
   "execution_count": null,
   "metadata": {
    "collapsed": false
   },
   "outputs": [],
   "source": [
    "a_hat = np.matrix([[14.345160], [14.837268], [3.598276]])\n",
    "\n",
    "R1 = np.matrix([[1.677977, 0.543373, 0.140299],\n",
    "                  [0.543373, 0.32290,  0.062725],\n",
    "                  [0.140298, 0.06272,  0.026148]])"
   ]
  },
  {
   "cell_type": "markdown",
   "metadata": {},
   "source": [
    "Some checks for validy of solution"
   ]
  },
  {
   "cell_type": "code",
   "execution_count": null,
   "metadata": {
    "collapsed": false
   },
   "outputs": [],
   "source": [
    "import numpy as np\n",
    "print \"Checking constraints (no output is ok!)\"\n",
    "eig_459 = np.linalg.eigvals(R1)\n",
    "if np.any(eig_459 <= 0): print(\"Q not pos definit: {}\".format(eig_459))\n",
    "\n",
    "#eig_460 = np.linalg.eigvals((Q*(A.T+a*b.T)+(A+b*a.T)*Q-z*b.T-b*z.T).value)\n",
    "#if np.any(eig_460 >= 0): print(\"4.60 not neg definit: {}\".format(eig_460))\n",
    "\n",
    "#eig_461 = np.linalg.eigvals((Q*N+N*Q).value)\n",
    "#if np.any(eig_461 >= 0): print(\"4.61 not neg definit: {}\".format(eig_461))\n",
    "\n",
    "#%matplotlib notebook\n",
    "import matplotlib.pyplot as plt"
   ]
  },
  {
   "cell_type": "code",
   "execution_count": null,
   "metadata": {
    "collapsed": false
   },
   "outputs": [],
   "source": [
    "T = np.arange(0, 5, 1e-2) \n",
    "\n",
    "#s: input, e.g., step function with amplitude of 0.2\n",
    "s = np.zeros(len(T));\n",
    "\n",
    "pmin = 0.1\n",
    "p_init = pmin\n",
    "\n",
    "# Initial state\n",
    "x0 = np.matrix([[20.],[10.],[10.]])\n",
    "\n",
    "p_t = np.zeros(len(T))"
   ]
  },
  {
   "cell_type": "code",
   "execution_count": null,
   "metadata": {
    "collapsed": false
   },
   "outputs": [],
   "source": [
    "# Skalierte Version! aus Yankulova\n",
    "\n",
    "# k(v) (4.5)\n",
    "def get_k(v, a, a_hat):\n",
    "    try:\n",
    "        v = v.squeeze() # This is weird, needed for minimize for some reason\n",
    "    except:\n",
    "        pass\n",
    "    D_inv = optim_tools._D_inv(v, len(a))\n",
    "    #print D_inv\n",
    "    k = D_inv.dot(a_hat) - a\n",
    "    return k\n",
    "\n",
    "#print \"Test k\\n\", get_k(0.2, np.matrix([124, 48, 12]).T, np.matrix([1, 2, 3]).T)\n",
    "assert(np.allclose(-a+a_hat, get_k(1, a, a_hat)))\n",
    "\n",
    "# Fixing a and a_hat for convinience\n",
    "# func_k = lambda v: get_k(v, a, a_hat)\n",
    "\n",
    "# G(v) (4.4)\n",
    "def get_g(v, x, R1, u_max, a, a_hat):\n",
    "    try:\n",
    "        v = v.squeeze() # This is weird, needed for minimize for some reason\n",
    "    except:\n",
    "        pass\n",
    "    D_inv = optim_tools._D_inv(v, len(x))\n",
    "    R = D_inv.dot(R1).dot(D_inv) # R(v) = D^⁻1 * R1 * D^-1\n",
    "    \n",
    "    k = get_k(v, a, a_hat) # k(v)\n",
    "    e = (u_max**(-2)) * (k.T.dot(LA.inv(R)).dot(k))\n",
    "    #assert e < 1.0\n",
    "    g = e*(x.T.dot(R).dot(x)) - 1.0\n",
    "    #assert g <= 0, \"g = {} > 0\".format(g)\n",
    "    # Update 2016: As of python 3.5, there is a new matrix_multiply symbol, @:\n",
    "    # g = x' @ D^-1 @ R1 @ D^-1 @ x - 1.0\n",
    "    return g"
   ]
  },
  {
   "cell_type": "code",
   "execution_count": null,
   "metadata": {
    "collapsed": false
   },
   "outputs": [],
   "source": [
    "print get_g(1, T1*x0, R1, u_max, a, a_hat)\n",
    "#print T1*x0"
   ]
  },
  {
   "cell_type": "code",
   "execution_count": null,
   "metadata": {
    "collapsed": false
   },
   "outputs": [],
   "source": [
    "mi = 0.6\n",
    "ma = 1.2\n",
    "\n",
    "print x0\n",
    "print T1*x0\n",
    "print a\n",
    "print a_hat\n",
    "\n",
    "print R1\n",
    "print u_max\n",
    "#plt.plot(np.arange(mi, ma, 0.1), [get_g(p, np.matrix([[0.1, 0, 0],]).T, R1, u_max, a, a_hat).item(0) for p in np.arange(mi, ma, 0.1)])\n",
    "#plt.plot(np.arange(mi, ma, 0.1), [get_g(p, T1*x0, R1, u_max, a, a_hat).item(0) for p in np.arange(mi, ma, 0.1)])\n",
    "\n",
    "#plt.show()"
   ]
  },
  {
   "cell_type": "code",
   "execution_count": null,
   "metadata": {
    "collapsed": false
   },
   "outputs": [],
   "source": [
    "print optim_tools._D_inv(0.1, 3).dot(np.matrix([1, 1, 1]).T)\n",
    "print x0\n",
    "u_max**2"
   ]
  },
  {
   "cell_type": "raw",
   "metadata": {},
   "source": [
    "%matplotlib notebook\n",
    "import matplotlib.pyplot as plt\n",
    "\n",
    "#p0, z1 = con.matlab.pzmap(ss, False)\n",
    "#print p0\n",
    "#plt.show()\n",
    "p1, z =  con.matlab.pzmap(con.matlab.ss(A-b.dot(get_k(1., a, a_hat).T), b, c, d))\n",
    "p9, z =  con.matlab.pzmap(con.matlab.ss(A-b.dot(get_k(0.9, a, a_hat).T), b, c, d))\n",
    "p8, z =  con.matlab.pzmap(con.matlab.ss(A-b.dot(get_k(0.8, a, a_hat).T), b, c, d))\n",
    "p6, z =  con.matlab.pzmap(con.matlab.ss(A-b.dot(get_k(0.6, a, a_hat).T), b, c, d))\n",
    "p2, z =  con.matlab.pzmap(con.matlab.ss(A-b.dot(get_k(0.2, a, a_hat).T), b, c, d))\n",
    "\n",
    "print p1\n",
    "print p9\n",
    "print p8\n",
    "print p6\n",
    "print p2\n"
   ]
  },
  {
   "cell_type": "code",
   "execution_count": null,
   "metadata": {
    "collapsed": false
   },
   "outputs": [],
   "source": [
    "# x in Regelungsnormalform\n",
    "# X00 in untransformierter Form (symmetrisch um 0)\n",
    "# T Transformationsmatrix; x0 = T⁻1*x \n",
    "def insideX0(x, X00, T):\n",
    "    x0 = LA.inv(T)*x # x0 in untransformierter Form\n",
    "    #print x0\n",
    "    #print X00[0]\n",
    "    return all(np.abs(x0) <= np.abs(X00[0]))\n",
    "\n",
    "print x0\n",
    "insideX0(T1*x0, X00, T1)"
   ]
  },
  {
   "cell_type": "code",
   "execution_count": null,
   "metadata": {
    "collapsed": false
   },
   "outputs": [],
   "source": [
    "from scipy.optimize import minimize\n",
    "last_p = p_init\n",
    "\n",
    "from IPython.display import clear_output\n",
    "\n",
    "def contr_func(y, s, x, u_max, a, a_hat, T1=None):\n",
    "    global last_p, pmin\n",
    "    \n",
    "    # Transformation in Regelungsnormalform\n",
    "    if T1 is None:\n",
    "        T1 = np.eye(len(x))\n",
    "\n",
    "    #print x\n",
    "    #if not insideX0(x, X00, T1):\n",
    "        #print \"Error: x outside boundaries\"\n",
    "        #print x\n",
    "        #print \"|{}| > |{}|\".format(x, X00[0])\n",
    "    # fill-in K matrix euation.\n",
    "    ## Calc p\n",
    "    #print \"x:\",x\n",
    "    x_R = T1*x\n",
    "    \n",
    "    func_g = lambda p: np.absolute(get_g(p, x_R, R1, u_max, a, a_hat))\n",
    "    res = minimize(func_g, last_p, method='Nelder-Mead') # find 0 -fzero\n",
    "    # Saturate if too small\n",
    "    if res.x < pmin:\n",
    "        p = pmin\n",
    "    elif res.x > 1.0:\n",
    "        p = 1.0\n",
    "        #print \"p = 1.0 ({})\".format(res.x)\n",
    "    else:\n",
    "        p = res.x\n",
    "\n",
    "    '''\n",
    "    mi = pmin\n",
    "    ma = 1\n",
    "\n",
    "    plt.plot(np.arange(mi, ma, 0.1), [get_g(p1, x, R1, u_max, a, a_hat).item(0) for p1 in np.arange(mi, ma, 0.1)])\n",
    "    plt.plot(p, get_g(p, x, R1, u_max, a, a_hat).item(0), 'ro')\n",
    "    plt.show()\n",
    "    raw_input()\n",
    "    clear_output()        \n",
    "    '''    \n",
    "\n",
    "    p_t.append(p)\n",
    "    p2_t.append(res.x)\n",
    "    #print \"p:\", p\n",
    "    last_p = p\n",
    "    \n",
    "    ## Calc K according to p\n",
    "    K = get_k(p, a, a_hat)\n",
    "\n",
    "    #print \"K:\", K\n",
    "    #print \"K.shape:\", K.shape\n",
    "    #print \"s:\", s\n",
    "    \n",
    "    # Calc u\n",
    "    u = s-K.T.dot(x_R)\n",
    "    \n",
    "    # Saturate u\n",
    "    u = optim_tools.sat(u, u_max)\n",
    "    #print \"u\", u\n",
    "    \n",
    "    return u"
   ]
  },
  {
   "cell_type": "code",
   "execution_count": null,
   "metadata": {
    "collapsed": false
   },
   "outputs": [],
   "source": [
    "get_k(1., a, a_hat)\n",
    "print a\n",
    "\n",
    "l1 = -0.8 \n",
    "l2 = -0.584 + 3.108j\n",
    "l3 = -0.584 - 3.108j\n",
    "\n",
    "print np.poly([l1, l2, l3])[1:]"
   ]
  },
  {
   "cell_type": "code",
   "execution_count": null,
   "metadata": {
    "collapsed": false
   },
   "outputs": [],
   "source": [
    "p_t = []\n",
    "p2_t = []\n",
    "\n",
    "y, u, u_sat = optim_tools.simulate(A0, b0, c0, d0, lambda y, s, x: contr_func(y, s, x, u_max, a, a_hat, T1), s, T, umax=u_max, x0=x0)\n",
    "#y1, u1, u1_sat = optim_tools.simulate(A1, b1, c1.T, d1, lambda y, s, x: contr_func(y, s, x, u_max, a, a_hat), s, T, umax=u_max, x0=T1*x0)\n",
    "\n",
    "y2, u2, u2_sat = optim_tools.simulate(A1, b1, c1.T, d1, lambda y, s, x: s-get_k(1, a, a_hat).T.dot(x), s, T, umax=u_max, x0=T1*x0)\n",
    "y3, u3, u3_sat = optim_tools.simulate(A0, b0, c0, d0, lambda y, s, x: s-np.matrix([-0.0833, 0.0828, 0.76068]).dot(x), s, T, umax= u_max, x0=x0)\n",
    "y4, u4, u4_sat = optim_tools.simulate(A0, b0, c0, d0, lambda y, s, x: s-np.matrix([13.25659, 7.097648, 4.0502]).dot(x), s, T, umax= u_max, x0=x0)"
   ]
  },
  {
   "cell_type": "code",
   "execution_count": null,
   "metadata": {
    "collapsed": false
   },
   "outputs": [],
   "source": [
    "import matplotlib.pyplot as plt\n",
    "\n",
    "#plt.figure()\n",
    "line0, = plt.plot(T[:], np.array(y[0,:].T), 'b', label='y wsvr')\n",
    "#line1, = plt.plot(T[:], np.array(y1[0,:].T), 'y.-', label='y wsvr, x_R')\n",
    "line2, = plt.plot(T[:], np.array(y2[0,:].T), 'r-', label='y2 v=1')\n",
    "line3, = plt.plot(T[:], np.array(y3[0,:].T), 'g-', label='y3 lin')\n",
    "#line4, = plt.plot(T[:], np.array(y4[0,:].T), 'g.-', label='y4 lin, apx evo')\n",
    "\n",
    "\n",
    "\n",
    "#first_legend = plt.legend(handles=[line1], loc=1)\n",
    "plt.legend(bbox_to_anchor=(1.05, 1), loc=2, borderaxespad=0.)\n",
    "plt.xlabel('T')\n",
    "plt.ylabel('y')\n",
    "plt.title('Step Response for Closed Loop With Controller')\n",
    "plt.show()\n",
    "\n",
    "#plt.figure()\n",
    "line0, = plt.plot(T, u_sat, 'b', label='u')\n",
    "\n",
    "#line1, = plt.plot(T, u1_sat, 'y.', label='u, x_R')\n",
    "#line1b, = plt.plot(T, u, 'b.-', label='u')\n",
    "line2, = plt.plot(T, u2_sat, 'r', label='u v=1.0')\n",
    "#line2b, = plt.plot(T, u2, 'r.-', label='u fixed')\n",
    "line3, = plt.plot(T, u3_sat, 'g', label='u lin')\n",
    "#line3b, = plt.plot(T, u2, 'g.-', label='u lin')\n",
    "#line4, = plt.plot(T, u4_sat, 'g.-', label='u lin, apx evo')\n",
    "\n",
    "\n",
    "#>first_legend = plt.legend(handles=[line1, line2, line1b, line2b], loc=1)\n",
    "plt.legend(bbox_to_anchor=(1.05, 1), loc=2, borderaxespad=0.)\n",
    "plt.xlabel('T')\n",
    "plt.ylabel('u')\n",
    "plt.title('Output values')\n",
    "plt.show()\n",
    "\n",
    "line6, = plt.plot(T, p_t, 'k', label='p')\n",
    "line7, = plt.plot(T, p2_t, 'k.', label='p')\n",
    "plt.show()\n",
    "\n"
   ]
  },
  {
   "cell_type": "code",
   "execution_count": null,
   "metadata": {
    "collapsed": false
   },
   "outputs": [],
   "source": []
  },
  {
   "cell_type": "code",
   "execution_count": null,
   "metadata": {
    "collapsed": false
   },
   "outputs": [],
   "source": [
    "#plt.figure()\n",
    "line1, = plt.plot(T, np.array(y[0,:].T), 'b')\n",
    "line2, = plt.plot(T, u_sat, 'r', label='u')\n",
    "#first_legend = plt.legend(handles=[line1], loc=1)\n",
    "#plt.legend(bbox_to_anchor=(1.05, 1), loc=2, borderaxespad=0.)\n",
    "plt.xlabel('T')\n",
    "plt.ylabel('y')\n",
    "plt.title('Step Responce for Closed Loop With Controller')\n",
    "plt.show()"
   ]
  },
  {
   "cell_type": "code",
   "execution_count": null,
   "metadata": {
    "collapsed": true
   },
   "outputs": [],
   "source": []
  }
 ],
 "metadata": {
  "kernelspec": {
   "display_name": "Python 2",
   "language": "python",
   "name": "python2"
  },
  "language_info": {
   "codemirror_mode": {
    "name": "ipython",
    "version": 2
   },
   "file_extension": ".py",
   "mimetype": "text/x-python",
   "name": "python",
   "nbconvert_exporter": "python",
   "pygments_lexer": "ipython2",
   "version": "2.7.12"
  }
 },
 "nbformat": 4,
 "nbformat_minor": 1
}
