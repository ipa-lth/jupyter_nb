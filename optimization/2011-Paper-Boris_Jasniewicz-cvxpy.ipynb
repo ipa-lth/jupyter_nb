{
 "cells": [
  {
   "cell_type": "code",
   "execution_count": null,
   "metadata": {
    "collapsed": true
   },
   "outputs": [],
   "source": [
    "import numpy as np\n",
    "import control as con\n",
    "from numpy import linalg as LA\n",
    "\n",
    "import cvxpy\n",
    "import optim_tools as optim_tools#own file with helper"
   ]
  },
  {
   "cell_type": "code",
   "execution_count": null,
   "metadata": {
    "collapsed": true
   },
   "outputs": [],
   "source": []
  },
  {
   "cell_type": "code",
   "execution_count": null,
   "metadata": {
    "collapsed": false
   },
   "outputs": [],
   "source": [
    "##############################\n",
    "# Boris Paper UBoot          #\n",
    "##############################\n",
    "A = np.matrix([[0, 1, 0],\n",
    "              [0, 0, 1],\n",
    "              [0, 0, -0.005]])\n",
    "\n",
    "a = -A[-1,:].T ### !!!!!\n",
    "b = np.matrix([[0],[0],[1]])\n",
    "c = np.matrix([1, 0, 0])\n",
    "d = np.matrix([0])\n",
    "u_max = 2.5e-5\n",
    "n = 3\n",
    "\n",
    "X0 = [np.matrix([-10.0, -0.05, -0.0046]).T,\n",
    "      np.matrix([-10.0, -0.05, 0.0046]).T,\n",
    "      np.matrix([-10.0, 0.05, -0.0046]).T,\n",
    "      np.matrix([10.0, -0.05, 0.0046]).T,\n",
    "      np.matrix([10.0, -0.05, -0.0046]).T,\n",
    "      np.matrix([10.0, 0.05, 0.0046]).T]\n",
    "\n",
    "#print \"A:\\n\", A\n",
    "#print \"a:\\n\", a\n",
    "#print \"b:\\n\", b\n",
    "#print \"c:\\n\", c\n",
    "\n",
    "##### Entwurf parameter #####\n",
    "beta_val = 2 # beta >=1 !"
   ]
  },
  {
   "cell_type": "raw",
   "metadata": {},
   "source": [
    "###########################\n",
    "# Instabile Strecke       #\n",
    "###########################\n",
    "A = np.matrix([[0.6, -0.8],\n",
    "               [0.8, 0.6 ]])\n",
    "a = -A[-1,:].T ### !!!!!\n",
    "b = np.matrix([[2],[4]])\n",
    "c = np.matrix([1, 0])\n",
    "d = np.matrix([0])\n",
    "u_max = 1\n",
    "n = 2\n",
    "\n",
    "X0 = [np.matrix([-1, -1]).T,\n",
    "      np.matrix([-1,  1]).T,\n",
    "      np.matrix([1,  -1]).T,\n",
    "      np.matrix([1,   1]).T]\n",
    "\n",
    "##### Entwurf parameter #####\n",
    "beta_val = 3"
   ]
  },
  {
   "cell_type": "raw",
   "metadata": {},
   "source": [
    "###########################\n",
    "# Hydraulischer Aktor     #\n",
    "###########################\n",
    "\n",
    "A0 = np.matrix([[0,   1,       0],\n",
    "                [-10, -1.167, 25],\n",
    "                [0,   0,    -0.8]])\n",
    "\n",
    "#a = -A[-1,:].T ### !!!!!\n",
    "#print a\n",
    "b0 = np.matrix([[0],[0],[2.4]])\n",
    "c0 = np.matrix([1, 0, 0])\n",
    "d0 = np.matrix([0])\n",
    "u_max = 10.5\n",
    "n = 3\n",
    "\n",
    "X0 = [np.matrix([-20.0, -10, -10]).T,\n",
    "      np.matrix([-20.0, -10, 10]).T,\n",
    "      np.matrix([-20.0,  10, -10]).T,\n",
    "      np.matrix([20.0,  -10, 10]).T,\n",
    "      np.matrix([20.0,  -10, -10]).T,\n",
    "      np.matrix([20.0,   10, 10]).T]\n",
    "\n",
    "#print \"A:\\n\", A\n",
    "#print \"a:\\n\", a\n",
    "#print \"b:\\n\", b\n",
    "#print \"c:\\n\", c\n",
    "\n",
    "##### Entwurf parameter #####\n",
    "beta_val = 2 # beta >=1 !\n",
    "\n",
    "# Flipping matrixes to fit Adamy definition\n",
    "def reverse_x_order(T):\n",
    "    return np.flipud(np.fliplr(T))\n",
    "\n",
    "\n",
    "# Convert to Normalform\n",
    "import control as con\n",
    "ss, T = con.canonical_form(con.ss(A0, b0, c0, d0), form='reachable')\n",
    "\n",
    "A = reverse_x_order(np.matrix(ss.A))\n",
    "a = -A[-1][:].T #!!!!\n",
    "\n",
    "b = reverse_x_order(np.matrix(ss.B))\n",
    "c = reverse_x_order(np.matrix(ss.C))\n",
    "d = reverse_x_order(np.matrix(ss.D)) # == 0!\n",
    "\n",
    "print \"A:\\n\", A\n",
    "print \"a:\\n\", a\n",
    "print \"b:\\n\", b\n",
    "print \"c:\\n\", c"
   ]
  },
  {
   "cell_type": "code",
   "execution_count": null,
   "metadata": {
    "collapsed": false
   },
   "outputs": [],
   "source": [
    "def get_S_list(u_max, Q, z, a, n):\n",
    "    S_list = [cvxpy.bmat([[u_max**2 , z.T],\n",
    "                         [z        , Q]])] # S0 is different !\n",
    "    \n",
    "    for i in range(n+1)[1:]:\n",
    "        #print i\n",
    "        #print -a[n-i]\n",
    "        q = Q[:, n-i] # Slicing, (n-i)th column of Q!\n",
    "        #print q\n",
    "        S_list.append(-a[n-i] * cvxpy.bmat([[0, q.T],\n",
    "                                            [q, np.zeros((n,n))]]))\n",
    "    return S_list\n",
    "\n",
    "#S_list = get_S_list(u_max, Q, z, a, n)\n",
    "#S_list"
   ]
  },
  {
   "cell_type": "code",
   "execution_count": null,
   "metadata": {
    "collapsed": false
   },
   "outputs": [],
   "source": [
    "from scipy.special import comb as nchoosek # n Choose k (n ueber k)\n",
    "\n",
    "# As seen in A.4 jasniwiecz\n",
    "# Intervalltransformation (Gleichung (4.36))\n",
    "# p => [p_l, p_u] (p => [p_min, 1]) wird zu p^ => [-1,1] return neue Matrizen(!) mit diesen p^\n",
    "#\n",
    "# S_in ist Liste aus Faktormatrizen für Polynom in p\n",
    "# S_out ist Liste aus Faktormatrizen für Polynom in p^\n",
    "# a = (p_u - p_l)\n",
    "# b = (p_u + p_l)\n",
    "def trans_S_list(S_in, pl=0.01, pu=1):\n",
    "    a = pu - pl\n",
    "    b = pu + pl\n",
    "    n = len(S_in) # Anzahl der Matrizen in S_in\n",
    "\n",
    "    S_out = [np.zeros(S_in[0].size)] * n\n",
    "    for j in range(0, n): # Bearbeite jede Matrix\n",
    "        for i in range(j, n): # Jeweils mit Summe der anderen\n",
    "            S_out[j] = S_out[j] + 2**(-i) * b**(i-j) * nchoosek(i, j) * S_in[i]\n",
    "        S_out[j] = a**j*S_out[j]\n",
    "    return S_out\n",
    "\n",
    "#S_list_T = trans_S_list(S_list)"
   ]
  },
  {
   "cell_type": "code",
   "execution_count": null,
   "metadata": {
    "collapsed": false
   },
   "outputs": [],
   "source": [
    "def calc_S_Sum(S_list):\n",
    "    l = len(S_list) # number of matrizen in S_list\n",
    "    m = l-1 # Index of Q_m\n",
    "    n = S_list[0].size[0] # shape of each matrix, first element\n",
    "    \n",
    "    if m is 0:\n",
    "        S_sum = cvxpy.bmat([[2*S_list[0],   np.zeros(n)], \n",
    "                            [np.zeros(n), np.zeros(n)]])\n",
    "    elif m is 1:\n",
    "        S_sum = cvxpy.bmat([[2*S_list[0], S_list[1]],\n",
    "                            [S_list[1],   np.zeros(n)]])\n",
    "    else: # e.g. m is 2 or more\n",
    "        S_sum = cvxpy.bmat([[2*S_list[0], S_list[1]],\n",
    "                            [S_list[1], 2*S_list[2]]])\n",
    "\n",
    "    for i1 in range(3, l, 2):\n",
    "        S_new_col = cvxpy.vstack(np.zeros((((i1+1)/2-1)*n, n)), S_list[i1])\n",
    "\n",
    "        if i1 is m:\n",
    "            S_new_row = cvxpy.hstack(np.zeros((n, ((i1+1)/2-1)*n)), S_list[i1], np.zeros((n,n)))\n",
    "        else:\n",
    "            S_new_row = cvxpy.hstack(np.zeros((n, ((i1+1)/2-1)*n)), S_list[i1], 2*S_list[i1+1])\n",
    "\n",
    "        S_sum = cvxpy.bmat([[S_sum, S_new_col],\n",
    "                            [S_new_row]])\n",
    "\n",
    "    S_sum = 0.5*S_sum\n",
    "    \n",
    "    return S_sum\n",
    "#calc_S_Sum(S_list_T)"
   ]
  },
  {
   "cell_type": "code",
   "execution_count": null,
   "metadata": {
    "collapsed": false
   },
   "outputs": [],
   "source": [
    "def calc_lmi_cond(S_sum, n):\n",
    "    k = S_sum.size[1] / n\n",
    "\n",
    "    J = np.hstack([np.zeros((n*(k-1), n)), np.eye(n*(k-1))])\n",
    "    C = np.hstack([np.eye(n*(k-1)), np.zeros((n*(k-1), n))])\n",
    "    return np.vstack([C, J]), n*(k-1)\n",
    "    \n",
    "#S1_sum = calc_S_Sum(trans_S_list(get_S_list(u_max, Q, z, a, n), 0, 1))\n",
    "\n",
    "#CJ, l = calc_lmi_cond(S1_sum, n)\n",
    "#print CJ\n",
    "#print l"
   ]
  },
  {
   "cell_type": "code",
   "execution_count": null,
   "metadata": {
    "collapsed": false
   },
   "outputs": [],
   "source": []
  },
  {
   "cell_type": "code",
   "execution_count": null,
   "metadata": {
    "collapsed": false
   },
   "outputs": [],
   "source": [
    "##############################\n",
    "# Convex Problem (35)        #\n",
    "##############################\n",
    "\n",
    "# Variables\n",
    "Q  = cvxpy.Semidef(n) # Implys (27a) (semidefinite for numerical reasons?)\n",
    "\n",
    "z = cvxpy.Variable(n)\n",
    "z1 = cvxpy.Variable(n) # z_{star}\n",
    "\n",
    "# Preparation for constraint (31)\n",
    "S_list = get_S_list(u_max, Q, z, a, n) # Matrizes of Polynom coefficients: S(p)=S_0 + S_1*p + ... S_n*p^n\n",
    "S1_list = trans_S_list(S_list, 0.1, 1) # Intervaltransformation p:[0,1] -> p1:[-1,1] (S1 -> S^tilde)\n",
    "S1_sum = calc_S_Sum(S1_list) # S^tilde_sum Matrix (30)\n",
    "CJ, l = calc_lmi_cond(S1_sum ,n) # \"Selection matrizes\" of (31), l=dimension of P and G\n",
    "\n",
    "# Furhter variables of optimization\n",
    "P = cvxpy.Semidef(l) #positiv definite (semidefinite for numerical reasons?)\n",
    "G = cvxpy.Variable(l,l) #skew\n",
    "\n",
    "# Constants\n",
    "N = optim_tools._N(n)\n",
    "A0 = A + b*a.T\n",
    "\n",
    "# Parameters\n",
    "beta = cvxpy.Parameter(sign='positive') # Design parameter beta >=1; upper bound of saturation\n",
    "beta.value = beta_val\n",
    "\n",
    "beta1 = cvxpy.Parameter(sign='positive') # Bisection parameter beta1 (underlined beta latex: \\b{\\beta})\n",
    "\n",
    "# Constraints\n",
    "constraint_27b = Q*N+N*Q << 0\n",
    "constraint_27d = Q*A0.T + A0*Q - z*b.T - b*z.T << 0\n",
    "\n",
    "constraint_G = G + G.T == 0 # skew symmetry\n",
    "\n",
    "constraint_31 = S1_sum << CJ.T * cvxpy.bmat([[-P,  G],\n",
    "                                             [G.T, P]]) * CJ\n",
    "\n",
    "constraint_32 = [cvxpy.bmat([[1,       X0[i].T],\n",
    "                            [X0[i],    Q      ]]) >> 0\n",
    "                                for i in range(0, len(X0))]\n",
    "\n",
    "constraint_33 = Q*A0.T + A0*Q - z1*b.T - b*z1.T << -2*beta1*Q\n",
    "\n",
    "constraint_34 = cvxpy.bmat([[beta**2*u_max**2, z1.T-a.T*Q],\n",
    "                            [z1-Q*a,           Q         ]]) >> 0\n",
    "\n",
    "# Collection of all constraints\n",
    "constraints = [constraint_27b]\n",
    "constraints.append(constraint_27d)\n",
    "constraints.append(constraint_G)\n",
    "constraints.append(constraint_31)\n",
    "constraints.extend(constraint_32) ##!! Beware of the \"extend\" if input is array\n",
    "constraints.append(constraint_33)\n",
    "constraints.append(constraint_34)\n",
    "\n",
    "# Define Objective (Generalized eigenvalue problem?)\n",
    "#obj = cvxpy.Maximize(beta1)\n",
    "\n",
    "# Feasibility for bisection:\n",
    "obj = cvxpy.Minimize(0)\n",
    "\n",
    "# Form and solve problem.\n",
    "prob35 = cvxpy.Problem(obj, constraints)"
   ]
  },
  {
   "cell_type": "raw",
   "metadata": {},
   "source": [
    "# already Results\n",
    "a_hat      = np.matrix([[4.4469e-8], [2.3073e-5], [4.9148e-3]])\n",
    "a_hat_star = np.matrix([[1.073e-7], [4.919e-5], [10.4078e-3]])\n",
    "\n",
    "R1 = np.matrix([[1.6021e-5, 3.26098e-3, 0.4031],\n",
    "                [3.2698e-3, 1.5666,     163.46],\n",
    "                [0.4031,    163.46,     40.713]])\n",
    "# Eigvals: [  1.05894288e+05  -6.96920466e-03   5.38305835e-03]\n",
    "\n",
    "R1_es = np.matrix([[2.004e-5, 3.8188e-3, 0.3532],\n",
    "                   [3.8188e-3, 1.8053,   161.12],\n",
    "                   [0.3532,    161.12,   41.456]])\n",
    "# Eigvals: [  8.35239212e+04  -7.10707437e-03   5.43578168e-03]\n",
    "\n",
    "Q1 = LA.inv(R1)\n",
    "print LA.eigvals(Q1)\n",
    "\n",
    "print LA.eigvals(Q1*optim_tools._N(3)+optim_tools._N(3)*Q1)\n"
   ]
  },
  {
   "cell_type": "code",
   "execution_count": null,
   "metadata": {
    "collapsed": false
   },
   "outputs": [],
   "source": [
    "for i in np.arange(0, 3, 0.1):\n",
    "    beta1.value = i\n",
    "    try:\n",
    "        prob35.solve(solver=cvxpy.SCS, verbose=False, warm_start=True)  # Returns the optimal value.\n",
    "        print \"beta1=\", i, prob35.status \n",
    "        if \"infeasible\" not in prob35.status:\n",
    "            print LA.eigvals(Q.value)\n",
    "\n",
    "    except:\n",
    "        print(\"Unexpected error:\", sys.exc_info()[0])\n",
    "        print \"{} ended with error\".format(i)\n",
    "    \n",
    "# Test solution with bisection parameter g=1\n",
    "beta1.value = 2\n",
    "#Q.value = LA.inv(R1)\n",
    "prob35.solve(solver=cvxpy.CVXOPT, verbose=True)  # Returns the optimal value."
   ]
  },
  {
   "cell_type": "raw",
   "metadata": {},
   "source": [
    "R1 = np.matrix([[3.1831, 1.0615],\n",
    "                [1.0615, 2.7592]])\n",
    "Q1 = LA.inv(R1)\n",
    "print LA.eigvals(Q1)\n",
    "\n",
    "print LA.eigvals(Q1*N+N*Q1)\n"
   ]
  },
  {
   "cell_type": "raw",
   "metadata": {
    "collapsed": false
   },
   "source": [
    "R1 = np.matrix([[1.677977, 0.5433733, 0.140299],\n",
    "                [0.5433733, 0.3229,   0.062725],\n",
    "                [0.140299,  0.062725, 0.0266148]])\n",
    "\n",
    "Q1 = LA.inv(R1)\n",
    "print LA.eigvals(Q1)\n",
    "\n",
    "print LA.eigvals(Q1*N+N*Q1)"
   ]
  },
  {
   "cell_type": "code",
   "execution_count": null,
   "metadata": {
    "collapsed": false
   },
   "outputs": [],
   "source": []
  },
  {
   "cell_type": "code",
   "execution_count": null,
   "metadata": {
    "collapsed": false
   },
   "outputs": [],
   "source": []
  },
  {
   "cell_type": "code",
   "execution_count": null,
   "metadata": {
    "collapsed": false
   },
   "outputs": [],
   "source": []
  },
  {
   "cell_type": "code",
   "execution_count": null,
   "metadata": {
    "collapsed": true
   },
   "outputs": [],
   "source": []
  },
  {
   "cell_type": "code",
   "execution_count": null,
   "metadata": {
    "collapsed": true
   },
   "outputs": [],
   "source": []
  },
  {
   "cell_type": "code",
   "execution_count": null,
   "metadata": {
    "collapsed": true
   },
   "outputs": [],
   "source": []
  },
  {
   "cell_type": "code",
   "execution_count": null,
   "metadata": {
    "collapsed": true
   },
   "outputs": [],
   "source": []
  },
  {
   "cell_type": "code",
   "execution_count": null,
   "metadata": {
    "collapsed": true
   },
   "outputs": [],
   "source": []
  },
  {
   "cell_type": "code",
   "execution_count": null,
   "metadata": {
    "collapsed": true
   },
   "outputs": [],
   "source": []
  },
  {
   "cell_type": "code",
   "execution_count": null,
   "metadata": {
    "collapsed": true
   },
   "outputs": [],
   "source": []
  },
  {
   "cell_type": "code",
   "execution_count": null,
   "metadata": {
    "collapsed": true
   },
   "outputs": [],
   "source": []
  },
  {
   "cell_type": "code",
   "execution_count": null,
   "metadata": {
    "collapsed": true
   },
   "outputs": [],
   "source": []
  },
  {
   "cell_type": "code",
   "execution_count": null,
   "metadata": {
    "collapsed": true
   },
   "outputs": [],
   "source": []
  }
 ],
 "metadata": {
  "kernelspec": {
   "display_name": "Python 2",
   "language": "python",
   "name": "python2"
  },
  "language_info": {
   "codemirror_mode": {
    "name": "ipython",
    "version": 2
   },
   "file_extension": ".py",
   "mimetype": "text/x-python",
   "name": "python",
   "nbconvert_exporter": "python",
   "pygments_lexer": "ipython2",
   "version": "2.7.12"
  }
 },
 "nbformat": 4,
 "nbformat_minor": 1
}
