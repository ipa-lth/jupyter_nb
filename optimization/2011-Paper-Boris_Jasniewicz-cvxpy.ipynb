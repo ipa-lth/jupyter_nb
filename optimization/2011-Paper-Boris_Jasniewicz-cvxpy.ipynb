{
 "cells": [
  {
   "cell_type": "code",
   "execution_count": null,
   "metadata": {
    "collapsed": true
   },
   "outputs": [],
   "source": [
    "import numpy as np\n",
    "import control as con\n",
    "from numpy import linalg as LA\n",
    "\n",
    "import cvxpy\n",
    "import optim_tools as tools#own file with helper"
   ]
  },
  {
   "cell_type": "code",
   "execution_count": null,
   "metadata": {
    "collapsed": true
   },
   "outputs": [],
   "source": []
  },
  {
   "cell_type": "code",
   "execution_count": null,
   "metadata": {
    "collapsed": false
   },
   "outputs": [],
   "source": [
    "##############################\n",
    "# Boris Paper UBoot          #\n",
    "##############################\n",
    "A = np.matrix([[0, 1, 0],\n",
    "              [0, 0, 1],\n",
    "              [0, 0, -0.005]])\n",
    "a = -A[-1,:].T ### !!!!!\n",
    "b = np.matrix([[0],[0],[1]])\n",
    "c = np.matrix([1, 0, 0])\n",
    "d = np.matrix([0])\n",
    "u_max = 2.5e-5\n",
    "n = 3\n",
    "\n",
    "X0 = [np.matrix([-10, -0.05, -0.0046]).T,\n",
    "      np.matrix([-10, -0.05, 0.0046]).T,\n",
    "      np.matrix([-10, 0.05, -0.0046]).T,\n",
    "      np.matrix([10, -0.05, 0.0046]).T,\n",
    "      np.matrix([10, -0.05, -0.0046]).T,\n",
    "      np.matrix([10, 0.05, 0.0046]).T]\n",
    "\n",
    "#print \"A:\\n\", A\n",
    "#print \"a:\\n\", a\n",
    "#print \"b:\\n\", b\n",
    "#print \"c:\\n\", c\n",
    "\n",
    "##### Entwurf parameter #####\n",
    "beta = 2 # beta >=1 !"
   ]
  },
  {
   "cell_type": "code",
   "execution_count": null,
   "metadata": {
    "collapsed": false
   },
   "outputs": [],
   "source": [
    "def get_S_list(u_max, Q, z, a, n):\n",
    "    S_list = [cvxpy.bmat([[u_max**2 , z.T],\n",
    "                         [z        , Q]])] # S0 is different !\n",
    "    \n",
    "    for i in range(n+1)[1:]:\n",
    "        #print i\n",
    "        #print -a[n-i]\n",
    "        q = Q[:, n-i] # Slicing, (n-i)th column of Q!\n",
    "        #print q\n",
    "        S_list.append(-a[n-i] * cvxpy.bmat([[0, q.T],\n",
    "                                            [q, np.zeros((n,n))]]))\n",
    "    return S_list\n",
    "\n",
    "S_list = get_S_list(u_max, Q, z, a, n)\n",
    "S_list"
   ]
  },
  {
   "cell_type": "code",
   "execution_count": null,
   "metadata": {
    "collapsed": false
   },
   "outputs": [],
   "source": [
    "from scipy.special import comb as nchoosek # n Choose k (n ueber k)\n",
    "\n",
    "# As seen in A.4 jasniwiecz\n",
    "# Intervalltransformation (Gleichung (4.36))\n",
    "# p => [p_l, p_u] (p => [p_min, 1]) wird zu p^ => [-1,1] return neue Matrizen(!) mit diesen p^\n",
    "#\n",
    "# S_in ist Liste aus Faktormatrizen für Polynom in p\n",
    "# S_out ist Liste aus Faktormatrizen für Polynom in p^\n",
    "# a = (p_u - p_l)\n",
    "# b = (p_u + p_l)\n",
    "def trans_S_list(S_in, pl=0.01, pu=1):\n",
    "    a = pu - pl\n",
    "    b = pu + pl\n",
    "    n = len(S_in) # Anzahl der Matrizen in S_in\n",
    "\n",
    "    S_out = [np.zeros(S_in[0].size)] * n\n",
    "    for j in range(0, n): # Bearbeite jede Matrix\n",
    "        for i in range(j, n): # Jeweils mit Summe der anderen\n",
    "            S_out[j] = S_out[j] + 2**(-i) * b**(i-j) * nchoosek(i, j) * S_in[i]\n",
    "        S_out[j] = a**j*S_out[j]\n",
    "    return S_out\n",
    "\n",
    "S_list_T = trans_S_list(S_list)"
   ]
  },
  {
   "cell_type": "code",
   "execution_count": null,
   "metadata": {
    "collapsed": false
   },
   "outputs": [],
   "source": [
    "def calc_S_Sum(S_list):\n",
    "    l = len(S_list) # number of matrizen in S_list\n",
    "    m = l-1 # Index of Q_m\n",
    "    n = S_list[0].size[0] # shape of each matrix, first element\n",
    "    \n",
    "    if m is 0:\n",
    "        S_sum = cvxpy.bmat([[2*S_list[0],   np.zeros(n)], \n",
    "                            [np.zeros(n), np.zeros(n)]])\n",
    "    elif m is 1:\n",
    "        S_sum = cvxpy.bmat([[2*S_list[0], S_list[1]],\n",
    "                            [S_list[1],   np.zeros(n)]])\n",
    "    else: # e.g. m is 2 or more\n",
    "        S_sum = cvxpy.bmat([[2*S_list[0], S_list[1]],\n",
    "                            [S_list[1], 2*S_list[2]]])\n",
    "\n",
    "    for i1 in range(3, l, 2):\n",
    "        S_new_col = cvxpy.vstack(np.zeros((((i1+1)/2-1)*n, n)), S_list[i1])\n",
    "\n",
    "        if i1 is m:\n",
    "            S_new_row = cvxpy.hstack(np.zeros((n, ((i1+1)/2-1)*n)), S_list[i1], np.zeros((n,n)))\n",
    "        else:\n",
    "            S_new_row = cvxpy.hstack(np.zeros((n, ((i1+1)/2-1)*n)), S_list[i1], 2*S_list[i1+1])\n",
    "\n",
    "        S_sum = cvxpy.bmat([[S_sum, S_new_col],\n",
    "                            [S_new_row]])\n",
    "\n",
    "    S_sum = 0.5*S_sum\n",
    "    return S_sum\n",
    "calc_S_Sum(S_list_T)"
   ]
  },
  {
   "cell_type": "code",
   "execution_count": null,
   "metadata": {
    "collapsed": false
   },
   "outputs": [],
   "source": []
  },
  {
   "cell_type": "code",
   "execution_count": null,
   "metadata": {
    "collapsed": false
   },
   "outputs": [],
   "source": [
    "##############################\n",
    "# Convex Problem (35)        #\n",
    "##############################\n",
    "\n",
    "# Variables\n",
    "Q  = cvxpy.Semidef(n) # Implys (27a) (semidefinite for numerical reasons?)\n",
    "\n",
    "z = cvxpy.Variable(n)\n",
    "z1 = cvxpy.Variable(n) # z_{star}\n",
    "\n",
    "P = cvxpy.Semidef(n) #positiv definite (semidefinite for numerical reasons?)\n",
    "G = cvxpy.Variable(n,n) #skew\n",
    "\n",
    "# Constants\n",
    "N = tools._N(n)\n",
    "A0 = A + b*a.T\n",
    "\n",
    "# Parameters\n",
    "\n",
    "\n",
    "# Constraints\n",
    "constraint_27b = Q*N+N*Q << 0\n",
    "constraint_27d = Q*A0.T + A0*Q - z*b.T - b*z.T << 0\n",
    "\n",
    "constraint_skew = G + G.T == 0 # skew symmetry\n"
   ]
  },
  {
   "cell_type": "code",
   "execution_count": null,
   "metadata": {
    "collapsed": true
   },
   "outputs": [],
   "source": [
    "# S. 78 Boris (LMI-Entwurf)\n",
    "def convex_problem(gamma, mu=1):\n",
    "    ##############################\n",
    "    # Convex Problem (35)        #\n",
    "    ##############################\n",
    "    prob = pic.Problem()\n",
    "\n",
    "    # Constants\n",
    "    AA = pic.new_param('A', A)\n",
    "    II = pic.new_param('I_n', np.eye(n))\n",
    "    III = pic.new_param('I_n+1', np.eye(n+1))\n",
    "    aa = pic.new_param('a', a)\n",
    "    bb = pic.new_param('b', b)\n",
    "    XX0 = pic.new_param('X0', X0)\n",
    "\n",
    "    NN = pic.new_param('N', N)\n",
    "    MM = pic.new_param('M', M)\n",
    "\n",
    "    AA0 = pic.new_param('A0', AA+bb*aa.T)\n",
    "\n",
    "    ## REMARK THIS!!!! gamma is optimization variable but not convex, thus to be bisected to find \"bigg-ish\" value\n",
    "    gamma = pic.new_param('gamma', gamma)\n",
    "\n",
    "    # Problem\n",
    "    prob = pic.Problem()\n",
    "\n",
    "    # Parameters\n",
    "    QQ = prob.add_variable('Q', (n, n), vtype='symmetric')\n",
    "    zz = prob.add_variable('z', n)\n",
    "    zz_star = prob.add_variable('z_star', n)\n",
    "\n",
    "    # Objective\n",
    "    prob.set_objective('find', None)\n",
    "\n",
    "    # Constraints\n",
    "    #prob.add_constraint(QQ >> 0)\n",
    "    #prob.add_constraint(QQ*NN + NN*QQ << 0)\n",
    "    prob.add_constraint(QQ*AA0.T + AA0*QQ - zz*bb.T - bb*zz.T << 0)\n",
    "\n",
    "    ## (31) ???\n",
    "\n",
    "    prob.add_list_of_constraints([((1          & XX0[i].T) //\n",
    "                                   (XX0[i]     & QQ      )) >> 0\n",
    "                                       for i in range(0, len(X0))])\n",
    "\n",
    "    prob.add_constraint(QQ*AA0.T + AA0*QQ - zz_star*bb.T - bb*zz_star.T << -2*(gamma*QQ))\n",
    "    prob.solve(verbose=0, solver='cvxopt')\n",
    "    return prob"
   ]
  },
  {
   "cell_type": "code",
   "execution_count": null,
   "metadata": {
    "collapsed": false
   },
   "outputs": [],
   "source": [
    "## Lets bisect\n",
    "# Expects min_val to be valid, and max_val to be not valid\n",
    "# func only taking on (scalar) argument -> gamma\n",
    "def bisect_prob(min_val, max_val, func, diff=1e-5, max_iter=50, _iteration=0):\n",
    "    if _iteration > max_iter: \n",
    "        print \"Iter:\", _iteration\n",
    "        print \"Diff:\", (max_val - min_val)/2.0\n",
    "        return min_val, prob\n",
    "    elif (max_val - min_val)/2.0 <= diff:\n",
    "        print \"Iter:\", _iteration\n",
    "        print \"Diff:\", (max_val - min_val)/2.0\n",
    "        return min_val, prob\n",
    "    else:\n",
    "        mid_val = min_val+(max_val - min_val)/2.0\n",
    "        #print \"1. Evaluating: \", mid_val\n",
    "        try:\n",
    "            prob = func(mid_val)\n",
    "            Q = prob.get_valued_variable('Q')\n",
    "            z = prob.get_valued_variable('z')\n",
    "            z_star = prob.get_valued_variable('z_star')\n",
    "        except Exception as e:\n",
    "            #print \"Problem not solved!\"\n",
    "            #print e\n",
    "            max_val = mid_val\n",
    "        else:\n",
    "            #print \"Problem solved!\"\n",
    "            #print Q, z, z_star\n",
    "            min_val = mid_val\n",
    "        finally:\n",
    "            #print \"2. Recursing: \", min_val, max_val\n",
    "            return bisect_prob(min_val, max_val, func, diff, max_iter,_iteration+1)\n",
    "        #return min_val, max_val\n",
    "    "
   ]
  },
  {
   "cell_type": "code",
   "execution_count": null,
   "metadata": {
    "collapsed": false
   },
   "outputs": [],
   "source": [
    "#%%timeit ~4sec\n",
    "val, prob = bisect_prob(1, 50, convex_problem)\n",
    "print val\n",
    "print convex_problem(val).get_valued_variable('Q')"
   ]
  },
  {
   "cell_type": "code",
   "execution_count": null,
   "metadata": {
    "collapsed": false
   },
   "outputs": [],
   "source": []
  },
  {
   "cell_type": "code",
   "execution_count": null,
   "metadata": {
    "collapsed": false
   },
   "outputs": [],
   "source": [
    "prob = convex_problem(5.1)\n",
    "Q = None\n",
    "z = None\n",
    "z_star = None\n",
    "try:\n",
    "    Q = prob.get_valued_variable('Q')\n",
    "    z = prob.get_valued_variable('z')\n",
    "    z_star = prob.get_valued_variable('z_star')\n",
    "except Exception as e:\n",
    "    print \"Problem not solved!\"\n",
    "    print e\n",
    "else:\n",
    "    print \"Problem solved!\"\n",
    "    print Q, z, z_star\n",
    "#print prob.get_valued_variable('z')\n",
    "#print prob.get_valued_variable('z_star')\n",
    "\n",
    "#print \"P:\\n\", PP\n",
    "#print \"eig:\\n\", LA.eigvals(PP.value)\n",
    "\n",
    "#print \n",
    "#print \"AP+PA:\\n\",(AA.T*PP + PP*AA).value\n",
    "#print \"eig:\\n\", LA.eigvals((AA.T*PP + PP*AA).value)"
   ]
  },
  {
   "cell_type": "code",
   "execution_count": null,
   "metadata": {
    "collapsed": true
   },
   "outputs": [],
   "source": []
  },
  {
   "cell_type": "code",
   "execution_count": null,
   "metadata": {
    "collapsed": true
   },
   "outputs": [],
   "source": []
  },
  {
   "cell_type": "code",
   "execution_count": null,
   "metadata": {
    "collapsed": true
   },
   "outputs": [],
   "source": [
    "## Seite 47 Boris\n",
    "# Wähle p_min, mu_start, zeta, zeta_start\n",
    "def step1(p_min, mu_start, zeta, zeta_start):\n",
    "    # Löse (A.15) mit mu = 1 -> l_star -> lambda_hat_i(1)=lambda_i(A-b*l_star.T)\n",
    "    "
   ]
  },
  {
   "cell_type": "code",
   "execution_count": null,
   "metadata": {
    "collapsed": true
   },
   "outputs": [],
   "source": []
  },
  {
   "cell_type": "code",
   "execution_count": null,
   "metadata": {
    "collapsed": true
   },
   "outputs": [],
   "source": []
  },
  {
   "cell_type": "code",
   "execution_count": null,
   "metadata": {
    "collapsed": true
   },
   "outputs": [],
   "source": []
  },
  {
   "cell_type": "code",
   "execution_count": null,
   "metadata": {
    "collapsed": true
   },
   "outputs": [],
   "source": []
  },
  {
   "cell_type": "code",
   "execution_count": null,
   "metadata": {
    "collapsed": true
   },
   "outputs": [],
   "source": []
  },
  {
   "cell_type": "code",
   "execution_count": null,
   "metadata": {
    "collapsed": true
   },
   "outputs": [],
   "source": []
  },
  {
   "cell_type": "code",
   "execution_count": null,
   "metadata": {
    "collapsed": true
   },
   "outputs": [],
   "source": []
  }
 ],
 "metadata": {
  "kernelspec": {
   "display_name": "Python 2",
   "language": "python",
   "name": "python2"
  },
  "language_info": {
   "codemirror_mode": {
    "name": "ipython",
    "version": 2
   },
   "file_extension": ".py",
   "mimetype": "text/x-python",
   "name": "python",
   "nbconvert_exporter": "python",
   "pygments_lexer": "ipython2",
   "version": "2.7.12"
  }
 },
 "nbformat": 4,
 "nbformat_minor": 1
}
