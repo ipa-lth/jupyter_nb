{
 "cells": [
  {
   "cell_type": "code",
   "execution_count": 1,
   "metadata": {},
   "outputs": [
    {
     "name": "stdout",
     "output_type": "stream",
     "text": [
      "Populating the interactive namespace from numpy and matplotlib\n"
     ]
    }
   ],
   "source": [
    "import numpy as np\n",
    "#from numpy import linalg as LA\n",
    "from scipy import linalg as LA\n",
    "\n",
    "\n",
    "import cvxpy\n",
    "import optim_tools #own file with helper\n",
    "\n",
    "import control as pc\n",
    "import matplotlib.pyplot as plt\n",
    "import itertools\n",
    "\n",
    "from sysident import loadtools\n",
    "%pylab inline"
   ]
  },
  {
   "cell_type": "code",
   "execution_count": 2,
   "metadata": {},
   "outputs": [
    {
     "name": "stdout",
     "output_type": "stream",
     "text": [
      "['CVXOPT', 'MOSEK', 'ECOS_BB', 'SUPER_SCS', 'GLPK_MI', 'SCS', 'ECOS', 'GLPK', 'OSQP']\n",
      "1.0.10\n"
     ]
    }
   ],
   "source": [
    "print cvxpy.installed_solvers()\n",
    "print cvxpy.__version__"
   ]
  },
  {
   "cell_type": "code",
   "execution_count": 3,
   "metadata": {},
   "outputs": [],
   "source": [
    "def add_position_state(A0, B0, C0):\n",
    "    A = np.vstack((C0, A0))\n",
    "    A = np.hstack((np.zeros((A.shape[0],1)), A))\n",
    "    \n",
    "    B = np.vstack((np.zeros((1, B0.shape[1])), B0))\n",
    "    \n",
    "    C = np.matrix(np.zeros(B.shape).T)\n",
    "    C[0,0] = 1\n",
    "    return A, B, C\n",
    "\n",
    "#add_position_state(A, B, C)\n",
    "\n",
    "#def load_with_delay(fname):\n",
    "#    A, B, C, D = loadtools.getModel(fname)\n",
    "#    return A, B, C, D\n",
    "#\n",
    "#def load_without_delay(fname):\n",
    "#    res, _ = loadtools.loadNPY(fname)\n",
    "#    return res['A'], res['B'], res['C'], res['D'], res['delay']\n",
    "\n",
    "def getX00(x0):\n",
    "    arrays = []\n",
    "    X00 = []\n",
    "    for x in x0:\n",
    "        arrays.append((x, -x))\n",
    "    for per in list(itertools.product(*arrays)):\n",
    "        X00.append(np.matrix(per).T)\n",
    "    return X00\n",
    "    \n",
    "#getX00([1.0, 0.5, 0.025])"
   ]
  },
  {
   "cell_type": "code",
   "execution_count": 4,
   "metadata": {},
   "outputs": [
    {
     "name": "stdout",
     "output_type": "stream",
     "text": [
      "Limits: [1.0, 2.0, 10.0, 100.0]\n"
     ]
    }
   ],
   "source": [
    "folder = \"/home/lth/jupyter_nb/optimization/models/\"\n",
    "\n",
    "fnames = [folder+\"ss_20190206-114257_poles2_manual_ident_huber_no_delay_0.0330611300999.npy\",\n",
    "          folder+\"ss_20190206-114257_poles3_manual_ident_huber_pade1_0.0330611300999.npy\",\n",
    "          folder+\"ss_20190206-114257_poles5_manual_ident_huber_pade3_0.0330611300999.npy\"]\n",
    "\n",
    "_A0x, _B0x, _C0x, D0, delay = loadtools.getDelayModel(fnames[0])\n",
    "A0, B0, C0 = add_position_state(_A0x, _B0x, _C0x)\n",
    "\n",
    "_A1x, _B1x, _C1x, D = loadtools.getModel(fnames[1])\n",
    "A, B, C = add_position_state(_A1x, _B1x, _C1x)\n",
    "\n",
    "_A3x, _B3x, _C3x, D3 = loadtools.getModel(fnames[2])\n",
    "A3, B3, C3 = add_position_state(_A3x, _B3x, _C3x)\n",
    "#A, B, C = add_position_state(_A3x, _B3x, _C3x)\n",
    "\n",
    "u_max = 2.0\n",
    "U_max = [u_max]\n",
    "\n",
    "xx0 = [1.0, 2.0, 10.0,  100.0, 1000., 10000]\n",
    "print 'Limits:', xx0[0:len(B)]\n",
    "\n",
    "X00 = getX00(xx0[0:len(B)])\n",
    "\n",
    "# Transform into reachable form to specify boundaries useful\n",
    "(A1, B1, C1, D1), T1, Q1 = optim_tools.get_Steuerungsnormalform(A, B, C.T, D)\n",
    "X0 = [T1.dot(x0) for x0 in X00]\n",
    "#print X0"
   ]
  },
  {
   "cell_type": "code",
   "execution_count": 5,
   "metadata": {},
   "outputs": [],
   "source": [
    "## Helper functions for optimization problem\n",
    "\n",
    "def Tri(i, n_u):\n",
    "    if n_u>1:\n",
    "        print \"not implemented\"\n",
    "        print \"alle permutationen mit einsen auf der hauptdiagonalen!\"\n",
    "        raise Error()\n",
    "        \n",
    "    if i==1:\n",
    "        return np.eye(n_u)\n",
    "    else:\n",
    "        # only true for n_u == 1\n",
    "        return np.zeros((n_u, n_u))\n",
    "\n",
    "def negTri(i, n_u):\n",
    "    return np.eye(n_u) - Tri(i, n_u)\n"
   ]
  },
  {
   "cell_type": "code",
   "execution_count": 49,
   "metadata": {
    "scrolled": false
   },
   "outputs": [
    {
     "name": "stdout",
     "output_type": "stream",
     "text": [
      "processing upper bound: 1.0\n",
      "processing upper bound: 2.0\n",
      "processing upper bound: 4.0\n",
      "processing upper bound: 8.0\n",
      "processing upper bound: 16.0\n",
      "processing upper bound: 32.0\n",
      "found bounds: [16.0-32.0]\n",
      "Range: 16.0-32.0; parameter 24.0 -> infeasible\n",
      "Range: 16.0-24.0; parameter 20.0 -> optimal\n",
      "Range: 20.0-24.0; parameter 22.0 -> optimal\n",
      "Range: 22.0-24.0; parameter 23.0 -> infeasible\n",
      "Range: 22.0-23.0; parameter 22.5 -> optimal\n",
      "Range: 22.5-23.0; parameter 22.75 -> optimal\n",
      "g: 22.75\n",
      "\n",
      "-----------------------\n"
     ]
    }
   ],
   "source": [
    "#%%time\n",
    "# Satz 6.6\n",
    "\n",
    "# Init\n",
    "n = B.shape[0] # get dim of system\n",
    "n_u = B.shape[1] \n",
    "\n",
    "# Variables\n",
    "X = cvxpy.Variable((n, n), PSD=True)\n",
    "Y = cvxpy.Variable((n, n), PSD=True)\n",
    "W = cvxpy.Variable((n_u, n_u), PSD=True)\n",
    "\n",
    "Ak_h = cvxpy.Variable(A.shape, PSD=True)\n",
    "Bk_h = cvxpy.Variable(B.shape)\n",
    "Ck_h = cvxpy.Variable(C.shape)\n",
    "Dk_h = cvxpy.Variable(D.shape)\n",
    "\n",
    "Ch = cvxpy.Variable(C.shape)\n",
    "Dh = cvxpy.Variable(D.shape)\n",
    "\n",
    "# Substitutionen\n",
    "C_hat = lambda i: Tri(i, n_u)*Ck_h + negTri(i, n_u)*Ch\n",
    "D_hat = lambda i: Tri(i, n_u)*Dk_h + negTri(i, n_u)*Dh\n",
    "\n",
    "Xi = cvxpy.bmat([[ A*X + B*Ck_h, A + B*Dk_h*C ],\n",
    "                 [ Ak_h,         Y*A + Bk_h*C ]])\n",
    "\n",
    "I = np.eye(n)\n",
    "\n",
    "# Bisection parameter\n",
    "g = cvxpy.Parameter(nonneg=True)\n",
    "\n",
    "# Pole restriction\n",
    "ro = cvxpy.Parameter(nonneg=True) # Real <=-ro\n",
    "ni = cvxpy.Parameter(nonneg=True) # |Imag| <= ni*Real\n",
    "\n",
    "#####################################################\n",
    "ro.value = 100\n",
    "#ro.value = 80\n",
    "ni.value = 1\n",
    "#####################################################\n",
    "poles = pc.pole(pc.ss(A, B, C, D))\n",
    "if any(poles.real < -ro.value) or any(poles.imag < ni.value*poles.real):\n",
    "    print \"WARNING: Pole restriction too tight for model?\"\n",
    "    print poles\n",
    "    \n",
    "    raw_input(\"Press Enter to continue...\")\n",
    "\n",
    "\n",
    "# Define Constraints\n",
    "\n",
    "# (6.39a)\n",
    "const_639a = cvxpy.bmat([[X, I],\n",
    "                         [I, Y]]) >> 0\n",
    "                         #[I, Y]]) == cvxpy.Variable((2*n, 2*n), PSD=True)\n",
    "\n",
    "\n",
    "\n",
    "# (6.39b)\n",
    "const_639b = cvxpy.bmat([[ X*A.T + A*X + B*Ck_h + (B*Ck_h).T, Ak_h.T + A + B*Dk_h*C            ],\n",
    "                         [ cvxpy.Variable((n, n), PSD=False),          A.T*Y + Y*A + Bk_h*C + (Bk_h*C).T]]) + \\\n",
    "             2*g*cvxpy.bmat([[X, I],\n",
    "                             [I, Y]]) << 0\n",
    "                             #[I, Y]]) == -cvxpy.Variable((2*n, 2*n), PSD=True)\n",
    "    \n",
    "# (6.39c)\n",
    "const_639c = [cvxpy.bmat([[ X*A.T + A*X + B*C_hat(i) + (B*C_hat(i)).T, Ak_h.T + A + B*D_hat(i)*C            ],\n",
    "                          [ cvxpy.Variable((n, n), PSD=False),                      A.T*Y + Y*A + Bk_h*C + (Bk_h*C).T]]) << 0 for i in range(2, (2**n_u)+1)]\n",
    "                          #[ cvxpy.Variable((n, n)),                      A.T*Y + Y*A + Bk_h*C + (Bk_h*C).T]]) == -cvxpy.Variable((2*n, 2*n), PSD=True) for i in range(2, (2**n_u)+1)]\n",
    "    \n",
    "    \n",
    "# (6.39d)\n",
    "const_639d = cvxpy.bmat([[ X,  I,    Ch.T     ],\n",
    "                         [ I,  Y,    (Dh*C).T ],\n",
    "                         [ Ch, Dh*C, W        ]]) >> 0\n",
    "                         #[ Ch, Dh*C, W        ]]) == cvxpy.Variable((2*n+n_u, 2*n+n_u), PSD=True)\n",
    "\n",
    "const_639e = [W[j,j] <= U_max[j]**2 for j in range(0, n_u)]\n",
    "\n",
    "const_639f = [ X0[k].T*Y*X0[k] <= 1.0\n",
    "                            for k in range(0, len(X0))]\n",
    "\n",
    "const_621a = Xi.T + Xi + ro*cvxpy.bmat([[X, I],\n",
    "                                        [I, Y]]) >> 0\n",
    "                                        #[I, Y]]) == cvxpy.Variable((2*n, 2*n), PSD=True)\n",
    "\n",
    "const_621b = cvxpy.bmat([[ ni*(Xi.T + Xi), Xi.T - Xi ],\n",
    "                         [ -Xi.T + Xi,     ni*(Xi.T + Xi) ]]) << 0\n",
    "                         #[ -Xi.T + Xi,     ni*(Xi.T + Xi) ]]) == -cvxpy.Variable((4*n, 4*n), PSD=True)\n",
    "\n",
    "    \n",
    "# Collect all constraints\n",
    "constraints_639 = []\n",
    "constraints_639.append(const_639a)\n",
    "constraints_639.append(const_639b)\n",
    "constraints_639.extend(const_639c)\n",
    "constraints_639.append(const_639d)\n",
    "constraints_639.extend(const_639e)\n",
    "constraints_639.extend(const_639f)\n",
    "\n",
    "constraints_639.append(const_621a)\n",
    "constraints_639.append(const_621b)\n",
    "\n",
    "\n",
    "# Form problem.\n",
    "prob_66 = cvxpy.Problem(cvxpy.Minimize(0), constraints_639)\n",
    "\n",
    "# bisection with one solver\n",
    "#[[X_o, Y_o, W_o,\n",
    "#  Ak_h_o, Bk_h_o, Ck_h_o, Dk_h_o,\n",
    "#  Ch_o, Dh_o], g_o] = optim_tools.bisect_max(0, None, prob_66, g, [X, Y, W, Ak_h, Bk_h, Ck_h, Dk_h, Ch, Dh], bisect_verbose=True,\n",
    "#                                                      bisection_tol=0.01,\n",
    "#                                                      #solver=cvxpy.CVXOPT, verbose=False,  max_iters=50000)\n",
    "#                                                      solver=cvxpy.MOSEK, verbose=False)\n",
    "#                                                      #solver=cvxpy.SCS, max_iters=50000)\n",
    "\n",
    "# bisection alternative with list of multiple solvers\n",
    "[[X_o, Y_o, W_o,\n",
    "  Ak_h_o, Bk_h_o, Ck_h_o, Dk_h_o,\n",
    "  Ch_o, Dh_o], g_o] = optim_tools.bisect_max2(0, None, prob_66, g, [X, Y, W, Ak_h, Bk_h, Ck_h, Dk_h, Ch, Dh],\n",
    "                                                      bisect_verbose=True,\n",
    "                                                      bisection_tol=0.5,\n",
    "                                                      solvers=[\n",
    "                                                               (cvxpy.CVXOPT, {'verbose':False}),\n",
    "                                                               (cvxpy.MOSEK, {'verbose':False}),\n",
    "                                                               #(cvxpy.SCS, {'max_iters':5000, 'warm_start':True, 'verbose':True}),\n",
    "                                                               #(cvxpy.SUPER_SCS, {'max_iters':50000, 'verbose':True}),\n",
    "                                                              ])\n",
    "print \"g:\", g_o\n",
    "\n",
    "print\n",
    "print '-----------------------'"
   ]
  },
  {
   "cell_type": "raw",
   "metadata": {},
   "source": [
    "import os\n",
    "import sdpt3glue\n",
    "import random\n",
    "\n",
    "#print g.value\n",
    "print prob_66.solve(solver=cvxpy.CVXOPT, verbose=False)\n",
    "\n",
    "ran = random.randint(0, 100)\n",
    "folder ='/tmp/'\n",
    "# Generate filenames\n",
    "\n",
    "matfile_target = os.path.join(folder, 'matfile_{}.mat'.format(ran))  # Where to save the .mat file to\n",
    "print matfile_target\n",
    "output_target = os.path.join(folder, 'output_{}.txt'.format(ran))    # Where to save the output log\n",
    "print output_target\n",
    "\n",
    "#g.value = 1\n",
    "result = sdpt3glue.sdpt3_solve_problem(prob_66, sdpt3glue.OCTAVE, matfile_target,\n",
    "                                       output_target=output_target)\n"
   ]
  },
  {
   "cell_type": "code",
   "execution_count": 50,
   "metadata": {},
   "outputs": [],
   "source": [
    "# QR Decomposition for M and N\n",
    "M, NT = LA.qr(I - X_o.dot(Y_o))\n",
    "N = NT.T\n",
    "#assert(np.allclose(I - X_o.dot(Y_o), M.dot(N.T)))\n",
    "\n",
    "# LU Decomposition for M and N\n",
    "#M, L, U = LA.lu(I - X_o.dot(Y_o))\n",
    "#N = L.dot(U).T\n",
    "\n",
    "# Reconstruction\n",
    "Ek = -LA.solve(N, Y_o.dot(B))\n",
    "Dk = np.matrix(Dk_h_o)\n",
    "\n",
    "Ck = LA.solve(M, (Ck_h_o - Dk.dot(C).dot(X_o)).T).T\n",
    "#Ck_1 = (Ck_h_o - Dk.dot(C).dot(X_o)).dot(LA.inv(M).T) #Check\n",
    "#assert(np.allclose(Ck_1, Ck))\n",
    "\n",
    "Bk = LA.solve(N, Bk_h_o)\n",
    "\n",
    "temp_alpha = LA.solve(N, (Ak_h_o-Y_o.dot(A).dot(X_o)))\n",
    "temp_beta = Bk.dot(C).dot(X_o)\n",
    "Ak = (LA.solve(M, temp_alpha.T) - LA.solve(M, temp_beta.T)).T\n",
    "\n",
    "#Ak_1 = LA.solve(N, (Ak_h_o-Y_o.dot(A).dot(X_o))).dot(LA.inv(M).T) - Bk.dot(C).dot(X_o).dot(LA.inv(M).T) #Check\n",
    "#assert(np.allclose(Ak_1, Ak))\n"
   ]
  },
  {
   "cell_type": "code",
   "execution_count": 51,
   "metadata": {},
   "outputs": [
    {
     "name": "stdout",
     "output_type": "stream",
     "text": [
      "[[-6.58889394e+01 -3.63546434e+00 -2.03634305e-01 -3.92111572e-03]\n",
      " [-6.71470314e+03 -5.78499868e+02 -3.15896723e+01 -6.81781360e-01]\n",
      " [ 1.38070032e+05  1.11495243e+04  6.11323645e+02  1.37679514e+01]\n",
      " [-5.64015397e+05 -4.55137573e+04 -2.78165482e+03 -1.14189232e+02]]\n",
      "[[-1.33816475e-02]\n",
      " [-1.94162978e+00]\n",
      " [ 4.09871011e+01]\n",
      " [-1.67831574e+02]]\n",
      "[[-9.70114771e+04 -7.76903915e+03 -4.06183107e+02  1.54075853e+00]]\n",
      "[[-28.77879285]]\n",
      "[[ 1.20086906e-03]\n",
      " [-8.20423235e-02]\n",
      " [ 1.26889049e+00]\n",
      " [-4.66355033e+00]]\n",
      "2.0\n",
      "\n",
      "[[ 0.00000000e+00  0.00000000e+00  0.00000000e+00 -1.00000000e+00]\n",
      " [ 0.00000000e+00  7.10542736e-15 -7.66708106e-15  6.69292402e+00]\n",
      " [ 0.00000000e+00  1.00000000e+02  2.00673740e-14  5.62730971e+01]\n",
      " [ 0.00000000e+00  0.00000000e+00 -1.00000000e+02 -1.35227553e+02]]\n",
      "[[  0.        ]\n",
      " [  6.7209252 ]\n",
      " [-11.11006912]\n",
      " [  0.        ]]\n",
      "[[1. 0. 0. 0.]]\n",
      "[[0.]]\n"
     ]
    }
   ],
   "source": [
    "print Ak\n",
    "print Bk\n",
    "print Ck\n",
    "print Dk\n",
    "print Ek\n",
    "print u_max\n",
    "#print dT\n",
    "print\n",
    "print A\n",
    "print B\n",
    "print C\n",
    "print D"
   ]
  },
  {
   "cell_type": "raw",
   "metadata": {},
   "source": [
    "import time\n",
    "import shutil\n",
    "\n",
    "poles = pc.pole(pc.ss(A, B, C, D))\n",
    "\n",
    "# Creates new file\n",
    "fname = fnames[1][:-4]+'_control_{}.npy'.format(time.strftime(\"%Y%m%d-%H%M%S\"),\n",
    "                                    len(poles))\n",
    "\n",
    "shutil.copyfile(fnames[1], fname)\n",
    "\n",
    "loadtools.saveModel(fname, A, B, C, D)\n",
    "loadtools.saveControl(fname, Ak, Bk, Ck, Dk, Ek, u_max)\n",
    "loadtools.saveNPY(fname, ro=ro.value, ni=ni.value, X0=X0)\n",
    "\n",
    "print\n",
    "#print 'Model:'\n",
    "#print loadtools.getModel(fname)\n",
    "#print 'Control:'\n",
    "#print loadtools.getControl(fname)\n",
    "#res, _ = loadtools.loadNPY(fname)\n",
    "#print res"
   ]
  },
  {
   "cell_type": "code",
   "execution_count": 52,
   "metadata": {},
   "outputs": [],
   "source": [
    "from numpy.linalg import solve, inv\n",
    "\n",
    "def control_func(y, s, x, k, A, b, c):\n",
    "    N = -c.dot(solve(A-b.dot(k.T), b))\n",
    "    u = solve(N, np.array([s]))-k.T.dot(x)\n",
    "    return u\n",
    "\n",
    "class control_func_dyn_out():\n",
    "    def __init__(self, Ak, Bk, Ck, Dk, Ek, A, B, C, D, umax=None, dT=1e-3):\n",
    "        self.Ak = Ak\n",
    "        self.Bk = Bk\n",
    "        self.Ck = Ck\n",
    "        self.Dk = Dk\n",
    "        self.Ek = Ek\n",
    "        self.umax = umax\n",
    "        self.dT = dT\n",
    "\n",
    "        self.z = np.zeros(B.shape)\n",
    "                \n",
    "        # Construct Prefilter\n",
    "        C2 = np.hstack((-C, np.zeros(Ck.shape)))\n",
    "\n",
    "        A2_u = np.hstack(((A+B.dot(Dk).dot(C)), B.dot(Ck)))\n",
    "        A2_d = np.hstack((Bk.dot(C), Ak))\n",
    "\n",
    "        A2 = np.vstack((A2_u, A2_d))\n",
    "        B2 = np.vstack((B, np.zeros(Bk.shape)))\n",
    "\n",
    "        self.N = inv(C2.dot(inv(A2)).dot(B2))\n",
    "        #print self.N\n",
    "        \n",
    "    def estimate(self, y, u):\n",
    "        # already saturated in this case\n",
    "        #if self.umax is not None:\n",
    "        #    u = optim_tools.sat(u, self.umax)\n",
    "        \n",
    "        z_dot = self.Ak.dot(self.z) + self.Bk.dot(y) + self.Ek.dot(u)\n",
    "        return self.z + z_dot*self.dT\n",
    "        \n",
    "    def regulate(self, y, s, x):\n",
    "        u = self.N.dot(s)+self.Ck.dot(self.z) + self.Dk.dot(y)\n",
    "\n",
    "        # Saturate \n",
    "        if self.umax is not None:\n",
    "            u = optim_tools.sat(u, self.umax)\n",
    "            \n",
    "        self.z = self.estimate(y, u)\n",
    "        return u"
   ]
  },
  {
   "cell_type": "code",
   "execution_count": 92,
   "metadata": {},
   "outputs": [],
   "source": [
    "# Timeline\n",
    "T = np.arange(0, 15, 1e-3) \n",
    "\n",
    "#s: input, e.g., step function with amplitude of 0.2\n",
    "#s = np.zeros(len(T));\n",
    "s = np.ones(len(T))*1;\n",
    "\n",
    "\n",
    "# Initial state\n",
    "x0 = np.zeros(B.shape)"
   ]
  },
  {
   "cell_type": "code",
   "execution_count": 93,
   "metadata": {
    "scrolled": true
   },
   "outputs": [
    {
     "name": "stdout",
     "output_type": "stream",
     "text": [
      "Setting initial value vector to [[0 0 0 0]]\n"
     ]
    }
   ],
   "source": [
    "from functools import partial\n",
    "\n",
    "#y0, u0, u0_sat = optim_tools.simulate(A, B, C, D, \n",
    "#                                   partial(optim_tools.openLoop),\n",
    "#                                   s, T, delay=None, umax=u_max, x0=x0)\n",
    "\n",
    "y1, u1, u1_sat = optim_tools.simulate(A, B, C, D, \n",
    "                                   control_func_dyn_out(Ak, Bk, Ck, Dk, Ek,\n",
    "                                                        A, B, C, D, umax=u_max).regulate,\n",
    "                                   s, T, delay_u=None, delay_y=None, umax=u_max, x0=0)\n"
   ]
  },
  {
   "cell_type": "code",
   "execution_count": 94,
   "metadata": {},
   "outputs": [
    {
     "name": "stdout",
     "output_type": "stream",
     "text": [
      "Setting initial value vector to [[0 0 0]]\n"
     ]
    }
   ],
   "source": [
    "\n",
    "y2, u2, u2_sat = optim_tools.simulate(A0, B0, C0, D0, \n",
    "                                   control_func_dyn_out(Ak, Bk, Ck, Dk, Ek,\n",
    "                                                        A, B, C, D,\n",
    "                                                        umax=u_max).regulate,\n",
    "                                   s, T, delay_u=delay, delay_y=None, umax=u_max, x0=0)\n"
   ]
  },
  {
   "cell_type": "code",
   "execution_count": 95,
   "metadata": {},
   "outputs": [
    {
     "name": "stdout",
     "output_type": "stream",
     "text": [
      "Setting initial value vector to [[0 0 0 0]]\n",
      "ratio 2\n"
     ]
    }
   ],
   "source": [
    "y2b, u2b, u2b_sat = optim_tools.simulate(A, B, C, D, \n",
    "                                   control_func_dyn_out(Ak, Bk, Ck, Dk, Ek,\n",
    "                                                        A, B, C, D,\n",
    "                                                        umax=0.1).regulate,\n",
    "                                   s, T, delay_u=None, delay_y=None, umax=u_max, x0=0, T_controller=1./500)\n"
   ]
  },
  {
   "cell_type": "code",
   "execution_count": 96,
   "metadata": {},
   "outputs": [
    {
     "name": "stdout",
     "output_type": "stream",
     "text": [
      "Setting initial value vector to [[0 0 0 0 0 0]]\n"
     ]
    }
   ],
   "source": [
    "\n",
    "y3, u3, u3_sat = optim_tools.simulate(A3, B3, C3, D3, \n",
    "                                   control_func_dyn_out(Ak, Bk, Ck, Dk, Ek,\n",
    "                                                        A, B, C, D,\n",
    "                                                        umax=u_max).regulate,\n",
    "                                   s, T, delay_u=None, delay_y=None, umax=u_max, x0=0)\n"
   ]
  },
  {
   "cell_type": "code",
   "execution_count": 97,
   "metadata": {},
   "outputs": [
    {
     "data": {
      "image/png": "[encoded data removed]",
      "text/plain": [
       "<matplotlib.figure.Figure at 0x7fab5150ad50>"
      ]
     },
     "metadata": {},
     "output_type": "display_data"
    },
    {
     "data": {
      "image/png": "[encoded data removed]",
      "text/plain": [
       "<matplotlib.figure.Figure at 0x7fab5150a950>"
      ]
     },
     "metadata": {},
     "output_type": "display_data"
    }
   ],
   "source": [
    "pylab.rcParams['figure.figsize'] = (10, 6)\n",
    "\n",
    "line_s, = plt.plot(T[:], s, 'y', label='reference')\n",
    "line0, = plt.plot(T[:], np.array(y1[0,:].T), 'r', label='dyn_out')\n",
    "line1, = plt.plot(T[:], np.array(y2[0,:].T), 'b', label='dyn_out.delay system')\n",
    "line1, = plt.plot(T[:], np.array(y2b[0,:].T), 'b--', label='dyn_out.delay 2 system')\n",
    "line1, = plt.plot(T[:], np.array(y3[0,:].T), 'g', label='dyn_out.delay pade3')\n",
    "\n",
    "\n",
    "#first_legend = plt.legend(handles=[line1], loc=1)\n",
    "plt.legend(bbox_to_anchor=(1.05, 1), loc=2, borderaxespad=0.)\n",
    "plt.xlabel('T')\n",
    "plt.ylabel('y')\n",
    "plt.title('Closed Loop Step Response')\n",
    "plt.show()\n",
    "\n",
    "\n",
    "line0, = plt.plot(T, u1, 'r--', label='u1')\n",
    "line2, = plt.plot(T, u2, 'b', label='u2')\n",
    "line2, = plt.plot(T, u2b, 'b--', label='u2b')\n",
    "line2, = plt.plot(T, u3, 'g', label='u3')\n",
    "\n",
    "\n",
    "\n",
    "#>first_legend = plt.legend(handles=[line1, line2, line1b, line2b], loc=1)\n",
    "plt.legend(bbox_to_anchor=(1.05, 1), loc=2, borderaxespad=0.)\n",
    "plt.xlabel('T')\n",
    "plt.ylabel('u')\n",
    "plt.title('Output values')\n",
    "plt.show()\n",
    "\n",
    "\n",
    "#loadtools.saveNPY(fname, plot_control_step_y=(T[:], np.array(y1[0,:].T)),\n",
    "#                         plot_control_step_u=(T, u1),\n",
    "#                         plot_control_step_delay_y=(T[:], np.array(y2[0,:].T)),\n",
    "#                         plot_control_step_delay_u=(T, u2),\n",
    "#                         plot_control_step_s=(T[:], s))"
   ]
  },
  {
   "cell_type": "code",
   "execution_count": null,
   "metadata": {},
   "outputs": [],
   "source": []
  },
  {
   "cell_type": "code",
   "execution_count": null,
   "metadata": {},
   "outputs": [],
   "source": []
  },
  {
   "cell_type": "code",
   "execution_count": null,
   "metadata": {},
   "outputs": [],
   "source": []
  }
 ],
 "metadata": {
  "kernelspec": {
   "display_name": "Python 2",
   "language": "python",
   "name": "python2"
  },
  "language_info": {
   "codemirror_mode": {
    "name": "ipython",
    "version": 2
   },
   "file_extension": ".py",
   "mimetype": "text/x-python",
   "name": "python",
   "nbconvert_exporter": "python",
   "pygments_lexer": "ipython2",
   "version": "2.7.12"
  }
 },
 "nbformat": 4,
 "nbformat_minor": 2
}
