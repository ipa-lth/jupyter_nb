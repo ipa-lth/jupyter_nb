{
 "cells": [
  {
   "cell_type": "code",
   "execution_count": null,
   "metadata": {
    "collapsed": true
   },
   "outputs": [],
   "source": [
    "import numpy as np\n",
    "import control as con\n",
    "from numpy import linalg as LA\n",
    "\n",
    "import cvxpy\n",
    "import optim_tools #own file with helper\n",
    "\n",
    "import matplotlib.pyplot as plt\n",
    "%matplotlib inline"
   ]
  },
  {
   "cell_type": "code",
   "execution_count": null,
   "metadata": {
    "collapsed": false
   },
   "outputs": [],
   "source": [
    "print cvxpy.installed_solvers()"
   ]
  },
  {
   "cell_type": "raw",
   "metadata": {
    "collapsed": false
   },
   "source": [
    "###################################################\n",
    "# Boris Diss Hydraulisches Positioniersystem S.61 #\n",
    "###################################################\n",
    "A = np.matrix([[0,      1,        0],\n",
    "               [0, -0.126,     83.5],\n",
    "               [0,  -6.89, -0.00707]])\n",
    " \n",
    "b = np.matrix([[0],[0],[-55.51]])\n",
    "c = np.matrix([1, 0, 0])\n",
    "\n",
    "print \"Poles:\\n\", np.matrix(con.matlab.pole(con.matlab.ss(A, b, c, 0))).T\n",
    "\n",
    "u_max = 1\n",
    "n = len(b)\n",
    "\n",
    "X0 = [np.matrix([-13.38, -10.7, -2.58]).T,\n",
    "      np.matrix([-13.38, -10.7,  2.58]).T,\n",
    "      np.matrix([-13.38,  10.7, -2.58]).T,\n",
    "      np.matrix([-13.38,  10.7,  2.58]).T,\n",
    "      np.matrix([ 13.38, -10.7, -2.58]).T,\n",
    "      np.matrix([ 13.38, -10.7,  2.58]).T,\n",
    "      np.matrix([ 13.38,  10.7, -2.58]).T,\n",
    "      np.matrix([ 13.38,  10.7,  2.58]).T]\n",
    "\n",
    "x_max = [13.38, 10.7, 2.58]\n",
    "\n",
    "#print \"A:\\n\", A\n",
    "#print \"a:\\n\", a\n",
    "#print \"b:\\n\", b\n",
    "#print \"c:\\n\", c\n",
    "p_min = 0.2\n",
    "mu_star = 1.5\n",
    "zeta = 2.5\n",
    "zeta_star = 1.5\n",
    "\n",
    "k0 = 1e-3*np.matrix([-24.23, -0.2122, -10.5]).T\n",
    "k1 = 1e-3*np.matrix([-40.13, -0.1396, -15.10]).T\n",
    "k0_star = 1e-3*np.matrix([-11.96, -0.1111, -5.18]).T\n",
    "k1_star = 1e-3*np.matrix([-83.35, -0.0477, -33.86]).T\n",
    "\n",
    "##### Entwurf parameter #####\n",
    "beta=2 # beta >=1"
   ]
  },
  {
   "cell_type": "code",
   "execution_count": null,
   "metadata": {
    "collapsed": false
   },
   "outputs": [],
   "source": [
    "###########################\n",
    "# Hydraulischer Aktor     #\n",
    "###########################\n",
    "\n",
    "A0 = np.matrix([[0,   1,       0],\n",
    "                [-10, -1.167, 25],\n",
    "                [0,   0,    -0.8]])\n",
    "print \"Eigenvalues: {}\".format(LA.eigvals(A0))\n",
    "#a = -A[-1,:].T ### !!!!!\n",
    "#print a\n",
    "b0 = np.matrix([[0],[0],[2.4]])\n",
    "c0 = np.matrix([1, 0, 0])\n",
    "d0 = np.matrix([0])\n",
    "u_max = 10.5\n",
    "n = 3\n",
    "\n",
    "X00 = [np.matrix([-20.0, -10.0, -10.0]).T,\n",
    "       np.matrix([-20.0, -10.0, 10.0]).T,\n",
    "       np.matrix([-20.0,  10.0, -10.0]).T,\n",
    "       np.matrix([20.0,  -10.0, 10.0]).T,\n",
    "       np.matrix([20.0,  -10.0, -10.0]).T,\n",
    "       np.matrix([20.0,   10.0, 10.0]).T]\n",
    "\n",
    "#print \"A:\\n\", A\n",
    "#print \"a:\\n\", a\n",
    "#print \"b:\\n\", b\n",
    "#print \"c:\\n\", c\n",
    "\n",
    "# Convert to Normalform\n",
    "(A1, b1, c1, d1), T1, Q1 = optim_tools.get_Steuerungsnormalform(A0, b0, c0.T, d0)\n",
    "a1 = -A1[-1][:].T #!!!!\n",
    "print \"T1:\\n\", T1\n",
    "\n",
    "# Convert to Normalform\n",
    "ss, T2 = con.canonical_form(con.ss(A0, b0, c0, d0), form='reachable')\n",
    "\n",
    "assert np.allclose(T1*X00[1],\n",
    "                   optim_tools.reverse_x_order(T2*X00[1])),\\\n",
    "\"own Steuerungsnormalform Transformation not equal python control version\"\n",
    "#print \"x_r1:\\n\", T1*X00[1]\n",
    "#print \"x_r2(backwards):\\n\", optim_tools.reverse_x_order(T2*X00[1])\n",
    "\n",
    "A = optim_tools.reverse_x_order(np.matrix(ss.A))\n",
    "a = -A[-1][:].T #!!!!\n",
    "\n",
    "b = optim_tools.reverse_x_order(np.matrix(ss.B))\n",
    "c = optim_tools.reverse_x_order(np.matrix(ss.C))\n",
    "d = optim_tools.reverse_x_order(np.matrix(ss.D)) # == 0!\n",
    "\n",
    "print \"A:\\n\", A\n",
    "assert np.allclose(A, A1)\n",
    "print \"a:\\n\", a\n",
    "assert np.allclose(a, a1)\n",
    "print \"b:\\n\", b\n",
    "assert np.allclose(b, b1)\n",
    "print \"c:\\n\", c\n",
    "assert np.allclose(c, c1.T)\n",
    "\n",
    "X0 = [T1.dot(x0) for x0 in X00]\n",
    "print \"X0:\\n\", X0\n",
    "#print \"A1:\\n\", A1\n",
    "#print \"a1:\\n\", a1\n",
    "#print \"b1:\\n\", b1\n",
    "#print \"c1:\\n\", c1"
   ]
  },
  {
   "cell_type": "code",
   "execution_count": null,
   "metadata": {
    "collapsed": true
   },
   "outputs": [],
   "source": [
    "def someparameters():\n",
    "    k0 = np.matrix([[ 0.00702601],\n",
    "     [-0.79417547],\n",
    "     [-0.01583519]])\n",
    "\n",
    "    k1 = np.matrix([[ 0.00044966],\n",
    "     [-0.02280205],\n",
    "     [-0.00489574]])\n",
    "\n",
    "    k0_star = np.matrix([[ 0.00151984],\n",
    "     [-0.2060622 ],\n",
    "     [-0.00826113]])\n",
    "\n",
    "    k1_star = np.matrix([[ 0.00045032],\n",
    "     [-0.02262498],\n",
    "     [-0.00470835]])\n"
   ]
  },
  {
   "cell_type": "code",
   "execution_count": null,
   "metadata": {
    "collapsed": false
   },
   "outputs": [],
   "source": [
    "# Solution directly from polyplacement char. polynomial to wanted polynomial (fastest) with given polynomical coeff a\n",
    "def k_explizit(roots_p1, roots_pmin, pmin, a):\n",
    "    n = len(roots_p1)\n",
    "    \n",
    "    k0 = np.zeros((n,))\n",
    "    k1 = np.zeros((n,))\n",
    "\n",
    "    a_tilde_p1 = np.matrix(np.poly(roots_p1)[:0:-1]).T # get the characteristical polynomial backwards\n",
    "    a_tilde_pmin = np.matrix(np.poly(roots_pmin)[:0:-1]).T # get the characteristical polynomial backwards\n",
    "    \n",
    "    k1 = (a_tilde_p1 - a_tilde_pmin) / (1.0-1.0/pmin)\n",
    "    k0 = a_tilde_p1 - a - k1\n",
    "\n",
    "    return np.matrix(k0).T, np.matrix(k1).T\n",
    "\n",
    "%timeit k_explizit([1,2,4], [2,4,8], 0.1, a)"
   ]
  },
  {
   "cell_type": "code",
   "execution_count": null,
   "metadata": {
    "collapsed": false
   },
   "outputs": [],
   "source": [
    "# Do canonical form first (costy)\n",
    "def k_explizit_x(roots_p1, roots_pmin, pmin, A, b):\n",
    "    (A_R, _, _, _), _, _ = optim_tools.get_Steuerungsnormalform(A, b, b, 0)\n",
    "    a = -A_R[-1][:].T\n",
    "    n = len(roots_p1)\n",
    "    \n",
    "    k0 = np.zeros((n,))\n",
    "    k1 = np.zeros((n,))\n",
    "\n",
    "    a_tilde_p1 = np.matrix(np.poly(roots_p1)[:0:-1]).T # get the characteristical polynomial backwards\n",
    "    a_tilde_pmin = np.matrix(np.poly(roots_pmin)[:0:-1]).T # get the characteristical polynomial backwards\n",
    "    \n",
    "    k1 = (a_tilde_p1 - a_tilde_pmin) / (1.0-1.0/pmin)\n",
    "    k0 = a_tilde_p1 - a - k1\n",
    "\n",
    "    return np.matrix(k0).T, np.matrix(k1).T\n",
    "\n",
    "%timeit k_explizit_x([1,2,4], [2,4,8], 0.1, A, b)"
   ]
  },
  {
   "cell_type": "code",
   "execution_count": null,
   "metadata": {
    "collapsed": false
   },
   "outputs": [],
   "source": [
    "# Use python control to place poles and then interpolate (faster with A and b)\n",
    "def k_explizit2(roots_p1, roots_pmin, pmin, A, b):\n",
    "    r0 = con.place(A, b, roots_p1) #k(p=1)\n",
    "    r1 = con.place(A, b, roots_pmin) #k(p=pmin)\n",
    "\n",
    "    # This seems to work as expected\n",
    "    k1 = 1.0/(1.0-1.0/pmin) * (r0 - r1)\n",
    "    k0 = r0 - k1\n",
    "    return np.matrix(k0), np.matrix(k1)\n",
    "\n",
    "%timeit k_explizit2([1,2,4], [2,4,8], 0.1, A, b)"
   ]
  },
  {
   "cell_type": "code",
   "execution_count": null,
   "metadata": {
    "collapsed": false
   },
   "outputs": [],
   "source": [
    "### Design Sättigungsregler mittels konvexer Hülle (A.3)\n",
    "\n",
    "# Variables (Convex)\n",
    "#  Name in A.3 | Name in Program\n",
    "#    Q  = P^⁻1 |   = Q\n",
    "#    z  = Ql   |   = z0\n",
    "#    z* = Ql*  |   = z1\n",
    "\n",
    "# Variables (Quasi convex)\n",
    "#    gamma     |   = g\n",
    "\n",
    "# Parameter\n",
    "#    mu        |   = m (Designparameter)\n",
    "#    X0        |   = X0 = [x0,...]\n",
    "#    A         |   = A\n",
    "#    b         |   = b\n",
    "\n",
    "# Initialize\n",
    "n = len(b) # get dim of system\n",
    "\n",
    "# Define Variables\n",
    "#Q  = cvxpy.Semidef(n) #symmetric and positive semidefinite\n",
    "Q  = cvxpy.Variable(n, n) # Semidef could go as an additional constraint as well, thereby no need fo Q to be symmetric\n",
    "\n",
    "z0 = cvxpy.Variable(n)\n",
    "z1 = cvxpy.Variable(n)\n",
    "\n",
    "# Bisection parameter\n",
    "g = cvxpy.Parameter(sign='positive')\n",
    "#g.value = g_val # TODO set by bisection loop (function?)\n",
    "\n",
    "m = cvxpy.Parameter(sign='positive')\n",
    "#m.value = 1 # TODO: mu* >=1\n",
    "\n",
    "# Define Constraints\n",
    "const_sdQ = Q >> 0 # semidef but not (necessarily) symmetric\n",
    "\n",
    "# (A.10)\n",
    "const_A10 = [cvxpy.bmat([[Q,       X0[i]],\n",
    "                         [X0[i].T, 1    ]]) >> 0\n",
    "                            for i in range(0, len(X0))]\n",
    "\n",
    "# (A.11)\n",
    "const_A11 = cvxpy.bmat([[Q,  z0],\n",
    "                        [z0.T, 1 ]]) >> 0\n",
    "\n",
    "# (A.12)\n",
    "const_A12 = cvxpy.bmat([[Q,    z1  ],\n",
    "                        [z1.T,   m**2]]) >> 0\n",
    "\n",
    "# (A.13)\n",
    "const_A13 = Q*A + A.T*Q - b*z0.T - z0*b.T << 0 # This constraint is strict definit\n",
    "\n",
    "# (A.14)\n",
    "const_A14 = Q*A + A.T*Q - b*z1.T - z1*b.T << -2*g*Q # This constraint is strict definit\n",
    "#const_A14 = Q*A + A.T*Q - b*z1.T - z1*b.T << cvxpy.bmat([[-2*g, 0, 0],\n",
    "#                                                         [0, -2*g, 0],\n",
    "#                                                         [0, 0, -2*g]])*Q # This constraint is strict definit\n",
    "\n",
    "\n",
    "# Collect all constraints\n",
    "constraints = [const_sdQ]\n",
    "constraints.extend(const_A10) ##!! Beware of the \"extend\" if input is array\n",
    "constraints.append(const_A12)\n",
    "constraints.append(const_A13)\n",
    "constraints.append(const_A14)\n",
    "\n",
    "\n",
    "# Feasibility for bisection:\n",
    "obj = cvxpy.Minimize(0)\n",
    "\n",
    "# Stronger requirements for bisection? -> probably resulting in higher iterations, thus better results: TODO: Fix bisect!\n",
    "obj_alt = cvxpy.Maximize(cvxpy.log_det(Q)) # Identical to geo_mean (in term of convexity and result)\n",
    "\n",
    "# Form and solve problem.\n",
    "prob = cvxpy.Problem(obj, constraints)"
   ]
  },
  {
   "cell_type": "code",
   "execution_count": null,
   "metadata": {
    "collapsed": true
   },
   "outputs": [],
   "source": [
    "\"\"\"\n",
    " Aemo of plotting complex functions in python.\n",
    "\n",
    " Jim M | Feb 2011 | GPL\n",
    "\"\"\"\n",
    "# Plotting functions ; see the example below\n",
    "# and http://matplotlib.sourceforge.net/\n",
    "#from matplotlib.pyplot import plot, legend\n",
    "\n",
    "# Complex math (cmath) python functions ;\n",
    "# see  see http://docs.python.org/library/cmath.html\n",
    "#from cmath import sin, cos, exp, pi, log, polar, rect, phase, sqrt\n",
    "\n",
    "# Note that python represents imaginary numbers like \"3i\" as \"3j\",\n",
    "# where \"j\" meaning \"sqrt(-1) must be preceded by a number,\n",
    "# so \"sqrt(-1)\" alone would in python be \"1j\".\n",
    "#\n",
    "#     (3,4) complex rectangular form:     z = 3 + 4j\n",
    "#     (x,y) complex rectangular form :    z = x + y * 1j\n",
    "#     polar form :                        z = r * exp(1j * theta)\n",
    "#     abs(z)   is length of complex number = r\n",
    "#     phase(z) is angle of complex number = theta\n",
    "#     z.real   is real part\n",
    "#     z.imag   is imaginary part\n",
    "#\n",
    "# abs() is a python built-in; as are complex numbers themselves.\n",
    "# But the other functions needed to be imported in their complex versions.\n",
    "# The numeric constant pi can be imported from math or cmath.\n",
    "\n",
    "# Remember that\n",
    "# 1. lambda(x: ...) is an anyonymous function of x, e.g. lambda(x: 2*x+1)\n",
    "# 2. map(f, [a, b, c, ...])  # returns [f(a), f(b), f(c), ...]\n",
    "\n",
    "\n",
    "# == So here are a few utility functions for multiplying scalars and vectors.\n",
    "\n",
    "# a scalar times a vector returns a vector\n",
    "def scale_vector(scale, vector):\n",
    "  result = [0]*len(vector)\n",
    "  for i in range(len(result)):\n",
    "    result[i] = scale * vector[i]\n",
    "  return result\n",
    "\n",
    "# dot product of two vectors = sum(x[0]*y[0] + ... + x[n-1]*y[n-1])\n",
    "def vector_dot(vector1, vector2):\n",
    "  result = 0\n",
    "  for i in range(len(vector1)):\n",
    "    result += vector1[i] * vector2[i]\n",
    "  return result\n",
    "\n",
    "# return real part of a vector\n",
    "def real_vector(vector):\n",
    "  return map(lambda x: x.real, vector)\n",
    "\n",
    "# return imaginary part of a vector\n",
    "def imag_vector(vector):\n",
    "  return map(lambda x: x.imag, vector)"
   ]
  },
  {
   "cell_type": "raw",
   "metadata": {
    "collapsed": false
   },
   "source": [
    "from cmath import sin, cos, exp, pi, log, polar, rect, phase, sqrt\n",
    "# Generate numbers around the complex unit circle.\n",
    "# (These are the same numbers that show up in the Fourier Transform.)\n",
    "N = 128\n",
    "theta = scale_vector(2*pi/N, range(N))\n",
    "exp_theta = map(lambda x: exp(1j * x), theta)\n",
    "\n",
    "real_part = real_vector(exp_theta)\n",
    "imag_part = imag_vector(exp_theta)\n",
    "\n",
    "# Display a window with a plot of real, imag\n",
    "plt.plot(theta, real_part, '-', label='real')\n",
    "plt.plot(theta, imag_part, '--', label='imag')\n",
    "plt.legend(loc='lower left', title='exp(i theta)')\n",
    "plt.show()"
   ]
  },
  {
   "cell_type": "raw",
   "metadata": {
    "collapsed": false
   },
   "source": [
    "import control\n",
    "\n",
    "# uboot\n",
    "A = np.matrix([[0., 1., 0.],\n",
    "              [0., 0., 1.],\n",
    "              [0., 0., -0.005]])\n",
    "a = -A[-1][:].T #!!!!\n",
    "\n",
    "b = np.matrix([[0], [0], [1.]])\n",
    "\n",
    "d = 0\n",
    "c = np.matrix([[1], [0], [0]])\n",
    "\n",
    "sys = control.ss(A, b, c.T, d)\n",
    "#mag, phase, omega = bode(sys1)\n",
    "#arr1, arr2 = control.step(sys)\n",
    "#plt.plot(arr2, arr1)\n",
    "\n",
    "#poles, zeros = control.matlab.pzmap(sys, True)\n",
    "plt.axis([-5,.1,-3,3])\n",
    "#plt.show\n",
    "\n",
    "roots_p1 = [-1, -1+1j, -1-1j]\n",
    "roots_pmin = [-3, -3+2j, -3-2j]\n",
    "pmin = 0.1\n",
    "\n",
    "k0, k1 = k_explizit(roots_p1, roots_pmin, pmin, a)\n",
    "\n",
    "k0x, k1x = k_explizit_x(roots_p1, roots_pmin, pmin, A, b)\n",
    "k0xx, k1xx = k_explizit2(roots_p1, roots_pmin, pmin, A, b)\n",
    "\n",
    "assert np.allclose(k1, k1x)\n",
    "assert np.allclose(k0, k0x)\n",
    "assert np.allclose(k1x, k1xx)\n",
    "assert np.allclose(k0x, k0xx)\n",
    "\n",
    "\n",
    "poles = []\n",
    "for p in np.arange(1, 0.09, -0.01):\n",
    "    #sys_cl = control.ss(A-b*(r0), b, c.T, d)\n",
    "    #poles2, zeros2 = control.matlab.pzmap(sys_cl, True)\n",
    "    #sys_cl = control.ss(A-b*(r1), b, c.T, d)\n",
    "    #poles2, zeros2 = control.matlab.pzmap(sys_cl, True)\n",
    "    #print p\n",
    "    sys_cl = control.ss(A-b*(k0+1.0/p*k1), b, c.T, d)\n",
    "    pole, zeros = control.matlab.pzmap(sys_cl, True)\n",
    "    #print pole[0]\n",
    "    poles.append(pole)\n",
    "    #print poles2\n",
    "plt.show\n",
    "\n"
   ]
  },
  {
   "cell_type": "raw",
   "metadata": {
    "collapsed": false
   },
   "source": [
    "real_part = real_vector(poles)\n",
    "imag_part = imag_vector(poles)\n",
    "\n",
    "# Display a window with a plot of real, imag\n",
    "plt.plot(real_part, imag_part, '-x')\n",
    "plt.show"
   ]
  },
  {
   "cell_type": "raw",
   "metadata": {
    "collapsed": false
   },
   "source": [
    "%%time\n",
    "# Test solution with bisection parameter g=1\n",
    "g.value = 1\n",
    "m.value = 1 # TODO: mu* >=1\n",
    "\n",
    "prob.solve(solver=cvxpy.SCS, verbose=False, max_iters=500000)  # Returns the optimal value.\n",
    "#prob.solve()  # Returns the optimal value.\n",
    "\n",
    "print prob.status"
   ]
  },
  {
   "cell_type": "code",
   "execution_count": null,
   "metadata": {
    "collapsed": true
   },
   "outputs": [],
   "source": [
    "# TODO: zeta -> zeta0 AND zeta_* -> zeta1  ---> Should come from optimisation loop\n",
    "zeta0 = 1.1  #More or less chosen randomly here\n",
    "zeta1 = 2.0  #More or less chosen randomly here\n",
    "\n",
    "m1 = 2 # mu_*\n",
    "pmin = 0.01"
   ]
  },
  {
   "cell_type": "code",
   "execution_count": null,
   "metadata": {
    "collapsed": false,
    "scrolled": true
   },
   "outputs": [],
   "source": [
    "%%time\n",
    "# Perform bisection on g for mu=1\n",
    "m.value = 1\n",
    "[[o_Q, o_z0, o_z1], o_g] = optim_tools.bisect_max(0, None, prob, g, [Q, z0, z1], bisect_verbose=True,\n",
    "                                              solver=cvxpy.SCS, warm_start=True, max_iters=800000, verbose=False)\n",
    "\n",
    "print \"-----------RESULTS-----------\"\n",
    "# l*(mu=1 -> m0) -> l1m0\n",
    "l1m0 = LA.inv(o_Q) * o_z1\n",
    "print \"l*(mu=1)=\\n\", l1m0\n",
    "\n",
    "roots_m0_p1 = LA.eigvals(A-b*l1m0.T)\n",
    "print \"lambda^{hat}(p=1)    = \", roots_m0_p1\n",
    "\n",
    "roots_m0_pmin = zeta0 * roots_m0_p1.real + 1j*roots_m0_p1.imag\n",
    "#roots_m0_pmin = zeta0 * roots_m0_p1  # Shifting on both real and imaginary axis in zeta\n",
    "\n",
    "print \"lambda^{hat}(p=pmin) = \", roots_m0_pmin"
   ]
  },
  {
   "cell_type": "code",
   "execution_count": null,
   "metadata": {
    "collapsed": false,
    "scrolled": true
   },
   "outputs": [],
   "source": [
    "%%time\n",
    "# Perform bisection on g for mu>=1\n",
    "m.value = m1 # TODO: mu* comes from optimisation loop\n",
    "\n",
    "[[o_Q, o_z0, o_z1], o_g] = optim_tools.bisect_max(0, None, prob, g, [Q, z0, z1], bisect_verbose=True,\n",
    "                                              solver=cvxpy.SCS, warm_start=True, max_iters=1600000, verbose=False)\n",
    "\n",
    "print \"-----------RESULTS-----------\"\n",
    "# l*(mu=1 -> m0) -> l1m0\n",
    "l1m1 = LA.inv(o_Q) * o_z1\n",
    "print \"l*(mu=mu_*={})=\\n\".format(m.value), l1m1\n",
    "\n",
    "roots_m1_p1 = LA.eigvals(A-b*l1m1.T)\n",
    "print \"lambda^{hat}_{*}(p=1)    = \", roots_m1_p1\n",
    "\n",
    "roots_m1_pmin = zeta1 * roots_m1_p1.real + 1j*roots_m1_p1.imag\n",
    "#roots_m0_pmin = zeta1 * roots_m1_p1  # Shifting on both real and imaginary axis in zeta\n",
    "\n",
    "print \"lambda^{hat}_{*}(p=pmin) = \", roots_m1_pmin"
   ]
  },
  {
   "cell_type": "code",
   "execution_count": null,
   "metadata": {
    "collapsed": false
   },
   "outputs": [],
   "source": [
    "# Get Polynomcoefficiants\n",
    "# k0_i -> k_i\n",
    "\n",
    "k0_0, k0_1 = k_explizit2(roots_m0_p1, roots_m0_pmin, pmin, A, b)\n",
    "\n",
    "plt.axis([-2, .1, -3.5, 3.5])\n",
    "poles = []\n",
    "for p in np.arange(1, pmin, -0.01):\n",
    "    #sys_cl = control.ss(A-b*(r0), b, c.T, d)\n",
    "    #poles2, zeros2 = control.matlab.pzmap(sys_cl, True)\n",
    "    #sys_cl = control.ss(A-b*(r1), b, c.T, d)\n",
    "    #poles2, zeros2 = control.matlab.pzmap(sys_cl, True)\n",
    "    #print p\n",
    "    sys_cl = con.ss(A-b*(k0_0+1.0/p*k0_1), b, c, d)\n",
    "    pole, zeros = con.matlab.pzmap(sys_cl, True)\n",
    "    #print pole[0]\n",
    "    poles.append(pole)\n",
    "    #print poles2\n",
    "plt.show"
   ]
  },
  {
   "cell_type": "code",
   "execution_count": null,
   "metadata": {
    "collapsed": false
   },
   "outputs": [],
   "source": [
    "# Get Polynomcoefficiants\n",
    "# k1_i -> k_{*,i}\n",
    "\n",
    "k1_0, k1_1 = k_explizit2(roots_m1_p1, roots_m1_pmin, pmin, A, b)\n",
    "\n",
    "plt.axis([-2, .1, -3.5, 3.5])\n",
    "poles = []\n",
    "for p in np.arange(1, pmin, -0.01):\n",
    "    #sys_cl = control.ss(A-b*(r0), b, c.T, d)\n",
    "    #poles2, zeros2 = control.matlab.pzmap(sys_cl, True)\n",
    "    #sys_cl = control.ss(A-b*(r1), b, c.T, d)\n",
    "    #poles2, zeros2 = control.matlab.pzmap(sys_cl, True)\n",
    "    #print p\n",
    "    sys_cl = con.ss(A-b*(k1_0+1.0/p*k1_1), b, c, d)\n",
    "    pole, zeros = con.matlab.pzmap(sys_cl, True)\n",
    "    #print pole[0]\n",
    "    poles.append(pole)\n",
    "    #print poles2\n",
    "plt.show"
   ]
  },
  {
   "cell_type": "code",
   "execution_count": null,
   "metadata": {
    "collapsed": true
   },
   "outputs": [],
   "source": [
    "# A.4\n",
    "# Transformationen\n"
   ]
  },
  {
   "cell_type": "code",
   "execution_count": null,
   "metadata": {
    "collapsed": false
   },
   "outputs": [],
   "source": [
    "import cvxpy\n",
    "\n",
    "R0 = cvxpy.Variable(n,n)\n",
    "R1 = cvxpy.Variable(n,n)\n",
    "\n",
    "G = cvxpy.Variable(n,n) #skew\n",
    "G_star = cvxpy.Variable(n, n) # skew\n",
    "\n",
    "# D = cvxpy.Symmetric(n)\n",
    "# D_star = cvxpy.Symmetric(n)\n",
    "D = cvxpy.Variable(n, n) #sym\n",
    "D_star = cvxpy.Variable(n, n) #sym\n",
    "\n",
    "constraints = [D                 == D.T, # sym\n",
    "               D_star            == D_star.T, # sym\n",
    "               G + G.T           == 0, # skew\n",
    "               G_star + G_star.T == 0] # skew\n",
    "\n",
    "\n",
    "# Parameter\n",
    "alpha = 1-p_min\n",
    "beta = 1+p_min\n",
    "    \n",
    "A0 = A-b*k0.T\n",
    "A1 = A-b*k1.T\n",
    "\n",
    "S0 = A1.T*R1+R1*A1\n",
    "S1 = A0.T*R1+R1*A0 + A1.T*R0+R0*A1\n",
    "S2 = A0.T*R0+R0*A0\n",
    "\n",
    "A0_star = A-b*k0_star.T\n",
    "A1_star = A-b*k1_star.T\n",
    "\n",
    "S0 = A1.T*R1+R1*A1\n",
    "S1 = A0.T*R1+R1*A0 + A1.T*R0+R0*A1\n",
    "S2 = A0.T*R0+R0*A0\n",
    "\n",
    "S0_star = A1_star.T*R1+R1*A1_star\n",
    "S1_star = A0_star.T*R1+R1*A0_star + A1_star.T*R0+R0*A1_star\n",
    "S2_star = A0_star.T*R0+R0*A0_star\n",
    "\n",
    "# Create two constraints.\n",
    "const4_39ab = [R0 >> 0,\n",
    "               R0 + R1 >> 0]\n",
    "\n",
    "const4_39c = cvxpy.bmat([[-D , G],\n",
    "                         [G.T, D]]) - \\\n",
    "             cvxpy.bmat([[S0 + 0.5*beta*S1 + 0.25*beta**2*S2, 0.25*alpha*(S1 + beta*S2)],\n",
    "                         [0.25*alpha*(S1 + beta*S2),          0.25*alpha**2*S2]]) >> 0\n",
    "\n",
    "const4_39d = [cvxpy.bmat([[1, X0[i].T],\n",
    "                          [X0[i], R0+R1]]) >> 0\n",
    "                              for i in range(0, len(X0))]\n",
    "\n",
    "const4_39e = cvxpy.bmat([[1,    k0.T],\n",
    "                         [k0,   R0]]) + \\\n",
    "             1/p_min * cvxpy.bmat([[0,  k1.T],\n",
    "                                  [k1, R1]]) >> 0\n",
    "\n",
    "const4_39f = cvxpy.bmat([[1,    k0.T],\n",
    "                         [k0,   R0]]) + \\\n",
    "             cvxpy.bmat([[0,  k1.T],\n",
    "                         [k1, R1]]) >> 0\n",
    "\n",
    "const4_39g = cvxpy.bmat([[-D_star , G_star],\n",
    "                         [G_star.T, D_star]]) - \\\n",
    "             cvxpy.bmat([[S0_star + 0.5*beta*S1_star + 0.25*beta**2*S2_star, 0.25*alpha*(S1_star + beta*S2_star)],\n",
    "                         [0.25*alpha*(S1_star + beta*S2_star),          0.25*alpha**2*S2_star]]) >> 0\n",
    "\n",
    "constraints.extend(const4_39ab) ##!! Beware of the \"extend\" if input is array\n",
    "constraints.append(const4_39c)\n",
    "constraints.extend(const4_39d) ##!! Beware of the \"extend\" if input is array\n",
    "constraints.append(const4_39e)\n",
    "constraints.append(const4_39f)\n",
    "constraints.append(const4_39g)\n",
    "\n",
    "# Form objective.\n",
    "obj = cvxpy.Minimize(cvxpy.trace(R0+1/p_min*R1))\n",
    "\n",
    "# Form and solve problem.\n",
    "prob = cvxpy.Problem(obj, constraints)\n",
    "prob.solve(solver=cvxpy.SCS, verbose=True, max_iters=2500)  # Returns the optimal value.\n",
    "print \"status:\", prob.status\n",
    "print \"optimal value\", prob.value\n",
    "print \"R0\", R0.value\n",
    "LA.cholesky(R0.value)\n",
    "print \"R1\", R1.value\n",
    "LA.cholesky(R1.value + R0.value)\n",
    "print \"ok\""
   ]
  },
  {
   "cell_type": "code",
   "execution_count": null,
   "metadata": {
    "collapsed": true
   },
   "outputs": [],
   "source": []
  },
  {
   "cell_type": "code",
   "execution_count": null,
   "metadata": {
    "collapsed": true
   },
   "outputs": [],
   "source": []
  },
  {
   "cell_type": "code",
   "execution_count": null,
   "metadata": {
    "collapsed": true
   },
   "outputs": [],
   "source": []
  },
  {
   "cell_type": "code",
   "execution_count": null,
   "metadata": {
    "collapsed": true
   },
   "outputs": [],
   "source": []
  },
  {
   "cell_type": "code",
   "execution_count": null,
   "metadata": {
    "collapsed": true
   },
   "outputs": [],
   "source": []
  },
  {
   "cell_type": "code",
   "execution_count": null,
   "metadata": {
    "collapsed": true
   },
   "outputs": [],
   "source": []
  },
  {
   "cell_type": "code",
   "execution_count": null,
   "metadata": {
    "collapsed": true
   },
   "outputs": [],
   "source": []
  },
  {
   "cell_type": "code",
   "execution_count": null,
   "metadata": {
    "collapsed": true
   },
   "outputs": [],
   "source": []
  },
  {
   "cell_type": "code",
   "execution_count": null,
   "metadata": {
    "collapsed": true
   },
   "outputs": [],
   "source": []
  },
  {
   "cell_type": "code",
   "execution_count": null,
   "metadata": {
    "collapsed": true
   },
   "outputs": [],
   "source": []
  },
  {
   "cell_type": "code",
   "execution_count": null,
   "metadata": {
    "collapsed": true
   },
   "outputs": [],
   "source": []
  },
  {
   "cell_type": "code",
   "execution_count": null,
   "metadata": {
    "collapsed": true
   },
   "outputs": [],
   "source": []
  },
  {
   "cell_type": "code",
   "execution_count": null,
   "metadata": {
    "collapsed": true
   },
   "outputs": [],
   "source": []
  }
 ],
 "metadata": {
  "kernelspec": {
   "display_name": "Python 2",
   "language": "python",
   "name": "python2"
  },
  "language_info": {
   "codemirror_mode": {
    "name": "ipython",
    "version": 2
   },
   "file_extension": ".py",
   "mimetype": "text/x-python",
   "name": "python",
   "nbconvert_exporter": "python",
   "pygments_lexer": "ipython2",
   "version": "2.7.12"
  }
 },
 "nbformat": 4,
 "nbformat_minor": 1
}
