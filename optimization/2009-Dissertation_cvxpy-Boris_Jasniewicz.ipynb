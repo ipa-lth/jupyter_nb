{
 "cells": [
  {
   "cell_type": "code",
   "execution_count": null,
   "metadata": {
    "collapsed": true
   },
   "outputs": [],
   "source": [
    "import numpy as np\n",
    "import control as con\n",
    "from numpy import linalg as LA\n",
    "\n",
    "import cvxpy\n",
    "import optim_tools #own file with helper"
   ]
  },
  {
   "cell_type": "code",
   "execution_count": null,
   "metadata": {
    "collapsed": false
   },
   "outputs": [],
   "source": [
    "print cvxpy.installed_solvers()"
   ]
  },
  {
   "cell_type": "code",
   "execution_count": null,
   "metadata": {
    "collapsed": false
   },
   "outputs": [],
   "source": [
    "###################################################\n",
    "# Boris Diss Hydraulisches Positioniersystem S.61 #\n",
    "###################################################\n",
    "A = np.matrix([[0,      1,        0],\n",
    "               [0, -0.126,     83.5],\n",
    "               [0,  -6.89, -0.00707]])\n",
    " \n",
    "b = np.matrix([[0],[0],[-55.51]])\n",
    "c = np.matrix([1, 0, 0])\n",
    "\n",
    "print \"Poles:\\n\", np.matrix(con.matlab.pole(con.matlab.ss(A, b, c, 0))).T\n",
    "\n",
    "u_max = 1\n",
    "n = len(b)\n",
    "\n",
    "X0 = [np.matrix([-13.38, -10.7, -2.58]).T,\n",
    "      np.matrix([-13.38, -10.7,  2.58]).T,\n",
    "      np.matrix([-13.38,  10.7, -2.58]).T,\n",
    "      np.matrix([-13.38,  10.7,  2.58]).T,\n",
    "      np.matrix([ 13.38, -10.7, -2.58]).T,\n",
    "      np.matrix([ 13.38, -10.7,  2.58]).T,\n",
    "      np.matrix([ 13.38,  10.7, -2.58]).T,\n",
    "      np.matrix([ 13.38,  10.7,  2.58]).T]\n",
    "\n",
    "x_max = [13.38, 10.7, 2.58]\n",
    "\n",
    "#print \"A:\\n\", A\n",
    "#print \"a:\\n\", a\n",
    "#print \"b:\\n\", b\n",
    "#print \"c:\\n\", c\n",
    "p_min = 0.2\n",
    "mu_star = 1.5\n",
    "zeta = 2.5\n",
    "zeta_star = 1.5\n",
    "\n",
    "k0 = 1e-3*np.matrix([-24.23, -0.2122, -10.5]).T\n",
    "k1 = 1e-3*np.matrix([-40.13, -0.1396, -15.10]).T\n",
    "k0_star = 1e-3*np.matrix([-11.96, -0.1111, -5.18]).T\n",
    "k1_star = 1e-3*np.matrix([-83.35, -0.0477, -33.86]).T\n",
    "\n",
    "##### Entwurf parameter #####\n",
    "beta=2 # beta >=1"
   ]
  },
  {
   "cell_type": "code",
   "execution_count": null,
   "metadata": {
    "collapsed": true
   },
   "outputs": [],
   "source": [
    "def someparameters():\n",
    "    k0 = np.matrix([[ 0.00702601],\n",
    "     [-0.79417547],\n",
    "     [-0.01583519]])\n",
    "\n",
    "    k1 = np.matrix([[ 0.00044966],\n",
    "     [-0.02280205],\n",
    "     [-0.00489574]])\n",
    "\n",
    "    k0_star = np.matrix([[ 0.00151984],\n",
    "     [-0.2060622 ],\n",
    "     [-0.00826113]])\n",
    "\n",
    "    k1_star = np.matrix([[ 0.00045032],\n",
    "     [-0.02262498],\n",
    "     [-0.00470835]])\n"
   ]
  },
  {
   "cell_type": "code",
   "execution_count": null,
   "metadata": {
    "collapsed": false
   },
   "outputs": [],
   "source": [
    "### Design Sättigungsregler mittels konvexer Hülle (A.3)\n",
    "\n",
    "# Variables (Convex)\n",
    "#  Name in A.3 | Name in Program\n",
    "#    Q  = P^⁻1 |   = Q\n",
    "#    z  = Ql   |   = z0\n",
    "#    z* = Ql*  |   = z1\n",
    "\n",
    "# Variables (Quasi convex)\n",
    "#    gamma     |   = g\n",
    "\n",
    "# Parameter\n",
    "#    mu        |   = m (Designparameter)\n",
    "#    X0        |   = X0 = [x0,...]\n",
    "#    A         |   = A\n",
    "#    b         |   = b\n",
    "\n",
    "# Initialize\n",
    "n = len(b) # get dim of system\n",
    "m = 1\n",
    "\n",
    "# Define Variables\n",
    "#Q  = cvxpy.Semidef(n) #symmetric and positive semidefinite\n",
    "Q  = cvxpy.Variable(n, n) # Semidef could go as an additional constraint as well, thereby no need fo Q to be symmetric\n",
    "const_sdQ = (Q >> 0) # semidef but not (necessarily) symmetric\n",
    "\n",
    "z0 = cvxpy.Variable(n)\n",
    "z1 = cvxpy.Variable(n)\n",
    "\n",
    "# Bisection parameter\n",
    "g = cvxpy.Parameter(sign='positive')\n",
    "#g.value = g_val # TODO set by bisection loop (function?)\n",
    "\n",
    "# Define Constraints\n",
    "# (A.10)\n",
    "const_A10 = [cvxpy.bmat([[Q,       X0[i]],\n",
    "                         [X0[i].T, 1    ]]) >> 0\n",
    "                            for i in range(0, len(X0))]\n",
    "\n",
    "# (A.11)\n",
    "const_A11 = cvxpy.bmat([[Q,  z0],\n",
    "                        [z0.T, 1 ]]) >> 0\n",
    "\n",
    "# (A.12)\n",
    "const_A12 = cvxpy.bmat([[Q,    z1  ],\n",
    "                        [z1.T,   m**2]]) >> 0\n",
    "\n",
    "# (A.13)\n",
    "const_A13 = Q*A + A.T*Q - b*z0.T - z0*b.T << 0 # This constraint is strict definit\n",
    "\n",
    "# (A.14)\n",
    "const_A14 = Q*A + A.T*Q - b*z1.T - z1*b.T << -2*g*Q # This constraint is strict definit\n",
    "\n",
    "constraints = [const_sdQ]\n",
    "constraints.extend(const_A10) ##!! Beware of the \"extend\" if input is array\n",
    "constraints.append(const_A12)\n",
    "constraints.append(const_A13)\n",
    "constraints.append(const_A14)\n",
    "\n",
    "# Define Objective (Generalized eigenvalue problem?)\n",
    "#obj = cvxpy.Maximize(g)\n",
    "\n",
    "# Feasibility for bisection:\n",
    "obj = cvxpy.Minimize(0)\n",
    "\n",
    "# Form and solve problem.\n",
    "prob = cvxpy.Problem(obj, constraints)"
   ]
  },
  {
   "cell_type": "code",
   "execution_count": null,
   "metadata": {
    "collapsed": false
   },
   "outputs": [],
   "source": [
    "# Test solution with bisection parameter g=1\n",
    "g.value = 1\n",
    "prob.solve(solver=cvxpy.SCS, verbose=False, max_iters=2500)  # Returns the optimal value.\n",
    "#prob.solve()  # Returns the optimal value.\n",
    "\n",
    "prob.status"
   ]
  },
  {
   "cell_type": "code",
   "execution_count": null,
   "metadata": {
    "collapsed": false
   },
   "outputs": [],
   "source": [
    "# Perform bisection on g in {[0,2]}\n",
    "[[o_Q, o_z0, o_z1], o_g] = optim_tools.bisect_max(\n",
    "    0, 2, prob, g, [Q, z0, z1], solver=cvxpy.SCS, verbose=1)"
   ]
  },
  {
   "cell_type": "code",
   "execution_count": null,
   "metadata": {
    "collapsed": true
   },
   "outputs": [],
   "source": [
    "# A.4\n",
    "# Transformationen"
   ]
  },
  {
   "cell_type": "code",
   "execution_count": null,
   "metadata": {
    "collapsed": false
   },
   "outputs": [],
   "source": [
    "import cvxpy\n",
    "\n",
    "R0 = cvxpy.Variable(n,n)\n",
    "R1 = cvxpy.Variable(n,n)\n",
    "\n",
    "G = cvxpy.Variable(n,n) #skew\n",
    "G_star = cvxpy.Variable(n, n) # skew\n",
    "\n",
    "# D = cvxpy.Symmetric(n)\n",
    "# D_star = cvxpy.Symmetric(n)\n",
    "D = cvxpy.Variable(n, n) #sym\n",
    "D_star = cvxpy.Variable(n, n) #sym\n",
    "\n",
    "constraints = [D                 == D.T, # sym\n",
    "               D_star            == D_star.T, # sym\n",
    "               G + G.T           == 0, # skew\n",
    "               G_star + G_star.T == 0] # skew\n",
    "\n",
    "\n",
    "# Parameter\n",
    "alpha = 1-p_min\n",
    "beta = 1+p_min\n",
    "    \n",
    "A0 = A-b*k0.T\n",
    "A1 = A-b*k1.T\n",
    "\n",
    "S0 = A1.T*R1+R1*A1\n",
    "S1 = A0.T*R1+R1*A0 + A1.T*R0+R0*A1\n",
    "S2 = A0.T*R0+R0*A0\n",
    "\n",
    "A0_star = A-b*k0_star.T\n",
    "A1_star = A-b*k1_star.T\n",
    "\n",
    "S0 = A1.T*R1+R1*A1\n",
    "S1 = A0.T*R1+R1*A0 + A1.T*R0+R0*A1\n",
    "S2 = A0.T*R0+R0*A0\n",
    "\n",
    "S0_star = A1_star.T*R1+R1*A1_star\n",
    "S1_star = A0_star.T*R1+R1*A0_star + A1_star.T*R0+R0*A1_star\n",
    "S2_star = A0_star.T*R0+R0*A0_star\n",
    "\n",
    "# Create two constraints.\n",
    "const4_39ab = [R0 >> 0,\n",
    "               R0 + R1 >> 0]\n",
    "\n",
    "const4_39c = cvxpy.bmat([[-D , G],\n",
    "                         [G.T, D]]) - \\\n",
    "             cvxpy.bmat([[S0 + 0.5*beta*S1 + 0.25*beta**2*S2, 0.25*alpha*(S1 + beta*S2)],\n",
    "                         [0.25*alpha*(S1 + beta*S2),          0.25*alpha**2*S2]]) >> 0\n",
    "\n",
    "const4_39d = [cvxpy.bmat([[1, X0[i].T],\n",
    "                          [X0[i], R0+R1]]) >> 0\n",
    "                              for i in range(0, len(X0))]\n",
    "\n",
    "const4_39e = cvxpy.bmat([[1,    k0.T],\n",
    "                         [k0,   R0]]) + \\\n",
    "             1/p_min * cvxpy.bmat([[0,  k1.T],\n",
    "                                  [k1, R1]]) >> 0\n",
    "\n",
    "const4_39f = cvxpy.bmat([[1,    k0.T],\n",
    "                         [k0,   R0]]) + \\\n",
    "             cvxpy.bmat([[0,  k1.T],\n",
    "                         [k1, R1]]) >> 0\n",
    "\n",
    "const4_39g = cvxpy.bmat([[-D_star , G_star],\n",
    "                         [G_star.T, D_star]]) - \\\n",
    "             cvxpy.bmat([[S0_star + 0.5*beta*S1_star + 0.25*beta**2*S2_star, 0.25*alpha*(S1_star + beta*S2_star)],\n",
    "                         [0.25*alpha*(S1_star + beta*S2_star),          0.25*alpha**2*S2_star]]) >> 0\n",
    "\n",
    "constraints.extend(const4_39ab) ##!! Beware of the \"extend\" if input is array\n",
    "constraints.append(const4_39c)\n",
    "constraints.extend(const4_39d) ##!! Beware of the \"extend\" if input is array\n",
    "constraints.append(const4_39e)\n",
    "constraints.append(const4_39f)\n",
    "constraints.append(const4_39g)\n",
    "\n",
    "# Form objective.\n",
    "obj = cvxpy.Minimize(cvxpy.trace(R0+1/p_min*R1))\n",
    "\n",
    "# Form and solve problem.\n",
    "prob = cvxpy.Problem(obj, constraints)\n",
    "prob.solve(solver=cvxpy.SCS, verbose=True, max_iters=2500)  # Returns the optimal value.\n",
    "print \"status:\", prob.status\n",
    "print \"optimal value\", prob.value\n",
    "print \"R0\", R0.value\n",
    "LA.cholesky(R0.value)\n",
    "print \"R1\", R1.value\n",
    "LA.cholesky(R1.value + R0.value)\n",
    "print \"ok\""
   ]
  },
  {
   "cell_type": "code",
   "execution_count": null,
   "metadata": {
    "collapsed": false
   },
   "outputs": [],
   "source": [
    "def k_explizit(roots_p1, roots_pmin, pmin, a):\n",
    "    raise ValueError(\"not working correctly\")\n",
    "    n = len(roots_p1)\n",
    "    \n",
    "    k0 = np.zeros((n,))\n",
    "    k1 = np.zeros((n,))\n",
    "\n",
    "    a_tilde_p1 = np.poly(roots_p1)[1:]\n",
    "    a_tilde_pmin = np.poly(roots_pmin)[1:]\n",
    "\n",
    "    for i in range(0, n):\n",
    "        k1[i] = (a_tilde_p1[i] - a_tilde_pmin[i]) / (1.0-1.0/pmin)\n",
    "        k0[i] = a_tilde_p1[i] - a.item(i) - k1[i]\n",
    "    return np.matrix(k0).T, np.matrix(k1).T\n",
    "\n",
    "k_explizit([1,2,4], [2,4,8], 0.1, np.matrix([0, 1, 2]))"
   ]
  },
  {
   "cell_type": "code",
   "execution_count": null,
   "metadata": {
    "collapsed": false
   },
   "outputs": [],
   "source": [
    "import control\n",
    "import matplotlib.pyplot as plt\n",
    "\n",
    "# uboot\n",
    "A = np.matrix([[0., 1., 0.],\n",
    "              [0., 0., 1.],\n",
    "              [0., 0., -0.005]])\n",
    "a = -A[-1][:].T #!!!!\n",
    "\n",
    "b = np.matrix([[0], [0], [1.]])\n",
    "\n",
    "d = 0\n",
    "c = np.matrix([[1], [0], [0]])\n",
    "\n",
    "sys = control.ss(A, b, c.T, d)\n",
    "#mag, phase, omega = bode(sys1)\n",
    "#arr1, arr2 = control.step(sys)\n",
    "#plt.plot(arr2, arr1)\n",
    "\n",
    "#poles, zeros = control.matlab.pzmap(sys, True)\n",
    "plt.axis([-5,.1,-3,3])\n",
    "#plt.show\n",
    "\n",
    "#k0, k1 = k_explizit([-1,0,0], [-1,0,0], 0.1, a)\n",
    "pmin = 0.1\n",
    "\n",
    "r0 = control.place(A, b, [-1, -1+1j, -1-1j]) #k(p=1)\n",
    "r1 = control.place(A, b, [-3, -3+2j, -3-2j]) #k(p=pmin)\n",
    "\n",
    "# This seems to work as expected\n",
    "k1 = 1.0/(1.0-1.0/pmin) * (r0 - r1)\n",
    "k0 = r0 - k1\n",
    "\n",
    "for p in np.arange(1, 0.09, -0.01):\n",
    "    #sys_cl = control.ss(A-b*(r0), b, c.T, d)\n",
    "    #poles2, zeros2 = control.matlab.pzmap(sys_cl, True)\n",
    "    #sys_cl = control.ss(A-b*(r1), b, c.T, d)\n",
    "    #poles2, zeros2 = control.matlab.pzmap(sys_cl, True)\n",
    "    #print p\n",
    "    sys_cl = control.ss(A-b*(k0+1.0/p*k1), b, c.T, d)\n",
    "    poles2, zeros2 = control.matlab.pzmap(sys_cl, True)\n",
    "    #print poles2\n",
    "#plt.show"
   ]
  },
  {
   "cell_type": "code",
   "execution_count": null,
   "metadata": {
    "collapsed": true
   },
   "outputs": [],
   "source": []
  },
  {
   "cell_type": "code",
   "execution_count": null,
   "metadata": {
    "collapsed": true
   },
   "outputs": [],
   "source": []
  },
  {
   "cell_type": "code",
   "execution_count": null,
   "metadata": {
    "collapsed": true
   },
   "outputs": [],
   "source": []
  },
  {
   "cell_type": "code",
   "execution_count": null,
   "metadata": {
    "collapsed": true
   },
   "outputs": [],
   "source": []
  },
  {
   "cell_type": "code",
   "execution_count": null,
   "metadata": {
    "collapsed": true
   },
   "outputs": [],
   "source": []
  },
  {
   "cell_type": "code",
   "execution_count": null,
   "metadata": {
    "collapsed": true
   },
   "outputs": [],
   "source": []
  },
  {
   "cell_type": "code",
   "execution_count": null,
   "metadata": {
    "collapsed": true
   },
   "outputs": [],
   "source": []
  },
  {
   "cell_type": "code",
   "execution_count": null,
   "metadata": {
    "collapsed": true
   },
   "outputs": [],
   "source": []
  },
  {
   "cell_type": "code",
   "execution_count": null,
   "metadata": {
    "collapsed": true
   },
   "outputs": [],
   "source": []
  },
  {
   "cell_type": "code",
   "execution_count": null,
   "metadata": {
    "collapsed": true
   },
   "outputs": [],
   "source": []
  },
  {
   "cell_type": "code",
   "execution_count": null,
   "metadata": {
    "collapsed": true
   },
   "outputs": [],
   "source": []
  },
  {
   "cell_type": "code",
   "execution_count": null,
   "metadata": {
    "collapsed": true
   },
   "outputs": [],
   "source": []
  },
  {
   "cell_type": "code",
   "execution_count": null,
   "metadata": {
    "collapsed": true
   },
   "outputs": [],
   "source": []
  },
  {
   "cell_type": "code",
   "execution_count": null,
   "metadata": {
    "collapsed": true
   },
   "outputs": [],
   "source": []
  }
 ],
 "metadata": {
  "kernelspec": {
   "display_name": "Python 2",
   "language": "python",
   "name": "python2"
  },
  "language_info": {
   "codemirror_mode": {
    "name": "ipython",
    "version": 2
   },
   "file_extension": ".py",
   "mimetype": "text/x-python",
   "name": "python",
   "nbconvert_exporter": "python",
   "pygments_lexer": "ipython2",
   "version": "2.7.12"
  }
 },
 "nbformat": 4,
 "nbformat_minor": 1
}
