{
 "cells": [
  {
   "cell_type": "code",
   "execution_count": null,
   "metadata": {
    "collapsed": false
   },
   "outputs": [],
   "source": [
    "import numpy as np\n",
    "import sympy as sp\n",
    "from sympy import init_printing\n",
    "from sympy import pprint as show\n",
    "from __future__ import division\n",
    "from scipy.optimize import minimize"
   ]
  },
  {
   "cell_type": "code",
   "execution_count": null,
   "metadata": {
    "collapsed": false
   },
   "outputs": [],
   "source": [
    "def sat(v, u_max):\n",
    "    return np.clip(v, -u_max, u_max)\n",
    "\n",
    "#Test\n",
    "#print sat([2,-3,4,1], 2)\n",
    "#print sat([[2, 3],[-3, -4],[4, 0],[1, 0.5]], 3)"
   ]
  },
  {
   "cell_type": "code",
   "execution_count": null,
   "metadata": {
    "collapsed": false
   },
   "outputs": [],
   "source": [
    "# uboot\n",
    "A = np.array([[0., 1., 0.],\n",
    "              [0., 0., 1.],\n",
    "              [0., 0., -0.005]])\n",
    "\n",
    "#last line of Regelungsnormalform (characteristical polynom coefficients) in a colunm vector\n",
    "a = np.array(A[np.array(A).shape[1]-1])[np.newaxis].T \n",
    "\n",
    "b = np.array([[0], [0], [1.]])\n",
    "\n",
    "d = 0\n",
    "c = np.array([[1], [0], [0]])\n",
    "\n",
    "u_max = 1\n",
    "\n",
    "#simulation time\n",
    "T = 1.0/200.0\n",
    "\n",
    "#Introduced for fun\n",
    "u_max_sys = u_max"
   ]
  },
  {
   "cell_type": "code",
   "execution_count": null,
   "metadata": {
    "collapsed": false
   },
   "outputs": [],
   "source": [
    "import numpy as np\n",
    "import matplotlib.pyplot as plt\n",
    "import control as con\n",
    "%pylab inline\n",
    "\n",
    "K = 1\n",
    "d = 0.5\n",
    "T = 10\n",
    "delay = 10\n",
    "\n",
    "a0 = 1\n",
    "a1 = (2 * d * T) #16\n",
    "a2 = (T**2) #100\n",
    "b0 = K\n",
    "\n",
    "tf_1 = con.matlab.tf(K, [a2, a1, a0])\n",
    "#print tf_1\n",
    "ss_1a = con.matlab.tf2ss(tf_1)\n",
    "#print ss_1a\n",
    "\n",
    "d_num, d_den = con.pade(delay, 1)\n",
    "tf_delay = con.tf(d_num, d_den)\n",
    "ss_delay = con.matlab.tf2ss(con.series(tf_delay, tf_1))\n",
    "print ss_delay\n",
    "A = ss_delay.A\n",
    "b = ss_delay.B\n",
    "C = ss_delay.C\n",
    "d = ss_delay.D.flatten()\n",
    "\n",
    "#print con.matlab.tf2ss(ss_delay)\n",
    "d_yout, d_T = con.matlab.step(ss_delay)\n",
    "yout, Tstep = con.matlab.step(tf_1) # step without delay\n",
    "xin = np.ones(len(yout))\n",
    "\n",
    "\n",
    "\n",
    "plt.plot(d_T, d_yout, 'r-', label='poly_est')\n",
    "plt.plot(np.add(d_T, delay), yout, 'g-', label='idealized') #delay in timeaxis!"
   ]
  },
  {
   "cell_type": "code",
   "execution_count": null,
   "metadata": {
    "collapsed": false
   },
   "outputs": [],
   "source": [
    "# already Results\n",
    "a_hat      = np.array([[4.4469e-8], [2.3073e-5], [4.9148e-3]])\n",
    "a_hat_star = np.array([[1.073e-7], [4.919e-5], [10.4078e-3]])\n",
    "\n",
    "R1 = np.array([[1.6021e-5, 3.26098e-3, 0.4031],\n",
    "               [3.2698e-3, 1.5666,     163.46],\n",
    "               [0.4031,    163.46,     40.713]])\n",
    "#show(sp.Matrix(R1))"
   ]
  },
  {
   "cell_type": "code",
   "execution_count": null,
   "metadata": {
    "collapsed": false
   },
   "outputs": [],
   "source": [
    "# Defining functions\n",
    "def get_g(p, x, R1):\n",
    "    try:\n",
    "        p = p.squeeze() # This is weird\n",
    "    except:\n",
    "        pass\n",
    "    D_inv = np.diag([p**-3, p**-2, p**-1])\n",
    "#    print \"p:\", p\n",
    "#    print \"D_inv:\", D_inv\n",
    "#    print \"x_T:\", x.transpose()\n",
    "#    print \"x:\", x\n",
    "#    print \"R1:\", R1\n",
    "    g = x.transpose().dot(D_inv).dot(R1).dot(D_inv).dot(x) - 1.0\n",
    "    # Update 2016: As of python 3.5, there is a new matrix_multiply symbol, @:\n",
    "    # g = x' @ D^-1 @ R1 @ D^-1 @ x - 1.0\n",
    "    return g.squeeze()\n",
    "print \"Test g\\n\", get_g(0.1, np.array([[1],[2],[3]]), R1)\n",
    "\n",
    "def get_kstar(p, a, a_hat_star):\n",
    "    try:\n",
    "        p = p.squeeze() # This is weird\n",
    "    except:\n",
    "        pass\n",
    "    D_inv = np.diag([p**-3, p**-2, p**-1])\n",
    "    kstar = D_inv.dot(a_hat_star) - a\n",
    "    return kstar\n",
    "print \"Test kstar\\n\", get_kstar(2, a, a_hat_star)"
   ]
  },
  {
   "cell_type": "code",
   "execution_count": null,
   "metadata": {
    "collapsed": true
   },
   "outputs": [],
   "source": [
    "import time\n",
    "class Timer(object):\n",
    "    def __init__(self, name=None):\n",
    "        self.name = name\n",
    "\n",
    "    def __enter__(self):\n",
    "        self.tstart = time.time()\n",
    "\n",
    "    def __exit__(self, type, value, traceback):\n",
    "        if self.name:\n",
    "            print '[%s]' % self.name,\n",
    "        print 'Elapsed: %s' % (time.time() - self.tstart) "
   ]
  },
  {
   "cell_type": "code",
   "execution_count": null,
   "metadata": {
    "collapsed": false
   },
   "outputs": [],
   "source": [
    "# Defining symbolic representation (optional to above)\n",
    "p = sp.symbols('p', positive=True)\n",
    "D, R = sp.symbols('D, R')\n",
    "D = sp.diag(p**3, p**2, p)\n",
    "#print D**-1\n",
    "R = D**-1 * sp.Matrix(R1) * D**-1\n",
    "#show(R)\n",
    "\n",
    "x, x1, x2, x3 = sp.symbols('x x1 x2 x3')\n",
    "x = sp.Matrix([[x1], [x2], [x3]])\n",
    "#show(x)\n",
    "\n",
    "g = sp.symbols('g')\n",
    "#g = sp.Poly((x.T * R * x - sp.Matrix([1.0])), p)\n",
    "g = x.T * R * x - sp.Matrix([1.0])\n",
    "#show(g)\n",
    "#g.all_coeffs()\n",
    "\n",
    "k_star = sp.symbols('k_star')\n",
    "k_star = D**-1 * sp.Matrix(a_hat_star) - sp.Matrix(a)\n",
    "#k_star\n",
    "\n",
    "#show(g.all_coeffs())"
   ]
  },
  {
   "cell_type": "code",
   "execution_count": null,
   "metadata": {
    "collapsed": false
   },
   "outputs": [],
   "source": [
    "from IPython.display import clear_output\n",
    "\n",
    "# Numerical approach\n",
    "\n",
    "# Initial state\n",
    "x0 = np.array([[0],[0],[-0.004]])\n",
    "\n",
    "# Timeloop\n",
    "x_t = x0\n",
    "y_t = x0[0]\n",
    "\n",
    "# Make functionpointer\n",
    "func_g = lambda p: np.absolute(get_g(p, x_t, R1))\n",
    "func_kstar = lambda p: get_kstar(p, a, a_hat_star)\n",
    "\n",
    "init_p = 0.0255226957823816\n",
    "\n",
    "p_t = [init_p]\n",
    "u_t = [0]\n",
    "u_t2 = [0]\n",
    "\n",
    "max_T = 900 # Seconds\n",
    "max_iter = int(max_T/T)\n",
    "\n",
    "with Timer():\n",
    "    for t in range(0, max_iter):\n",
    "    #for t in range(0, 10000):\n",
    "        if t%1000 == 1:\n",
    "            clear_output()\n",
    "            print t*T, \"seconds done ->\", t/max_iter*100, \"%\"\n",
    "        ## Calc p\n",
    "        res = minimize(func_g, p_t[t], method='Nelder-Mead')\n",
    "        #print res.x\n",
    "\n",
    "        #g_poly = sp.Poly(sys, p)\n",
    "        #show(g_poly)\n",
    "        p = res.x\n",
    "        p_t = np.append(p_t, p)\n",
    "\n",
    "        ## Calc u\n",
    "        k_t = func_kstar(p)\n",
    "        u = np.dot(np.array(-k_t.T), x_t)\n",
    "        #print u_sym\n",
    "        u_t.append(u)\n",
    "        u = sat(u, u_max)\n",
    "        u_t2.append(u)\n",
    "\n",
    "        ## System response\n",
    "        # System saturation u (trivial if u_max and u_max_sys are identical)\n",
    "        # Calc x_dot\n",
    "        x_dot = np.dot(A, x_t) + b * sat(u, u_max_sys)\n",
    "\n",
    "        x_t = x_t + x_dot*T\n",
    "        y_t = np.append(y_t, x_t[0])\n",
    "    clear_output()\n",
    "\n",
    "print \"done\""
   ]
  },
  {
   "cell_type": "code",
   "execution_count": null,
   "metadata": {
    "collapsed": false
   },
   "outputs": [],
   "source": [
    "# Symbolic approach\n",
    "def run_sym_approach():\n",
    "    # Initial state\n",
    "    x0 = np.array([[0],[0],[-0.004]])\n",
    "\n",
    "    # Timeloop\n",
    "    x_t = x0\n",
    "    y_t = x0[0]\n",
    "\n",
    "\n",
    "    for t in range(1, 30):\n",
    "        ## Calc p\n",
    "        sys = g.subs({x1:x_t[0][0],\n",
    "                      x2:x_t[1][0],\n",
    "                      x3:x_t[2][0]})\n",
    "\n",
    "        #g_poly = sp.Poly(sys, p)\n",
    "        #show(g_poly)\n",
    "        p_t = sp.solve(sys, p)\n",
    "        if len(p_t) < 1:\n",
    "            print \"No solution found. Timestep:\", t\n",
    "            print g\n",
    "            print sys\n",
    "            #print p_t\n",
    "            break\n",
    "        else:\n",
    "            print \"p:\", p_t\n",
    "\n",
    "        ## Calc u\n",
    "        k_t = k_star.subs(p, p_t[0][0])\n",
    "        #print np.array(k_t.T)\n",
    "        u = np.dot(np.array(-k_t.T), x_t)\n",
    "        #print u_sym\n",
    "        u = sat(u_sym[0], u_max)\n",
    "\n",
    "        ## System response\n",
    "        # System saturation u (trivial if u_max and u_max_sys are identical)\n",
    "        # Calc x_dot\n",
    "        #show(A)\n",
    "        #show(x_t)\n",
    "        x_dot = np.dot(A, x_t) + b * sat(u, u_max_sys)\n",
    "        #print x_dot*T\n",
    "        #print x_t\n",
    "        x_t = x_t + x_dot*T\n",
    "        #print x_dot\n",
    "        y_t = np.append(y_t, x_t[0])\n",
    "\n",
    "    #print y_t\n",
    "    #sys\n",
    "    #x_t[2][0]\n",
    "    return  y_t, x_t\n"
   ]
  },
  {
   "cell_type": "code",
   "execution_count": null,
   "metadata": {
    "collapsed": false
   },
   "outputs": [],
   "source": [
    "import matplotlib.pyplot as plt\n",
    "plt.rcParams['figure.figsize'] = (15, 20)\n",
    "\n",
    "plt.subplot(311)\n",
    "plt.plot(np.arange(0, len(y_t))*T, y_t, 'b')\n",
    "plt.xlabel('t [s]')\n",
    "plt.ylabel('y(t)')\n",
    "\n",
    "plt.subplot(312)\n",
    "plt.plot(np.arange(0, len(y_t))*T, p_t, 'g')\n",
    "plt.xlabel('t [s]')\n",
    "plt.ylabel('p(t)')\n",
    "\n",
    "plt.subplot(313)\n",
    "axes = plt.gca()\n",
    "axes.set_ylim([-u_max-1e-5,u_max+1e-5])\n",
    "\n",
    "plt.plot(np.arange(0, len(y_t))*T, u_t, 'r--')\n",
    "plt.plot(np.arange(0, len(y_t))*T, u_t2, 'r')\n",
    "plt.xlabel('t [s]')\n",
    "plt.ylabel('u(t)')\n",
    "\n",
    "plt.show()"
   ]
  },
  {
   "cell_type": "code",
   "execution_count": null,
   "metadata": {
    "collapsed": false
   },
   "outputs": [],
   "source": []
  }
 ],
 "metadata": {
  "kernelspec": {
   "display_name": "Python 2",
   "language": "python",
   "name": "python2"
  },
  "language_info": {
   "codemirror_mode": {
    "name": "ipython",
    "version": 2
   },
   "file_extension": ".py",
   "mimetype": "text/x-python",
   "name": "python",
   "nbconvert_exporter": "python",
   "pygments_lexer": "ipython2",
   "version": "2.7.12"
  }
 },
 "nbformat": 4,
 "nbformat_minor": 1
}
