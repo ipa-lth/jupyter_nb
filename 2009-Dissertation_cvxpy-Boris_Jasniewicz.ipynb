{
 "cells": [
  {
   "cell_type": "code",
   "execution_count": 13,
   "metadata": {
    "collapsed": true
   },
   "outputs": [],
   "source": [
    "import numpy as np\n",
    "import cvxopt as cvx\n",
    "import control as con\n",
    "from numpy import linalg as LA"
   ]
  },
  {
   "cell_type": "code",
   "execution_count": 14,
   "metadata": {
    "collapsed": false
   },
   "outputs": [
    {
     "name": "stdout",
     "output_type": "stream",
     "text": [
      "status: optimal\n",
      "optimal value 0.999999999761\n",
      "optimal var 1.00000000001 -1.19961841702e-11\n"
     ]
    }
   ],
   "source": [
    "from cvxpy import *\n",
    "\n",
    "# Create two scalar optimization variables.\n",
    "x = Variable()\n",
    "y = Variable()\n",
    "\n",
    "# Create two constraints.\n",
    "constraints = [x + y == 1,\n",
    "               x - y >= 1]\n",
    "\n",
    "# Form objective.\n",
    "obj = Minimize(square(x - y))\n",
    "\n",
    "# Form and solve problem.\n",
    "prob = Problem(obj, constraints)\n",
    "prob.solve()  # Returns the optimal value.\n",
    "print \"status:\", prob.status\n",
    "print \"optimal value\", prob.value\n",
    "print \"optimal var\", x.value, y.value"
   ]
  },
  {
   "cell_type": "code",
   "execution_count": 15,
   "metadata": {
    "collapsed": false
   },
   "outputs": [
    {
     "name": "stdout",
     "output_type": "stream",
     "text": [
      "['CVXOPT', 'ECOS_BB', 'GLPK_MI', 'SCS', 'ECOS', 'GLPK', 'LS']\n"
     ]
    }
   ],
   "source": [
    "print installed_solvers()"
   ]
  },
  {
   "cell_type": "code",
   "execution_count": 16,
   "metadata": {
    "collapsed": true
   },
   "outputs": [],
   "source": [
    "### Seite 37 (im Text zwischen (4.12) und (4.13))\n",
    "def _N(n):\n",
    "    return np.diag([p for p in xrange(-n, 0, 1)])\n",
    "\n",
    "### Seite 55; (4.64)\n",
    "def _M(n):\n",
    "    return np.diag([p for p in xrange(0, n, 1)])\n",
    "\n",
    "### Seite 55; (4.64)\n",
    "def _P(l, k, n):\n",
    "    I = np.eye(n)\n",
    "    Mn = _M(n)\n",
    "    P = I\n",
    "    if k == 0:\n",
    "        pass # P=I\n",
    "    else:\n",
    "        for q in xrange(0, k, 1):\n",
    "            P = P * ((l-q)*I + Mn)\n",
    "    return cvx.matrix(P)"
   ]
  },
  {
   "cell_type": "code",
   "execution_count": 17,
   "metadata": {
    "collapsed": false
   },
   "outputs": [
    {
     "name": "stdout",
     "output_type": "stream",
     "text": [
      "Poles:\n",
      "[[-0.066535+23.98565121j]\n",
      " [-0.066535-23.98565121j]\n",
      " [ 0.000000 +0.j        ]]\n"
     ]
    }
   ],
   "source": [
    "###################################################\n",
    "# Boris Diss Hydraulisches Positioniersystem S.61 #\n",
    "###################################################\n",
    "A = np.matrix([[0,      1,        0],\n",
    "               [0, -0.126,     83.5],\n",
    "               [0,  -6.89, -0.00707]])\n",
    " \n",
    "b = np.matrix([[0],[0],[-55.51]])\n",
    "c = np.matrix([1, 0, 0])\n",
    "\n",
    "print \"Poles:\\n\", np.matrix(con.matlab.pole(con.matlab.ss(A, b, c, 0))).T\n",
    "\n",
    "u_max = 1\n",
    "n = len(b)\n",
    "\n",
    "X0 = [np.matrix([-13.38, -10.7, -2.58]).T,\n",
    "      np.matrix([-13.38, -10.7,  2.58]).T,\n",
    "      np.matrix([-13.38,  10.7, -2.58]).T,\n",
    "      np.matrix([-13.38,  10.7,  2.58]).T,\n",
    "      np.matrix([ 13.38, -10.7, -2.58]).T,\n",
    "      np.matrix([ 13.38, -10.7,  2.58]).T,\n",
    "      np.matrix([ 13.38,  10.7, -2.58]).T,\n",
    "      np.matrix([ 13.38,  10.7,  2.58]).T]\n",
    "\n",
    "x_max = [13.38, 10.7, 2.58]\n",
    "\n",
    "#print \"A:\\n\", A\n",
    "#print \"a:\\n\", a\n",
    "#print \"b:\\n\", b\n",
    "#print \"c:\\n\", c\n",
    "p_min = 0.2\n",
    "mu_star = 1.5\n",
    "zeta = 2.5\n",
    "zeta_star = 1.5\n",
    "\n",
    "k0 = 1e-3*np.matrix([-24.23, -0.2122, -10.5]).T\n",
    "k1 = 1e-3*np.matrix([-40.13, -0.1396, -15.10]).T\n",
    "k0_star = 1e-3*np.matrix([-11.96, -0.1111, -5.18]).T\n",
    "k1_star = 1e-3*np.matrix([-83.35, -0.0477, -33.86]).T\n",
    "\n",
    "##### Entwurf parameter #####\n",
    "beta=2 # beta >=1 !"
   ]
  },
  {
   "cell_type": "raw",
   "metadata": {},
   "source": [
    "k0 = np.matrix([[ 0.00702601],\n",
    " [-0.79417547],\n",
    " [-0.01583519]])\n",
    "\n",
    "k1 = np.matrix([[ 0.00044966],\n",
    " [-0.02280205],\n",
    " [-0.00489574]])\n",
    "\n",
    "k0_star = np.matrix([[ 0.00151984],\n",
    " [-0.2060622 ],\n",
    " [-0.00826113]])\n",
    "\n",
    "k1_star = np.matrix([[ 0.00045032],\n",
    " [-0.02262498],\n",
    " [-0.00470835]])\n"
   ]
  },
  {
   "cell_type": "code",
   "execution_count": 38,
   "metadata": {
    "collapsed": false
   },
   "outputs": [
    {
     "name": "stdout",
     "output_type": "stream",
     "text": [
      "----------------------------------------------------------------------------\n",
      "\tSCS v1.2.6 - Splitting Conic Solver\n",
      "\t(c) Brendan O'Donoghue, Stanford University, 2012-2016\n",
      "----------------------------------------------------------------------------\n",
      "Lin-sys: sparse-indirect, nnz in A = 643, CG tol ~ 1/iter^(2.00)\n",
      "eps = 1.00e-03, alpha = 1.50, max_iters = 2500, normalize = 1, scale = 1.00\n",
      "Variables n = 54, constraints m = 172\n",
      "Cones:\tprimal zero / dual free vars: 18\n",
      "\tsd vars: 154, sd blks: 14\n",
      "Setup time: 7.66e-04s\n",
      "----------------------------------------------------------------------------\n",
      " Iter | pri res | dua res | rel gap | pri obj | dua obj | kap/tau | time (s)\n",
      "----------------------------------------------------------------------------\n",
      "     0|      inf       inf      -nan      -inf       inf       inf  6.17e-04 \n",
      "   100| 1.78e+01  5.63e-01  5.25e-02  2.81e+00  2.48e+00  2.29e-14  1.12e-02 \n",
      "   200| 4.93e+00  3.88e-01  2.08e-02  1.20e+00  1.13e+00  2.21e-14  2.70e-02 \n",
      "   300| 5.23e+00  1.21e-01  1.09e-01  2.36e-01  9.14e-02  2.14e-14  4.65e-02 \n",
      "   400| 4.84e+00  7.17e-02  1.16e-01 -1.45e-02 -1.50e-01  2.07e-14  6.08e-02 \n",
      "   500| 4.78e+00  5.47e-02  7.08e-02  2.69e-01  1.67e-01  2.02e-14  7.26e-02 \n",
      "   600| 4.28e-01  5.20e-02  9.88e-02  1.78e-02 -9.18e-02  1.95e-14  8.57e-02 \n",
      "   700| 6.11e-02  4.16e-02  7.24e-02  2.25e-02 -5.56e-02  1.92e-14  9.54e-02 \n",
      "   800| 3.23e-02  3.96e-02  6.80e-02  2.02e-02 -5.27e-02  1.89e-14  1.05e-01 \n",
      "   900| 2.28e-02  3.80e-02  6.53e-02  1.74e-02 -5.25e-02  1.86e-14  1.14e-01 \n",
      "  1000| 2.30e-02  3.65e-02  6.28e-02  1.85e-02 -4.85e-02  1.84e-14  1.24e-01 \n",
      "  1100| 2.29e-02  3.51e-02  6.03e-02  2.05e-02 -4.37e-02  1.81e-14  1.33e-01 \n",
      "  1200| 2.28e-02  3.37e-02  5.79e-02  2.24e-02 -3.90e-02  1.79e-14  1.44e-01 \n",
      "  1300| 2.27e-02  3.23e-02  5.55e-02  2.41e-02 -3.46e-02  1.77e-14  1.53e-01 \n",
      "  1400| 2.25e-02  3.10e-02  5.32e-02  2.58e-02 -3.04e-02  1.75e-14  1.62e-01 \n",
      "  1500| 2.24e-02  2.98e-02  5.09e-02  2.73e-02 -2.63e-02  1.73e-14  1.71e-01 \n",
      "  1600| 2.23e-02  2.85e-02  4.88e-02  2.88e-02 -2.25e-02  5.14e-14  1.80e-01 \n",
      "  1700| 2.22e-02  2.74e-02  4.66e-02  3.03e-02 -1.87e-02  1.70e-14  1.89e-01 \n",
      "  1800| 2.21e-02  2.62e-02  4.46e-02  3.16e-02 -1.50e-02  5.05e-14  2.00e-01 \n",
      "  1900| 2.20e-02  2.51e-02  4.25e-02  3.30e-02 -1.14e-02  1.67e-14  2.09e-01 \n",
      "  2000| 2.19e-02  2.40e-02  4.05e-02  3.43e-02 -7.94e-03  4.96e-14  2.18e-01 \n",
      "  2100| 2.19e-02  2.29e-02  3.85e-02  3.56e-02 -4.51e-03  1.64e-14  2.27e-01 \n",
      "  2200| 2.18e-02  2.18e-02  3.66e-02  3.68e-02 -1.17e-03  1.63e-14  2.37e-01 \n",
      "  2300| 2.17e-02  2.08e-02  3.45e-02  3.81e-02  2.13e-03  4.84e-14  2.46e-01 \n",
      "  2400| 2.17e-02  1.98e-02  3.24e-02  3.93e-02  5.39e-03  1.60e-14  2.55e-01 \n",
      "  2500| 2.16e-02  1.88e-02  3.04e-02  4.05e-02  8.58e-03  4.78e-14  2.64e-01 \n",
      "----------------------------------------------------------------------------\n",
      "Status: Solved/Inaccurate\n",
      "Hit max_iters, solution may be inaccurate\n",
      "Timing: Solve time: 2.64e-01s\n",
      "\tLin-sys: avg # CG iterations: 25.56, avg solve time: 4.94e-05s\n",
      "\tCones: avg projection time: 4.99e-05s\n",
      "----------------------------------------------------------------------------\n",
      "Error metrics:\n",
      "dist(s, K) = 7.7875e-06, dist(y, K*) = 2.9081e-09, s'y/|s||y| = 2.5783e-12\n",
      "|Ax + s - b|_2 / (1 + |b|_2) = 2.1635e-02\n",
      "|A'y + c|_2 / (1 + |c|_2) = 1.8771e-02\n",
      "|c'x + b'y| / (1 + |c'x| + |b'y|) = 3.0390e-02\n",
      "----------------------------------------------------------------------------\n",
      "c'x = 0.0405, -b'y = 0.0086\n",
      "============================================================================\n",
      "status: optimal_inaccurate\n",
      "optimal value 0.040460940347\n",
      "R0 [[ 3123.70523651    94.45253204   414.90286359]\n",
      " [   94.45253204   341.85879195    18.59357942]\n",
      " [  414.90286359    18.59357942  4115.8692385 ]]\n",
      "R1 [[-624.73248151  -18.89061494  -82.9767478 ]\n",
      " [ -18.89061494  -68.37220817   -3.71864209]\n",
      " [ -82.9767478    -3.71864209 -823.17387153]]\n",
      "ok\n"
     ]
    }
   ],
   "source": [
    "import cvxpy\n",
    "\n",
    "R0 = cvxpy.Variable(n,n)\n",
    "R1 = cvxpy.Variable(n,n)\n",
    "\n",
    "G = cvxpy.Variable(n,n) #skew\n",
    "G_star = cvxpy.Variable(n, n) # skew\n",
    "\n",
    "D = cvxpy.Variable(n, n) #sym\n",
    "D_star = cvxpy.Variable(n, n) #sym\n",
    "\n",
    "constraints = [D == D.T,\n",
    "               G + G.T == 0]\n",
    "\n",
    "# Parameter\n",
    "alpha = 1-p_min\n",
    "beta = 1+p_min\n",
    "    \n",
    "A0 = A-b*k0.T\n",
    "A1 = A-b*k1.T\n",
    "\n",
    "S0 = A1.T*R1+R1*A1\n",
    "S1 = A0.T*R1+R1*A0 + A1.T*R0+R0*A1\n",
    "S2 = A0.T*R0+R0*A0\n",
    "\n",
    "A0_star = A-b*k0_star.T\n",
    "A1_star = A-b*k1_star.T\n",
    "\n",
    "S0 = A1.T*R1+R1*A1\n",
    "S1 = A0.T*R1+R1*A0 + A1.T*R0+R0*A1\n",
    "S2 = A0.T*R0+R0*A0\n",
    "\n",
    "S0_star = A1_star.T*R1+R1*A1_star\n",
    "S1_star = A0_star.T*R1+R1*A0_star + A1_star.T*R0+R0*A1_star\n",
    "S2_star = A0_star.T*R0+R0*A0_star\n",
    "\n",
    "# Create two constraints.\n",
    "const4_39ab = [R0 >> 0,\n",
    "               R0 + R1 >> 0]\n",
    "\n",
    "const4_39c = cvxpy.bmat([[-D , G],\n",
    "                         [G.T, D]]) - \\\n",
    "             cvxpy.bmat([[S0 + 0.5*beta*S1 + 0.25*beta**2*S2, 0.25*alpha*(S1 + beta*S2)],\n",
    "                         [0.25*alpha*(S1 + beta*S2),          0.25*alpha**2*S2]]) >> 0\n",
    "\n",
    "const4_39d = [cvxpy.bmat([[1, X0[i].T],\n",
    "                          [X0[i], R0+R1]]) >> 0\n",
    "                              for i in range(0, len(X0))]\n",
    "\n",
    "const4_39e = cvxpy.bmat([[1,    k0.T],\n",
    "                         [k0,   R0]]) + \\\n",
    "             1/p_min * cvxpy.bmat([[0,  k1.T],\n",
    "                                  [k1, R1]]) >> 0\n",
    "\n",
    "const4_39f = cvxpy.bmat([[1,    k0.T],\n",
    "                         [k0,   R0]]) + \\\n",
    "             cvxpy.bmat([[0,  k1.T],\n",
    "                         [k1, R1]]) >> 0\n",
    "\n",
    "const4_39g = cvxpy.bmat([[-D_star , G_star],\n",
    "                         [G_star.T, D_star]]) - \\\n",
    "             cvxpy.bmat([[S0_star + 0.5*beta*S1_star + 0.25*beta**2*S2_star, 0.25*alpha*(S1_star + beta*S2_star)],\n",
    "                         [0.25*alpha*(S1_star + beta*S2_star),          0.25*alpha**2*S2_star]]) >> 0\n",
    "\n",
    "constraints.extend(const4_39ab) ##!! Beware of the \"extend\" if input is array\n",
    "constraints.append(const4_39c)\n",
    "constraints.extend(const4_39d) ##!! Beware of the \"extend\" if input is array\n",
    "constraints.append(const4_39e)\n",
    "constraints.append(const4_39f)\n",
    "constraints.append(const4_39g)\n",
    "\n",
    "# Form objective.\n",
    "obj = cvxpy.Minimize(cvxpy.trace(R0+1/p_min*R1))\n",
    "\n",
    "# Form and solve problem.\n",
    "prob = cvxpy.Problem(obj, constraints)\n",
    "prob.solve(solver=cvxpy.SCS, verbose=True, max_iters=2500)  # Returns the optimal value.\n",
    "print \"status:\", prob.status\n",
    "print \"optimal value\", prob.value\n",
    "print \"R0\", R0.value\n",
    "LA.cholesky(R0.value)\n",
    "print \"R1\", R1.value\n",
    "LA.cholesky(R1.value + R0.value)\n",
    "print \"ok\""
   ]
  },
  {
   "cell_type": "code",
   "execution_count": null,
   "metadata": {
    "collapsed": true
   },
   "outputs": [],
   "source": []
  },
  {
   "cell_type": "code",
   "execution_count": null,
   "metadata": {
    "collapsed": true
   },
   "outputs": [],
   "source": []
  }
 ],
 "metadata": {
  "kernelspec": {
   "display_name": "Python 2",
   "language": "python",
   "name": "python2"
  },
  "language_info": {
   "codemirror_mode": {
    "name": "ipython",
    "version": 2
   },
   "file_extension": ".py",
   "mimetype": "text/x-python",
   "name": "python",
   "nbconvert_exporter": "python",
   "pygments_lexer": "ipython2",
   "version": "2.7.12"
  }
 },
 "nbformat": 4,
 "nbformat_minor": 1
}
