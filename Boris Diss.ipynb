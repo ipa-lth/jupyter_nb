{
 "cells": [
  {
   "cell_type": "code",
   "execution_count": null,
   "metadata": {
    "collapsed": true
   },
   "outputs": [],
   "source": [
    "import picos as pic\n",
    "import cvxopt as cvx\n",
    "\n",
    "import numpy as np\n",
    "from numpy import linalg as LA\n",
    "from scipy.special import comb as nchoosek # n Choose k (n ueber k)"
   ]
  },
  {
   "cell_type": "code",
   "execution_count": null,
   "metadata": {
    "collapsed": true
   },
   "outputs": [],
   "source": [
    "### Seite 37 (im Text zwischen (4.12) und (4.13))\n",
    "def _N(n):\n",
    "    return np.diag([p for p in xrange(-n, 0, 1)])\n",
    "\n",
    "### Seite 55; (4.64)\n",
    "def _M(n):\n",
    "    return np.diag([p for p in xrange(0, n, 1)])\n",
    "\n",
    "### Seite 55; (4.64)\n",
    "def _P(l, k, n):\n",
    "    I = np.eye(n)\n",
    "    Mn = _M(n)\n",
    "    P = I\n",
    "    if k == 0:\n",
    "        pass # P=I\n",
    "    else:\n",
    "        for q in xrange(0, k, 1):\n",
    "            P = P * ((l-q)*I + Mn)\n",
    "    return cvx.matrix(P)"
   ]
  },
  {
   "cell_type": "code",
   "execution_count": null,
   "metadata": {
    "collapsed": true
   },
   "outputs": [],
   "source": [
    "##############################\n",
    "# Boris Diss Reactor         #\n",
    "##############################\n",
    "A = np.matrix([[1, 0],\n",
    "              [0, -0.5]])\n",
    "a = -A[-1][:].T ### !!!!!\n",
    "b = np.matrix([[1],[-0.5]])\n",
    "c = np.matrix([1, 0])\n",
    "u_max = 1\n",
    "n = 2\n",
    "\n",
    "X0 = [np.matrix([-0.9, -2.8]).T,\n",
    "      np.matrix([-0.9, 2.8]).T,\n",
    "      np.matrix([0.9, -2.8]).T,\n",
    "      np.matrix([0.9, 2.8]).T]\n",
    "\n",
    "#print \"A:\\n\", A\n",
    "#print \"a:\\n\", a\n",
    "#print \"b:\\n\", b\n",
    "#print \"c:\\n\", c\n",
    "\n",
    "N = cvx.matrix(_N(n))\n",
    "M = cvx.matrix(_M(n))\n",
    "\n",
    "##### Entwurf parameter #####\n",
    "beta = 2 # beta >=1 !"
   ]
  },
  {
   "cell_type": "code",
   "execution_count": null,
   "metadata": {
    "collapsed": false
   },
   "outputs": [],
   "source": [
    "# S. 78 Boris (LMI-Entwurf)\n",
    "def convex_func(gamma_val, mu_val=1, verbose=0):\n",
    "    ##############################\n",
    "    # Convex Problem (35)        #\n",
    "    ##############################\n",
    "    prob = pic.Problem()\n",
    "\n",
    "    # Constants\n",
    "    AA = pic.new_param('A', A)\n",
    "    II = pic.new_param('I_n', np.eye(n))\n",
    "    III = pic.new_param('I_n+1', np.eye(n+1))\n",
    "    aa = pic.new_param('a', a)\n",
    "    bb = pic.new_param('b', b)\n",
    "    XX0 = pic.new_param('X0', X0)\n",
    "\n",
    "    #print \"mu_inserted\", mu_val\n",
    "    mu = pic.new_param('mu', mu_val**2)\n",
    "\n",
    "    ## REMARK THIS!!!! gamma is optimization variable but not convex, thus to be bisected to find \"bigg-ish\" value\n",
    "    gamma = pic.new_param('gamma', gamma_val)\n",
    "\n",
    "    # Problem\n",
    "    prob = pic.Problem()\n",
    "\n",
    "    # Parameters\n",
    "    QQ = prob.add_variable('Q', (n, n), vtype='symmetric')\n",
    "    zz = prob.add_variable('z', n)\n",
    "    zz_star = prob.add_variable('z_star', n)\n",
    "\n",
    "    # Objective\n",
    "    prob.set_objective('find', None)\n",
    "\n",
    "    # Constraints\n",
    "    prob.add_constraint(QQ >> 0)\n",
    "    \n",
    "    #(A.10)\n",
    "    prob.add_list_of_constraints([((QQ          & XX0[i]) //\n",
    "                                   (XX0[i].T     & 1      )) >> 0\n",
    "                                       for i in range(0, len(X0))])\n",
    "    #(A.11)\n",
    "    prob.add_constraint(((QQ   & zz) //\n",
    "                         (zz.T & 1)) >> 0)\n",
    "\n",
    "    #(A.12)\n",
    "    prob.add_constraint(((QQ        & zz_star) //\n",
    "                         (zz_star.T & mu)) >> 0)\n",
    "    \n",
    "    #(A.13)\n",
    "    prob.add_constraint(QQ*AA + AA.T*QQ - bb*zz.T - zz*bb.T << 0) # STRICT SMALLER THAN!\n",
    "    \n",
    "    #(A.14)\n",
    "    prob.add_constraint(QQ*AA + AA.T*QQ - bb*zz_star.T - zz_star*bb.T << -2*(gamma*QQ)) # STRICT SMALLER THAN!\n",
    "    \n",
    "    prob.solve(verbose=verbose, solver='cvxopt')\n",
    "    return prob\n",
    "\n",
    "try:\n",
    "    gamma_val_max = 1\n",
    "    print convex_func(gamma_val_max, verbose=1)\n",
    "except Exception:\n",
    "    print \"Exception:\"\n",
    "    print \"'gamma_val={}' not feasible -> possible max_val for bisect! ('mu_val=1')\".format(gamma_val_max)"
   ]
  },
  {
   "cell_type": "code",
   "execution_count": null,
   "metadata": {
    "collapsed": false
   },
   "outputs": [],
   "source": [
    "## Lets bisect\n",
    "# Expects min_val to be valid, and max_val to be not valid\n",
    "# func only taking on (scalar) argument -> gamma\n",
    "def bisect_prob(min_val, max_val, func, diff=1e-5, max_iter=50, _iteration=0, name='unnamed'):\n",
    "    if _iteration > max_iter or (max_val - min_val)/2.0 <= diff:\n",
    "        print name, \"done:\", min_val, \"with iter:\", _iteration, \", Diff:\", (max_val - min_val)/2.0\n",
    "        return min_val\n",
    "    else:\n",
    "        mid_val = min_val+(max_val - min_val)/2.0\n",
    "        #print \"1. Evaluating: \", mid_val\n",
    "        try:\n",
    "            prob = func(mid_val)\n",
    "            Q = prob.get_valued_variable('Q')\n",
    "            z = prob.get_valued_variable('z')\n",
    "            z_star = prob.get_valued_variable('z_star')\n",
    "        except Exception as e:\n",
    "            #print \"Problem not solved!\"\n",
    "            #print e\n",
    "            max_val = mid_val\n",
    "        else:\n",
    "            #print \"Problem solved!\"\n",
    "            #print Q, z, z_star\n",
    "            min_val = mid_val\n",
    "        finally:\n",
    "            #print \"2. Recursing: \", min_val, max_val\n",
    "            return bisect_prob(min_val, max_val, func, diff, max_iter,_iteration+1, name)\n",
    "        #return min_val, max_val\n",
    "    "
   ]
  },
  {
   "cell_type": "code",
   "execution_count": null,
   "metadata": {
    "collapsed": false
   },
   "outputs": [],
   "source": [
    "#%%timeit ~4sec\n",
    "val = bisect_prob(0, 1, convex_func)\n",
    "print val\n",
    "print convex_func(val).get_valued_variable('Q')"
   ]
  },
  {
   "cell_type": "code",
   "execution_count": null,
   "metadata": {
    "collapsed": false
   },
   "outputs": [],
   "source": []
  },
  {
   "cell_type": "code",
   "execution_count": null,
   "metadata": {
    "collapsed": false
   },
   "outputs": [],
   "source": []
  },
  {
   "cell_type": "code",
   "execution_count": null,
   "metadata": {
    "collapsed": true
   },
   "outputs": [],
   "source": []
  },
  {
   "cell_type": "code",
   "execution_count": null,
   "metadata": {
    "collapsed": true
   },
   "outputs": [],
   "source": []
  },
  {
   "cell_type": "code",
   "execution_count": null,
   "metadata": {
    "collapsed": false
   },
   "outputs": [],
   "source": [
    "## Seite 47 Boris\n",
    "# Wähle p_min, mu_start, zeta, zeta_star\n",
    "def step1(p_min, mu_star, zeta, zeta_star):\n",
    "    gamma_max = 1\n",
    "    ####################################################\n",
    "    # Löse (convex_func) mit mu = 1 -> l_star -> lambda_hat_i(1)=lambda_i(A-b*l_star.T)\n",
    "    \n",
    "    val = 0.11109\n",
    "    #val = bisect_prob(0, gamma_max, convex_func)\n",
    "    \n",
    "    prob = convex_func(val)\n",
    "    Q = prob.get_valued_variable('Q')\n",
    "    z_star = np.matrix(prob.get_valued_variable('z_star'))\n",
    "#    print z_star\n",
    "    l_star = LA.inv(Q)*z_star\n",
    "#    print l_star\n",
    "#    print A-b*l_star.T\n",
    "    lambda_hat_1 = LA.eigvals(A-b*l_star.T)\n",
    "    lambda_hat_pmin = zeta * lambda_hat_1\n",
    "    print \"lambda_hat_pmin:\", lambda_hat_pmin\n",
    "    ## TODO: Berechne ki\n",
    "    \n",
    "    \n",
    "    ####################################################\n",
    "    ## Löse (convex_func) mit mu* >= 1 -> l_star -> lambda_hat_i_star(1)=lambda_i(A-b*l_star.T)\n",
    "\n",
    "    ## Mist... außerhalb optimiert, nicht hier....\n",
    "    #mu_max = 1e10\n",
    "    #mu_val_max = bisect_prob(1, mu_max, \n",
    "    #                         lambda mu: convex_func(\n",
    "    #                            bisect_prob(0, gamma_max, \n",
    "    #                                lambda g: convex_func(g, mu_val=mu),\n",
    "    #                                        name=\"gamma_val_max\"),\n",
    "    #                            mu_val=mu), \n",
    "    #                         name='mu_val_max')\n",
    "    #print 'mu_star_max:', mu_val_max\n",
    "     \n",
    "    gamma_val_max = bisect_prob(0, gamma_max,\n",
    "                                lambda g: convex_func(g, mu_val=mu_star),\n",
    "                                name='gamma_val_max')\n",
    "    \n",
    "    #print 'gamma_max:', gamma_val_max\n",
    "    \n",
    "    prob2 = convex_func(gamma_val_max, mu_val=mu_star)\n",
    "    Q = prob2.get_valued_variable('Q')\n",
    "    z_star = np.matrix(prob.get_valued_variable('z_star'))\n",
    "#    print z_star\n",
    "    l_star = LA.inv(Q)*z_star\n",
    "#    print l_star\n",
    "#    print A-b*l_star.T\n",
    "    lambda_hat_star_1 = LA.eigvals(A-b*l_star.T)\n",
    "        \n",
    "    lambda_hat_star_pmin = zeta_star * lambda_hat_star_1\n",
    "    print \"lambda_hat_star_pmin:\", lambda_hat_star_pmin\n",
    "    ## TODO: Berechne k_star_i\n",
    "\n",
    "#step1(1.0/20, 1.5, 2.5, 5)\n",
    "\n",
    "def step2(p_min, k0, k1, k0_star, k1_star):\n",
    "    ##############################\n",
    "    # Convex Problem (4.39)      #\n",
    "    ##############################\n",
    "    prob = pic.Problem()\n",
    "\n",
    "    # Parameters\n",
    "    R0 = prob.add_variable('R0', (n, n), vtype='symmetric')\n",
    "    R1 = prob.add_variable('R1', (n, n), vtype='symmetric')\n",
    "\n",
    "    G = prob.add_variable('G', (n, n), vtype='antisym')\n",
    "    G_star = prob.add_variable('G_star', (n, n), vtype='antisym')\n",
    "\n",
    "    D = prob.add_variable('D', (n, n))\n",
    "    D_star = prob.add_variable('D_star', (n, n))\n",
    "    \n",
    "    # Constants\n",
    "    AA = pic.new_param('A', A)\n",
    "    II = pic.new_param('I', np.eye(n))\n",
    "    aa = pic.new_param('a', a)\n",
    "    bb = pic.new_param('b', b)\n",
    "    \n",
    "    alpha = pic.new_param('alpha', 1-p_min)\n",
    "    beta = pic.new_param('beta', 1+p_min)\n",
    "    alpha_2 = pic.new_param('alpha', (1-p_min)**2)\n",
    "    beta_2 = pic.new_param('beta', (1+p_min)**2)\n",
    "    \n",
    "    kk0 = pic.new_param('k0', k0)\n",
    "    kk1 = pic.new_param('k1', k1)\n",
    "    \n",
    "    kk0_star = pic.new_param('k0_star', k0_star)\n",
    "    kk1_star = pic.new_param('k1_star', k1_star)\n",
    "    \n",
    "    XX0 = pic.new_param('X0', X0)\n",
    "    \n",
    "    # Expressions\n",
    "    # x_dot = A_n * x = (A-b*k_n.T)*x \n",
    "    A0 = AA-bb*kk0.T\n",
    "    A1 = AA-bb*kk1.T\n",
    "    \n",
    "    A0_star = AA-bb*kk0_star.T\n",
    "    A1_star = AA-bb*kk1_star.T\n",
    "\n",
    "    S0 = A1.T*R1+R1*A1\n",
    "    S1 = A0.T*R1+R1*A0 + A1.T*R0+R0*A1\n",
    "    S2 = A0.T*R0+R0*A0\n",
    "    \n",
    "    S0_star = A1_star.T*R1+R1*A1_star\n",
    "    S1_star = A0_star.T*R1+R1*A0_star + A1_star.T*R0+R0*A1_star\n",
    "    S2_star = A0_star.T*R0+R0*A0_star\n",
    "    \n",
    "    # Objective\n",
    "    prob.set_objective('min', pic.trace(R0 + 1/p_min * R1))\n",
    "\n",
    "    # Constraints\n",
    "    prob.add_constraint(R1 >> 0) #(4.39a)\n",
    "    prob.add_constraint(R0 + R1 >> 0) #(4.39b)\n",
    "    \n",
    "    #(4.39c)\n",
    "    prob.add_constraint(\n",
    "        (((-D  & G) // (G.T & D)) - ((S0 + 0.5*beta*S1 + 0.25*beta_2*S2 & 0.25*alpha*(S1 + beta*S2)) //\n",
    "                                    (0.25*alpha*(S1 + beta*S2)         & 0.25*alpha_2*S2))) >> 0)\n",
    "    \n",
    "    prob.add_list_of_constraints([ 1 - XX0[i].T * (R0 + R1) * XX0[i] > 0 \n",
    "                                      for i in range(0, len(XX0))]) #(4.39d)\n",
    "\n",
    "    #(4.39e)\n",
    "    prob.add_constraint((((1 & kk0.T) // (kk0 & R0)) + 1/p_min * ((0 & kk1.T)//(kk1 & R1)))>>0)\n",
    "\n",
    "    #(4.39f)\n",
    "    prob.add_constraint((((1 & kk0.T) // (kk0 & R0)) + ((0 & kk1.T)//(kk1 & R1)))>>0)\n",
    "    \n",
    "    #(4.39g)\n",
    "    prob.add_constraint(\n",
    "        (((-D_star  & G_star) // (G_star.T & D_star)) - \n",
    "         ((S0_star + 0.5*beta*S1_star + 0.25*beta_2*S2_star & 0.25*alpha*(S1_star + beta*S2_star)) //\n",
    "          (0.25*alpha*(S1_star + beta*S2_star)              & 0.25*alpha_2*S2_star))) >> 0)\n",
    "    \n",
    "    print prob\n",
    "    \n",
    "step2(0.1, np.matrix([[1],[1]]), \n",
    "           np.matrix([[2],[2]]),\n",
    "           np.matrix([[3],[3]]),\n",
    "           np.matrix([[4],[4]]))"
   ]
  },
  {
   "cell_type": "code",
   "execution_count": null,
   "metadata": {
    "collapsed": true
   },
   "outputs": [],
   "source": []
  },
  {
   "cell_type": "code",
   "execution_count": null,
   "metadata": {
    "collapsed": true
   },
   "outputs": [],
   "source": []
  },
  {
   "cell_type": "code",
   "execution_count": null,
   "metadata": {
    "collapsed": true
   },
   "outputs": [],
   "source": []
  },
  {
   "cell_type": "code",
   "execution_count": null,
   "metadata": {
    "collapsed": true
   },
   "outputs": [],
   "source": []
  },
  {
   "cell_type": "code",
   "execution_count": null,
   "metadata": {
    "collapsed": true
   },
   "outputs": [],
   "source": []
  },
  {
   "cell_type": "code",
   "execution_count": null,
   "metadata": {
    "collapsed": true
   },
   "outputs": [],
   "source": []
  },
  {
   "cell_type": "code",
   "execution_count": null,
   "metadata": {
    "collapsed": true
   },
   "outputs": [],
   "source": []
  }
 ],
 "metadata": {
  "kernelspec": {
   "display_name": "Python 2",
   "language": "python",
   "name": "python2"
  },
  "language_info": {
   "codemirror_mode": {
    "name": "ipython",
    "version": 2
   },
   "file_extension": ".py",
   "mimetype": "text/x-python",
   "name": "python",
   "nbconvert_exporter": "python",
   "pygments_lexer": "ipython2",
   "version": "2.7.12"
  }
 },
 "nbformat": 4,
 "nbformat_minor": 1
}
